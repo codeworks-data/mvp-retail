{
 "cells": [
  {
   "cell_type": "code",
   "execution_count": 1,
   "metadata": {},
   "outputs": [],
   "source": [
    "import os\n",
    "import sys\n",
    "import datetime\n",
    "import random\n",
    "from typing import List\n",
    "\n",
    "import pandas as pd\n",
    "import numpy as np\n",
    "import matplotlib.pyplot as plt\n",
    "import seaborn as sns\n",
    "import pandas_profiling\n",
    "import implicit\n",
    "from scipy.sparse import coo_matrix\n",
    "import joblib"
   ]
  },
  {
   "cell_type": "code",
   "execution_count": 2,
   "metadata": {},
   "outputs": [],
   "source": [
    "random.seed(0)\n",
    "%matplotlib inline\n",
    "sys.path.append('../utils/')"
   ]
  },
  {
   "cell_type": "code",
   "execution_count": 3,
   "metadata": {},
   "outputs": [],
   "source": [
    "from collaborative_filtering_matrix_factorization import MFRecommender\n"
   ]
  },
  {
   "cell_type": "markdown",
   "metadata": {},
   "source": [
    "# Load data"
   ]
  },
  {
   "cell_type": "code",
   "execution_count": 4,
   "metadata": {},
   "outputs": [
    {
     "name": "stdout",
     "output_type": "stream",
     "text": [
      "./../data/Customer.csv\n",
      "./../data/prod_cat_info.csv\n",
      "./../data/Transactions.csv\n"
     ]
    }
   ],
   "source": [
    "for dirname, _, filenames in os.walk('./../data'):\n",
    "    for filename in filenames:\n",
    "        print(os.path.join(dirname, filename))\n"
   ]
  },
  {
   "cell_type": "code",
   "execution_count": 5,
   "metadata": {},
   "outputs": [],
   "source": [
    "customer_raw_df = pd.read_csv('./../data/Customer.csv')\n",
    "prod_cat_info_raw_df = pd.read_csv('./../data/prod_cat_info.csv')\n",
    "transactions_raw_df = pd.read_csv('./../data/Transactions.csv')\n"
   ]
  },
  {
   "cell_type": "code",
   "execution_count": 6,
   "metadata": {},
   "outputs": [
    {
     "data": {
      "text/html": [
       "<div>\n",
       "<style scoped>\n",
       "    .dataframe tbody tr th:only-of-type {\n",
       "        vertical-align: middle;\n",
       "    }\n",
       "\n",
       "    .dataframe tbody tr th {\n",
       "        vertical-align: top;\n",
       "    }\n",
       "\n",
       "    .dataframe thead th {\n",
       "        text-align: right;\n",
       "    }\n",
       "</style>\n",
       "<table border=\"1\" class=\"dataframe\">\n",
       "  <thead>\n",
       "    <tr style=\"text-align: right;\">\n",
       "      <th></th>\n",
       "      <th>transaction_id</th>\n",
       "      <th>cust_id</th>\n",
       "      <th>item_id</th>\n",
       "      <th>tran_date</th>\n",
       "      <th>Qty</th>\n",
       "    </tr>\n",
       "  </thead>\n",
       "  <tbody>\n",
       "    <tr>\n",
       "      <th>10</th>\n",
       "      <td>29258453508</td>\n",
       "      <td>270384</td>\n",
       "      <td>3_5</td>\n",
       "      <td>2014-02-20</td>\n",
       "      <td>5</td>\n",
       "    </tr>\n",
       "    <tr>\n",
       "      <th>11</th>\n",
       "      <td>25455265351</td>\n",
       "      <td>267750</td>\n",
       "      <td>6_12</td>\n",
       "      <td>2014-02-20</td>\n",
       "      <td>3</td>\n",
       "    </tr>\n",
       "    <tr>\n",
       "      <th>12</th>\n",
       "      <td>1571002198</td>\n",
       "      <td>275023</td>\n",
       "      <td>5_6</td>\n",
       "      <td>2014-02-20</td>\n",
       "      <td>4</td>\n",
       "    </tr>\n",
       "    <tr>\n",
       "      <th>14</th>\n",
       "      <td>36554696014</td>\n",
       "      <td>269345</td>\n",
       "      <td>5_3</td>\n",
       "      <td>2014-02-20</td>\n",
       "      <td>3</td>\n",
       "    </tr>\n",
       "    <tr>\n",
       "      <th>15</th>\n",
       "      <td>56814940239</td>\n",
       "      <td>268799</td>\n",
       "      <td>5_7</td>\n",
       "      <td>2014-02-20</td>\n",
       "      <td>5</td>\n",
       "    </tr>\n",
       "    <tr>\n",
       "      <th>...</th>\n",
       "      <td>...</td>\n",
       "      <td>...</td>\n",
       "      <td>...</td>\n",
       "      <td>...</td>\n",
       "      <td>...</td>\n",
       "    </tr>\n",
       "    <tr>\n",
       "      <th>23048</th>\n",
       "      <td>94340757522</td>\n",
       "      <td>274550</td>\n",
       "      <td>5_12</td>\n",
       "      <td>2011-01-25</td>\n",
       "      <td>1</td>\n",
       "    </tr>\n",
       "    <tr>\n",
       "      <th>23049</th>\n",
       "      <td>89780862956</td>\n",
       "      <td>270022</td>\n",
       "      <td>1_4</td>\n",
       "      <td>2011-01-25</td>\n",
       "      <td>1</td>\n",
       "    </tr>\n",
       "    <tr>\n",
       "      <th>23050</th>\n",
       "      <td>85115299378</td>\n",
       "      <td>271020</td>\n",
       "      <td>6_2</td>\n",
       "      <td>2011-01-25</td>\n",
       "      <td>4</td>\n",
       "    </tr>\n",
       "    <tr>\n",
       "      <th>23051</th>\n",
       "      <td>72870271171</td>\n",
       "      <td>270911</td>\n",
       "      <td>5_11</td>\n",
       "      <td>2011-01-25</td>\n",
       "      <td>3</td>\n",
       "    </tr>\n",
       "    <tr>\n",
       "      <th>23052</th>\n",
       "      <td>77960931771</td>\n",
       "      <td>271961</td>\n",
       "      <td>5_11</td>\n",
       "      <td>2011-01-25</td>\n",
       "      <td>1</td>\n",
       "    </tr>\n",
       "  </tbody>\n",
       "</table>\n",
       "<p>20876 rows × 5 columns</p>\n",
       "</div>"
      ],
      "text/plain": [
       "       transaction_id  cust_id item_id  tran_date  Qty\n",
       "10        29258453508   270384     3_5 2014-02-20    5\n",
       "11        25455265351   267750    6_12 2014-02-20    3\n",
       "12         1571002198   275023     5_6 2014-02-20    4\n",
       "14        36554696014   269345     5_3 2014-02-20    3\n",
       "15        56814940239   268799     5_7 2014-02-20    5\n",
       "...               ...      ...     ...        ...  ...\n",
       "23048     94340757522   274550    5_12 2011-01-25    1\n",
       "23049     89780862956   270022     1_4 2011-01-25    1\n",
       "23050     85115299378   271020     6_2 2011-01-25    4\n",
       "23051     72870271171   270911    5_11 2011-01-25    3\n",
       "23052     77960931771   271961    5_11 2011-01-25    1\n",
       "\n",
       "[20876 rows x 5 columns]"
      ]
     },
     "execution_count": 6,
     "metadata": {},
     "output_type": "execute_result"
    }
   ],
   "source": [
    "transactions_df = transactions_raw_df.copy()\n",
    "transactions_df = transactions_df[transactions_df.Qty>0]\n",
    "transactions_df['tran_date'] = pd.to_datetime(transactions_df['tran_date'].str.replace('/','-'), format='%d-%m-%Y')\n",
    "transactions_df['item_id']=transactions_df.prod_cat_code.astype(str)+'_'+transactions_df.prod_subcat_code.astype(str)\n",
    "transactions_df = transactions_df[['transaction_id', 'cust_id', 'item_id', 'tran_date', 'Qty']]\n",
    "transactions_df"
   ]
  },
  {
   "cell_type": "code",
   "execution_count": 7,
   "metadata": {
    "scrolled": true
   },
   "outputs": [
    {
     "data": {
      "text/html": [
       "<div>\n",
       "<style scoped>\n",
       "    .dataframe tbody tr th:only-of-type {\n",
       "        vertical-align: middle;\n",
       "    }\n",
       "\n",
       "    .dataframe tbody tr th {\n",
       "        vertical-align: top;\n",
       "    }\n",
       "\n",
       "    .dataframe thead th {\n",
       "        text-align: right;\n",
       "    }\n",
       "</style>\n",
       "<table border=\"1\" class=\"dataframe\">\n",
       "  <thead>\n",
       "    <tr style=\"text-align: right;\">\n",
       "      <th></th>\n",
       "      <th>item_id</th>\n",
       "      <th>prod_cat_code</th>\n",
       "      <th>prod_cat</th>\n",
       "      <th>prod_sub_cat_code</th>\n",
       "      <th>prod_subcat</th>\n",
       "    </tr>\n",
       "  </thead>\n",
       "  <tbody>\n",
       "    <tr>\n",
       "      <th>0</th>\n",
       "      <td>1_4</td>\n",
       "      <td>1</td>\n",
       "      <td>Clothing</td>\n",
       "      <td>4</td>\n",
       "      <td>Mens</td>\n",
       "    </tr>\n",
       "    <tr>\n",
       "      <th>1</th>\n",
       "      <td>1_1</td>\n",
       "      <td>1</td>\n",
       "      <td>Clothing</td>\n",
       "      <td>1</td>\n",
       "      <td>Women</td>\n",
       "    </tr>\n",
       "    <tr>\n",
       "      <th>2</th>\n",
       "      <td>1_3</td>\n",
       "      <td>1</td>\n",
       "      <td>Clothing</td>\n",
       "      <td>3</td>\n",
       "      <td>Kids</td>\n",
       "    </tr>\n",
       "    <tr>\n",
       "      <th>3</th>\n",
       "      <td>2_1</td>\n",
       "      <td>2</td>\n",
       "      <td>Footwear</td>\n",
       "      <td>1</td>\n",
       "      <td>Mens</td>\n",
       "    </tr>\n",
       "    <tr>\n",
       "      <th>4</th>\n",
       "      <td>2_3</td>\n",
       "      <td>2</td>\n",
       "      <td>Footwear</td>\n",
       "      <td>3</td>\n",
       "      <td>Women</td>\n",
       "    </tr>\n",
       "    <tr>\n",
       "      <th>5</th>\n",
       "      <td>2_4</td>\n",
       "      <td>2</td>\n",
       "      <td>Footwear</td>\n",
       "      <td>4</td>\n",
       "      <td>Kids</td>\n",
       "    </tr>\n",
       "    <tr>\n",
       "      <th>6</th>\n",
       "      <td>3_4</td>\n",
       "      <td>3</td>\n",
       "      <td>Electronics</td>\n",
       "      <td>4</td>\n",
       "      <td>Mobiles</td>\n",
       "    </tr>\n",
       "    <tr>\n",
       "      <th>7</th>\n",
       "      <td>3_5</td>\n",
       "      <td>3</td>\n",
       "      <td>Electronics</td>\n",
       "      <td>5</td>\n",
       "      <td>Computers</td>\n",
       "    </tr>\n",
       "    <tr>\n",
       "      <th>8</th>\n",
       "      <td>3_8</td>\n",
       "      <td>3</td>\n",
       "      <td>Electronics</td>\n",
       "      <td>8</td>\n",
       "      <td>Personal Appliances</td>\n",
       "    </tr>\n",
       "    <tr>\n",
       "      <th>9</th>\n",
       "      <td>3_9</td>\n",
       "      <td>3</td>\n",
       "      <td>Electronics</td>\n",
       "      <td>9</td>\n",
       "      <td>Cameras</td>\n",
       "    </tr>\n",
       "    <tr>\n",
       "      <th>10</th>\n",
       "      <td>3_10</td>\n",
       "      <td>3</td>\n",
       "      <td>Electronics</td>\n",
       "      <td>10</td>\n",
       "      <td>Audio and video</td>\n",
       "    </tr>\n",
       "    <tr>\n",
       "      <th>11</th>\n",
       "      <td>4_1</td>\n",
       "      <td>4</td>\n",
       "      <td>Bags</td>\n",
       "      <td>1</td>\n",
       "      <td>Mens</td>\n",
       "    </tr>\n",
       "    <tr>\n",
       "      <th>12</th>\n",
       "      <td>4_4</td>\n",
       "      <td>4</td>\n",
       "      <td>Bags</td>\n",
       "      <td>4</td>\n",
       "      <td>Women</td>\n",
       "    </tr>\n",
       "    <tr>\n",
       "      <th>13</th>\n",
       "      <td>5_7</td>\n",
       "      <td>5</td>\n",
       "      <td>Books</td>\n",
       "      <td>7</td>\n",
       "      <td>Fiction</td>\n",
       "    </tr>\n",
       "    <tr>\n",
       "      <th>14</th>\n",
       "      <td>5_12</td>\n",
       "      <td>5</td>\n",
       "      <td>Books</td>\n",
       "      <td>12</td>\n",
       "      <td>Academic</td>\n",
       "    </tr>\n",
       "    <tr>\n",
       "      <th>15</th>\n",
       "      <td>5_10</td>\n",
       "      <td>5</td>\n",
       "      <td>Books</td>\n",
       "      <td>10</td>\n",
       "      <td>Non-Fiction</td>\n",
       "    </tr>\n",
       "    <tr>\n",
       "      <th>16</th>\n",
       "      <td>5_11</td>\n",
       "      <td>5</td>\n",
       "      <td>Books</td>\n",
       "      <td>11</td>\n",
       "      <td>Children</td>\n",
       "    </tr>\n",
       "    <tr>\n",
       "      <th>17</th>\n",
       "      <td>5_3</td>\n",
       "      <td>5</td>\n",
       "      <td>Books</td>\n",
       "      <td>3</td>\n",
       "      <td>Comics</td>\n",
       "    </tr>\n",
       "    <tr>\n",
       "      <th>18</th>\n",
       "      <td>5_6</td>\n",
       "      <td>5</td>\n",
       "      <td>Books</td>\n",
       "      <td>6</td>\n",
       "      <td>DIY</td>\n",
       "    </tr>\n",
       "    <tr>\n",
       "      <th>19</th>\n",
       "      <td>6_2</td>\n",
       "      <td>6</td>\n",
       "      <td>Home and kitchen</td>\n",
       "      <td>2</td>\n",
       "      <td>Furnishing</td>\n",
       "    </tr>\n",
       "    <tr>\n",
       "      <th>20</th>\n",
       "      <td>6_10</td>\n",
       "      <td>6</td>\n",
       "      <td>Home and kitchen</td>\n",
       "      <td>10</td>\n",
       "      <td>Kitchen</td>\n",
       "    </tr>\n",
       "    <tr>\n",
       "      <th>21</th>\n",
       "      <td>6_11</td>\n",
       "      <td>6</td>\n",
       "      <td>Home and kitchen</td>\n",
       "      <td>11</td>\n",
       "      <td>Bath</td>\n",
       "    </tr>\n",
       "    <tr>\n",
       "      <th>22</th>\n",
       "      <td>6_12</td>\n",
       "      <td>6</td>\n",
       "      <td>Home and kitchen</td>\n",
       "      <td>12</td>\n",
       "      <td>Tools</td>\n",
       "    </tr>\n",
       "  </tbody>\n",
       "</table>\n",
       "</div>"
      ],
      "text/plain": [
       "   item_id  prod_cat_code          prod_cat  prod_sub_cat_code  \\\n",
       "0      1_4              1          Clothing                  4   \n",
       "1      1_1              1          Clothing                  1   \n",
       "2      1_3              1          Clothing                  3   \n",
       "3      2_1              2          Footwear                  1   \n",
       "4      2_3              2          Footwear                  3   \n",
       "5      2_4              2          Footwear                  4   \n",
       "6      3_4              3       Electronics                  4   \n",
       "7      3_5              3       Electronics                  5   \n",
       "8      3_8              3       Electronics                  8   \n",
       "9      3_9              3       Electronics                  9   \n",
       "10    3_10              3       Electronics                 10   \n",
       "11     4_1              4              Bags                  1   \n",
       "12     4_4              4              Bags                  4   \n",
       "13     5_7              5             Books                  7   \n",
       "14    5_12              5             Books                 12   \n",
       "15    5_10              5             Books                 10   \n",
       "16    5_11              5             Books                 11   \n",
       "17     5_3              5             Books                  3   \n",
       "18     5_6              5             Books                  6   \n",
       "19     6_2              6  Home and kitchen                  2   \n",
       "20    6_10              6  Home and kitchen                 10   \n",
       "21    6_11              6  Home and kitchen                 11   \n",
       "22    6_12              6  Home and kitchen                 12   \n",
       "\n",
       "            prod_subcat  \n",
       "0                  Mens  \n",
       "1                 Women  \n",
       "2                  Kids  \n",
       "3                  Mens  \n",
       "4                 Women  \n",
       "5                  Kids  \n",
       "6               Mobiles  \n",
       "7             Computers  \n",
       "8   Personal Appliances  \n",
       "9               Cameras  \n",
       "10      Audio and video  \n",
       "11                 Mens  \n",
       "12                Women  \n",
       "13              Fiction  \n",
       "14             Academic  \n",
       "15          Non-Fiction  \n",
       "16             Children  \n",
       "17               Comics  \n",
       "18                  DIY  \n",
       "19           Furnishing  \n",
       "20              Kitchen  \n",
       "21                 Bath  \n",
       "22                Tools  "
      ]
     },
     "execution_count": 7,
     "metadata": {},
     "output_type": "execute_result"
    }
   ],
   "source": [
    "items_df = prod_cat_info_raw_df.copy()\n",
    "items_df['item_id']=items_df.prod_cat_code.astype(str)+'_'+items_df.prod_sub_cat_code.astype(str)\n",
    "items_df= items_df[['item_id','prod_cat_code', 'prod_cat', 'prod_sub_cat_code', 'prod_subcat']]\n",
    "items_df"
   ]
  },
  {
   "cell_type": "code",
   "execution_count": 8,
   "metadata": {},
   "outputs": [],
   "source": [
    "full_info_transactions = (\n",
    "    transactions_df\n",
    "    .merge(customer_raw_df, how='left', left_on='cust_id', right_on='customer_Id')\n",
    "    .merge(items_df, how='left', on='item_id')\n",
    ")"
   ]
  },
  {
   "cell_type": "markdown",
   "metadata": {},
   "source": [
    "# ALS"
   ]
  },
  {
   "cell_type": "markdown",
   "metadata": {},
   "source": [
    "## Items table"
   ]
  },
  {
   "cell_type": "code",
   "execution_count": 9,
   "metadata": {},
   "outputs": [],
   "source": [
    "def get_sales_until_date(transactions: pd.DataFrame, max_date:str='01-01-2012', fill_na_with_zero: bool=True)-> pd.DataFrame:\n",
    "    \"\"\"\n",
    "    return the sales data (index: customers, columns: items, quantity sold since day1), \n",
    "    an equivalent to recommendation table, until a certain date\n",
    "    :param transactions: pd.DataFrame, all transactions\n",
    "    :param max_date: str, maximum date to consider\n",
    "    :return: pd.DataFrame, sales table (equivalent to recommendation table\n",
    "    \"\"\"\n",
    "    trasaction_until_date = transactions[transactions.tran_date<pd.to_datetime(max_date, format='%d-%m-%Y')]\n",
    "    trasaction_grouped_by_customer_item = (\n",
    "        trasaction_until_date.groupby(['cust_id','item_id'])[['Qty']].sum().reset_index()\n",
    "    )\n",
    "    sales_table = (\n",
    "        pd.pivot_table(\n",
    "            trasaction_grouped_by_customer_item,index='cust_id',columns='item_id',values='Qty'\n",
    "        )#.fillna(0)\n",
    "    )\n",
    "    sales_table = sales_table.fillna(0) if fill_na_with_zero else sales_table\n",
    "    \n",
    "    # add missing items\n",
    "    for item_id in transactions.item_id.unique():\n",
    "        if item_id not in sales_table.columns:\n",
    "            sales_table[item_id] = 0 if fill_na_with_zero else sales_table\n",
    "    sales_table.columns = sorted(sales_table.columns)\n",
    "    return sales_table\n"
   ]
  },
  {
   "cell_type": "code",
   "execution_count": 10,
   "metadata": {},
   "outputs": [],
   "source": [
    "sales = get_sales_until_date(transactions_df, '01-04-2011', False)"
   ]
  },
  {
   "cell_type": "code",
   "execution_count": 11,
   "metadata": {},
   "outputs": [
    {
     "data": {
      "text/html": [
       "<div>\n",
       "<style scoped>\n",
       "    .dataframe tbody tr th:only-of-type {\n",
       "        vertical-align: middle;\n",
       "    }\n",
       "\n",
       "    .dataframe tbody tr th {\n",
       "        vertical-align: top;\n",
       "    }\n",
       "\n",
       "    .dataframe thead th {\n",
       "        text-align: right;\n",
       "    }\n",
       "</style>\n",
       "<table border=\"1\" class=\"dataframe\">\n",
       "  <thead>\n",
       "    <tr style=\"text-align: right;\">\n",
       "      <th></th>\n",
       "      <th>1_1</th>\n",
       "      <th>1_3</th>\n",
       "      <th>1_4</th>\n",
       "      <th>2_1</th>\n",
       "      <th>2_3</th>\n",
       "      <th>2_4</th>\n",
       "      <th>3_10</th>\n",
       "      <th>3_4</th>\n",
       "      <th>3_5</th>\n",
       "      <th>3_8</th>\n",
       "      <th>...</th>\n",
       "      <th>5_10</th>\n",
       "      <th>5_11</th>\n",
       "      <th>5_12</th>\n",
       "      <th>5_3</th>\n",
       "      <th>5_6</th>\n",
       "      <th>5_7</th>\n",
       "      <th>6_10</th>\n",
       "      <th>6_11</th>\n",
       "      <th>6_12</th>\n",
       "      <th>6_2</th>\n",
       "    </tr>\n",
       "    <tr>\n",
       "      <th>cust_id</th>\n",
       "      <th></th>\n",
       "      <th></th>\n",
       "      <th></th>\n",
       "      <th></th>\n",
       "      <th></th>\n",
       "      <th></th>\n",
       "      <th></th>\n",
       "      <th></th>\n",
       "      <th></th>\n",
       "      <th></th>\n",
       "      <th></th>\n",
       "      <th></th>\n",
       "      <th></th>\n",
       "      <th></th>\n",
       "      <th></th>\n",
       "      <th></th>\n",
       "      <th></th>\n",
       "      <th></th>\n",
       "      <th></th>\n",
       "      <th></th>\n",
       "      <th></th>\n",
       "    </tr>\n",
       "  </thead>\n",
       "  <tbody>\n",
       "    <tr>\n",
       "      <th>266785</th>\n",
       "      <td>NaN</td>\n",
       "      <td>NaN</td>\n",
       "      <td>NaN</td>\n",
       "      <td>NaN</td>\n",
       "      <td>NaN</td>\n",
       "      <td>5.0</td>\n",
       "      <td>NaN</td>\n",
       "      <td>NaN</td>\n",
       "      <td>NaN</td>\n",
       "      <td>NaN</td>\n",
       "      <td>...</td>\n",
       "      <td>NaN</td>\n",
       "      <td>NaN</td>\n",
       "      <td>NaN</td>\n",
       "      <td>NaN</td>\n",
       "      <td>NaN</td>\n",
       "      <td>NaN</td>\n",
       "      <td>NaN</td>\n",
       "      <td>NaN</td>\n",
       "      <td>NaN</td>\n",
       "      <td>NaN</td>\n",
       "    </tr>\n",
       "    <tr>\n",
       "      <th>266794</th>\n",
       "      <td>NaN</td>\n",
       "      <td>3.0</td>\n",
       "      <td>NaN</td>\n",
       "      <td>NaN</td>\n",
       "      <td>NaN</td>\n",
       "      <td>NaN</td>\n",
       "      <td>NaN</td>\n",
       "      <td>NaN</td>\n",
       "      <td>NaN</td>\n",
       "      <td>NaN</td>\n",
       "      <td>...</td>\n",
       "      <td>NaN</td>\n",
       "      <td>NaN</td>\n",
       "      <td>NaN</td>\n",
       "      <td>NaN</td>\n",
       "      <td>NaN</td>\n",
       "      <td>NaN</td>\n",
       "      <td>NaN</td>\n",
       "      <td>NaN</td>\n",
       "      <td>NaN</td>\n",
       "      <td>NaN</td>\n",
       "    </tr>\n",
       "    <tr>\n",
       "      <th>266810</th>\n",
       "      <td>NaN</td>\n",
       "      <td>NaN</td>\n",
       "      <td>3.0</td>\n",
       "      <td>NaN</td>\n",
       "      <td>NaN</td>\n",
       "      <td>NaN</td>\n",
       "      <td>NaN</td>\n",
       "      <td>NaN</td>\n",
       "      <td>NaN</td>\n",
       "      <td>NaN</td>\n",
       "      <td>...</td>\n",
       "      <td>NaN</td>\n",
       "      <td>NaN</td>\n",
       "      <td>NaN</td>\n",
       "      <td>NaN</td>\n",
       "      <td>NaN</td>\n",
       "      <td>NaN</td>\n",
       "      <td>NaN</td>\n",
       "      <td>NaN</td>\n",
       "      <td>NaN</td>\n",
       "      <td>NaN</td>\n",
       "    </tr>\n",
       "    <tr>\n",
       "      <th>266822</th>\n",
       "      <td>NaN</td>\n",
       "      <td>NaN</td>\n",
       "      <td>NaN</td>\n",
       "      <td>NaN</td>\n",
       "      <td>NaN</td>\n",
       "      <td>NaN</td>\n",
       "      <td>NaN</td>\n",
       "      <td>NaN</td>\n",
       "      <td>NaN</td>\n",
       "      <td>NaN</td>\n",
       "      <td>...</td>\n",
       "      <td>NaN</td>\n",
       "      <td>NaN</td>\n",
       "      <td>NaN</td>\n",
       "      <td>NaN</td>\n",
       "      <td>NaN</td>\n",
       "      <td>NaN</td>\n",
       "      <td>NaN</td>\n",
       "      <td>NaN</td>\n",
       "      <td>NaN</td>\n",
       "      <td>NaN</td>\n",
       "    </tr>\n",
       "    <tr>\n",
       "      <th>266829</th>\n",
       "      <td>NaN</td>\n",
       "      <td>NaN</td>\n",
       "      <td>NaN</td>\n",
       "      <td>NaN</td>\n",
       "      <td>1.0</td>\n",
       "      <td>NaN</td>\n",
       "      <td>NaN</td>\n",
       "      <td>NaN</td>\n",
       "      <td>NaN</td>\n",
       "      <td>NaN</td>\n",
       "      <td>...</td>\n",
       "      <td>NaN</td>\n",
       "      <td>NaN</td>\n",
       "      <td>NaN</td>\n",
       "      <td>NaN</td>\n",
       "      <td>NaN</td>\n",
       "      <td>NaN</td>\n",
       "      <td>NaN</td>\n",
       "      <td>NaN</td>\n",
       "      <td>NaN</td>\n",
       "      <td>NaN</td>\n",
       "    </tr>\n",
       "    <tr>\n",
       "      <th>...</th>\n",
       "      <td>...</td>\n",
       "      <td>...</td>\n",
       "      <td>...</td>\n",
       "      <td>...</td>\n",
       "      <td>...</td>\n",
       "      <td>...</td>\n",
       "      <td>...</td>\n",
       "      <td>...</td>\n",
       "      <td>...</td>\n",
       "      <td>...</td>\n",
       "      <td>...</td>\n",
       "      <td>...</td>\n",
       "      <td>...</td>\n",
       "      <td>...</td>\n",
       "      <td>...</td>\n",
       "      <td>...</td>\n",
       "      <td>...</td>\n",
       "      <td>...</td>\n",
       "      <td>...</td>\n",
       "      <td>...</td>\n",
       "      <td>...</td>\n",
       "    </tr>\n",
       "    <tr>\n",
       "      <th>275224</th>\n",
       "      <td>4.0</td>\n",
       "      <td>NaN</td>\n",
       "      <td>NaN</td>\n",
       "      <td>NaN</td>\n",
       "      <td>NaN</td>\n",
       "      <td>NaN</td>\n",
       "      <td>NaN</td>\n",
       "      <td>NaN</td>\n",
       "      <td>NaN</td>\n",
       "      <td>NaN</td>\n",
       "      <td>...</td>\n",
       "      <td>NaN</td>\n",
       "      <td>NaN</td>\n",
       "      <td>NaN</td>\n",
       "      <td>NaN</td>\n",
       "      <td>NaN</td>\n",
       "      <td>NaN</td>\n",
       "      <td>NaN</td>\n",
       "      <td>NaN</td>\n",
       "      <td>4.0</td>\n",
       "      <td>NaN</td>\n",
       "    </tr>\n",
       "    <tr>\n",
       "      <th>275226</th>\n",
       "      <td>NaN</td>\n",
       "      <td>NaN</td>\n",
       "      <td>NaN</td>\n",
       "      <td>NaN</td>\n",
       "      <td>NaN</td>\n",
       "      <td>NaN</td>\n",
       "      <td>NaN</td>\n",
       "      <td>NaN</td>\n",
       "      <td>NaN</td>\n",
       "      <td>NaN</td>\n",
       "      <td>...</td>\n",
       "      <td>NaN</td>\n",
       "      <td>NaN</td>\n",
       "      <td>4.0</td>\n",
       "      <td>NaN</td>\n",
       "      <td>NaN</td>\n",
       "      <td>NaN</td>\n",
       "      <td>NaN</td>\n",
       "      <td>NaN</td>\n",
       "      <td>NaN</td>\n",
       "      <td>NaN</td>\n",
       "    </tr>\n",
       "    <tr>\n",
       "      <th>275227</th>\n",
       "      <td>NaN</td>\n",
       "      <td>NaN</td>\n",
       "      <td>NaN</td>\n",
       "      <td>NaN</td>\n",
       "      <td>NaN</td>\n",
       "      <td>NaN</td>\n",
       "      <td>NaN</td>\n",
       "      <td>NaN</td>\n",
       "      <td>NaN</td>\n",
       "      <td>NaN</td>\n",
       "      <td>...</td>\n",
       "      <td>NaN</td>\n",
       "      <td>NaN</td>\n",
       "      <td>NaN</td>\n",
       "      <td>NaN</td>\n",
       "      <td>NaN</td>\n",
       "      <td>NaN</td>\n",
       "      <td>NaN</td>\n",
       "      <td>NaN</td>\n",
       "      <td>NaN</td>\n",
       "      <td>NaN</td>\n",
       "    </tr>\n",
       "    <tr>\n",
       "      <th>275233</th>\n",
       "      <td>NaN</td>\n",
       "      <td>NaN</td>\n",
       "      <td>NaN</td>\n",
       "      <td>NaN</td>\n",
       "      <td>NaN</td>\n",
       "      <td>NaN</td>\n",
       "      <td>NaN</td>\n",
       "      <td>NaN</td>\n",
       "      <td>NaN</td>\n",
       "      <td>NaN</td>\n",
       "      <td>...</td>\n",
       "      <td>NaN</td>\n",
       "      <td>NaN</td>\n",
       "      <td>NaN</td>\n",
       "      <td>NaN</td>\n",
       "      <td>3.0</td>\n",
       "      <td>NaN</td>\n",
       "      <td>NaN</td>\n",
       "      <td>NaN</td>\n",
       "      <td>NaN</td>\n",
       "      <td>NaN</td>\n",
       "    </tr>\n",
       "    <tr>\n",
       "      <th>275244</th>\n",
       "      <td>NaN</td>\n",
       "      <td>NaN</td>\n",
       "      <td>NaN</td>\n",
       "      <td>NaN</td>\n",
       "      <td>NaN</td>\n",
       "      <td>NaN</td>\n",
       "      <td>NaN</td>\n",
       "      <td>NaN</td>\n",
       "      <td>NaN</td>\n",
       "      <td>NaN</td>\n",
       "      <td>...</td>\n",
       "      <td>NaN</td>\n",
       "      <td>NaN</td>\n",
       "      <td>NaN</td>\n",
       "      <td>NaN</td>\n",
       "      <td>NaN</td>\n",
       "      <td>NaN</td>\n",
       "      <td>NaN</td>\n",
       "      <td>NaN</td>\n",
       "      <td>NaN</td>\n",
       "      <td>NaN</td>\n",
       "    </tr>\n",
       "  </tbody>\n",
       "</table>\n",
       "<p>1094 rows × 23 columns</p>\n",
       "</div>"
      ],
      "text/plain": [
       "         1_1  1_3  1_4  2_1  2_3  2_4  3_10  3_4  3_5  3_8  ...  5_10  5_11  \\\n",
       "cust_id                                                     ...               \n",
       "266785   NaN  NaN  NaN  NaN  NaN  5.0   NaN  NaN  NaN  NaN  ...   NaN   NaN   \n",
       "266794   NaN  3.0  NaN  NaN  NaN  NaN   NaN  NaN  NaN  NaN  ...   NaN   NaN   \n",
       "266810   NaN  NaN  3.0  NaN  NaN  NaN   NaN  NaN  NaN  NaN  ...   NaN   NaN   \n",
       "266822   NaN  NaN  NaN  NaN  NaN  NaN   NaN  NaN  NaN  NaN  ...   NaN   NaN   \n",
       "266829   NaN  NaN  NaN  NaN  1.0  NaN   NaN  NaN  NaN  NaN  ...   NaN   NaN   \n",
       "...      ...  ...  ...  ...  ...  ...   ...  ...  ...  ...  ...   ...   ...   \n",
       "275224   4.0  NaN  NaN  NaN  NaN  NaN   NaN  NaN  NaN  NaN  ...   NaN   NaN   \n",
       "275226   NaN  NaN  NaN  NaN  NaN  NaN   NaN  NaN  NaN  NaN  ...   NaN   NaN   \n",
       "275227   NaN  NaN  NaN  NaN  NaN  NaN   NaN  NaN  NaN  NaN  ...   NaN   NaN   \n",
       "275233   NaN  NaN  NaN  NaN  NaN  NaN   NaN  NaN  NaN  NaN  ...   NaN   NaN   \n",
       "275244   NaN  NaN  NaN  NaN  NaN  NaN   NaN  NaN  NaN  NaN  ...   NaN   NaN   \n",
       "\n",
       "         5_12  5_3  5_6  5_7  6_10  6_11  6_12  6_2  \n",
       "cust_id                                              \n",
       "266785    NaN  NaN  NaN  NaN   NaN   NaN   NaN  NaN  \n",
       "266794    NaN  NaN  NaN  NaN   NaN   NaN   NaN  NaN  \n",
       "266810    NaN  NaN  NaN  NaN   NaN   NaN   NaN  NaN  \n",
       "266822    NaN  NaN  NaN  NaN   NaN   NaN   NaN  NaN  \n",
       "266829    NaN  NaN  NaN  NaN   NaN   NaN   NaN  NaN  \n",
       "...       ...  ...  ...  ...   ...   ...   ...  ...  \n",
       "275224    NaN  NaN  NaN  NaN   NaN   NaN   4.0  NaN  \n",
       "275226    4.0  NaN  NaN  NaN   NaN   NaN   NaN  NaN  \n",
       "275227    NaN  NaN  NaN  NaN   NaN   NaN   NaN  NaN  \n",
       "275233    NaN  NaN  3.0  NaN   NaN   NaN   NaN  NaN  \n",
       "275244    NaN  NaN  NaN  NaN   NaN   NaN   NaN  NaN  \n",
       "\n",
       "[1094 rows x 23 columns]"
      ]
     },
     "execution_count": 11,
     "metadata": {},
     "output_type": "execute_result"
    }
   ],
   "source": [
    "sales"
   ]
  },
  {
   "cell_type": "code",
   "execution_count": 12,
   "metadata": {},
   "outputs": [
    {
     "data": {
      "text/plain": [
       "array([[nan, nan, nan, ..., nan, nan, nan],\n",
       "       [nan,  3., nan, ..., nan, nan, nan],\n",
       "       [nan, nan,  3., ..., nan, nan, nan],\n",
       "       ...,\n",
       "       [nan, nan, nan, ..., nan, nan, nan],\n",
       "       [nan, nan, nan, ..., nan, nan, nan],\n",
       "       [nan, nan, nan, ..., nan, nan, nan]])"
      ]
     },
     "execution_count": 12,
     "metadata": {},
     "output_type": "execute_result"
    }
   ],
   "source": [
    "sales.T.values"
   ]
  },
  {
   "cell_type": "code",
   "execution_count": 13,
   "metadata": {},
   "outputs": [
    {
     "data": {
      "text/plain": [
       "Index(['1_1', '1_3', '1_4', '2_1', '2_3', '2_4', '3_10', '3_4', '3_5', '3_8',\n",
       "       '3_9', '4_1', '4_4', '5_10', '5_11', '5_12', '5_3', '5_6', '5_7',\n",
       "       '6_10', '6_11', '6_12', '6_2'],\n",
       "      dtype='object')"
      ]
     },
     "execution_count": 13,
     "metadata": {},
     "output_type": "execute_result"
    }
   ],
   "source": [
    "sales.columns"
   ]
  },
  {
   "cell_type": "code",
   "execution_count": 14,
   "metadata": {},
   "outputs": [],
   "source": [
    "a = pd.melt(sales.reset_index(),id_vars=['cust_id'], value_vars=['1_1', '1_3', '1_4', '2_1', '2_3', '2_4', '3_10', '3_4', '3_5', '3_8',\n",
    "       '3_9', '4_1', '4_4', '5_10', '5_11', '5_12', '5_3', '5_6', '5_7',\n",
    "       '6_10', '6_11', '6_12', '6_2'],var_name='a').dropna(subset=['value'])"
   ]
  },
  {
   "cell_type": "markdown",
   "metadata": {},
   "source": [
    "# Evaluate the model:"
   ]
  },
  {
   "cell_type": "markdown",
   "metadata": {},
   "source": [
    "We evaluate it on the year 2013 (training on 2011-2012)\n",
    "We make predictions every month"
   ]
  },
  {
   "cell_type": "code",
   "execution_count": 15,
   "metadata": {},
   "outputs": [],
   "source": [
    "dates_to_train_on = [f'01-{str(month).zfill(2)}-2013' for month in range(1,13)]+['01-01-2014']"
   ]
  },
  {
   "cell_type": "code",
   "execution_count": 16,
   "metadata": {},
   "outputs": [],
   "source": [
    "items_ids = items_df.item_id.unique()\n",
    "def fill_with_other_items_randomly(items_recommended: List) -> List:\n",
    "    \"\"\"\n",
    "    If complete the list of recommended items with the rest of the items at random\n",
    "    :param items_recommended: list, list of items recommended\n",
    "    :return: list, ordered list of all the items to be recommended  \n",
    "    \"\"\"\n",
    "    items_not_recommended = [item_id for item_id in items_ids if item_id not in items_recommended]\n",
    "    # recommend other items randomly \n",
    "    random_items_not_recommended = random.sample(items_not_recommended,len(items_not_recommended))\n",
    "    return items_recommended+random_items_not_recommended"
   ]
  },
  {
   "cell_type": "code",
   "execution_count": 17,
   "metadata": {},
   "outputs": [],
   "source": [
    "def evaluate_recommendation(items_sold: List[List[str]], items_predicted: List[List[str]]):\n",
    "    \"\"\"\n",
    "    Mean (Size(item |  item in items_sold and item in items_predicted) / Size(item |  item in items_sold) for each user) \n",
    "    :param items_sold: array-like, List of users' lists of items sold \n",
    "    :param items_predicted: array-like, List of users' lists of recommended items \n",
    "    :return:\n",
    "    \"\"\"\n",
    "    return sum([len(set(x) & set(y))/len(x) for x, y in zip(items_sold, items_predicted)])/len(items_sold)"
   ]
  },
  {
   "cell_type": "code",
   "execution_count": 18,
   "metadata": {},
   "outputs": [],
   "source": [
    "def evaluate_on_n_items():\n",
    "    # Make a prediction for each month of the year 2013\n",
    "    yearly_sold = []\n",
    "    yearly_mfr_predictions = []\n",
    "\n",
    "\n",
    "    for i, date in enumerate(dates_to_train_on[:-1]):\n",
    "\n",
    "        cumulative_sales = get_sales_until_date(transactions_df, date, False)\n",
    "\n",
    "        cumulative_sales_next_month = get_sales_until_date(transactions_df, dates_to_train_on[i+1]).fillna(0)\n",
    "        sales_next_month = (cumulative_sales_next_month-cumulative_sales.fillna(0)).fillna(0)\n",
    "        total_sales_next_month = sales_next_month.sum(axis=1)\n",
    "        customers_next_month = total_sales_next_month[total_sales_next_month>0].index.tolist()\n",
    "\n",
    "        items_sold = sales_next_month.loc[customers_next_month].apply(lambda s : s[s>0].index.tolist(),axis=1)\n",
    "        yearly_sold.append(items_sold)\n",
    "\n",
    "        # Content based recommender\n",
    "        mfr = MFRecommender(factors=7, iterations=5, random_state=0, calculate_training_loss=True)\n",
    "        mfr.fit(cumulative_sales)\n",
    "        predictions = mfr.predict(customers_next_month)\n",
    "        mfr_predicted_items = (predictions\n",
    "                               .apply(lambda s : s[s>0].sort_values(ascending=False).index.tolist(),axis=1)\n",
    "                               .map(fill_with_other_items_randomly)\n",
    "        )\n",
    "        yearly_mfr_predictions.append(mfr_predicted_items)\n",
    "\n",
    "\n",
    "    yearly_sold = pd.concat(yearly_sold,ignore_index=True)\n",
    "    yearly_mfr_predictions = pd.concat(yearly_mfr_predictions,ignore_index=True)\n",
    "\n",
    "    for n in [1,3,5]:\n",
    "        print(f'Evaluation on {n} predictions')\n",
    "        print('Score of CBR:', evaluate_recommendation(yearly_sold, yearly_mfr_predictions.map(lambda x: x[:n]))*100)\n"
   ]
  },
  {
   "cell_type": "code",
   "execution_count": 19,
   "metadata": {},
   "outputs": [
    {
     "name": "stderr",
     "output_type": "stream",
     "text": [
      "WARNING:root:Intel MKL BLAS detected. Its highly recommend to set the environment variable 'export MKL_NUM_THREADS=1' to disable its internal multithreading\n"
     ]
    },
    {
     "data": {
      "application/vnd.jupyter.widget-view+json": {
       "model_id": "37030876afba4ebd9569683a264f8da9",
       "version_major": 2,
       "version_minor": 0
      },
      "text/plain": [
       "HBox(children=(FloatProgress(value=0.0, max=5.0), HTML(value='')))"
      ]
     },
     "metadata": {},
     "output_type": "display_data"
    },
    {
     "name": "stdout",
     "output_type": "stream",
     "text": [
      "\n"
     ]
    },
    {
     "data": {
      "application/vnd.jupyter.widget-view+json": {
       "model_id": "595edbcbd49a42028d6171b3cc87f247",
       "version_major": 2,
       "version_minor": 0
      },
      "text/plain": [
       "HBox(children=(FloatProgress(value=0.0, max=5.0), HTML(value='')))"
      ]
     },
     "metadata": {},
     "output_type": "display_data"
    },
    {
     "name": "stdout",
     "output_type": "stream",
     "text": [
      "\n"
     ]
    },
    {
     "data": {
      "application/vnd.jupyter.widget-view+json": {
       "model_id": "054b091b6b1249619215ce9bccb252d5",
       "version_major": 2,
       "version_minor": 0
      },
      "text/plain": [
       "HBox(children=(FloatProgress(value=0.0, max=5.0), HTML(value='')))"
      ]
     },
     "metadata": {},
     "output_type": "display_data"
    },
    {
     "name": "stdout",
     "output_type": "stream",
     "text": [
      "\n"
     ]
    },
    {
     "data": {
      "application/vnd.jupyter.widget-view+json": {
       "model_id": "9ac7ee0845774846a9ec49579f250490",
       "version_major": 2,
       "version_minor": 0
      },
      "text/plain": [
       "HBox(children=(FloatProgress(value=0.0, max=5.0), HTML(value='')))"
      ]
     },
     "metadata": {},
     "output_type": "display_data"
    },
    {
     "name": "stdout",
     "output_type": "stream",
     "text": [
      "\n"
     ]
    },
    {
     "data": {
      "application/vnd.jupyter.widget-view+json": {
       "model_id": "c7f25cc166be4d1ca60a744ddf3c6b0b",
       "version_major": 2,
       "version_minor": 0
      },
      "text/plain": [
       "HBox(children=(FloatProgress(value=0.0, max=5.0), HTML(value='')))"
      ]
     },
     "metadata": {},
     "output_type": "display_data"
    },
    {
     "name": "stdout",
     "output_type": "stream",
     "text": [
      "\n"
     ]
    },
    {
     "data": {
      "application/vnd.jupyter.widget-view+json": {
       "model_id": "8f758606e9294f29aac143992ccd84fe",
       "version_major": 2,
       "version_minor": 0
      },
      "text/plain": [
       "HBox(children=(FloatProgress(value=0.0, max=5.0), HTML(value='')))"
      ]
     },
     "metadata": {},
     "output_type": "display_data"
    },
    {
     "name": "stdout",
     "output_type": "stream",
     "text": [
      "\n"
     ]
    },
    {
     "data": {
      "application/vnd.jupyter.widget-view+json": {
       "model_id": "d9eedbf0baf64c1db62afd7a2394173b",
       "version_major": 2,
       "version_minor": 0
      },
      "text/plain": [
       "HBox(children=(FloatProgress(value=0.0, max=5.0), HTML(value='')))"
      ]
     },
     "metadata": {},
     "output_type": "display_data"
    },
    {
     "name": "stdout",
     "output_type": "stream",
     "text": [
      "\n"
     ]
    },
    {
     "data": {
      "application/vnd.jupyter.widget-view+json": {
       "model_id": "842cae8495474ecc8413c0acaa0d6a50",
       "version_major": 2,
       "version_minor": 0
      },
      "text/plain": [
       "HBox(children=(FloatProgress(value=0.0, max=5.0), HTML(value='')))"
      ]
     },
     "metadata": {},
     "output_type": "display_data"
    },
    {
     "name": "stdout",
     "output_type": "stream",
     "text": [
      "\n"
     ]
    },
    {
     "data": {
      "application/vnd.jupyter.widget-view+json": {
       "model_id": "46462ccb603d47f9a267a61b4c32e6ce",
       "version_major": 2,
       "version_minor": 0
      },
      "text/plain": [
       "HBox(children=(FloatProgress(value=0.0, max=5.0), HTML(value='')))"
      ]
     },
     "metadata": {},
     "output_type": "display_data"
    },
    {
     "name": "stdout",
     "output_type": "stream",
     "text": [
      "\n"
     ]
    },
    {
     "data": {
      "application/vnd.jupyter.widget-view+json": {
       "model_id": "c4cc1751bdcd4b4c9354793ca1bc244d",
       "version_major": 2,
       "version_minor": 0
      },
      "text/plain": [
       "HBox(children=(FloatProgress(value=0.0, max=5.0), HTML(value='')))"
      ]
     },
     "metadata": {},
     "output_type": "display_data"
    },
    {
     "name": "stdout",
     "output_type": "stream",
     "text": [
      "\n"
     ]
    },
    {
     "data": {
      "application/vnd.jupyter.widget-view+json": {
       "model_id": "b4ae7738dd07401aaa4b635082becfb3",
       "version_major": 2,
       "version_minor": 0
      },
      "text/plain": [
       "HBox(children=(FloatProgress(value=0.0, max=5.0), HTML(value='')))"
      ]
     },
     "metadata": {},
     "output_type": "display_data"
    },
    {
     "name": "stdout",
     "output_type": "stream",
     "text": [
      "\n"
     ]
    },
    {
     "data": {
      "application/vnd.jupyter.widget-view+json": {
       "model_id": "64d399c793bd45d8a683d7385fc736b6",
       "version_major": 2,
       "version_minor": 0
      },
      "text/plain": [
       "HBox(children=(FloatProgress(value=0.0, max=5.0), HTML(value='')))"
      ]
     },
     "metadata": {},
     "output_type": "display_data"
    },
    {
     "name": "stdout",
     "output_type": "stream",
     "text": [
      "\n",
      "Evaluation on 1 predictions\n",
      "Score of CBR: 4.92063492063492\n",
      "Evaluation on 3 predictions\n",
      "Score of CBR: 13.158182813355227\n",
      "Evaluation on 5 predictions\n",
      "Score of CBR: 21.778872468527645\n"
     ]
    }
   ],
   "source": [
    "evaluate_on_n_items()"
   ]
  },
  {
   "cell_type": "code",
   "execution_count": 20,
   "metadata": {},
   "outputs": [
    {
     "data": {
      "application/vnd.jupyter.widget-view+json": {
       "model_id": "9f803e06287948f985707baac902d603",
       "version_major": 2,
       "version_minor": 0
      },
      "text/plain": [
       "HBox(children=(FloatProgress(value=0.0, max=5.0), HTML(value='')))"
      ]
     },
     "metadata": {},
     "output_type": "display_data"
    },
    {
     "name": "stdout",
     "output_type": "stream",
     "text": [
      "\n"
     ]
    }
   ],
   "source": [
    "cumulative_sales = get_sales_until_date(transactions_df, '01-01-2014', False)\n",
    "# Content based recommender\n",
    "mfr = MFRecommender(factors=7, iterations=5, random_state=0, calculate_training_loss=True)\n",
    "mfr.fit(cumulative_sales)\n"
   ]
  },
  {
   "cell_type": "code",
   "execution_count": 22,
   "metadata": {},
   "outputs": [],
   "source": [
    "mfr.save_fitted_model('mfr_model_01_01_2014')"
   ]
  },
  {
   "cell_type": "code",
   "execution_count": 24,
   "metadata": {},
   "outputs": [
    {
     "data": {
      "text/html": [
       "<div>\n",
       "<style scoped>\n",
       "    .dataframe tbody tr th:only-of-type {\n",
       "        vertical-align: middle;\n",
       "    }\n",
       "\n",
       "    .dataframe tbody tr th {\n",
       "        vertical-align: top;\n",
       "    }\n",
       "\n",
       "    .dataframe thead th {\n",
       "        text-align: right;\n",
       "    }\n",
       "</style>\n",
       "<table border=\"1\" class=\"dataframe\">\n",
       "  <thead>\n",
       "    <tr style=\"text-align: right;\">\n",
       "      <th></th>\n",
       "      <th>1_1</th>\n",
       "      <th>1_3</th>\n",
       "      <th>1_4</th>\n",
       "      <th>2_1</th>\n",
       "      <th>2_3</th>\n",
       "      <th>2_4</th>\n",
       "      <th>3_10</th>\n",
       "      <th>3_4</th>\n",
       "      <th>3_5</th>\n",
       "      <th>3_8</th>\n",
       "      <th>...</th>\n",
       "      <th>5_10</th>\n",
       "      <th>5_11</th>\n",
       "      <th>5_12</th>\n",
       "      <th>5_3</th>\n",
       "      <th>5_6</th>\n",
       "      <th>5_7</th>\n",
       "      <th>6_10</th>\n",
       "      <th>6_11</th>\n",
       "      <th>6_12</th>\n",
       "      <th>6_2</th>\n",
       "    </tr>\n",
       "  </thead>\n",
       "  <tbody>\n",
       "    <tr>\n",
       "      <th>266783</th>\n",
       "      <td>-0.049760</td>\n",
       "      <td>-0.034000</td>\n",
       "      <td>0.651784</td>\n",
       "      <td>0.582541</td>\n",
       "      <td>0.18261</td>\n",
       "      <td>0.649750</td>\n",
       "      <td>0.299692</td>\n",
       "      <td>-0.020104</td>\n",
       "      <td>0.545705</td>\n",
       "      <td>-0.128252</td>\n",
       "      <td>...</td>\n",
       "      <td>0.574053</td>\n",
       "      <td>-0.114810</td>\n",
       "      <td>-0.090685</td>\n",
       "      <td>0.058694</td>\n",
       "      <td>0.359587</td>\n",
       "      <td>-0.157063</td>\n",
       "      <td>0.325214</td>\n",
       "      <td>0.238346</td>\n",
       "      <td>0.152753</td>\n",
       "      <td>0.882335</td>\n",
       "    </tr>\n",
       "    <tr>\n",
       "      <th>1</th>\n",
       "      <td>0.248917</td>\n",
       "      <td>0.228681</td>\n",
       "      <td>0.226248</td>\n",
       "      <td>0.241382</td>\n",
       "      <td>0.25073</td>\n",
       "      <td>0.223789</td>\n",
       "      <td>0.233082</td>\n",
       "      <td>0.271494</td>\n",
       "      <td>0.233777</td>\n",
       "      <td>0.233040</td>\n",
       "      <td>...</td>\n",
       "      <td>0.258415</td>\n",
       "      <td>0.240953</td>\n",
       "      <td>0.232202</td>\n",
       "      <td>0.240193</td>\n",
       "      <td>0.226805</td>\n",
       "      <td>0.243515</td>\n",
       "      <td>0.241433</td>\n",
       "      <td>0.242893</td>\n",
       "      <td>0.239151</td>\n",
       "      <td>0.251680</td>\n",
       "    </tr>\n",
       "  </tbody>\n",
       "</table>\n",
       "<p>2 rows × 23 columns</p>\n",
       "</div>"
      ],
      "text/plain": [
       "             1_1       1_3       1_4       2_1      2_3       2_4      3_10  \\\n",
       "266783 -0.049760 -0.034000  0.651784  0.582541  0.18261  0.649750  0.299692   \n",
       "1       0.248917  0.228681  0.226248  0.241382  0.25073  0.223789  0.233082   \n",
       "\n",
       "             3_4       3_5       3_8  ...      5_10      5_11      5_12  \\\n",
       "266783 -0.020104  0.545705 -0.128252  ...  0.574053 -0.114810 -0.090685   \n",
       "1       0.271494  0.233777  0.233040  ...  0.258415  0.240953  0.232202   \n",
       "\n",
       "             5_3       5_6       5_7      6_10      6_11      6_12       6_2  \n",
       "266783  0.058694  0.359587 -0.157063  0.325214  0.238346  0.152753  0.882335  \n",
       "1       0.240193  0.226805  0.243515  0.241433  0.242893  0.239151  0.251680  \n",
       "\n",
       "[2 rows x 23 columns]"
      ]
     },
     "execution_count": 24,
     "metadata": {},
     "output_type": "execute_result"
    }
   ],
   "source": [
    "mfr.predict([1,266783])"
   ]
  },
  {
   "cell_type": "code",
   "execution_count": null,
   "metadata": {},
   "outputs": [],
   "source": []
  }
 ],
 "metadata": {
  "kernelspec": {
   "display_name": "Python 3",
   "language": "python",
   "name": "python3"
  },
  "language_info": {
   "codemirror_mode": {
    "name": "ipython",
    "version": 3
   },
   "file_extension": ".py",
   "mimetype": "text/x-python",
   "name": "python",
   "nbconvert_exporter": "python",
   "pygments_lexer": "ipython3",
   "version": "3.7.7"
  }
 },
 "nbformat": 4,
 "nbformat_minor": 4
}
