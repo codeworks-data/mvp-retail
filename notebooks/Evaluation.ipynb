{
 "cells": [
  {
   "cell_type": "code",
   "execution_count": 1,
   "metadata": {},
   "outputs": [],
   "source": [
    "import os\n",
    "import sys\n",
    "import datetime\n",
    "import random\n",
    "from typing import List\n",
    "\n",
    "import pandas as pd\n",
    "import numpy as np\n",
    "import matplotlib.pyplot as plt\n",
    "import seaborn as sns\n",
    "import pandas_profiling\n",
    "import recmetrics\n",
    "import ml_metrics\n",
    "import seaborn as sns\n"
   ]
  },
  {
   "cell_type": "code",
   "execution_count": 2,
   "metadata": {},
   "outputs": [],
   "source": [
    "random.seed(0)\n",
    "%matplotlib inline\n",
    "sys.path.append('../utils/')"
   ]
  },
  {
   "cell_type": "code",
   "execution_count": 3,
   "metadata": {},
   "outputs": [],
   "source": [
    "from content_based_recomender import ContentBasedRecommender\n",
    "from collaborative_filtering_matrix_factorization import CFRecommender\n",
    "from baseline_last_sold_recommender import LastSoldRecommender\n",
    "from baseline_most_sold_recommender import MostSoldRecommender\n",
    "from modeling_utils import fill_with_other_items_randomly, get_sales_until_date"
   ]
  },
  {
   "cell_type": "markdown",
   "metadata": {},
   "source": [
    "# Load data"
   ]
  },
  {
   "cell_type": "code",
   "execution_count": 4,
   "metadata": {},
   "outputs": [
    {
     "name": "stdout",
     "output_type": "stream",
     "text": [
      "./../data/Customer.csv\n",
      "./../data/prod_cat_info.csv\n",
      "./../data/Transactions.csv\n"
     ]
    }
   ],
   "source": [
    "for dirname, _, filenames in os.walk('./../data'):\n",
    "    for filename in filenames:\n",
    "        print(os.path.join(dirname, filename))\n"
   ]
  },
  {
   "cell_type": "code",
   "execution_count": 5,
   "metadata": {},
   "outputs": [],
   "source": [
    "prod_cat_info_raw_df = pd.read_csv('./../data/prod_cat_info.csv')\n",
    "transactions_raw_df = pd.read_csv('./../data/Transactions.csv')\n"
   ]
  },
  {
   "cell_type": "code",
   "execution_count": 6,
   "metadata": {},
   "outputs": [
    {
     "data": {
      "text/html": [
       "<div>\n",
       "<style scoped>\n",
       "    .dataframe tbody tr th:only-of-type {\n",
       "        vertical-align: middle;\n",
       "    }\n",
       "\n",
       "    .dataframe tbody tr th {\n",
       "        vertical-align: top;\n",
       "    }\n",
       "\n",
       "    .dataframe thead th {\n",
       "        text-align: right;\n",
       "    }\n",
       "</style>\n",
       "<table border=\"1\" class=\"dataframe\">\n",
       "  <thead>\n",
       "    <tr style=\"text-align: right;\">\n",
       "      <th></th>\n",
       "      <th>transaction_id</th>\n",
       "      <th>cust_id</th>\n",
       "      <th>tran_date</th>\n",
       "      <th>prod_subcat_code</th>\n",
       "      <th>prod_cat_code</th>\n",
       "      <th>Qty</th>\n",
       "      <th>Rate</th>\n",
       "      <th>Tax</th>\n",
       "      <th>total_amt</th>\n",
       "      <th>Store_type</th>\n",
       "    </tr>\n",
       "  </thead>\n",
       "  <tbody>\n",
       "    <tr>\n",
       "      <th>0</th>\n",
       "      <td>80712190438</td>\n",
       "      <td>270351</td>\n",
       "      <td>2014-02-28</td>\n",
       "      <td>1</td>\n",
       "      <td>1</td>\n",
       "      <td>-5</td>\n",
       "      <td>-772</td>\n",
       "      <td>405.300</td>\n",
       "      <td>-4265.300</td>\n",
       "      <td>e-Shop</td>\n",
       "    </tr>\n",
       "    <tr>\n",
       "      <th>1</th>\n",
       "      <td>29258453508</td>\n",
       "      <td>270384</td>\n",
       "      <td>2014-02-27</td>\n",
       "      <td>5</td>\n",
       "      <td>3</td>\n",
       "      <td>-5</td>\n",
       "      <td>-1497</td>\n",
       "      <td>785.925</td>\n",
       "      <td>-8270.925</td>\n",
       "      <td>e-Shop</td>\n",
       "    </tr>\n",
       "    <tr>\n",
       "      <th>2</th>\n",
       "      <td>51750724947</td>\n",
       "      <td>273420</td>\n",
       "      <td>2014-02-24</td>\n",
       "      <td>6</td>\n",
       "      <td>5</td>\n",
       "      <td>-2</td>\n",
       "      <td>-791</td>\n",
       "      <td>166.110</td>\n",
       "      <td>-1748.110</td>\n",
       "      <td>TeleShop</td>\n",
       "    </tr>\n",
       "    <tr>\n",
       "      <th>3</th>\n",
       "      <td>93274880719</td>\n",
       "      <td>271509</td>\n",
       "      <td>2014-02-24</td>\n",
       "      <td>11</td>\n",
       "      <td>6</td>\n",
       "      <td>-3</td>\n",
       "      <td>-1363</td>\n",
       "      <td>429.345</td>\n",
       "      <td>-4518.345</td>\n",
       "      <td>e-Shop</td>\n",
       "    </tr>\n",
       "    <tr>\n",
       "      <th>4</th>\n",
       "      <td>51750724947</td>\n",
       "      <td>273420</td>\n",
       "      <td>2014-02-23</td>\n",
       "      <td>6</td>\n",
       "      <td>5</td>\n",
       "      <td>-2</td>\n",
       "      <td>-791</td>\n",
       "      <td>166.110</td>\n",
       "      <td>-1748.110</td>\n",
       "      <td>TeleShop</td>\n",
       "    </tr>\n",
       "  </tbody>\n",
       "</table>\n",
       "</div>"
      ],
      "text/plain": [
       "   transaction_id  cust_id  tran_date  prod_subcat_code  prod_cat_code  Qty  \\\n",
       "0     80712190438   270351 2014-02-28                 1              1   -5   \n",
       "1     29258453508   270384 2014-02-27                 5              3   -5   \n",
       "2     51750724947   273420 2014-02-24                 6              5   -2   \n",
       "3     93274880719   271509 2014-02-24                11              6   -3   \n",
       "4     51750724947   273420 2014-02-23                 6              5   -2   \n",
       "\n",
       "   Rate      Tax  total_amt Store_type  \n",
       "0  -772  405.300  -4265.300     e-Shop  \n",
       "1 -1497  785.925  -8270.925     e-Shop  \n",
       "2  -791  166.110  -1748.110   TeleShop  \n",
       "3 -1363  429.345  -4518.345     e-Shop  \n",
       "4  -791  166.110  -1748.110   TeleShop  "
      ]
     },
     "execution_count": 6,
     "metadata": {},
     "output_type": "execute_result"
    }
   ],
   "source": [
    "transactions_raw_df['tran_date'] = pd.to_datetime(transactions_raw_df['tran_date'].str.replace('/','-'), format='%d-%m-%Y')\n",
    "transactions_raw_df.head()"
   ]
  },
  {
   "cell_type": "code",
   "execution_count": 7,
   "metadata": {},
   "outputs": [
    {
     "data": {
      "text/html": [
       "<div>\n",
       "<style scoped>\n",
       "    .dataframe tbody tr th:only-of-type {\n",
       "        vertical-align: middle;\n",
       "    }\n",
       "\n",
       "    .dataframe tbody tr th {\n",
       "        vertical-align: top;\n",
       "    }\n",
       "\n",
       "    .dataframe thead th {\n",
       "        text-align: right;\n",
       "    }\n",
       "</style>\n",
       "<table border=\"1\" class=\"dataframe\">\n",
       "  <thead>\n",
       "    <tr style=\"text-align: right;\">\n",
       "      <th></th>\n",
       "      <th>transaction_id</th>\n",
       "      <th>cust_id</th>\n",
       "      <th>item_id</th>\n",
       "      <th>tran_date</th>\n",
       "      <th>Qty</th>\n",
       "    </tr>\n",
       "  </thead>\n",
       "  <tbody>\n",
       "    <tr>\n",
       "      <th>10</th>\n",
       "      <td>29258453508</td>\n",
       "      <td>270384</td>\n",
       "      <td>3_5</td>\n",
       "      <td>2014-02-20</td>\n",
       "      <td>5</td>\n",
       "    </tr>\n",
       "    <tr>\n",
       "      <th>11</th>\n",
       "      <td>25455265351</td>\n",
       "      <td>267750</td>\n",
       "      <td>6_12</td>\n",
       "      <td>2014-02-20</td>\n",
       "      <td>3</td>\n",
       "    </tr>\n",
       "    <tr>\n",
       "      <th>12</th>\n",
       "      <td>1571002198</td>\n",
       "      <td>275023</td>\n",
       "      <td>5_6</td>\n",
       "      <td>2014-02-20</td>\n",
       "      <td>4</td>\n",
       "    </tr>\n",
       "    <tr>\n",
       "      <th>14</th>\n",
       "      <td>36554696014</td>\n",
       "      <td>269345</td>\n",
       "      <td>5_3</td>\n",
       "      <td>2014-02-20</td>\n",
       "      <td>3</td>\n",
       "    </tr>\n",
       "    <tr>\n",
       "      <th>15</th>\n",
       "      <td>56814940239</td>\n",
       "      <td>268799</td>\n",
       "      <td>5_7</td>\n",
       "      <td>2014-02-20</td>\n",
       "      <td>5</td>\n",
       "    </tr>\n",
       "    <tr>\n",
       "      <th>...</th>\n",
       "      <td>...</td>\n",
       "      <td>...</td>\n",
       "      <td>...</td>\n",
       "      <td>...</td>\n",
       "      <td>...</td>\n",
       "    </tr>\n",
       "    <tr>\n",
       "      <th>23048</th>\n",
       "      <td>94340757522</td>\n",
       "      <td>274550</td>\n",
       "      <td>5_12</td>\n",
       "      <td>2011-01-25</td>\n",
       "      <td>1</td>\n",
       "    </tr>\n",
       "    <tr>\n",
       "      <th>23049</th>\n",
       "      <td>89780862956</td>\n",
       "      <td>270022</td>\n",
       "      <td>1_4</td>\n",
       "      <td>2011-01-25</td>\n",
       "      <td>1</td>\n",
       "    </tr>\n",
       "    <tr>\n",
       "      <th>23050</th>\n",
       "      <td>85115299378</td>\n",
       "      <td>271020</td>\n",
       "      <td>6_2</td>\n",
       "      <td>2011-01-25</td>\n",
       "      <td>4</td>\n",
       "    </tr>\n",
       "    <tr>\n",
       "      <th>23051</th>\n",
       "      <td>72870271171</td>\n",
       "      <td>270911</td>\n",
       "      <td>5_11</td>\n",
       "      <td>2011-01-25</td>\n",
       "      <td>3</td>\n",
       "    </tr>\n",
       "    <tr>\n",
       "      <th>23052</th>\n",
       "      <td>77960931771</td>\n",
       "      <td>271961</td>\n",
       "      <td>5_11</td>\n",
       "      <td>2011-01-25</td>\n",
       "      <td>1</td>\n",
       "    </tr>\n",
       "  </tbody>\n",
       "</table>\n",
       "<p>20876 rows × 5 columns</p>\n",
       "</div>"
      ],
      "text/plain": [
       "       transaction_id  cust_id item_id  tran_date  Qty\n",
       "10        29258453508   270384     3_5 2014-02-20    5\n",
       "11        25455265351   267750    6_12 2014-02-20    3\n",
       "12         1571002198   275023     5_6 2014-02-20    4\n",
       "14        36554696014   269345     5_3 2014-02-20    3\n",
       "15        56814940239   268799     5_7 2014-02-20    5\n",
       "...               ...      ...     ...        ...  ...\n",
       "23048     94340757522   274550    5_12 2011-01-25    1\n",
       "23049     89780862956   270022     1_4 2011-01-25    1\n",
       "23050     85115299378   271020     6_2 2011-01-25    4\n",
       "23051     72870271171   270911    5_11 2011-01-25    3\n",
       "23052     77960931771   271961    5_11 2011-01-25    1\n",
       "\n",
       "[20876 rows x 5 columns]"
      ]
     },
     "execution_count": 7,
     "metadata": {},
     "output_type": "execute_result"
    }
   ],
   "source": [
    "transactions_df = transactions_raw_df.copy()\n",
    "transactions_df = transactions_df[transactions_df.Qty>0]\n",
    "transactions_df['item_id'] = transactions_df.prod_cat_code.astype(str) + '_' + transactions_df.prod_subcat_code.astype(str)\n",
    "transactions_df = transactions_df[['transaction_id', 'cust_id', 'item_id', 'tran_date', 'Qty']]\n",
    "transactions_df"
   ]
  },
  {
   "cell_type": "markdown",
   "metadata": {},
   "source": [
    "# Recommendation : formulating the problem"
   ]
  },
  {
   "cell_type": "markdown",
   "metadata": {},
   "source": [
    "## Items table"
   ]
  },
  {
   "cell_type": "markdown",
   "metadata": {},
   "source": [
    "L'ID d'un 'item' sera la concaténation de la catégorie et de la sous catégorie"
   ]
  },
  {
   "cell_type": "code",
   "execution_count": 8,
   "metadata": {
    "scrolled": true
   },
   "outputs": [
    {
     "data": {
      "text/html": [
       "<div>\n",
       "<style scoped>\n",
       "    .dataframe tbody tr th:only-of-type {\n",
       "        vertical-align: middle;\n",
       "    }\n",
       "\n",
       "    .dataframe tbody tr th {\n",
       "        vertical-align: top;\n",
       "    }\n",
       "\n",
       "    .dataframe thead th {\n",
       "        text-align: right;\n",
       "    }\n",
       "</style>\n",
       "<table border=\"1\" class=\"dataframe\">\n",
       "  <thead>\n",
       "    <tr style=\"text-align: right;\">\n",
       "      <th></th>\n",
       "      <th>item_id</th>\n",
       "      <th>prod_cat_code</th>\n",
       "      <th>prod_cat</th>\n",
       "      <th>prod_sub_cat_code</th>\n",
       "      <th>prod_subcat</th>\n",
       "    </tr>\n",
       "  </thead>\n",
       "  <tbody>\n",
       "    <tr>\n",
       "      <th>0</th>\n",
       "      <td>1_4</td>\n",
       "      <td>1</td>\n",
       "      <td>Clothing</td>\n",
       "      <td>4</td>\n",
       "      <td>Mens</td>\n",
       "    </tr>\n",
       "    <tr>\n",
       "      <th>1</th>\n",
       "      <td>1_1</td>\n",
       "      <td>1</td>\n",
       "      <td>Clothing</td>\n",
       "      <td>1</td>\n",
       "      <td>Women</td>\n",
       "    </tr>\n",
       "    <tr>\n",
       "      <th>2</th>\n",
       "      <td>1_3</td>\n",
       "      <td>1</td>\n",
       "      <td>Clothing</td>\n",
       "      <td>3</td>\n",
       "      <td>Kids</td>\n",
       "    </tr>\n",
       "    <tr>\n",
       "      <th>3</th>\n",
       "      <td>2_1</td>\n",
       "      <td>2</td>\n",
       "      <td>Footwear</td>\n",
       "      <td>1</td>\n",
       "      <td>Mens</td>\n",
       "    </tr>\n",
       "    <tr>\n",
       "      <th>4</th>\n",
       "      <td>2_3</td>\n",
       "      <td>2</td>\n",
       "      <td>Footwear</td>\n",
       "      <td>3</td>\n",
       "      <td>Women</td>\n",
       "    </tr>\n",
       "    <tr>\n",
       "      <th>5</th>\n",
       "      <td>2_4</td>\n",
       "      <td>2</td>\n",
       "      <td>Footwear</td>\n",
       "      <td>4</td>\n",
       "      <td>Kids</td>\n",
       "    </tr>\n",
       "    <tr>\n",
       "      <th>6</th>\n",
       "      <td>3_4</td>\n",
       "      <td>3</td>\n",
       "      <td>Electronics</td>\n",
       "      <td>4</td>\n",
       "      <td>Mobiles</td>\n",
       "    </tr>\n",
       "    <tr>\n",
       "      <th>7</th>\n",
       "      <td>3_5</td>\n",
       "      <td>3</td>\n",
       "      <td>Electronics</td>\n",
       "      <td>5</td>\n",
       "      <td>Computers</td>\n",
       "    </tr>\n",
       "    <tr>\n",
       "      <th>8</th>\n",
       "      <td>3_8</td>\n",
       "      <td>3</td>\n",
       "      <td>Electronics</td>\n",
       "      <td>8</td>\n",
       "      <td>Personal Appliances</td>\n",
       "    </tr>\n",
       "    <tr>\n",
       "      <th>9</th>\n",
       "      <td>3_9</td>\n",
       "      <td>3</td>\n",
       "      <td>Electronics</td>\n",
       "      <td>9</td>\n",
       "      <td>Cameras</td>\n",
       "    </tr>\n",
       "    <tr>\n",
       "      <th>10</th>\n",
       "      <td>3_10</td>\n",
       "      <td>3</td>\n",
       "      <td>Electronics</td>\n",
       "      <td>10</td>\n",
       "      <td>Audio and video</td>\n",
       "    </tr>\n",
       "    <tr>\n",
       "      <th>11</th>\n",
       "      <td>4_1</td>\n",
       "      <td>4</td>\n",
       "      <td>Bags</td>\n",
       "      <td>1</td>\n",
       "      <td>Mens</td>\n",
       "    </tr>\n",
       "    <tr>\n",
       "      <th>12</th>\n",
       "      <td>4_4</td>\n",
       "      <td>4</td>\n",
       "      <td>Bags</td>\n",
       "      <td>4</td>\n",
       "      <td>Women</td>\n",
       "    </tr>\n",
       "    <tr>\n",
       "      <th>13</th>\n",
       "      <td>5_7</td>\n",
       "      <td>5</td>\n",
       "      <td>Books</td>\n",
       "      <td>7</td>\n",
       "      <td>Fiction</td>\n",
       "    </tr>\n",
       "    <tr>\n",
       "      <th>14</th>\n",
       "      <td>5_12</td>\n",
       "      <td>5</td>\n",
       "      <td>Books</td>\n",
       "      <td>12</td>\n",
       "      <td>Academic</td>\n",
       "    </tr>\n",
       "    <tr>\n",
       "      <th>15</th>\n",
       "      <td>5_10</td>\n",
       "      <td>5</td>\n",
       "      <td>Books</td>\n",
       "      <td>10</td>\n",
       "      <td>Non-Fiction</td>\n",
       "    </tr>\n",
       "    <tr>\n",
       "      <th>16</th>\n",
       "      <td>5_11</td>\n",
       "      <td>5</td>\n",
       "      <td>Books</td>\n",
       "      <td>11</td>\n",
       "      <td>Children</td>\n",
       "    </tr>\n",
       "    <tr>\n",
       "      <th>17</th>\n",
       "      <td>5_3</td>\n",
       "      <td>5</td>\n",
       "      <td>Books</td>\n",
       "      <td>3</td>\n",
       "      <td>Comics</td>\n",
       "    </tr>\n",
       "    <tr>\n",
       "      <th>18</th>\n",
       "      <td>5_6</td>\n",
       "      <td>5</td>\n",
       "      <td>Books</td>\n",
       "      <td>6</td>\n",
       "      <td>DIY</td>\n",
       "    </tr>\n",
       "    <tr>\n",
       "      <th>19</th>\n",
       "      <td>6_2</td>\n",
       "      <td>6</td>\n",
       "      <td>Home and kitchen</td>\n",
       "      <td>2</td>\n",
       "      <td>Furnishing</td>\n",
       "    </tr>\n",
       "    <tr>\n",
       "      <th>20</th>\n",
       "      <td>6_10</td>\n",
       "      <td>6</td>\n",
       "      <td>Home and kitchen</td>\n",
       "      <td>10</td>\n",
       "      <td>Kitchen</td>\n",
       "    </tr>\n",
       "    <tr>\n",
       "      <th>21</th>\n",
       "      <td>6_11</td>\n",
       "      <td>6</td>\n",
       "      <td>Home and kitchen</td>\n",
       "      <td>11</td>\n",
       "      <td>Bath</td>\n",
       "    </tr>\n",
       "    <tr>\n",
       "      <th>22</th>\n",
       "      <td>6_12</td>\n",
       "      <td>6</td>\n",
       "      <td>Home and kitchen</td>\n",
       "      <td>12</td>\n",
       "      <td>Tools</td>\n",
       "    </tr>\n",
       "  </tbody>\n",
       "</table>\n",
       "</div>"
      ],
      "text/plain": [
       "   item_id  prod_cat_code          prod_cat  prod_sub_cat_code  \\\n",
       "0      1_4              1          Clothing                  4   \n",
       "1      1_1              1          Clothing                  1   \n",
       "2      1_3              1          Clothing                  3   \n",
       "3      2_1              2          Footwear                  1   \n",
       "4      2_3              2          Footwear                  3   \n",
       "5      2_4              2          Footwear                  4   \n",
       "6      3_4              3       Electronics                  4   \n",
       "7      3_5              3       Electronics                  5   \n",
       "8      3_8              3       Electronics                  8   \n",
       "9      3_9              3       Electronics                  9   \n",
       "10    3_10              3       Electronics                 10   \n",
       "11     4_1              4              Bags                  1   \n",
       "12     4_4              4              Bags                  4   \n",
       "13     5_7              5             Books                  7   \n",
       "14    5_12              5             Books                 12   \n",
       "15    5_10              5             Books                 10   \n",
       "16    5_11              5             Books                 11   \n",
       "17     5_3              5             Books                  3   \n",
       "18     5_6              5             Books                  6   \n",
       "19     6_2              6  Home and kitchen                  2   \n",
       "20    6_10              6  Home and kitchen                 10   \n",
       "21    6_11              6  Home and kitchen                 11   \n",
       "22    6_12              6  Home and kitchen                 12   \n",
       "\n",
       "            prod_subcat  \n",
       "0                  Mens  \n",
       "1                 Women  \n",
       "2                  Kids  \n",
       "3                  Mens  \n",
       "4                 Women  \n",
       "5                  Kids  \n",
       "6               Mobiles  \n",
       "7             Computers  \n",
       "8   Personal Appliances  \n",
       "9               Cameras  \n",
       "10      Audio and video  \n",
       "11                 Mens  \n",
       "12                Women  \n",
       "13              Fiction  \n",
       "14             Academic  \n",
       "15          Non-Fiction  \n",
       "16             Children  \n",
       "17               Comics  \n",
       "18                  DIY  \n",
       "19           Furnishing  \n",
       "20              Kitchen  \n",
       "21                 Bath  \n",
       "22                Tools  "
      ]
     },
     "execution_count": 8,
     "metadata": {},
     "output_type": "execute_result"
    }
   ],
   "source": [
    "items_df = prod_cat_info_raw_df.copy()\n",
    "items_df['item_id'] = items_df.prod_cat_code.astype(str) + '_' + items_df.prod_sub_cat_code.astype(str)\n",
    "items_df = items_df[['item_id','prod_cat_code', 'prod_cat', 'prod_sub_cat_code', 'prod_subcat']]\n",
    "items_df"
   ]
  },
  {
   "cell_type": "code",
   "execution_count": 9,
   "metadata": {},
   "outputs": [
    {
     "data": {
      "text/html": [
       "<div>\n",
       "<style scoped>\n",
       "    .dataframe tbody tr th:only-of-type {\n",
       "        vertical-align: middle;\n",
       "    }\n",
       "\n",
       "    .dataframe tbody tr th {\n",
       "        vertical-align: top;\n",
       "    }\n",
       "\n",
       "    .dataframe thead th {\n",
       "        text-align: right;\n",
       "    }\n",
       "</style>\n",
       "<table border=\"1\" class=\"dataframe\">\n",
       "  <thead>\n",
       "    <tr style=\"text-align: right;\">\n",
       "      <th></th>\n",
       "      <th>item_id</th>\n",
       "      <th>prod_cat</th>\n",
       "      <th>prod_subcat</th>\n",
       "    </tr>\n",
       "  </thead>\n",
       "  <tbody>\n",
       "    <tr>\n",
       "      <th>0</th>\n",
       "      <td>1_4</td>\n",
       "      <td>Clothing</td>\n",
       "      <td>Mens</td>\n",
       "    </tr>\n",
       "    <tr>\n",
       "      <th>1</th>\n",
       "      <td>1_1</td>\n",
       "      <td>Clothing</td>\n",
       "      <td>Women</td>\n",
       "    </tr>\n",
       "    <tr>\n",
       "      <th>2</th>\n",
       "      <td>1_3</td>\n",
       "      <td>Clothing</td>\n",
       "      <td>Kids</td>\n",
       "    </tr>\n",
       "    <tr>\n",
       "      <th>3</th>\n",
       "      <td>2_1</td>\n",
       "      <td>Footwear</td>\n",
       "      <td>Mens</td>\n",
       "    </tr>\n",
       "    <tr>\n",
       "      <th>4</th>\n",
       "      <td>2_3</td>\n",
       "      <td>Footwear</td>\n",
       "      <td>Women</td>\n",
       "    </tr>\n",
       "    <tr>\n",
       "      <th>5</th>\n",
       "      <td>2_4</td>\n",
       "      <td>Footwear</td>\n",
       "      <td>Kids</td>\n",
       "    </tr>\n",
       "    <tr>\n",
       "      <th>6</th>\n",
       "      <td>3_4</td>\n",
       "      <td>Electronics</td>\n",
       "      <td>Mobiles</td>\n",
       "    </tr>\n",
       "    <tr>\n",
       "      <th>7</th>\n",
       "      <td>3_5</td>\n",
       "      <td>Electronics</td>\n",
       "      <td>Computers</td>\n",
       "    </tr>\n",
       "    <tr>\n",
       "      <th>8</th>\n",
       "      <td>3_8</td>\n",
       "      <td>Electronics</td>\n",
       "      <td>Personal Appliances</td>\n",
       "    </tr>\n",
       "    <tr>\n",
       "      <th>9</th>\n",
       "      <td>3_9</td>\n",
       "      <td>Electronics</td>\n",
       "      <td>Cameras</td>\n",
       "    </tr>\n",
       "    <tr>\n",
       "      <th>10</th>\n",
       "      <td>3_10</td>\n",
       "      <td>Electronics</td>\n",
       "      <td>Audio and video</td>\n",
       "    </tr>\n",
       "    <tr>\n",
       "      <th>11</th>\n",
       "      <td>4_1</td>\n",
       "      <td>Bags</td>\n",
       "      <td>Mens</td>\n",
       "    </tr>\n",
       "    <tr>\n",
       "      <th>12</th>\n",
       "      <td>4_4</td>\n",
       "      <td>Bags</td>\n",
       "      <td>Women</td>\n",
       "    </tr>\n",
       "    <tr>\n",
       "      <th>13</th>\n",
       "      <td>5_7</td>\n",
       "      <td>Books</td>\n",
       "      <td>Fiction</td>\n",
       "    </tr>\n",
       "    <tr>\n",
       "      <th>14</th>\n",
       "      <td>5_12</td>\n",
       "      <td>Books</td>\n",
       "      <td>Academic</td>\n",
       "    </tr>\n",
       "    <tr>\n",
       "      <th>15</th>\n",
       "      <td>5_10</td>\n",
       "      <td>Books</td>\n",
       "      <td>Non-Fiction</td>\n",
       "    </tr>\n",
       "    <tr>\n",
       "      <th>16</th>\n",
       "      <td>5_11</td>\n",
       "      <td>Books</td>\n",
       "      <td>Children</td>\n",
       "    </tr>\n",
       "    <tr>\n",
       "      <th>17</th>\n",
       "      <td>5_3</td>\n",
       "      <td>Books</td>\n",
       "      <td>Comics</td>\n",
       "    </tr>\n",
       "    <tr>\n",
       "      <th>18</th>\n",
       "      <td>5_6</td>\n",
       "      <td>Books</td>\n",
       "      <td>DIY</td>\n",
       "    </tr>\n",
       "    <tr>\n",
       "      <th>19</th>\n",
       "      <td>6_2</td>\n",
       "      <td>Home and kitchen</td>\n",
       "      <td>Furnishing</td>\n",
       "    </tr>\n",
       "    <tr>\n",
       "      <th>20</th>\n",
       "      <td>6_10</td>\n",
       "      <td>Home and kitchen</td>\n",
       "      <td>Kitchen</td>\n",
       "    </tr>\n",
       "    <tr>\n",
       "      <th>21</th>\n",
       "      <td>6_11</td>\n",
       "      <td>Home and kitchen</td>\n",
       "      <td>Bath</td>\n",
       "    </tr>\n",
       "    <tr>\n",
       "      <th>22</th>\n",
       "      <td>6_12</td>\n",
       "      <td>Home and kitchen</td>\n",
       "      <td>Tools</td>\n",
       "    </tr>\n",
       "  </tbody>\n",
       "</table>\n",
       "</div>"
      ],
      "text/plain": [
       "   item_id          prod_cat          prod_subcat\n",
       "0      1_4          Clothing                 Mens\n",
       "1      1_1          Clothing                Women\n",
       "2      1_3          Clothing                 Kids\n",
       "3      2_1          Footwear                 Mens\n",
       "4      2_3          Footwear                Women\n",
       "5      2_4          Footwear                 Kids\n",
       "6      3_4       Electronics              Mobiles\n",
       "7      3_5       Electronics            Computers\n",
       "8      3_8       Electronics  Personal Appliances\n",
       "9      3_9       Electronics              Cameras\n",
       "10    3_10       Electronics      Audio and video\n",
       "11     4_1              Bags                 Mens\n",
       "12     4_4              Bags                Women\n",
       "13     5_7             Books              Fiction\n",
       "14    5_12             Books             Academic\n",
       "15    5_10             Books          Non-Fiction\n",
       "16    5_11             Books             Children\n",
       "17     5_3             Books               Comics\n",
       "18     5_6             Books                  DIY\n",
       "19     6_2  Home and kitchen           Furnishing\n",
       "20    6_10  Home and kitchen              Kitchen\n",
       "21    6_11  Home and kitchen                 Bath\n",
       "22    6_12  Home and kitchen                Tools"
      ]
     },
     "execution_count": 9,
     "metadata": {},
     "output_type": "execute_result"
    }
   ],
   "source": [
    "items_df[['item_id','prod_cat','prod_subcat']]"
   ]
  },
  {
   "cell_type": "code",
   "execution_count": 10,
   "metadata": {},
   "outputs": [],
   "source": [
    "items_df['dummy_column'] = 1\n",
    "\n",
    "prod_cat_features = pd.pivot_table(items_df, index='item_id', columns='prod_cat', values='dummy_column')\n",
    "prod_subcat_features = pd.pivot_table(items_df, index='item_id', columns='prod_subcat', values='dummy_column')\n",
    "\n",
    "prod_features = prod_cat_features.join(prod_subcat_features).fillna(0)\n",
    "\n",
    "items_df.drop(columns=['dummy_column'], inplace=True)\n"
   ]
  },
  {
   "cell_type": "code",
   "execution_count": 11,
   "metadata": {},
   "outputs": [
    {
     "data": {
      "text/html": [
       "<div>\n",
       "<style scoped>\n",
       "    .dataframe tbody tr th:only-of-type {\n",
       "        vertical-align: middle;\n",
       "    }\n",
       "\n",
       "    .dataframe tbody tr th {\n",
       "        vertical-align: top;\n",
       "    }\n",
       "\n",
       "    .dataframe thead th {\n",
       "        text-align: right;\n",
       "    }\n",
       "</style>\n",
       "<table border=\"1\" class=\"dataframe\">\n",
       "  <thead>\n",
       "    <tr style=\"text-align: right;\">\n",
       "      <th></th>\n",
       "      <th>1_1</th>\n",
       "      <th>1_3</th>\n",
       "      <th>1_4</th>\n",
       "      <th>2_1</th>\n",
       "      <th>2_3</th>\n",
       "      <th>2_4</th>\n",
       "      <th>3_10</th>\n",
       "      <th>3_4</th>\n",
       "      <th>3_5</th>\n",
       "      <th>3_8</th>\n",
       "      <th>...</th>\n",
       "      <th>5_10</th>\n",
       "      <th>5_11</th>\n",
       "      <th>5_12</th>\n",
       "      <th>5_3</th>\n",
       "      <th>5_6</th>\n",
       "      <th>5_7</th>\n",
       "      <th>6_10</th>\n",
       "      <th>6_11</th>\n",
       "      <th>6_12</th>\n",
       "      <th>6_2</th>\n",
       "    </tr>\n",
       "    <tr>\n",
       "      <th>cust_id</th>\n",
       "      <th></th>\n",
       "      <th></th>\n",
       "      <th></th>\n",
       "      <th></th>\n",
       "      <th></th>\n",
       "      <th></th>\n",
       "      <th></th>\n",
       "      <th></th>\n",
       "      <th></th>\n",
       "      <th></th>\n",
       "      <th></th>\n",
       "      <th></th>\n",
       "      <th></th>\n",
       "      <th></th>\n",
       "      <th></th>\n",
       "      <th></th>\n",
       "      <th></th>\n",
       "      <th></th>\n",
       "      <th></th>\n",
       "      <th></th>\n",
       "      <th></th>\n",
       "    </tr>\n",
       "  </thead>\n",
       "  <tbody>\n",
       "    <tr>\n",
       "      <th>266785</th>\n",
       "      <td>0.0</td>\n",
       "      <td>0.0</td>\n",
       "      <td>0.0</td>\n",
       "      <td>0.0</td>\n",
       "      <td>0.0</td>\n",
       "      <td>5.0</td>\n",
       "      <td>0.0</td>\n",
       "      <td>0.0</td>\n",
       "      <td>0.0</td>\n",
       "      <td>0.0</td>\n",
       "      <td>...</td>\n",
       "      <td>0.0</td>\n",
       "      <td>0.0</td>\n",
       "      <td>0.0</td>\n",
       "      <td>0.0</td>\n",
       "      <td>0.0</td>\n",
       "      <td>0.0</td>\n",
       "      <td>0.0</td>\n",
       "      <td>0.0</td>\n",
       "      <td>0.0</td>\n",
       "      <td>0.0</td>\n",
       "    </tr>\n",
       "    <tr>\n",
       "      <th>266794</th>\n",
       "      <td>0.0</td>\n",
       "      <td>3.0</td>\n",
       "      <td>0.0</td>\n",
       "      <td>0.0</td>\n",
       "      <td>0.0</td>\n",
       "      <td>0.0</td>\n",
       "      <td>0.0</td>\n",
       "      <td>0.0</td>\n",
       "      <td>0.0</td>\n",
       "      <td>0.0</td>\n",
       "      <td>...</td>\n",
       "      <td>0.0</td>\n",
       "      <td>0.0</td>\n",
       "      <td>0.0</td>\n",
       "      <td>0.0</td>\n",
       "      <td>0.0</td>\n",
       "      <td>0.0</td>\n",
       "      <td>0.0</td>\n",
       "      <td>0.0</td>\n",
       "      <td>0.0</td>\n",
       "      <td>0.0</td>\n",
       "    </tr>\n",
       "    <tr>\n",
       "      <th>266810</th>\n",
       "      <td>0.0</td>\n",
       "      <td>0.0</td>\n",
       "      <td>3.0</td>\n",
       "      <td>0.0</td>\n",
       "      <td>0.0</td>\n",
       "      <td>0.0</td>\n",
       "      <td>0.0</td>\n",
       "      <td>0.0</td>\n",
       "      <td>0.0</td>\n",
       "      <td>0.0</td>\n",
       "      <td>...</td>\n",
       "      <td>0.0</td>\n",
       "      <td>0.0</td>\n",
       "      <td>0.0</td>\n",
       "      <td>0.0</td>\n",
       "      <td>0.0</td>\n",
       "      <td>0.0</td>\n",
       "      <td>0.0</td>\n",
       "      <td>0.0</td>\n",
       "      <td>0.0</td>\n",
       "      <td>0.0</td>\n",
       "    </tr>\n",
       "    <tr>\n",
       "      <th>266822</th>\n",
       "      <td>0.0</td>\n",
       "      <td>0.0</td>\n",
       "      <td>0.0</td>\n",
       "      <td>0.0</td>\n",
       "      <td>0.0</td>\n",
       "      <td>0.0</td>\n",
       "      <td>0.0</td>\n",
       "      <td>0.0</td>\n",
       "      <td>0.0</td>\n",
       "      <td>0.0</td>\n",
       "      <td>...</td>\n",
       "      <td>0.0</td>\n",
       "      <td>0.0</td>\n",
       "      <td>0.0</td>\n",
       "      <td>0.0</td>\n",
       "      <td>0.0</td>\n",
       "      <td>0.0</td>\n",
       "      <td>0.0</td>\n",
       "      <td>0.0</td>\n",
       "      <td>0.0</td>\n",
       "      <td>0.0</td>\n",
       "    </tr>\n",
       "    <tr>\n",
       "      <th>266829</th>\n",
       "      <td>0.0</td>\n",
       "      <td>0.0</td>\n",
       "      <td>0.0</td>\n",
       "      <td>0.0</td>\n",
       "      <td>1.0</td>\n",
       "      <td>0.0</td>\n",
       "      <td>0.0</td>\n",
       "      <td>0.0</td>\n",
       "      <td>0.0</td>\n",
       "      <td>0.0</td>\n",
       "      <td>...</td>\n",
       "      <td>0.0</td>\n",
       "      <td>0.0</td>\n",
       "      <td>0.0</td>\n",
       "      <td>0.0</td>\n",
       "      <td>0.0</td>\n",
       "      <td>0.0</td>\n",
       "      <td>0.0</td>\n",
       "      <td>0.0</td>\n",
       "      <td>0.0</td>\n",
       "      <td>0.0</td>\n",
       "    </tr>\n",
       "    <tr>\n",
       "      <th>...</th>\n",
       "      <td>...</td>\n",
       "      <td>...</td>\n",
       "      <td>...</td>\n",
       "      <td>...</td>\n",
       "      <td>...</td>\n",
       "      <td>...</td>\n",
       "      <td>...</td>\n",
       "      <td>...</td>\n",
       "      <td>...</td>\n",
       "      <td>...</td>\n",
       "      <td>...</td>\n",
       "      <td>...</td>\n",
       "      <td>...</td>\n",
       "      <td>...</td>\n",
       "      <td>...</td>\n",
       "      <td>...</td>\n",
       "      <td>...</td>\n",
       "      <td>...</td>\n",
       "      <td>...</td>\n",
       "      <td>...</td>\n",
       "      <td>...</td>\n",
       "    </tr>\n",
       "    <tr>\n",
       "      <th>275224</th>\n",
       "      <td>4.0</td>\n",
       "      <td>0.0</td>\n",
       "      <td>0.0</td>\n",
       "      <td>0.0</td>\n",
       "      <td>0.0</td>\n",
       "      <td>0.0</td>\n",
       "      <td>0.0</td>\n",
       "      <td>0.0</td>\n",
       "      <td>0.0</td>\n",
       "      <td>0.0</td>\n",
       "      <td>...</td>\n",
       "      <td>0.0</td>\n",
       "      <td>0.0</td>\n",
       "      <td>0.0</td>\n",
       "      <td>0.0</td>\n",
       "      <td>0.0</td>\n",
       "      <td>0.0</td>\n",
       "      <td>0.0</td>\n",
       "      <td>0.0</td>\n",
       "      <td>4.0</td>\n",
       "      <td>0.0</td>\n",
       "    </tr>\n",
       "    <tr>\n",
       "      <th>275226</th>\n",
       "      <td>0.0</td>\n",
       "      <td>0.0</td>\n",
       "      <td>0.0</td>\n",
       "      <td>0.0</td>\n",
       "      <td>0.0</td>\n",
       "      <td>0.0</td>\n",
       "      <td>0.0</td>\n",
       "      <td>0.0</td>\n",
       "      <td>0.0</td>\n",
       "      <td>0.0</td>\n",
       "      <td>...</td>\n",
       "      <td>0.0</td>\n",
       "      <td>0.0</td>\n",
       "      <td>4.0</td>\n",
       "      <td>0.0</td>\n",
       "      <td>0.0</td>\n",
       "      <td>0.0</td>\n",
       "      <td>0.0</td>\n",
       "      <td>0.0</td>\n",
       "      <td>0.0</td>\n",
       "      <td>0.0</td>\n",
       "    </tr>\n",
       "    <tr>\n",
       "      <th>275227</th>\n",
       "      <td>0.0</td>\n",
       "      <td>0.0</td>\n",
       "      <td>0.0</td>\n",
       "      <td>0.0</td>\n",
       "      <td>0.0</td>\n",
       "      <td>0.0</td>\n",
       "      <td>0.0</td>\n",
       "      <td>0.0</td>\n",
       "      <td>0.0</td>\n",
       "      <td>0.0</td>\n",
       "      <td>...</td>\n",
       "      <td>0.0</td>\n",
       "      <td>0.0</td>\n",
       "      <td>0.0</td>\n",
       "      <td>0.0</td>\n",
       "      <td>0.0</td>\n",
       "      <td>0.0</td>\n",
       "      <td>0.0</td>\n",
       "      <td>0.0</td>\n",
       "      <td>0.0</td>\n",
       "      <td>0.0</td>\n",
       "    </tr>\n",
       "    <tr>\n",
       "      <th>275233</th>\n",
       "      <td>0.0</td>\n",
       "      <td>0.0</td>\n",
       "      <td>0.0</td>\n",
       "      <td>0.0</td>\n",
       "      <td>0.0</td>\n",
       "      <td>0.0</td>\n",
       "      <td>0.0</td>\n",
       "      <td>0.0</td>\n",
       "      <td>0.0</td>\n",
       "      <td>0.0</td>\n",
       "      <td>...</td>\n",
       "      <td>0.0</td>\n",
       "      <td>0.0</td>\n",
       "      <td>0.0</td>\n",
       "      <td>0.0</td>\n",
       "      <td>3.0</td>\n",
       "      <td>0.0</td>\n",
       "      <td>0.0</td>\n",
       "      <td>0.0</td>\n",
       "      <td>0.0</td>\n",
       "      <td>0.0</td>\n",
       "    </tr>\n",
       "    <tr>\n",
       "      <th>275244</th>\n",
       "      <td>0.0</td>\n",
       "      <td>0.0</td>\n",
       "      <td>0.0</td>\n",
       "      <td>0.0</td>\n",
       "      <td>0.0</td>\n",
       "      <td>0.0</td>\n",
       "      <td>0.0</td>\n",
       "      <td>0.0</td>\n",
       "      <td>0.0</td>\n",
       "      <td>0.0</td>\n",
       "      <td>...</td>\n",
       "      <td>0.0</td>\n",
       "      <td>0.0</td>\n",
       "      <td>0.0</td>\n",
       "      <td>0.0</td>\n",
       "      <td>0.0</td>\n",
       "      <td>0.0</td>\n",
       "      <td>0.0</td>\n",
       "      <td>0.0</td>\n",
       "      <td>0.0</td>\n",
       "      <td>0.0</td>\n",
       "    </tr>\n",
       "  </tbody>\n",
       "</table>\n",
       "<p>1094 rows × 23 columns</p>\n",
       "</div>"
      ],
      "text/plain": [
       "         1_1  1_3  1_4  2_1  2_3  2_4  3_10  3_4  3_5  3_8  ...  5_10  5_11  \\\n",
       "cust_id                                                     ...               \n",
       "266785   0.0  0.0  0.0  0.0  0.0  5.0   0.0  0.0  0.0  0.0  ...   0.0   0.0   \n",
       "266794   0.0  3.0  0.0  0.0  0.0  0.0   0.0  0.0  0.0  0.0  ...   0.0   0.0   \n",
       "266810   0.0  0.0  3.0  0.0  0.0  0.0   0.0  0.0  0.0  0.0  ...   0.0   0.0   \n",
       "266822   0.0  0.0  0.0  0.0  0.0  0.0   0.0  0.0  0.0  0.0  ...   0.0   0.0   \n",
       "266829   0.0  0.0  0.0  0.0  1.0  0.0   0.0  0.0  0.0  0.0  ...   0.0   0.0   \n",
       "...      ...  ...  ...  ...  ...  ...   ...  ...  ...  ...  ...   ...   ...   \n",
       "275224   4.0  0.0  0.0  0.0  0.0  0.0   0.0  0.0  0.0  0.0  ...   0.0   0.0   \n",
       "275226   0.0  0.0  0.0  0.0  0.0  0.0   0.0  0.0  0.0  0.0  ...   0.0   0.0   \n",
       "275227   0.0  0.0  0.0  0.0  0.0  0.0   0.0  0.0  0.0  0.0  ...   0.0   0.0   \n",
       "275233   0.0  0.0  0.0  0.0  0.0  0.0   0.0  0.0  0.0  0.0  ...   0.0   0.0   \n",
       "275244   0.0  0.0  0.0  0.0  0.0  0.0   0.0  0.0  0.0  0.0  ...   0.0   0.0   \n",
       "\n",
       "         5_12  5_3  5_6  5_7  6_10  6_11  6_12  6_2  \n",
       "cust_id                                              \n",
       "266785    0.0  0.0  0.0  0.0   0.0   0.0   0.0  0.0  \n",
       "266794    0.0  0.0  0.0  0.0   0.0   0.0   0.0  0.0  \n",
       "266810    0.0  0.0  0.0  0.0   0.0   0.0   0.0  0.0  \n",
       "266822    0.0  0.0  0.0  0.0   0.0   0.0   0.0  0.0  \n",
       "266829    0.0  0.0  0.0  0.0   0.0   0.0   0.0  0.0  \n",
       "...       ...  ...  ...  ...   ...   ...   ...  ...  \n",
       "275224    0.0  0.0  0.0  0.0   0.0   0.0   4.0  0.0  \n",
       "275226    4.0  0.0  0.0  0.0   0.0   0.0   0.0  0.0  \n",
       "275227    0.0  0.0  0.0  0.0   0.0   0.0   0.0  0.0  \n",
       "275233    0.0  0.0  3.0  0.0   0.0   0.0   0.0  0.0  \n",
       "275244    0.0  0.0  0.0  0.0   0.0   0.0   0.0  0.0  \n",
       "\n",
       "[1094 rows x 23 columns]"
      ]
     },
     "execution_count": 11,
     "metadata": {},
     "output_type": "execute_result"
    }
   ],
   "source": [
    "example_date = '01-04-2011'\n",
    "sales = get_sales_until_date(transactions_df, example_date)\n",
    "sales"
   ]
  },
  {
   "cell_type": "markdown",
   "metadata": {},
   "source": [
    "# Build and evaluate the model:"
   ]
  },
  {
   "cell_type": "markdown",
   "metadata": {},
   "source": [
    "We evaluate it on the year 2013 (training on 2011-2012)\n",
    "We make predictions every month"
   ]
  },
  {
   "cell_type": "code",
   "execution_count": 12,
   "metadata": {},
   "outputs": [],
   "source": [
    "dates_to_train_on = [f'01-{str(month).zfill(2)}-2013' for month in range(1,13)]+['01-01-2014']"
   ]
  },
  {
   "cell_type": "code",
   "execution_count": 13,
   "metadata": {},
   "outputs": [],
   "source": [
    "items_ids = items_df.item_id.unique()\n",
    "local_fill_with_other_items_randomly = lambda x: fill_with_other_items_randomly(x, items_ids)\n"
   ]
  },
  {
   "cell_type": "code",
   "execution_count": 14,
   "metadata": {},
   "outputs": [],
   "source": [
    "def recall_at_k(items_sold: List[List[str]], items_predicted: List[List[str]]):\n",
    "    \"\"\"\n",
    "    Mean (Size(item |  item in items_sold and item in items_predicted) / Size(item |  item in items_sold) for each user) \n",
    "    :param items_sold: array-like, List of users' lists of items sold \n",
    "    :param items_predicted: array-like, List of users' lists of recommended items \n",
    "    :return:\n",
    "    \"\"\"\n",
    "    return sum([len(set(x) & set(y)) / len(x) for x, y in zip(items_sold, items_predicted)]) / len(items_sold)\n",
    "\n",
    "def precision_at_k(items_sold: List[List[str]], items_predicted: List[List[str]]):\n",
    "    \"\"\"\n",
    "    Mean (Size(item |  item in items_sold and item in items_predicted) / Size(item |  item in items_predicted) for each user) \n",
    "    :param items_sold: array-like, List of users' lists of items sold \n",
    "    :param items_predicted: array-like, List of users' lists of recommended items \n",
    "    :return:\n",
    "    \"\"\"\n",
    "    return sum([len(set(x) & set(y)) / len(y) for x, y in zip(items_sold, items_predicted)]) / len(items_sold)\n",
    "\n",
    "def coverage_at_k( items_predicted: List[List[str]]):\n",
    "    \"\"\"\n",
    "    Number of items ever recommended / number of items \n",
    "    :param items_predicted: array-like, List of users' lists of recommended items \n",
    "    :return:\n",
    "    \"\"\"\n",
    "    recommended_items_set = set()\n",
    "    for recommendation in items_predicted:\n",
    "        recommended_items_set |= set(recommendation)\n",
    "    return len(recommended_items_set)/len(items_df)\n",
    "def novelty_at_k(items_previously_sold: List[List[str]], items_predicted: List[List[str]]):\n",
    "    \"\"\"\n",
    "    Novelty metric \n",
    "    :param items_predicted: array-like, List of users' lists of recommended items \n",
    "    :return:\n",
    "    \"\"\"\n",
    "    return sum([len(set(y) - set(x)) / len(y) for x, y in zip(items_previously_sold, items_predicted)]) / len(items_previously_sold)\n"
   ]
  },
  {
   "cell_type": "markdown",
   "metadata": {},
   "source": [
    "#### Baselines and content-based recommender"
   ]
  },
  {
   "cell_type": "code",
   "execution_count": 15,
   "metadata": {},
   "outputs": [],
   "source": [
    "    yearly_sold = []\n",
    "    yearly_previously_sold = []\n",
    "    yearly_cbr_predictions = []\n",
    "    yearly_lsr_predictions = []\n",
    "    yearly_msr_predictions = []\n",
    "\n",
    "\n",
    "    for i, date in enumerate(dates_to_train_on[:-1]):\n",
    "\n",
    "        cumulative_sales = get_sales_until_date(transactions_df, date)\n",
    "\n",
    "        cumulative_sales_next_month = get_sales_until_date(transactions_df, dates_to_train_on[i+1])\n",
    "        sales_next_month = (cumulative_sales_next_month - cumulative_sales).fillna(0)\n",
    "        total_sales_next_month = sales_next_month.sum(axis=1)\n",
    "        customers_next_month = total_sales_next_month[total_sales_next_month > 0].index.tolist()\n",
    "\n",
    "        items_sold = sales_next_month.loc[customers_next_month].apply(lambda s : s[s > 0].index.tolist(), axis=1)\n",
    "        yearly_sold.append(items_sold)\n",
    "        \n",
    "        #create previously sold\n",
    "        full_cumulative_sales = cumulative_sales.copy()\n",
    "        for x in customers_next_month:\n",
    "            if x not in full_cumulative_sales.index:\n",
    "                full_cumulative_sales.loc[x]=0\n",
    "        items_previously_sold = full_cumulative_sales.loc[customers_next_month].apply(lambda s : s[s > 0].index.tolist(), axis=1)\n",
    "        yearly_previously_sold.append(items_previously_sold)\n",
    "        \n",
    "        \n",
    "\n",
    "        # Content based recommender\n",
    "        cbr = ContentBasedRecommender(prod_features.columns)\n",
    "        cbr.fit(cumulative_sales, prod_features)\n",
    "        predictions = cbr.predict(customers_next_month)\n",
    "        cbr_predicted_items = (predictions\n",
    "                               .apply(lambda s: s[s > 0].sort_values(ascending=False).index.tolist(), axis=1)\n",
    "                               .map(local_fill_with_other_items_randomly)\n",
    "        )\n",
    "        yearly_cbr_predictions.append(cbr_predicted_items)\n",
    "\n",
    "        # Last sold recommender \n",
    "        transaction_until_current_month = transactions_df[transactions_df.tran_date < pd.to_datetime(date, format='%d-%m-%Y')]\n",
    "        lsr = LastSoldRecommender()\n",
    "        lsr.fit(transaction_until_current_month)\n",
    "        lsr_predicted_items = lsr.predict(customers_next_month).map(local_fill_with_other_items_randomly)\n",
    "        yearly_lsr_predictions.append(lsr_predicted_items)\n",
    "\n",
    "        # Most sold recommender \n",
    "        msr = MostSoldRecommender()\n",
    "        msr.fit(cumulative_sales)\n",
    "        msr_predicted_items = msr.predict(customers_next_month).map(local_fill_with_other_items_randomly)\n",
    "        yearly_msr_predictions.append(msr_predicted_items)\n",
    "\n",
    "    yearly_sold = pd.concat(yearly_sold, ignore_index=True)\n",
    "    yearly_previously_sold = pd.concat(yearly_previously_sold, ignore_index=True)\n",
    "    yearly_cbr_predictions = pd.concat(yearly_cbr_predictions, ignore_index=True)\n",
    "    yearly_lsr_predictions = pd.concat(yearly_lsr_predictions, ignore_index=True)\n",
    "    yearly_msr_predictions = pd.concat(yearly_msr_predictions, ignore_index=True)\n",
    "    \n"
   ]
  },
  {
   "cell_type": "markdown",
   "metadata": {},
   "source": [
    "#### Colaborative filtering recommender"
   ]
  },
  {
   "cell_type": "code",
   "execution_count": 16,
   "metadata": {},
   "outputs": [
    {
     "name": "stderr",
     "output_type": "stream",
     "text": [
      "WARNING:root:Intel MKL BLAS detected. Its highly recommend to set the environment variable 'export MKL_NUM_THREADS=1' to disable its internal multithreading\n"
     ]
    },
    {
     "data": {
      "application/vnd.jupyter.widget-view+json": {
       "model_id": "8740883a60f34f9cbc9a6de2480f14fa",
       "version_major": 2,
       "version_minor": 0
      },
      "text/plain": [
       "HBox(children=(FloatProgress(value=0.0, max=5.0), HTML(value='')))"
      ]
     },
     "metadata": {},
     "output_type": "display_data"
    },
    {
     "name": "stdout",
     "output_type": "stream",
     "text": [
      "\n"
     ]
    },
    {
     "data": {
      "application/vnd.jupyter.widget-view+json": {
       "model_id": "b7e24b86c0794c3b86f1e98ccc5ee7b0",
       "version_major": 2,
       "version_minor": 0
      },
      "text/plain": [
       "HBox(children=(FloatProgress(value=0.0, max=5.0), HTML(value='')))"
      ]
     },
     "metadata": {},
     "output_type": "display_data"
    },
    {
     "name": "stdout",
     "output_type": "stream",
     "text": [
      "\n"
     ]
    },
    {
     "data": {
      "application/vnd.jupyter.widget-view+json": {
       "model_id": "b4a649de4b7345809724dde9fa786a3b",
       "version_major": 2,
       "version_minor": 0
      },
      "text/plain": [
       "HBox(children=(FloatProgress(value=0.0, max=5.0), HTML(value='')))"
      ]
     },
     "metadata": {},
     "output_type": "display_data"
    },
    {
     "name": "stdout",
     "output_type": "stream",
     "text": [
      "\n"
     ]
    },
    {
     "data": {
      "application/vnd.jupyter.widget-view+json": {
       "model_id": "bfc72c5c9a294d058b8cbf9b8b06e516",
       "version_major": 2,
       "version_minor": 0
      },
      "text/plain": [
       "HBox(children=(FloatProgress(value=0.0, max=5.0), HTML(value='')))"
      ]
     },
     "metadata": {},
     "output_type": "display_data"
    },
    {
     "name": "stdout",
     "output_type": "stream",
     "text": [
      "\n"
     ]
    },
    {
     "data": {
      "application/vnd.jupyter.widget-view+json": {
       "model_id": "502dc0b237374263aa703e1efe63c5ac",
       "version_major": 2,
       "version_minor": 0
      },
      "text/plain": [
       "HBox(children=(FloatProgress(value=0.0, max=5.0), HTML(value='')))"
      ]
     },
     "metadata": {},
     "output_type": "display_data"
    },
    {
     "name": "stdout",
     "output_type": "stream",
     "text": [
      "\n"
     ]
    },
    {
     "data": {
      "application/vnd.jupyter.widget-view+json": {
       "model_id": "190f37551e944d15b5e4b3c947577c2f",
       "version_major": 2,
       "version_minor": 0
      },
      "text/plain": [
       "HBox(children=(FloatProgress(value=0.0, max=5.0), HTML(value='')))"
      ]
     },
     "metadata": {},
     "output_type": "display_data"
    },
    {
     "name": "stdout",
     "output_type": "stream",
     "text": [
      "\n"
     ]
    },
    {
     "data": {
      "application/vnd.jupyter.widget-view+json": {
       "model_id": "e56a4acb78864a4999fa90b640102fe9",
       "version_major": 2,
       "version_minor": 0
      },
      "text/plain": [
       "HBox(children=(FloatProgress(value=0.0, max=5.0), HTML(value='')))"
      ]
     },
     "metadata": {},
     "output_type": "display_data"
    },
    {
     "name": "stdout",
     "output_type": "stream",
     "text": [
      "\n"
     ]
    },
    {
     "data": {
      "application/vnd.jupyter.widget-view+json": {
       "model_id": "92c26aae53154f048adba54384967b52",
       "version_major": 2,
       "version_minor": 0
      },
      "text/plain": [
       "HBox(children=(FloatProgress(value=0.0, max=5.0), HTML(value='')))"
      ]
     },
     "metadata": {},
     "output_type": "display_data"
    },
    {
     "name": "stdout",
     "output_type": "stream",
     "text": [
      "\n"
     ]
    },
    {
     "data": {
      "application/vnd.jupyter.widget-view+json": {
       "model_id": "f7dc1537be084e26bfd0bea69e2b52bd",
       "version_major": 2,
       "version_minor": 0
      },
      "text/plain": [
       "HBox(children=(FloatProgress(value=0.0, max=5.0), HTML(value='')))"
      ]
     },
     "metadata": {},
     "output_type": "display_data"
    },
    {
     "name": "stdout",
     "output_type": "stream",
     "text": [
      "\n"
     ]
    },
    {
     "data": {
      "application/vnd.jupyter.widget-view+json": {
       "model_id": "4d36f8fee6a949f3adcae1ec0af545de",
       "version_major": 2,
       "version_minor": 0
      },
      "text/plain": [
       "HBox(children=(FloatProgress(value=0.0, max=5.0), HTML(value='')))"
      ]
     },
     "metadata": {},
     "output_type": "display_data"
    },
    {
     "name": "stdout",
     "output_type": "stream",
     "text": [
      "\n"
     ]
    },
    {
     "data": {
      "application/vnd.jupyter.widget-view+json": {
       "model_id": "d488bede6c4e4db6a085e54553840f34",
       "version_major": 2,
       "version_minor": 0
      },
      "text/plain": [
       "HBox(children=(FloatProgress(value=0.0, max=5.0), HTML(value='')))"
      ]
     },
     "metadata": {},
     "output_type": "display_data"
    },
    {
     "name": "stdout",
     "output_type": "stream",
     "text": [
      "\n"
     ]
    },
    {
     "data": {
      "application/vnd.jupyter.widget-view+json": {
       "model_id": "38f6032fecc14e94b1f313c166348bb6",
       "version_major": 2,
       "version_minor": 0
      },
      "text/plain": [
       "HBox(children=(FloatProgress(value=0.0, max=5.0), HTML(value='')))"
      ]
     },
     "metadata": {},
     "output_type": "display_data"
    },
    {
     "name": "stdout",
     "output_type": "stream",
     "text": [
      "\n"
     ]
    }
   ],
   "source": [
    "    yearly_cfr_predictions = []\n",
    "\n",
    "\n",
    "    for i, date in enumerate(dates_to_train_on[:-1]):\n",
    "\n",
    "        cumulative_sales = get_sales_until_date(transactions_df, date, False)\n",
    "\n",
    "        cumulative_sales_next_month = get_sales_until_date(transactions_df, dates_to_train_on[i+1]).fillna(0)\n",
    "        sales_next_month = (cumulative_sales_next_month-cumulative_sales.fillna(0)).fillna(0)\n",
    "        total_sales_next_month = sales_next_month.sum(axis=1)\n",
    "        customers_next_month = total_sales_next_month[total_sales_next_month>0].index.tolist()\n",
    "\n",
    "        items_sold = sales_next_month.loc[customers_next_month].apply(lambda s : s[s>0].index.tolist(),axis=1)\n",
    "        yearly_sold.append(items_sold)\n",
    "\n",
    "        #create previously sold\n",
    "        full_cumulative_sales = cumulative_sales.fillna(0).copy()\n",
    "        for x in customers_next_month:\n",
    "            if x not in full_cumulative_sales.index:\n",
    "                full_cumulative_sales.loc[x]=0\n",
    "        items_previously_sold = full_cumulative_sales.loc[customers_next_month].apply(lambda s : s[s > 0].index.tolist(), axis=1)\n",
    "        yearly_previously_sold.append(items_previously_sold)\n",
    "        # Content based recommender\n",
    "        cfr = CFRecommender(factors=7, iterations=5, random_state=0, calculate_training_loss=True)\n",
    "        cfr.fit(cumulative_sales)\n",
    "        predictions = cfr.predict(customers_next_month)\n",
    "        cfr_predicted_items = (predictions\n",
    "                               .apply(lambda s : s[s>0].sort_values(ascending=False).index.tolist(),axis=1)\n",
    "                               .map(local_fill_with_other_items_randomly)\n",
    "        )\n",
    "        yearly_cfr_predictions.append(cfr_predicted_items)\n",
    "\n",
    "\n",
    "    yearly_cfr_predictions = pd.concat(yearly_cfr_predictions,ignore_index=True)\n"
   ]
  },
  {
   "cell_type": "markdown",
   "metadata": {},
   "source": [
    "#### Evaluation metrics"
   ]
  },
  {
   "cell_type": "code",
   "execution_count": 17,
   "metadata": {},
   "outputs": [],
   "source": [
    "ks = list(range(1,24))\n"
   ]
  },
  {
   "cell_type": "code",
   "execution_count": 18,
   "metadata": {},
   "outputs": [],
   "source": [
    "predictions = [yearly_cbr_predictions, yearly_cfr_predictions, yearly_msr_predictions, yearly_lsr_predictions]"
   ]
  },
  {
   "cell_type": "code",
   "execution_count": 19,
   "metadata": {},
   "outputs": [],
   "source": [
    "novelty_at_k_scores = [[novelty_at_k(yearly_previously_sold, preds.map(lambda x : x[:k])) for k in ks] for preds in predictions]\n",
    "recall_at_k_scores = [[recall_at_k(yearly_sold, preds.map(lambda x : x[:k])) for k in ks] for preds in predictions]\n",
    "precision_at_k_scores = [[precision_at_k(yearly_sold, preds.map(lambda x : x[:k])) for k in ks] for preds in predictions]\n",
    "mean_average_recall_at_k_scores = [[recmetrics.metrics.mark(yearly_sold, preds, k=k) for k in ks] for preds in predictions]\n",
    "mean_average_precision_at_k_scores = [[ml_metrics.mapk(yearly_sold, preds, k=k) for k in ks] for preds in predictions]\n"
   ]
  },
  {
   "cell_type": "code",
   "execution_count": 20,
   "metadata": {},
   "outputs": [],
   "source": [
    "sns.set_theme(\"paper\", font_scale=1.5)\n",
    "legend = ['Content-based','Collaborative-filtering','Most Sold','Last Sold']"
   ]
  },
  {
   "cell_type": "code",
   "execution_count": 21,
   "metadata": {},
   "outputs": [
    {
     "data": {
      "image/png": "[encoded data removed]",
      "text/plain": [
       "<Figure size 576x360 with 1 Axes>"
      ]
     },
     "metadata": {},
     "output_type": "display_data"
    }
   ],
   "source": [
    "plt.figure(figsize=(8,5))\n",
    "for pak in precision_at_k_scores:\n",
    "    plt.plot(ks,pak)\n",
    "plt.legend(legend)\n",
    "plt.title('Precision at K')\n",
    "plt.show()"
   ]
  },
  {
   "cell_type": "code",
   "execution_count": 22,
   "metadata": {},
   "outputs": [
    {
     "data": {
      "image/png": "[encoded data removed]",
      "text/plain": [
       "<Figure size 576x360 with 1 Axes>"
      ]
     },
     "metadata": {},
     "output_type": "display_data"
    }
   ],
   "source": [
    "plt.figure(figsize=(8,5))\n",
    "for rak in recall_at_k_scores:\n",
    "    plt.plot(ks,rak)\n",
    "plt.legend(legend)\n",
    "plt.title('Recall at K')\n",
    "plt.show()"
   ]
  },
  {
   "cell_type": "code",
   "execution_count": 23,
   "metadata": {},
   "outputs": [
    {
     "data": {
      "image/png": "[encoded data removed]",
      "text/plain": [
       "<Figure size 576x360 with 1 Axes>"
      ]
     },
     "metadata": {},
     "output_type": "display_data"
    }
   ],
   "source": [
    "plt.figure(figsize=(8,5))\n",
    "for mapk in mean_average_precision_at_k_scores:\n",
    "    plt.plot(ks,mapk)\n",
    "plt.legend(legend)\n",
    "plt.title('Mean average precision at K')\n",
    "plt.show()"
   ]
  },
  {
   "cell_type": "code",
   "execution_count": 24,
   "metadata": {},
   "outputs": [
    {
     "data": {
      "image/png": "[encoded data removed]",
      "text/plain": [
       "<Figure size 576x360 with 1 Axes>"
      ]
     },
     "metadata": {},
     "output_type": "display_data"
    }
   ],
   "source": [
    "plt.figure(figsize=(8,5))\n",
    "for mark in mean_average_recall_at_k_scores:\n",
    "    plt.plot(ks,mark)\n",
    "plt.legend(legend)\n",
    "plt.title('Mean average recall at K')\n",
    "plt.show()"
   ]
  },
  {
   "cell_type": "code",
   "execution_count": 25,
   "metadata": {},
   "outputs": [
    {
     "data": {
      "image/png": "[encoded data removed]",
      "text/plain": [
       "<Figure size 576x360 with 1 Axes>"
      ]
     },
     "metadata": {},
     "output_type": "display_data"
    }
   ],
   "source": [
    "plt.figure(figsize=(8,5))\n",
    "for nak in novelty_at_k_scores:\n",
    "    plt.plot(ks,nak)\n",
    "plt.legend(legend)\n",
    "plt.title('Novelty at K')\n",
    "plt.show()"
   ]
  }
 ],
 "metadata": {
  "kernelspec": {
   "display_name": "Python 3",
   "language": "python",
   "name": "python3"
  },
  "language_info": {
   "codemirror_mode": {
    "name": "ipython",
    "version": 3
   },
   "file_extension": ".py",
   "mimetype": "text/x-python",
   "name": "python",
   "nbconvert_exporter": "python",
   "pygments_lexer": "ipython3",
   "version": "3.7.7"
  }
 },
 "nbformat": 4,
 "nbformat_minor": 4
}
