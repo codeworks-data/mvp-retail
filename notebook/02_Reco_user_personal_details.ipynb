{
 "cells": [
  {
   "cell_type": "markdown",
   "metadata": {},
   "source": [
    "# Part 2 : Recommendation sytem based on user informations"
   ]
  },
  {
   "cell_type": "markdown",
   "metadata": {},
   "source": [
    "To do this notebook I used information in that great article :  \n",
    "https://towardsdatascience.com/user-user-collaborative-filtering-for-jokes-recommendation-b6b1e4ec8642  \n",
    "\n",
    "I adapt the concept for my own purpose, I apply it to personnal informations in order to find similarities between customer.  \n",
    "\n",
    "We will focus on this part on comparing user between user and see if correlation exist in order to recommand effective retail object."
   ]
  },
  {
   "cell_type": "markdown",
   "metadata": {},
   "source": [
    "# The summary of the notebook is written below"
   ]
  },
  {
   "cell_type": "markdown",
   "metadata": {},
   "source": [
    "I. Import useful library and python file containing our functions  \n",
    "\n",
    "II. Create the dataframe  \n",
    "\n",
    "* A. Merge Customers and Transactions\n",
    "* B. Selecting informations\n",
    "* C. Cleaning data\n",
    "* D. Modifying data to numerical\n",
    "* E. Grouping customers\n",
    "* F. Standardization  \n",
    "\n",
    "III. Relation between customer  \n",
    "\n",
    "* A. Relation between 20 first customers\n",
    "* B. Relation for one specific customer\n",
    "* C. Selecting closest neighbours   \n",
    "\n",
    "IV. Prediction on items  \n",
    "\n",
    "V. Final Part : Doing prediction by combining Part III. and Part IV.  \n",
    "\n",
    "* A. Retrieving all df we need \n",
    "* B. Easy way to have prediction on an index or cust_id \n",
    "* C. Creation of a metrics \n",
    "\n"
   ]
  },
  {
   "cell_type": "markdown",
   "metadata": {},
   "source": [
    "# I. Import useful library and python file containing our functions"
   ]
  },
  {
   "cell_type": "code",
   "execution_count": 1,
   "metadata": {},
   "outputs": [],
   "source": [
    "import pandas as pd\n",
    "import numpy as np\n",
    "from matplotlib import pyplot as plt\n",
    "import seaborn as sns\n",
    "import datetime\n",
    "import statistics\n",
    "import time\n",
    "import utils.Function_02 as f2\n",
    "\n",
    "# set the graphs to show in the jupyter notebook\n",
    "%matplotlib inline"
   ]
  },
  {
   "cell_type": "markdown",
   "metadata": {},
   "source": [
    "# II. Create the dataframe"
   ]
  },
  {
   "cell_type": "markdown",
   "metadata": {},
   "source": [
    "## A. Merge Customers and Transactions"
   ]
  },
  {
   "cell_type": "markdown",
   "metadata": {},
   "source": [
    "We only need customer and transactions and we will merge them."
   ]
  },
  {
   "cell_type": "code",
   "execution_count": 2,
   "metadata": {},
   "outputs": [],
   "source": [
    "Customers = pd.read_csv(\"data/Customer.csv\")\n",
    "Transaction = pd.read_csv(\"data/Transactions.csv\")\n",
    "#this df below is just the list of usefull cust_id for our study\n",
    "List_unique_cust_id = pd.read_csv(\"output/list_cust_id.csv\")"
   ]
  },
  {
   "cell_type": "markdown",
   "metadata": {},
   "source": [
    "We only keep customer id that we select from previous notebook"
   ]
  },
  {
   "cell_type": "code",
   "execution_count": 3,
   "metadata": {},
   "outputs": [
    {
     "name": "stdout",
     "output_type": "stream",
     "text": [
      "shape of customer with all customers : (5647, 4)\n",
      "shape of customer with only needed customers : (4031, 4)\n"
     ]
    }
   ],
   "source": [
    "print('shape of customer with all customers :', Customers.shape)\n",
    "Customers = Customers[Customers.customer_Id.isin(List_unique_cust_id['unique_cust_id'].tolist())]\n",
    "print('shape of customer with only needed customers :', Customers.shape)"
   ]
  },
  {
   "cell_type": "code",
   "execution_count": 4,
   "metadata": {},
   "outputs": [
    {
     "data": {
      "text/html": [
       "<div>\n",
       "<style scoped>\n",
       "    .dataframe tbody tr th:only-of-type {\n",
       "        vertical-align: middle;\n",
       "    }\n",
       "\n",
       "    .dataframe tbody tr th {\n",
       "        vertical-align: top;\n",
       "    }\n",
       "\n",
       "    .dataframe thead th {\n",
       "        text-align: right;\n",
       "    }\n",
       "</style>\n",
       "<table border=\"1\" class=\"dataframe\">\n",
       "  <thead>\n",
       "    <tr style=\"text-align: right;\">\n",
       "      <th></th>\n",
       "      <th>customer_Id</th>\n",
       "      <th>DOB</th>\n",
       "      <th>Gender</th>\n",
       "      <th>city_code</th>\n",
       "    </tr>\n",
       "  </thead>\n",
       "  <tbody>\n",
       "    <tr>\n",
       "      <th>0</th>\n",
       "      <td>268408</td>\n",
       "      <td>02-01-1970</td>\n",
       "      <td>M</td>\n",
       "      <td>4.0</td>\n",
       "    </tr>\n",
       "    <tr>\n",
       "      <th>2</th>\n",
       "      <td>268159</td>\n",
       "      <td>08-01-1970</td>\n",
       "      <td>F</td>\n",
       "      <td>8.0</td>\n",
       "    </tr>\n",
       "    <tr>\n",
       "      <th>3</th>\n",
       "      <td>270181</td>\n",
       "      <td>10-01-1970</td>\n",
       "      <td>F</td>\n",
       "      <td>2.0</td>\n",
       "    </tr>\n",
       "  </tbody>\n",
       "</table>\n",
       "</div>"
      ],
      "text/plain": [
       "   customer_Id         DOB Gender  city_code\n",
       "0       268408  02-01-1970      M        4.0\n",
       "2       268159  08-01-1970      F        8.0\n",
       "3       270181  10-01-1970      F        2.0"
      ]
     },
     "execution_count": 4,
     "metadata": {},
     "output_type": "execute_result"
    }
   ],
   "source": [
    "Customers.head(3)"
   ]
  },
  {
   "cell_type": "code",
   "execution_count": 5,
   "metadata": {},
   "outputs": [
    {
     "data": {
      "text/html": [
       "<div>\n",
       "<style scoped>\n",
       "    .dataframe tbody tr th:only-of-type {\n",
       "        vertical-align: middle;\n",
       "    }\n",
       "\n",
       "    .dataframe tbody tr th {\n",
       "        vertical-align: top;\n",
       "    }\n",
       "\n",
       "    .dataframe thead th {\n",
       "        text-align: right;\n",
       "    }\n",
       "</style>\n",
       "<table border=\"1\" class=\"dataframe\">\n",
       "  <thead>\n",
       "    <tr style=\"text-align: right;\">\n",
       "      <th></th>\n",
       "      <th>transaction_id</th>\n",
       "      <th>cust_id</th>\n",
       "      <th>tran_date</th>\n",
       "      <th>prod_subcat_code</th>\n",
       "      <th>prod_cat_code</th>\n",
       "      <th>Qty</th>\n",
       "      <th>Rate</th>\n",
       "      <th>Tax</th>\n",
       "      <th>total_amt</th>\n",
       "      <th>Store_type</th>\n",
       "      <th>customer_Id</th>\n",
       "      <th>DOB</th>\n",
       "      <th>Gender</th>\n",
       "      <th>city_code</th>\n",
       "    </tr>\n",
       "  </thead>\n",
       "  <tbody>\n",
       "    <tr>\n",
       "      <th>0</th>\n",
       "      <td>80712190438</td>\n",
       "      <td>270351</td>\n",
       "      <td>28-02-2014</td>\n",
       "      <td>1</td>\n",
       "      <td>1</td>\n",
       "      <td>-5</td>\n",
       "      <td>-772</td>\n",
       "      <td>405.300</td>\n",
       "      <td>-4265.300</td>\n",
       "      <td>e-Shop</td>\n",
       "      <td>270351.0</td>\n",
       "      <td>26-09-1981</td>\n",
       "      <td>M</td>\n",
       "      <td>5.0</td>\n",
       "    </tr>\n",
       "    <tr>\n",
       "      <th>1</th>\n",
       "      <td>29258453508</td>\n",
       "      <td>270384</td>\n",
       "      <td>27-02-2014</td>\n",
       "      <td>5</td>\n",
       "      <td>3</td>\n",
       "      <td>-5</td>\n",
       "      <td>-1497</td>\n",
       "      <td>785.925</td>\n",
       "      <td>-8270.925</td>\n",
       "      <td>e-Shop</td>\n",
       "      <td>270384.0</td>\n",
       "      <td>11-05-1973</td>\n",
       "      <td>F</td>\n",
       "      <td>8.0</td>\n",
       "    </tr>\n",
       "  </tbody>\n",
       "</table>\n",
       "</div>"
      ],
      "text/plain": [
       "   transaction_id  cust_id   tran_date  prod_subcat_code  prod_cat_code  Qty  \\\n",
       "0     80712190438   270351  28-02-2014                 1              1   -5   \n",
       "1     29258453508   270384  27-02-2014                 5              3   -5   \n",
       "\n",
       "   Rate      Tax  total_amt Store_type  customer_Id         DOB Gender  \\\n",
       "0  -772  405.300  -4265.300     e-Shop     270351.0  26-09-1981      M   \n",
       "1 -1497  785.925  -8270.925     e-Shop     270384.0  11-05-1973      F   \n",
       "\n",
       "   city_code  \n",
       "0        5.0  \n",
       "1        8.0  "
      ]
     },
     "execution_count": 5,
     "metadata": {},
     "output_type": "execute_result"
    }
   ],
   "source": [
    "Merge_cust_trans = pd.merge(left = Transaction,\n",
    "                         right = Customers,\n",
    "                         left_on = \"cust_id\",\n",
    "                         right_on = \"customer_Id\",\n",
    "                         how = \"left\")\n",
    "Merge_cust_trans.head(2)"
   ]
  },
  {
   "cell_type": "markdown",
   "metadata": {},
   "source": [
    "## B. Selecting informations"
   ]
  },
  {
   "cell_type": "markdown",
   "metadata": {},
   "source": [
    "For this notebook, we will only used personal information on people and about their transaction. So we will keep :\n",
    "* unique cust_id\n",
    "* The number of mouth their transation were done\n",
    "* Store_type in which they used to buy their object \n",
    "* Date of Birth\n",
    "* Gender\n",
    "* city_code"
   ]
  },
  {
   "cell_type": "code",
   "execution_count": 6,
   "metadata": {},
   "outputs": [
    {
     "data": {
      "text/html": [
       "<div>\n",
       "<style scoped>\n",
       "    .dataframe tbody tr th:only-of-type {\n",
       "        vertical-align: middle;\n",
       "    }\n",
       "\n",
       "    .dataframe tbody tr th {\n",
       "        vertical-align: top;\n",
       "    }\n",
       "\n",
       "    .dataframe thead th {\n",
       "        text-align: right;\n",
       "    }\n",
       "</style>\n",
       "<table border=\"1\" class=\"dataframe\">\n",
       "  <thead>\n",
       "    <tr style=\"text-align: right;\">\n",
       "      <th></th>\n",
       "      <th>cust_id</th>\n",
       "      <th>tran_date</th>\n",
       "      <th>Store_type</th>\n",
       "      <th>DOB</th>\n",
       "      <th>Gender</th>\n",
       "      <th>city_code</th>\n",
       "    </tr>\n",
       "  </thead>\n",
       "  <tbody>\n",
       "    <tr>\n",
       "      <th>0</th>\n",
       "      <td>270351</td>\n",
       "      <td>28-02-2014</td>\n",
       "      <td>e-Shop</td>\n",
       "      <td>26-09-1981</td>\n",
       "      <td>M</td>\n",
       "      <td>5.0</td>\n",
       "    </tr>\n",
       "    <tr>\n",
       "      <th>1</th>\n",
       "      <td>270384</td>\n",
       "      <td>27-02-2014</td>\n",
       "      <td>e-Shop</td>\n",
       "      <td>11-05-1973</td>\n",
       "      <td>F</td>\n",
       "      <td>8.0</td>\n",
       "    </tr>\n",
       "  </tbody>\n",
       "</table>\n",
       "</div>"
      ],
      "text/plain": [
       "   cust_id   tran_date Store_type         DOB Gender  city_code\n",
       "0   270351  28-02-2014     e-Shop  26-09-1981      M        5.0\n",
       "1   270384  27-02-2014     e-Shop  11-05-1973      F        8.0"
      ]
     },
     "execution_count": 6,
     "metadata": {},
     "output_type": "execute_result"
    }
   ],
   "source": [
    "df = Merge_cust_trans[['cust_id', 'tran_date', 'Store_type', 'DOB', 'Gender', 'city_code']].copy()\n",
    "df.head(2)"
   ]
  },
  {
   "cell_type": "markdown",
   "metadata": {},
   "source": [
    "## C. Cleaning data"
   ]
  },
  {
   "cell_type": "markdown",
   "metadata": {},
   "source": [
    "* Removing some missing informations in the table"
   ]
  },
  {
   "cell_type": "code",
   "execution_count": 7,
   "metadata": {},
   "outputs": [
    {
     "name": "stdout",
     "output_type": "stream",
     "text": [
      "cust_id          0\n",
      "tran_date        0\n",
      "Store_type       0\n",
      "DOB           2711\n",
      "Gender        2720\n",
      "city_code     2717\n",
      "dtype: int64\n",
      "\n",
      " Processing... \n",
      "\n"
     ]
    },
    {
     "data": {
      "text/plain": [
       "cust_id       0\n",
       "tran_date     0\n",
       "Store_type    0\n",
       "DOB           0\n",
       "Gender        0\n",
       "city_code     0\n",
       "dtype: int64"
      ]
     },
     "execution_count": 7,
     "metadata": {},
     "output_type": "execute_result"
    }
   ],
   "source": [
    "print(df.isnull().sum())\n",
    "print('\\n Processing... \\n')\n",
    "df_non_null = f2.remove_null_value(df)\n",
    "df_non_null.isnull().sum()"
   ]
  },
  {
   "cell_type": "markdown",
   "metadata": {},
   "source": [
    "We don't have some information here, and it's because we don't take the full cust_id, we only select those with more than 3 items.  \n",
    "So, we droped those rows."
   ]
  },
  {
   "cell_type": "code",
   "execution_count": 8,
   "metadata": {},
   "outputs": [
    {
     "data": {
      "text/html": [
       "<div>\n",
       "<style scoped>\n",
       "    .dataframe tbody tr th:only-of-type {\n",
       "        vertical-align: middle;\n",
       "    }\n",
       "\n",
       "    .dataframe tbody tr th {\n",
       "        vertical-align: top;\n",
       "    }\n",
       "\n",
       "    .dataframe thead th {\n",
       "        text-align: right;\n",
       "    }\n",
       "</style>\n",
       "<table border=\"1\" class=\"dataframe\">\n",
       "  <thead>\n",
       "    <tr style=\"text-align: right;\">\n",
       "      <th></th>\n",
       "      <th>cust_id</th>\n",
       "      <th>tran_date</th>\n",
       "      <th>Store_type</th>\n",
       "      <th>DOB</th>\n",
       "      <th>Gender</th>\n",
       "      <th>city_code</th>\n",
       "    </tr>\n",
       "  </thead>\n",
       "  <tbody>\n",
       "    <tr>\n",
       "      <th>0</th>\n",
       "      <td>270351</td>\n",
       "      <td>28-02-2014</td>\n",
       "      <td>e-Shop</td>\n",
       "      <td>26-09-1981</td>\n",
       "      <td>M</td>\n",
       "      <td>5.0</td>\n",
       "    </tr>\n",
       "    <tr>\n",
       "      <th>1</th>\n",
       "      <td>270384</td>\n",
       "      <td>27-02-2014</td>\n",
       "      <td>e-Shop</td>\n",
       "      <td>11-05-1973</td>\n",
       "      <td>F</td>\n",
       "      <td>8.0</td>\n",
       "    </tr>\n",
       "  </tbody>\n",
       "</table>\n",
       "</div>"
      ],
      "text/plain": [
       "   cust_id   tran_date Store_type         DOB Gender  city_code\n",
       "0   270351  28-02-2014     e-Shop  26-09-1981      M        5.0\n",
       "1   270384  27-02-2014     e-Shop  11-05-1973      F        8.0"
      ]
     },
     "execution_count": 8,
     "metadata": {},
     "output_type": "execute_result"
    }
   ],
   "source": [
    "df_non_null.head(2)"
   ]
  },
  {
   "cell_type": "markdown",
   "metadata": {},
   "source": [
    "## D. Modifying data to numerical"
   ]
  },
  {
   "cell_type": "markdown",
   "metadata": {},
   "source": [
    "Here, we apply a function which do a lot of modification.\n",
    "\n",
    "* We convert the tran_date to the number of mounth till the buy\n",
    "* We convert the gender to 0 (male) and 1(female)\n",
    "* We convert the DOB to the age when the person buy it\n",
    "* We also change the store type to a number {e-shop: 0, Teleshop: 1, MBR: 2, Flagship store: 3}\n",
    "\n",
    "We drop unused column"
   ]
  },
  {
   "cell_type": "code",
   "execution_count": 9,
   "metadata": {},
   "outputs": [
    {
     "data": {
      "text/html": [
       "<div>\n",
       "<style scoped>\n",
       "    .dataframe tbody tr th:only-of-type {\n",
       "        vertical-align: middle;\n",
       "    }\n",
       "\n",
       "    .dataframe tbody tr th {\n",
       "        vertical-align: top;\n",
       "    }\n",
       "\n",
       "    .dataframe thead th {\n",
       "        text-align: right;\n",
       "    }\n",
       "</style>\n",
       "<table border=\"1\" class=\"dataframe\">\n",
       "  <thead>\n",
       "    <tr style=\"text-align: right;\">\n",
       "      <th></th>\n",
       "      <th>cust_id</th>\n",
       "      <th>month_from_purchase</th>\n",
       "      <th>store_id</th>\n",
       "      <th>age_when_purchase</th>\n",
       "      <th>gender_id</th>\n",
       "      <th>city_code</th>\n",
       "    </tr>\n",
       "  </thead>\n",
       "  <tbody>\n",
       "    <tr>\n",
       "      <th>0</th>\n",
       "      <td>270351</td>\n",
       "      <td>84</td>\n",
       "      <td>0</td>\n",
       "      <td>32</td>\n",
       "      <td>0</td>\n",
       "      <td>5.0</td>\n",
       "    </tr>\n",
       "    <tr>\n",
       "      <th>1</th>\n",
       "      <td>270384</td>\n",
       "      <td>84</td>\n",
       "      <td>0</td>\n",
       "      <td>41</td>\n",
       "      <td>1</td>\n",
       "      <td>8.0</td>\n",
       "    </tr>\n",
       "    <tr>\n",
       "      <th>2</th>\n",
       "      <td>273420</td>\n",
       "      <td>84</td>\n",
       "      <td>1</td>\n",
       "      <td>21</td>\n",
       "      <td>0</td>\n",
       "      <td>8.0</td>\n",
       "    </tr>\n",
       "    <tr>\n",
       "      <th>3</th>\n",
       "      <td>271509</td>\n",
       "      <td>84</td>\n",
       "      <td>0</td>\n",
       "      <td>33</td>\n",
       "      <td>0</td>\n",
       "      <td>3.0</td>\n",
       "    </tr>\n",
       "    <tr>\n",
       "      <th>4</th>\n",
       "      <td>273420</td>\n",
       "      <td>84</td>\n",
       "      <td>1</td>\n",
       "      <td>21</td>\n",
       "      <td>0</td>\n",
       "      <td>8.0</td>\n",
       "    </tr>\n",
       "  </tbody>\n",
       "</table>\n",
       "</div>"
      ],
      "text/plain": [
       "   cust_id  month_from_purchase  store_id  age_when_purchase  gender_id  \\\n",
       "0   270351                   84         0                 32          0   \n",
       "1   270384                   84         0                 41          1   \n",
       "2   273420                   84         1                 21          0   \n",
       "3   271509                   84         0                 33          0   \n",
       "4   273420                   84         1                 21          0   \n",
       "\n",
       "   city_code  \n",
       "0        5.0  \n",
       "1        8.0  \n",
       "2        8.0  \n",
       "3        3.0  \n",
       "4        8.0  "
      ]
     },
     "execution_count": 9,
     "metadata": {},
     "output_type": "execute_result"
    }
   ],
   "source": [
    "df_numerical = f2.to_numerical(df_non_null)\n",
    "df_numerical.head()"
   ]
  },
  {
   "cell_type": "markdown",
   "metadata": {},
   "source": [
    "## E. Grouping customers"
   ]
  },
  {
   "cell_type": "markdown",
   "metadata": {},
   "source": [
    "So we can see that we have several line in this df corresponding to the same cust_id"
   ]
  },
  {
   "cell_type": "code",
   "execution_count": 10,
   "metadata": {},
   "outputs": [
    {
     "data": {
      "text/plain": [
       "268819    13\n",
       "269449    13\n",
       "266794    12\n",
       "269245    12\n",
       "268663    12\n",
       "          ..\n",
       "272153     3\n",
       "271032     3\n",
       "273287     3\n",
       "268975     3\n",
       "268935     3\n",
       "Name: cust_id, Length: 4028, dtype: int64"
      ]
     },
     "execution_count": 10,
     "metadata": {},
     "output_type": "execute_result"
    }
   ],
   "source": [
    "df_numerical.cust_id.value_counts()"
   ]
  },
  {
   "cell_type": "markdown",
   "metadata": {},
   "source": [
    "So, now we need to do a group by cust_id and take the mean value and we obtain a data frame with no duplicate cust_id"
   ]
  },
  {
   "cell_type": "code",
   "execution_count": 11,
   "metadata": {},
   "outputs": [
    {
     "data": {
      "text/html": [
       "<div>\n",
       "<style scoped>\n",
       "    .dataframe tbody tr th:only-of-type {\n",
       "        vertical-align: middle;\n",
       "    }\n",
       "\n",
       "    .dataframe tbody tr th {\n",
       "        vertical-align: top;\n",
       "    }\n",
       "\n",
       "    .dataframe thead th {\n",
       "        text-align: right;\n",
       "    }\n",
       "</style>\n",
       "<table border=\"1\" class=\"dataframe\">\n",
       "  <thead>\n",
       "    <tr style=\"text-align: right;\">\n",
       "      <th></th>\n",
       "      <th>month_from_purchase</th>\n",
       "      <th>store_id</th>\n",
       "      <th>age_when_purchase</th>\n",
       "      <th>gender_id</th>\n",
       "      <th>city_code</th>\n",
       "    </tr>\n",
       "    <tr>\n",
       "      <th>cust_id</th>\n",
       "      <th></th>\n",
       "      <th></th>\n",
       "      <th></th>\n",
       "      <th></th>\n",
       "      <th></th>\n",
       "    </tr>\n",
       "  </thead>\n",
       "  <tbody>\n",
       "    <tr>\n",
       "      <th>266783</th>\n",
       "      <td>104.0</td>\n",
       "      <td>0.200000</td>\n",
       "      <td>38.200000</td>\n",
       "      <td>0.0</td>\n",
       "      <td>4.0</td>\n",
       "    </tr>\n",
       "    <tr>\n",
       "      <th>266784</th>\n",
       "      <td>101.0</td>\n",
       "      <td>1.333333</td>\n",
       "      <td>20.666667</td>\n",
       "      <td>1.0</td>\n",
       "      <td>10.0</td>\n",
       "    </tr>\n",
       "  </tbody>\n",
       "</table>\n",
       "</div>"
      ],
      "text/plain": [
       "         month_from_purchase  store_id  age_when_purchase  gender_id  \\\n",
       "cust_id                                                                \n",
       "266783                 104.0  0.200000          38.200000        0.0   \n",
       "266784                 101.0  1.333333          20.666667        1.0   \n",
       "\n",
       "         city_code  \n",
       "cust_id             \n",
       "266783         4.0  \n",
       "266784        10.0  "
      ]
     },
     "execution_count": 11,
     "metadata": {},
     "output_type": "execute_result"
    }
   ],
   "source": [
    "df_grouped = df_numerical.groupby(by=[\"cust_id\"]).mean()\n",
    "df_non_stand = df_grouped.reset_index()\n",
    "df_non_stand.to_csv('output/non_stand_user_perso_info.csv', index=False)\n",
    "df_grouped.head(2)"
   ]
  },
  {
   "cell_type": "markdown",
   "metadata": {},
   "source": [
    "## F. Standardization"
   ]
  },
  {
   "cell_type": "code",
   "execution_count": 12,
   "metadata": {},
   "outputs": [
    {
     "data": {
      "text/html": [
       "<div>\n",
       "<style scoped>\n",
       "    .dataframe tbody tr th:only-of-type {\n",
       "        vertical-align: middle;\n",
       "    }\n",
       "\n",
       "    .dataframe tbody tr th {\n",
       "        vertical-align: top;\n",
       "    }\n",
       "\n",
       "    .dataframe thead th {\n",
       "        text-align: right;\n",
       "    }\n",
       "</style>\n",
       "<table border=\"1\" class=\"dataframe\">\n",
       "  <thead>\n",
       "    <tr style=\"text-align: right;\">\n",
       "      <th></th>\n",
       "      <th>month_from_purchase</th>\n",
       "      <th>store_id</th>\n",
       "      <th>age_when_purchase</th>\n",
       "      <th>gender_id</th>\n",
       "      <th>city_code</th>\n",
       "    </tr>\n",
       "    <tr>\n",
       "      <th>cust_id</th>\n",
       "      <th></th>\n",
       "      <th></th>\n",
       "      <th></th>\n",
       "      <th></th>\n",
       "      <th></th>\n",
       "    </tr>\n",
       "  </thead>\n",
       "  <tbody>\n",
       "    <tr>\n",
       "      <th>266783</th>\n",
       "      <td>0.533333</td>\n",
       "      <td>0.066667</td>\n",
       "      <td>0.776923</td>\n",
       "      <td>0.0</td>\n",
       "      <td>0.333333</td>\n",
       "    </tr>\n",
       "    <tr>\n",
       "      <th>266784</th>\n",
       "      <td>0.447619</td>\n",
       "      <td>0.444444</td>\n",
       "      <td>0.102564</td>\n",
       "      <td>1.0</td>\n",
       "      <td>1.000000</td>\n",
       "    </tr>\n",
       "  </tbody>\n",
       "</table>\n",
       "</div>"
      ],
      "text/plain": [
       "         month_from_purchase  store_id  age_when_purchase  gender_id  \\\n",
       "cust_id                                                                \n",
       "266783              0.533333  0.066667           0.776923        0.0   \n",
       "266784              0.447619  0.444444           0.102564        1.0   \n",
       "\n",
       "         city_code  \n",
       "cust_id             \n",
       "266783    0.333333  \n",
       "266784    1.000000  "
      ]
     },
     "execution_count": 12,
     "metadata": {},
     "output_type": "execute_result"
    }
   ],
   "source": [
    "df_stand = f2.standardize(df_grouped)\n",
    "df_stand.to_hdf('output/standardize_df_user_personal_info.hdf', 'standardize_df_user_personal_info')\n",
    "df_stand.head(2)"
   ]
  },
  {
   "cell_type": "markdown",
   "metadata": {},
   "source": [
    "We check if there is no duplicate"
   ]
  },
  {
   "cell_type": "code",
   "execution_count": 13,
   "metadata": {},
   "outputs": [
    {
     "name": "stdout",
     "output_type": "stream",
     "text": [
      "They are 1 duplicates rows\n"
     ]
    }
   ],
   "source": [
    "print(f'They are {df_stand.duplicated().sum()} duplicates rows')"
   ]
  },
  {
   "cell_type": "markdown",
   "metadata": {},
   "source": [
    "Now we have our data frame with all personal informations about needed customers"
   ]
  },
  {
   "cell_type": "markdown",
   "metadata": {},
   "source": [
    "# III. Relation between customer"
   ]
  },
  {
   "cell_type": "markdown",
   "metadata": {},
   "source": [
    "Now we will start to compare customer to see how much they are related"
   ]
  },
  {
   "cell_type": "markdown",
   "metadata": {},
   "source": [
    "We will focus this study on few info : \n",
    "* The city code assuming when number are close to each other, cities will be near too geographically speaking\n",
    "* The average age of the customer when he bought items\n",
    "* The number of mouth till the purchase was done\n",
    "* The store id, it's where the customer used to buy more\n",
    "* The gender 1 for a female and 0 for a male"
   ]
  },
  {
   "cell_type": "markdown",
   "metadata": {},
   "source": [
    "## A. Relation between 20 first customers"
   ]
  },
  {
   "cell_type": "markdown",
   "metadata": {},
   "source": [
    "For the moment I restrain the number of customer to 20 because it's a very long to calculate the full set of customer with theirs similarities.  \n",
    "We will only do this calculus for display some visualization"
   ]
  },
  {
   "cell_type": "code",
   "execution_count": 14,
   "metadata": {},
   "outputs": [
    {
     "name": "stdout",
     "output_type": "stream",
     "text": [
      "they are in total 4028 differents customers\n"
     ]
    }
   ],
   "source": [
    "df_restrain = df_stand.iloc[:20,:]\n",
    "print(f'they are in total {len(df_stand)} differents customers')"
   ]
  },
  {
   "cell_type": "code",
   "execution_count": 15,
   "metadata": {},
   "outputs": [
    {
     "data": {
      "text/html": [
       "<div>\n",
       "<style scoped>\n",
       "    .dataframe tbody tr th:only-of-type {\n",
       "        vertical-align: middle;\n",
       "    }\n",
       "\n",
       "    .dataframe tbody tr th {\n",
       "        vertical-align: top;\n",
       "    }\n",
       "\n",
       "    .dataframe thead th {\n",
       "        text-align: right;\n",
       "    }\n",
       "</style>\n",
       "<table border=\"1\" class=\"dataframe\">\n",
       "  <thead>\n",
       "    <tr style=\"text-align: right;\">\n",
       "      <th></th>\n",
       "      <th>0</th>\n",
       "      <th>1</th>\n",
       "      <th>2</th>\n",
       "      <th>3</th>\n",
       "      <th>4</th>\n",
       "      <th>5</th>\n",
       "      <th>6</th>\n",
       "      <th>7</th>\n",
       "      <th>8</th>\n",
       "      <th>9</th>\n",
       "      <th>10</th>\n",
       "      <th>11</th>\n",
       "      <th>12</th>\n",
       "      <th>13</th>\n",
       "      <th>14</th>\n",
       "      <th>15</th>\n",
       "      <th>16</th>\n",
       "      <th>17</th>\n",
       "      <th>18</th>\n",
       "      <th>19</th>\n",
       "    </tr>\n",
       "  </thead>\n",
       "  <tbody>\n",
       "    <tr>\n",
       "      <th>0</th>\n",
       "      <td>1.000000</td>\n",
       "      <td>-0.675964</td>\n",
       "      <td>-0.665320</td>\n",
       "      <td>0.071807</td>\n",
       "      <td>0.196354</td>\n",
       "      <td>-0.197129</td>\n",
       "      <td>-0.720869</td>\n",
       "      <td>0.296694</td>\n",
       "      <td>-0.368254</td>\n",
       "      <td>-0.072659</td>\n",
       "      <td>-0.639490</td>\n",
       "      <td>-0.008939</td>\n",
       "      <td>0.937635</td>\n",
       "      <td>-0.329783</td>\n",
       "      <td>-0.176125</td>\n",
       "      <td>0.263476</td>\n",
       "      <td>-0.417305</td>\n",
       "      <td>-0.030018</td>\n",
       "      <td>0.191708</td>\n",
       "      <td>0.197895</td>\n",
       "    </tr>\n",
       "    <tr>\n",
       "      <th>1</th>\n",
       "      <td>-0.675964</td>\n",
       "      <td>1.000000</td>\n",
       "      <td>0.292594</td>\n",
       "      <td>-0.247781</td>\n",
       "      <td>0.398105</td>\n",
       "      <td>-0.094786</td>\n",
       "      <td>0.994233</td>\n",
       "      <td>-0.342007</td>\n",
       "      <td>0.154976</td>\n",
       "      <td>0.259584</td>\n",
       "      <td>0.941140</td>\n",
       "      <td>0.036590</td>\n",
       "      <td>-0.567132</td>\n",
       "      <td>0.468777</td>\n",
       "      <td>0.162263</td>\n",
       "      <td>-0.201740</td>\n",
       "      <td>0.325582</td>\n",
       "      <td>-0.088802</td>\n",
       "      <td>0.365043</td>\n",
       "      <td>-0.658422</td>\n",
       "    </tr>\n",
       "    <tr>\n",
       "      <th>2</th>\n",
       "      <td>-0.665320</td>\n",
       "      <td>0.292594</td>\n",
       "      <td>1.000000</td>\n",
       "      <td>0.646178</td>\n",
       "      <td>-0.001072</td>\n",
       "      <td>0.362820</td>\n",
       "      <td>0.293735</td>\n",
       "      <td>-0.389770</td>\n",
       "      <td>0.906202</td>\n",
       "      <td>0.668642</td>\n",
       "      <td>0.346279</td>\n",
       "      <td>0.547327</td>\n",
       "      <td>-0.882980</td>\n",
       "      <td>0.735451</td>\n",
       "      <td>0.796819</td>\n",
       "      <td>-0.837374</td>\n",
       "      <td>0.678790</td>\n",
       "      <td>-0.355634</td>\n",
       "      <td>-0.020370</td>\n",
       "      <td>-0.384259</td>\n",
       "    </tr>\n",
       "    <tr>\n",
       "      <th>3</th>\n",
       "      <td>0.071807</td>\n",
       "      <td>-0.247781</td>\n",
       "      <td>0.646178</td>\n",
       "      <td>1.000000</td>\n",
       "      <td>0.364715</td>\n",
       "      <td>0.601288</td>\n",
       "      <td>-0.263269</td>\n",
       "      <td>-0.533896</td>\n",
       "      <td>0.886809</td>\n",
       "      <td>0.793787</td>\n",
       "      <td>-0.030729</td>\n",
       "      <td>0.902756</td>\n",
       "      <td>-0.261120</td>\n",
       "      <td>0.733977</td>\n",
       "      <td>0.894159</td>\n",
       "      <td>-0.889051</td>\n",
       "      <td>0.720995</td>\n",
       "      <td>-0.760572</td>\n",
       "      <td>0.369376</td>\n",
       "      <td>-0.428627</td>\n",
       "    </tr>\n",
       "    <tr>\n",
       "      <th>4</th>\n",
       "      <td>0.196354</td>\n",
       "      <td>0.398105</td>\n",
       "      <td>-0.001072</td>\n",
       "      <td>0.364715</td>\n",
       "      <td>1.000000</td>\n",
       "      <td>0.311827</td>\n",
       "      <td>0.366604</td>\n",
       "      <td>-0.677923</td>\n",
       "      <td>0.320644</td>\n",
       "      <td>0.611823</td>\n",
       "      <td>0.582906</td>\n",
       "      <td>0.673519</td>\n",
       "      <td>0.107981</td>\n",
       "      <td>0.674792</td>\n",
       "      <td>0.482621</td>\n",
       "      <td>-0.467288</td>\n",
       "      <td>0.562982</td>\n",
       "      <td>-0.769974</td>\n",
       "      <td>0.993673</td>\n",
       "      <td>-0.893778</td>\n",
       "    </tr>\n",
       "  </tbody>\n",
       "</table>\n",
       "</div>"
      ],
      "text/plain": [
       "          0         1         2         3         4         5         6  \\\n",
       "0  1.000000 -0.675964 -0.665320  0.071807  0.196354 -0.197129 -0.720869   \n",
       "1 -0.675964  1.000000  0.292594 -0.247781  0.398105 -0.094786  0.994233   \n",
       "2 -0.665320  0.292594  1.000000  0.646178 -0.001072  0.362820  0.293735   \n",
       "3  0.071807 -0.247781  0.646178  1.000000  0.364715  0.601288 -0.263269   \n",
       "4  0.196354  0.398105 -0.001072  0.364715  1.000000  0.311827  0.366604   \n",
       "\n",
       "          7         8         9        10        11        12        13  \\\n",
       "0  0.296694 -0.368254 -0.072659 -0.639490 -0.008939  0.937635 -0.329783   \n",
       "1 -0.342007  0.154976  0.259584  0.941140  0.036590 -0.567132  0.468777   \n",
       "2 -0.389770  0.906202  0.668642  0.346279  0.547327 -0.882980  0.735451   \n",
       "3 -0.533896  0.886809  0.793787 -0.030729  0.902756 -0.261120  0.733977   \n",
       "4 -0.677923  0.320644  0.611823  0.582906  0.673519  0.107981  0.674792   \n",
       "\n",
       "         14        15        16        17        18        19  \n",
       "0 -0.176125  0.263476 -0.417305 -0.030018  0.191708  0.197895  \n",
       "1  0.162263 -0.201740  0.325582 -0.088802  0.365043 -0.658422  \n",
       "2  0.796819 -0.837374  0.678790 -0.355634 -0.020370 -0.384259  \n",
       "3  0.894159 -0.889051  0.720995 -0.760572  0.369376 -0.428627  \n",
       "4  0.482621 -0.467288  0.562982 -0.769974  0.993673 -0.893778  "
      ]
     },
     "execution_count": 15,
     "metadata": {},
     "output_type": "execute_result"
    }
   ],
   "source": [
    "size = len(df_restrain)\n",
    "sim_mat = np.array([f2.similarity_pearson(df_restrain.iloc[i,:], df_restrain.iloc[j,:]) for i in range(0,size) for j in range(0,size)])\n",
    "sim_df = pd.DataFrame(data = sim_mat.reshape(size, size))\n",
    "sim_df.head()"
   ]
  },
  {
   "cell_type": "markdown",
   "metadata": {},
   "source": [
    "Here it's the same table, but with a heatmap"
   ]
  },
  {
   "cell_type": "code",
   "execution_count": 16,
   "metadata": {},
   "outputs": [
    {
     "data": {
      "text/plain": [
       "<matplotlib.axes._subplots.AxesSubplot at 0x7ff1054d4af0>"
      ]
     },
     "execution_count": 16,
     "metadata": {},
     "output_type": "execute_result"
    },
    {
     "data": {
      "image/png": "[encoded data removed]",
      "text/plain": [
       "<Figure size 432x288 with 2 Axes>"
      ]
     },
     "metadata": {
      "needs_background": "light"
     },
     "output_type": "display_data"
    }
   ],
   "source": [
    "sns.heatmap(sim_df.iloc[:20,:20])"
   ]
  },
  {
   "cell_type": "markdown",
   "metadata": {},
   "source": [
    "When the cell is whiter, it's mean those two variables are highly correlated"
   ]
  },
  {
   "cell_type": "markdown",
   "metadata": {},
   "source": [
    "## B. Relation for one specific customer"
   ]
  },
  {
   "cell_type": "markdown",
   "metadata": {},
   "source": [
    "Let's here focus our result with one specific customer.  \n",
    "We don't have to calculate all the matrix, because it's very very long.   \n",
    "We will only calculate pearson correlation for the person we need but with all other customers."
   ]
  },
  {
   "cell_type": "markdown",
   "metadata": {},
   "source": [
    "We choose here which customer we want to focus on.  \n",
    "We can choose it by an index or by his customer_id"
   ]
  },
  {
   "cell_type": "code",
   "execution_count": 17,
   "metadata": {},
   "outputs": [],
   "source": [
    "index = False\n",
    "cust_id = 266784\n",
    "customer_index, customer_id = f2.select_customer(index , cust_id, df_non_stand  )"
   ]
  },
  {
   "cell_type": "code",
   "execution_count": 18,
   "metadata": {},
   "outputs": [
    {
     "data": {
      "text/html": [
       "<div>\n",
       "<style scoped>\n",
       "    .dataframe tbody tr th:only-of-type {\n",
       "        vertical-align: middle;\n",
       "    }\n",
       "\n",
       "    .dataframe tbody tr th {\n",
       "        vertical-align: top;\n",
       "    }\n",
       "\n",
       "    .dataframe thead th {\n",
       "        text-align: right;\n",
       "    }\n",
       "</style>\n",
       "<table border=\"1\" class=\"dataframe\">\n",
       "  <thead>\n",
       "    <tr style=\"text-align: right;\">\n",
       "      <th></th>\n",
       "      <th>0</th>\n",
       "      <th>1</th>\n",
       "      <th>2</th>\n",
       "      <th>3</th>\n",
       "      <th>4</th>\n",
       "      <th>5</th>\n",
       "      <th>6</th>\n",
       "      <th>7</th>\n",
       "      <th>8</th>\n",
       "      <th>9</th>\n",
       "      <th>...</th>\n",
       "      <th>4018</th>\n",
       "      <th>4019</th>\n",
       "      <th>4020</th>\n",
       "      <th>4021</th>\n",
       "      <th>4022</th>\n",
       "      <th>4023</th>\n",
       "      <th>4024</th>\n",
       "      <th>4025</th>\n",
       "      <th>4026</th>\n",
       "      <th>4027</th>\n",
       "    </tr>\n",
       "  </thead>\n",
       "  <tbody>\n",
       "    <tr>\n",
       "      <th>0</th>\n",
       "      <td>-0.675964</td>\n",
       "      <td>1.0</td>\n",
       "      <td>0.292594</td>\n",
       "      <td>-0.247781</td>\n",
       "      <td>0.398105</td>\n",
       "      <td>-0.094786</td>\n",
       "      <td>0.994233</td>\n",
       "      <td>-0.342007</td>\n",
       "      <td>0.154976</td>\n",
       "      <td>0.259584</td>\n",
       "      <td>...</td>\n",
       "      <td>-0.373792</td>\n",
       "      <td>-0.089868</td>\n",
       "      <td>-0.773179</td>\n",
       "      <td>0.520926</td>\n",
       "      <td>-0.837151</td>\n",
       "      <td>-0.185706</td>\n",
       "      <td>-0.545274</td>\n",
       "      <td>-0.121226</td>\n",
       "      <td>0.525545</td>\n",
       "      <td>-0.417316</td>\n",
       "    </tr>\n",
       "  </tbody>\n",
       "</table>\n",
       "<p>1 rows × 4028 columns</p>\n",
       "</div>"
      ],
      "text/plain": [
       "       0     1         2         3         4         5         6         7     \\\n",
       "0 -0.675964   1.0  0.292594 -0.247781  0.398105 -0.094786  0.994233 -0.342007   \n",
       "\n",
       "       8         9     ...      4018      4019      4020      4021      4022  \\\n",
       "0  0.154976  0.259584  ... -0.373792 -0.089868 -0.773179  0.520926 -0.837151   \n",
       "\n",
       "       4023      4024      4025      4026      4027  \n",
       "0 -0.185706 -0.545274 -0.121226  0.525545 -0.417316  \n",
       "\n",
       "[1 rows x 4028 columns]"
      ]
     },
     "execution_count": 18,
     "metadata": {},
     "output_type": "execute_result"
    }
   ],
   "source": [
    "#We take back the full data frame\n",
    "df_restrain = df_stand.copy()\n",
    "size = len(df_restrain)\n",
    "sim_mat = np.array([f2.similarity_pearson(df_restrain.iloc[customer_index,:], df_restrain.iloc[j,:])for j in range(0,size)])\n",
    "sim_df = pd.DataFrame(data = sim_mat.reshape(1, size))\n",
    "sim_df.head()"
   ]
  },
  {
   "cell_type": "markdown",
   "metadata": {},
   "source": [
    "We now have the pearson correlation between our specific customer and all the other"
   ]
  },
  {
   "cell_type": "markdown",
   "metadata": {},
   "source": [
    "## C. Selecting closest neighbours"
   ]
  },
  {
   "cell_type": "markdown",
   "metadata": {},
   "source": [
    "We can specify a treshold, here we can take 0.9.  \n",
    "This treshold will allow us to select only customers with higher correlation"
   ]
  },
  {
   "cell_type": "code",
   "execution_count": 19,
   "metadata": {},
   "outputs": [
    {
     "name": "stdout",
     "output_type": "stream",
     "text": [
      "This is the list of neighbours for 266784 with a threshold of 0.99 : \n",
      "\n",
      "[1, 6, 85, 118, 169, 420, 488, 737, 835, 915, 1055, 1433, 1447, 1903, 2587, 2753, 3052, 3911, 3957, 3975]\n"
     ]
    }
   ],
   "source": [
    "treshold = 0.99\n",
    "list_of_neighbours = f2.find_neighbours(sim_df.iloc[0], treshold)\n",
    "print(f'This is the list of neighbours for {customer_id} with a threshold of {treshold} : \\n\\n{list_of_neighbours}')"
   ]
  },
  {
   "cell_type": "markdown",
   "metadata": {},
   "source": [
    "We can have access to all info from customer in this list, we display here information before the standardization"
   ]
  },
  {
   "cell_type": "code",
   "execution_count": 20,
   "metadata": {},
   "outputs": [
    {
     "data": {
      "text/html": [
       "<div>\n",
       "<style scoped>\n",
       "    .dataframe tbody tr th:only-of-type {\n",
       "        vertical-align: middle;\n",
       "    }\n",
       "\n",
       "    .dataframe tbody tr th {\n",
       "        vertical-align: top;\n",
       "    }\n",
       "\n",
       "    .dataframe thead th {\n",
       "        text-align: right;\n",
       "    }\n",
       "</style>\n",
       "<table border=\"1\" class=\"dataframe\">\n",
       "  <thead>\n",
       "    <tr style=\"text-align: right;\">\n",
       "      <th></th>\n",
       "      <th>cust_id</th>\n",
       "      <th>month_from_purchase</th>\n",
       "      <th>store_id</th>\n",
       "      <th>age_when_purchase</th>\n",
       "      <th>gender_id</th>\n",
       "      <th>city_code</th>\n",
       "      <th>pearson_similarity</th>\n",
       "    </tr>\n",
       "  </thead>\n",
       "  <tbody>\n",
       "    <tr>\n",
       "      <th>1</th>\n",
       "      <td>266784</td>\n",
       "      <td>101.0</td>\n",
       "      <td>1.333333</td>\n",
       "      <td>20.666667</td>\n",
       "      <td>1.0</td>\n",
       "      <td>10.0</td>\n",
       "      <td>1.000000</td>\n",
       "    </tr>\n",
       "    <tr>\n",
       "      <th>420</th>\n",
       "      <td>267700</td>\n",
       "      <td>106.2</td>\n",
       "      <td>1.800000</td>\n",
       "      <td>26.200000</td>\n",
       "      <td>1.0</td>\n",
       "      <td>10.0</td>\n",
       "      <td>0.999329</td>\n",
       "    </tr>\n",
       "    <tr>\n",
       "      <th>85</th>\n",
       "      <td>266987</td>\n",
       "      <td>102.4</td>\n",
       "      <td>1.400000</td>\n",
       "      <td>20.600000</td>\n",
       "      <td>1.0</td>\n",
       "      <td>10.0</td>\n",
       "      <td>0.998933</td>\n",
       "    </tr>\n",
       "    <tr>\n",
       "      <th>488</th>\n",
       "      <td>267836</td>\n",
       "      <td>102.5</td>\n",
       "      <td>1.250000</td>\n",
       "      <td>19.750000</td>\n",
       "      <td>1.0</td>\n",
       "      <td>10.0</td>\n",
       "      <td>0.997387</td>\n",
       "    </tr>\n",
       "    <tr>\n",
       "      <th>3911</th>\n",
       "      <td>275040</td>\n",
       "      <td>102.0</td>\n",
       "      <td>1.125000</td>\n",
       "      <td>20.500000</td>\n",
       "      <td>1.0</td>\n",
       "      <td>10.0</td>\n",
       "      <td>0.996016</td>\n",
       "    </tr>\n",
       "  </tbody>\n",
       "</table>\n",
       "</div>"
      ],
      "text/plain": [
       "      cust_id  month_from_purchase  store_id  age_when_purchase  gender_id  \\\n",
       "1      266784                101.0  1.333333          20.666667        1.0   \n",
       "420    267700                106.2  1.800000          26.200000        1.0   \n",
       "85     266987                102.4  1.400000          20.600000        1.0   \n",
       "488    267836                102.5  1.250000          19.750000        1.0   \n",
       "3911   275040                102.0  1.125000          20.500000        1.0   \n",
       "\n",
       "      city_code  pearson_similarity  \n",
       "1          10.0            1.000000  \n",
       "420        10.0            0.999329  \n",
       "85         10.0            0.998933  \n",
       "488        10.0            0.997387  \n",
       "3911       10.0            0.996016  "
      ]
     },
     "execution_count": 20,
     "metadata": {},
     "output_type": "execute_result"
    }
   ],
   "source": [
    "neighbour_info = f2.give_info_neighbours(df_non_stand, sim_df, list_of_neighbours)\n",
    "neighbour_info.head()"
   ]
  },
  {
   "cell_type": "markdown",
   "metadata": {},
   "source": [
    "Now that we have so correlation between customer, we can try to predict item according to this information"
   ]
  },
  {
   "cell_type": "markdown",
   "metadata": {},
   "source": [
    "# IV. Prediction on items"
   ]
  },
  {
   "cell_type": "markdown",
   "metadata": {},
   "source": [
    "Now we will use the neighbour list to make prediction of item the specific customer have seen or have not seen yet."
   ]
  },
  {
   "cell_type": "markdown",
   "metadata": {},
   "source": [
    "We retrieve our user_item matrix with only customer that we are interested in"
   ]
  },
  {
   "cell_type": "code",
   "execution_count": 21,
   "metadata": {},
   "outputs": [
    {
     "data": {
      "text/html": [
       "<div>\n",
       "<style scoped>\n",
       "    .dataframe tbody tr th:only-of-type {\n",
       "        vertical-align: middle;\n",
       "    }\n",
       "\n",
       "    .dataframe tbody tr th {\n",
       "        vertical-align: top;\n",
       "    }\n",
       "\n",
       "    .dataframe thead th {\n",
       "        text-align: right;\n",
       "    }\n",
       "</style>\n",
       "<table border=\"1\" class=\"dataframe\">\n",
       "  <thead>\n",
       "    <tr style=\"text-align: right;\">\n",
       "      <th>object_id</th>\n",
       "      <th>1_1</th>\n",
       "      <th>1_3</th>\n",
       "      <th>1_4</th>\n",
       "      <th>2_1</th>\n",
       "      <th>2_3</th>\n",
       "      <th>2_4</th>\n",
       "      <th>3_10</th>\n",
       "      <th>3_4</th>\n",
       "      <th>3_5</th>\n",
       "      <th>3_8</th>\n",
       "      <th>...</th>\n",
       "      <th>5_10</th>\n",
       "      <th>5_11</th>\n",
       "      <th>5_12</th>\n",
       "      <th>5_3</th>\n",
       "      <th>5_6</th>\n",
       "      <th>5_7</th>\n",
       "      <th>6_10</th>\n",
       "      <th>6_11</th>\n",
       "      <th>6_12</th>\n",
       "      <th>6_2</th>\n",
       "    </tr>\n",
       "    <tr>\n",
       "      <th>cust_id</th>\n",
       "      <th></th>\n",
       "      <th></th>\n",
       "      <th></th>\n",
       "      <th></th>\n",
       "      <th></th>\n",
       "      <th></th>\n",
       "      <th></th>\n",
       "      <th></th>\n",
       "      <th></th>\n",
       "      <th></th>\n",
       "      <th></th>\n",
       "      <th></th>\n",
       "      <th></th>\n",
       "      <th></th>\n",
       "      <th></th>\n",
       "      <th></th>\n",
       "      <th></th>\n",
       "      <th></th>\n",
       "      <th></th>\n",
       "      <th></th>\n",
       "      <th></th>\n",
       "    </tr>\n",
       "  </thead>\n",
       "  <tbody>\n",
       "    <tr>\n",
       "      <th>266783</th>\n",
       "      <td>0.0</td>\n",
       "      <td>0.0</td>\n",
       "      <td>2.0</td>\n",
       "      <td>4.0</td>\n",
       "      <td>0.0</td>\n",
       "      <td>0.0</td>\n",
       "      <td>0.0</td>\n",
       "      <td>0.0</td>\n",
       "      <td>0.0</td>\n",
       "      <td>0.0</td>\n",
       "      <td>...</td>\n",
       "      <td>2.0</td>\n",
       "      <td>0.0</td>\n",
       "      <td>0.0</td>\n",
       "      <td>0.0</td>\n",
       "      <td>0.0</td>\n",
       "      <td>0.0</td>\n",
       "      <td>0.0</td>\n",
       "      <td>0.0</td>\n",
       "      <td>0.0</td>\n",
       "      <td>0.0</td>\n",
       "    </tr>\n",
       "    <tr>\n",
       "      <th>266784</th>\n",
       "      <td>0.0</td>\n",
       "      <td>0.0</td>\n",
       "      <td>0.0</td>\n",
       "      <td>0.0</td>\n",
       "      <td>0.0</td>\n",
       "      <td>0.0</td>\n",
       "      <td>0.0</td>\n",
       "      <td>2.0</td>\n",
       "      <td>0.0</td>\n",
       "      <td>0.0</td>\n",
       "      <td>...</td>\n",
       "      <td>3.0</td>\n",
       "      <td>0.0</td>\n",
       "      <td>0.0</td>\n",
       "      <td>0.0</td>\n",
       "      <td>0.0</td>\n",
       "      <td>5.0</td>\n",
       "      <td>0.0</td>\n",
       "      <td>0.0</td>\n",
       "      <td>0.0</td>\n",
       "      <td>0.0</td>\n",
       "    </tr>\n",
       "    <tr>\n",
       "      <th>266785</th>\n",
       "      <td>0.0</td>\n",
       "      <td>0.0</td>\n",
       "      <td>0.0</td>\n",
       "      <td>4.0</td>\n",
       "      <td>0.0</td>\n",
       "      <td>3.5</td>\n",
       "      <td>0.0</td>\n",
       "      <td>0.0</td>\n",
       "      <td>0.0</td>\n",
       "      <td>0.0</td>\n",
       "      <td>...</td>\n",
       "      <td>0.0</td>\n",
       "      <td>5.0</td>\n",
       "      <td>0.0</td>\n",
       "      <td>0.0</td>\n",
       "      <td>0.0</td>\n",
       "      <td>0.0</td>\n",
       "      <td>5.0</td>\n",
       "      <td>0.0</td>\n",
       "      <td>0.0</td>\n",
       "      <td>0.0</td>\n",
       "    </tr>\n",
       "    <tr>\n",
       "      <th>266788</th>\n",
       "      <td>0.0</td>\n",
       "      <td>0.0</td>\n",
       "      <td>0.0</td>\n",
       "      <td>1.0</td>\n",
       "      <td>0.0</td>\n",
       "      <td>4.0</td>\n",
       "      <td>0.0</td>\n",
       "      <td>0.0</td>\n",
       "      <td>0.0</td>\n",
       "      <td>0.0</td>\n",
       "      <td>...</td>\n",
       "      <td>0.0</td>\n",
       "      <td>0.0</td>\n",
       "      <td>0.0</td>\n",
       "      <td>0.0</td>\n",
       "      <td>0.0</td>\n",
       "      <td>1.0</td>\n",
       "      <td>0.0</td>\n",
       "      <td>0.0</td>\n",
       "      <td>0.0</td>\n",
       "      <td>0.0</td>\n",
       "    </tr>\n",
       "    <tr>\n",
       "      <th>266794</th>\n",
       "      <td>0.0</td>\n",
       "      <td>3.5</td>\n",
       "      <td>0.0</td>\n",
       "      <td>0.0</td>\n",
       "      <td>2.5</td>\n",
       "      <td>0.0</td>\n",
       "      <td>1.5</td>\n",
       "      <td>0.0</td>\n",
       "      <td>0.0</td>\n",
       "      <td>4.0</td>\n",
       "      <td>...</td>\n",
       "      <td>0.0</td>\n",
       "      <td>3.0</td>\n",
       "      <td>4.0</td>\n",
       "      <td>0.0</td>\n",
       "      <td>0.0</td>\n",
       "      <td>0.0</td>\n",
       "      <td>0.0</td>\n",
       "      <td>0.0</td>\n",
       "      <td>0.0</td>\n",
       "      <td>0.0</td>\n",
       "    </tr>\n",
       "  </tbody>\n",
       "</table>\n",
       "<p>5 rows × 23 columns</p>\n",
       "</div>"
      ],
      "text/plain": [
       "object_id  1_1  1_3  1_4  2_1  2_3  2_4  3_10  3_4  3_5  3_8  ...  5_10  5_11  \\\n",
       "cust_id                                                       ...               \n",
       "266783     0.0  0.0  2.0  4.0  0.0  0.0   0.0  0.0  0.0  0.0  ...   2.0   0.0   \n",
       "266784     0.0  0.0  0.0  0.0  0.0  0.0   0.0  2.0  0.0  0.0  ...   3.0   0.0   \n",
       "266785     0.0  0.0  0.0  4.0  0.0  3.5   0.0  0.0  0.0  0.0  ...   0.0   5.0   \n",
       "266788     0.0  0.0  0.0  1.0  0.0  4.0   0.0  0.0  0.0  0.0  ...   0.0   0.0   \n",
       "266794     0.0  3.5  0.0  0.0  2.5  0.0   1.5  0.0  0.0  4.0  ...   0.0   3.0   \n",
       "\n",
       "object_id  5_12  5_3  5_6  5_7  6_10  6_11  6_12  6_2  \n",
       "cust_id                                                \n",
       "266783      0.0  0.0  0.0  0.0   0.0   0.0   0.0  0.0  \n",
       "266784      0.0  0.0  0.0  5.0   0.0   0.0   0.0  0.0  \n",
       "266785      0.0  0.0  0.0  0.0   5.0   0.0   0.0  0.0  \n",
       "266788      0.0  0.0  0.0  1.0   0.0   0.0   0.0  0.0  \n",
       "266794      4.0  0.0  0.0  0.0   0.0   0.0   0.0  0.0  \n",
       "\n",
       "[5 rows x 23 columns]"
      ]
     },
     "execution_count": 21,
     "metadata": {},
     "output_type": "execute_result"
    }
   ],
   "source": [
    "Product_mapped = pd.read_csv(\"output/product_info_mapped.csv\")\n",
    "user_item_matrix = pd.read_hdf(\"output/user_item_matrix.hdf\",\"user_item_matrix\")\n",
    "user_item_matrix.head()"
   ]
  },
  {
   "cell_type": "code",
   "execution_count": 22,
   "metadata": {},
   "outputs": [
    {
     "name": "stdout",
     "output_type": "stream",
     "text": [
      "[266784, 267700, 266987, 267836, 275040, 267173, 267058, 269790, 266806, 269830, 273226, 275162, 268393, 275131, 272245, 268597, 270792, 268751, 269026, 272585]\n"
     ]
    }
   ],
   "source": [
    "list_similar_user_indices = neighbour_info['cust_id'].tolist()\n",
    "print(list_similar_user_indices)\n",
    "#we select max_neighbours which is the number of max neighbours we take into account for the prediction\n",
    "max_neighbours = 10"
   ]
  },
  {
   "cell_type": "code",
   "execution_count": 23,
   "metadata": {},
   "outputs": [
    {
     "data": {
      "text/html": [
       "<div>\n",
       "<style scoped>\n",
       "    .dataframe tbody tr th:only-of-type {\n",
       "        vertical-align: middle;\n",
       "    }\n",
       "\n",
       "    .dataframe tbody tr th {\n",
       "        vertical-align: top;\n",
       "    }\n",
       "\n",
       "    .dataframe thead th {\n",
       "        text-align: right;\n",
       "    }\n",
       "</style>\n",
       "<table border=\"1\" class=\"dataframe\">\n",
       "  <thead>\n",
       "    <tr style=\"text-align: right;\">\n",
       "      <th></th>\n",
       "      <th>object_name</th>\n",
       "      <th>object_id</th>\n",
       "      <th>mean_from_similar_user</th>\n",
       "    </tr>\n",
       "  </thead>\n",
       "  <tbody>\n",
       "    <tr>\n",
       "      <th>16</th>\n",
       "      <td>Books_Children</td>\n",
       "      <td>5_11</td>\n",
       "      <td>5.00</td>\n",
       "    </tr>\n",
       "    <tr>\n",
       "      <th>21</th>\n",
       "      <td>Home and kitchen_Bath</td>\n",
       "      <td>6_11</td>\n",
       "      <td>5.00</td>\n",
       "    </tr>\n",
       "    <tr>\n",
       "      <th>8</th>\n",
       "      <td>Electronics_Personal Appliances</td>\n",
       "      <td>3_8</td>\n",
       "      <td>4.50</td>\n",
       "    </tr>\n",
       "    <tr>\n",
       "      <th>5</th>\n",
       "      <td>Footwear_Kids</td>\n",
       "      <td>2_4</td>\n",
       "      <td>4.00</td>\n",
       "    </tr>\n",
       "    <tr>\n",
       "      <th>10</th>\n",
       "      <td>Electronics_Audio and video</td>\n",
       "      <td>3_10</td>\n",
       "      <td>3.25</td>\n",
       "    </tr>\n",
       "    <tr>\n",
       "      <th>0</th>\n",
       "      <td>Clothing_Mens</td>\n",
       "      <td>1_4</td>\n",
       "      <td>3.00</td>\n",
       "    </tr>\n",
       "    <tr>\n",
       "      <th>20</th>\n",
       "      <td>Home and kitchen_Kitchen</td>\n",
       "      <td>6_10</td>\n",
       "      <td>3.00</td>\n",
       "    </tr>\n",
       "    <tr>\n",
       "      <th>4</th>\n",
       "      <td>Footwear_Women</td>\n",
       "      <td>2_3</td>\n",
       "      <td>3.00</td>\n",
       "    </tr>\n",
       "    <tr>\n",
       "      <th>19</th>\n",
       "      <td>Home and kitchen_Furnishing</td>\n",
       "      <td>6_2</td>\n",
       "      <td>2.75</td>\n",
       "    </tr>\n",
       "    <tr>\n",
       "      <th>9</th>\n",
       "      <td>Electronics_Cameras</td>\n",
       "      <td>3_9</td>\n",
       "      <td>2.50</td>\n",
       "    </tr>\n",
       "    <tr>\n",
       "      <th>11</th>\n",
       "      <td>Bags_Mens</td>\n",
       "      <td>4_1</td>\n",
       "      <td>2.00</td>\n",
       "    </tr>\n",
       "    <tr>\n",
       "      <th>14</th>\n",
       "      <td>Books_Academic</td>\n",
       "      <td>5_12</td>\n",
       "      <td>1.00</td>\n",
       "    </tr>\n",
       "    <tr>\n",
       "      <th>3</th>\n",
       "      <td>Footwear_Mens</td>\n",
       "      <td>2_1</td>\n",
       "      <td>1.00</td>\n",
       "    </tr>\n",
       "    <tr>\n",
       "      <th>2</th>\n",
       "      <td>Clothing_Kids</td>\n",
       "      <td>1_3</td>\n",
       "      <td>1.00</td>\n",
       "    </tr>\n",
       "    <tr>\n",
       "      <th>12</th>\n",
       "      <td>Bags_Women</td>\n",
       "      <td>4_4</td>\n",
       "      <td>0.00</td>\n",
       "    </tr>\n",
       "    <tr>\n",
       "      <th>1</th>\n",
       "      <td>Clothing_Women</td>\n",
       "      <td>1_1</td>\n",
       "      <td>0.00</td>\n",
       "    </tr>\n",
       "    <tr>\n",
       "      <th>17</th>\n",
       "      <td>Books_Comics</td>\n",
       "      <td>5_3</td>\n",
       "      <td>0.00</td>\n",
       "    </tr>\n",
       "    <tr>\n",
       "      <th>18</th>\n",
       "      <td>Books_DIY</td>\n",
       "      <td>5_6</td>\n",
       "      <td>0.00</td>\n",
       "    </tr>\n",
       "    <tr>\n",
       "      <th>7</th>\n",
       "      <td>Electronics_Computers</td>\n",
       "      <td>3_5</td>\n",
       "      <td>0.00</td>\n",
       "    </tr>\n",
       "    <tr>\n",
       "      <th>22</th>\n",
       "      <td>Home and kitchen_Tools</td>\n",
       "      <td>6_12</td>\n",
       "      <td>0.00</td>\n",
       "    </tr>\n",
       "  </tbody>\n",
       "</table>\n",
       "</div>"
      ],
      "text/plain": [
       "                        object_name object_id  mean_from_similar_user\n",
       "16                   Books_Children      5_11                    5.00\n",
       "21            Home and kitchen_Bath      6_11                    5.00\n",
       "8   Electronics_Personal Appliances       3_8                    4.50\n",
       "5                     Footwear_Kids       2_4                    4.00\n",
       "10      Electronics_Audio and video      3_10                    3.25\n",
       "0                     Clothing_Mens       1_4                    3.00\n",
       "20         Home and kitchen_Kitchen      6_10                    3.00\n",
       "4                    Footwear_Women       2_3                    3.00\n",
       "19      Home and kitchen_Furnishing       6_2                    2.75\n",
       "9               Electronics_Cameras       3_9                    2.50\n",
       "11                        Bags_Mens       4_1                    2.00\n",
       "14                   Books_Academic      5_12                    1.00\n",
       "3                     Footwear_Mens       2_1                    1.00\n",
       "2                     Clothing_Kids       1_3                    1.00\n",
       "12                       Bags_Women       4_4                    0.00\n",
       "1                    Clothing_Women       1_1                    0.00\n",
       "17                     Books_Comics       5_3                    0.00\n",
       "18                        Books_DIY       5_6                    0.00\n",
       "7             Electronics_Computers       3_5                    0.00\n",
       "22           Home and kitchen_Tools      6_12                    0.00"
      ]
     },
     "execution_count": 23,
     "metadata": {},
     "output_type": "execute_result"
    }
   ],
   "source": [
    "reco_unknown = f2.recommend_item_from_uid(list_similar_user_indices[0], list_similar_user_indices[1:5],max_neighbours, user_item_matrix,Product_mapped, known= False, items=23)\n",
    "reco_unknown"
   ]
  },
  {
   "cell_type": "code",
   "execution_count": 24,
   "metadata": {},
   "outputs": [
    {
     "data": {
      "text/html": [
       "<div>\n",
       "<style scoped>\n",
       "    .dataframe tbody tr th:only-of-type {\n",
       "        vertical-align: middle;\n",
       "    }\n",
       "\n",
       "    .dataframe tbody tr th {\n",
       "        vertical-align: top;\n",
       "    }\n",
       "\n",
       "    .dataframe thead th {\n",
       "        text-align: right;\n",
       "    }\n",
       "</style>\n",
       "<table border=\"1\" class=\"dataframe\">\n",
       "  <thead>\n",
       "    <tr style=\"text-align: right;\">\n",
       "      <th></th>\n",
       "      <th>object_name</th>\n",
       "      <th>object_id</th>\n",
       "      <th>mean_from_similar_user</th>\n",
       "      <th>real_rating_from_266784</th>\n",
       "    </tr>\n",
       "  </thead>\n",
       "  <tbody>\n",
       "    <tr>\n",
       "      <th>0</th>\n",
       "      <td>Electronics_Mobiles</td>\n",
       "      <td>3_4</td>\n",
       "      <td>0.0</td>\n",
       "      <td>2.0</td>\n",
       "    </tr>\n",
       "    <tr>\n",
       "      <th>1</th>\n",
       "      <td>Books_Fiction</td>\n",
       "      <td>5_7</td>\n",
       "      <td>0.0</td>\n",
       "      <td>5.0</td>\n",
       "    </tr>\n",
       "    <tr>\n",
       "      <th>2</th>\n",
       "      <td>Books_Non-Fiction</td>\n",
       "      <td>5_10</td>\n",
       "      <td>0.0</td>\n",
       "      <td>3.0</td>\n",
       "    </tr>\n",
       "  </tbody>\n",
       "</table>\n",
       "</div>"
      ],
      "text/plain": [
       "           object_name object_id  mean_from_similar_user  \\\n",
       "0  Electronics_Mobiles       3_4                     0.0   \n",
       "1        Books_Fiction       5_7                     0.0   \n",
       "2    Books_Non-Fiction      5_10                     0.0   \n",
       "\n",
       "   real_rating_from_266784  \n",
       "0                      2.0  \n",
       "1                      5.0  \n",
       "2                      3.0  "
      ]
     },
     "execution_count": 24,
     "metadata": {},
     "output_type": "execute_result"
    }
   ],
   "source": [
    "reco_known = f2.recommend_item_from_uid(list_similar_user_indices[0], list_similar_user_indices[1:5], max_neighbours, user_item_matrix,Product_mapped, known= True, items=10)\n",
    "reco_known"
   ]
  },
  {
   "cell_type": "code",
   "execution_count": 25,
   "metadata": {},
   "outputs": [
    {
     "name": "stdout",
     "output_type": "stream",
     "text": [
      "mse: 12.666666666666666\n",
      "rmse: 3.559026084010437\n"
     ]
    }
   ],
   "source": [
    "mse, rmse = f2.meatrics_mse_rmse(reco_known)\n",
    "print('mse:', mse)\n",
    "print('rmse:', rmse)"
   ]
  },
  {
   "cell_type": "markdown",
   "metadata": {},
   "source": [
    "# V. Final Part : Doing prediction by combining Part III. and Part IV. "
   ]
  },
  {
   "cell_type": "markdown",
   "metadata": {},
   "source": [
    "## A. Retrieving all df we need "
   ]
  },
  {
   "cell_type": "code",
   "execution_count": 26,
   "metadata": {},
   "outputs": [
    {
     "data": {
      "text/html": [
       "<div>\n",
       "<style scoped>\n",
       "    .dataframe tbody tr th:only-of-type {\n",
       "        vertical-align: middle;\n",
       "    }\n",
       "\n",
       "    .dataframe tbody tr th {\n",
       "        vertical-align: top;\n",
       "    }\n",
       "\n",
       "    .dataframe thead th {\n",
       "        text-align: right;\n",
       "    }\n",
       "</style>\n",
       "<table border=\"1\" class=\"dataframe\">\n",
       "  <thead>\n",
       "    <tr style=\"text-align: right;\">\n",
       "      <th>object_id</th>\n",
       "      <th>1_1</th>\n",
       "      <th>1_3</th>\n",
       "      <th>1_4</th>\n",
       "      <th>2_1</th>\n",
       "      <th>2_3</th>\n",
       "      <th>2_4</th>\n",
       "      <th>3_10</th>\n",
       "      <th>3_4</th>\n",
       "      <th>3_5</th>\n",
       "      <th>3_8</th>\n",
       "      <th>...</th>\n",
       "      <th>5_10</th>\n",
       "      <th>5_11</th>\n",
       "      <th>5_12</th>\n",
       "      <th>5_3</th>\n",
       "      <th>5_6</th>\n",
       "      <th>5_7</th>\n",
       "      <th>6_10</th>\n",
       "      <th>6_11</th>\n",
       "      <th>6_12</th>\n",
       "      <th>6_2</th>\n",
       "    </tr>\n",
       "    <tr>\n",
       "      <th>cust_id</th>\n",
       "      <th></th>\n",
       "      <th></th>\n",
       "      <th></th>\n",
       "      <th></th>\n",
       "      <th></th>\n",
       "      <th></th>\n",
       "      <th></th>\n",
       "      <th></th>\n",
       "      <th></th>\n",
       "      <th></th>\n",
       "      <th></th>\n",
       "      <th></th>\n",
       "      <th></th>\n",
       "      <th></th>\n",
       "      <th></th>\n",
       "      <th></th>\n",
       "      <th></th>\n",
       "      <th></th>\n",
       "      <th></th>\n",
       "      <th></th>\n",
       "      <th></th>\n",
       "    </tr>\n",
       "  </thead>\n",
       "  <tbody>\n",
       "    <tr>\n",
       "      <th>266783</th>\n",
       "      <td>0.0</td>\n",
       "      <td>0.0</td>\n",
       "      <td>2.0</td>\n",
       "      <td>4.0</td>\n",
       "      <td>0.0</td>\n",
       "      <td>0.0</td>\n",
       "      <td>0.0</td>\n",
       "      <td>0.0</td>\n",
       "      <td>0.0</td>\n",
       "      <td>0.0</td>\n",
       "      <td>...</td>\n",
       "      <td>2.0</td>\n",
       "      <td>0.0</td>\n",
       "      <td>0.0</td>\n",
       "      <td>0.0</td>\n",
       "      <td>0.0</td>\n",
       "      <td>0.0</td>\n",
       "      <td>0.0</td>\n",
       "      <td>0.0</td>\n",
       "      <td>0.0</td>\n",
       "      <td>0.0</td>\n",
       "    </tr>\n",
       "    <tr>\n",
       "      <th>266784</th>\n",
       "      <td>0.0</td>\n",
       "      <td>0.0</td>\n",
       "      <td>0.0</td>\n",
       "      <td>0.0</td>\n",
       "      <td>0.0</td>\n",
       "      <td>0.0</td>\n",
       "      <td>0.0</td>\n",
       "      <td>2.0</td>\n",
       "      <td>0.0</td>\n",
       "      <td>0.0</td>\n",
       "      <td>...</td>\n",
       "      <td>3.0</td>\n",
       "      <td>0.0</td>\n",
       "      <td>0.0</td>\n",
       "      <td>0.0</td>\n",
       "      <td>0.0</td>\n",
       "      <td>5.0</td>\n",
       "      <td>0.0</td>\n",
       "      <td>0.0</td>\n",
       "      <td>0.0</td>\n",
       "      <td>0.0</td>\n",
       "    </tr>\n",
       "    <tr>\n",
       "      <th>266785</th>\n",
       "      <td>0.0</td>\n",
       "      <td>0.0</td>\n",
       "      <td>0.0</td>\n",
       "      <td>4.0</td>\n",
       "      <td>0.0</td>\n",
       "      <td>3.5</td>\n",
       "      <td>0.0</td>\n",
       "      <td>0.0</td>\n",
       "      <td>0.0</td>\n",
       "      <td>0.0</td>\n",
       "      <td>...</td>\n",
       "      <td>0.0</td>\n",
       "      <td>5.0</td>\n",
       "      <td>0.0</td>\n",
       "      <td>0.0</td>\n",
       "      <td>0.0</td>\n",
       "      <td>0.0</td>\n",
       "      <td>5.0</td>\n",
       "      <td>0.0</td>\n",
       "      <td>0.0</td>\n",
       "      <td>0.0</td>\n",
       "    </tr>\n",
       "    <tr>\n",
       "      <th>266788</th>\n",
       "      <td>0.0</td>\n",
       "      <td>0.0</td>\n",
       "      <td>0.0</td>\n",
       "      <td>1.0</td>\n",
       "      <td>0.0</td>\n",
       "      <td>4.0</td>\n",
       "      <td>0.0</td>\n",
       "      <td>0.0</td>\n",
       "      <td>0.0</td>\n",
       "      <td>0.0</td>\n",
       "      <td>...</td>\n",
       "      <td>0.0</td>\n",
       "      <td>0.0</td>\n",
       "      <td>0.0</td>\n",
       "      <td>0.0</td>\n",
       "      <td>0.0</td>\n",
       "      <td>1.0</td>\n",
       "      <td>0.0</td>\n",
       "      <td>0.0</td>\n",
       "      <td>0.0</td>\n",
       "      <td>0.0</td>\n",
       "    </tr>\n",
       "    <tr>\n",
       "      <th>266794</th>\n",
       "      <td>0.0</td>\n",
       "      <td>3.5</td>\n",
       "      <td>0.0</td>\n",
       "      <td>0.0</td>\n",
       "      <td>2.5</td>\n",
       "      <td>0.0</td>\n",
       "      <td>1.5</td>\n",
       "      <td>0.0</td>\n",
       "      <td>0.0</td>\n",
       "      <td>4.0</td>\n",
       "      <td>...</td>\n",
       "      <td>0.0</td>\n",
       "      <td>3.0</td>\n",
       "      <td>4.0</td>\n",
       "      <td>0.0</td>\n",
       "      <td>0.0</td>\n",
       "      <td>0.0</td>\n",
       "      <td>0.0</td>\n",
       "      <td>0.0</td>\n",
       "      <td>0.0</td>\n",
       "      <td>0.0</td>\n",
       "    </tr>\n",
       "  </tbody>\n",
       "</table>\n",
       "<p>5 rows × 23 columns</p>\n",
       "</div>"
      ],
      "text/plain": [
       "object_id  1_1  1_3  1_4  2_1  2_3  2_4  3_10  3_4  3_5  3_8  ...  5_10  5_11  \\\n",
       "cust_id                                                       ...               \n",
       "266783     0.0  0.0  2.0  4.0  0.0  0.0   0.0  0.0  0.0  0.0  ...   2.0   0.0   \n",
       "266784     0.0  0.0  0.0  0.0  0.0  0.0   0.0  2.0  0.0  0.0  ...   3.0   0.0   \n",
       "266785     0.0  0.0  0.0  4.0  0.0  3.5   0.0  0.0  0.0  0.0  ...   0.0   5.0   \n",
       "266788     0.0  0.0  0.0  1.0  0.0  4.0   0.0  0.0  0.0  0.0  ...   0.0   0.0   \n",
       "266794     0.0  3.5  0.0  0.0  2.5  0.0   1.5  0.0  0.0  4.0  ...   0.0   3.0   \n",
       "\n",
       "object_id  5_12  5_3  5_6  5_7  6_10  6_11  6_12  6_2  \n",
       "cust_id                                                \n",
       "266783      0.0  0.0  0.0  0.0   0.0   0.0   0.0  0.0  \n",
       "266784      0.0  0.0  0.0  5.0   0.0   0.0   0.0  0.0  \n",
       "266785      0.0  0.0  0.0  0.0   5.0   0.0   0.0  0.0  \n",
       "266788      0.0  0.0  0.0  1.0   0.0   0.0   0.0  0.0  \n",
       "266794      4.0  0.0  0.0  0.0   0.0   0.0   0.0  0.0  \n",
       "\n",
       "[5 rows x 23 columns]"
      ]
     },
     "execution_count": 26,
     "metadata": {},
     "output_type": "execute_result"
    }
   ],
   "source": [
    "df_stand = pd.read_hdf('output/standardize_df_user_personal_info.hdf','standardize_df_user_personal_info')\n",
    "df_non_stand = pd.read_csv('output/non_stand_user_perso_info.csv')\n",
    "Product_mapped = pd.read_csv(\"output/product_info_mapped.csv\")\n",
    "user_item_matrix = pd.read_hdf(\"output/user_item_matrix.hdf\",\"user_item_matrix\")\n",
    "user_item_matrix.head()"
   ]
  },
  {
   "cell_type": "markdown",
   "metadata": {},
   "source": [
    "## B. Easy way to have prediction on an index or cust_id "
   ]
  },
  {
   "cell_type": "code",
   "execution_count": 27,
   "metadata": {},
   "outputs": [
    {
     "name": "stdout",
     "output_type": "stream",
     "text": [
      "This len for list of neighbours for the cust_id : 266784 with a threshold of 0.99 : \n",
      "\n",
      "is actually 20 but we will restrict is to 10 \n",
      "\n",
      "\n",
      "\n",
      "mse: 3.1481481481481484\n",
      "rmse: 1.7743021580745904\n"
     ]
    }
   ],
   "source": [
    "index = False\n",
    "cust_id = 266784\n",
    "threshold = 0.99\n",
    "customer_index, customer_id = f2.select_customer(index , cust_id, df_non_stand)\n",
    "unknown, known = f2.do_prediction(customer_index, customer_id, max_neighbours, treshold,df_stand,df_non_stand,Product_mapped,user_item_matrix, verbose = True)\n",
    "\n",
    "print('\\n')\n",
    "mse, rmse = f2.meatrics_mse_rmse(known)\n",
    "print('mse:', mse)\n",
    "print('rmse:', rmse)"
   ]
  },
  {
   "cell_type": "markdown",
   "metadata": {},
   "source": [
    "## C. Creation of a metrics "
   ]
  },
  {
   "cell_type": "code",
   "execution_count": 29,
   "metadata": {},
   "outputs": [
    {
     "name": "stdout",
     "output_type": "stream",
     "text": [
      "0/100\n",
      "20/100\n",
      "40/100\n",
      "60/100\n",
      "80/100\n",
      "took in sec : 110.1839051246643\n"
     ]
    }
   ],
   "source": [
    "index = 3\n",
    "cust_id = False\n",
    "threshold = 0.98\n",
    "max_neighbours = 10\n",
    "\n",
    "RMSE = []\n",
    "MSE = []\n",
    "\n",
    "def find_metrics(index):\n",
    "    'Function which add mse and rmse score to lists for a selected index corresponding to a customer_id'\n",
    "    \n",
    "    customer_index, customer_id = f2.select_customer(index , cust_id, df_non_stand)\n",
    "    _, known = f2.do_prediction(customer_index, customer_id, max_neighbours, threshold,df_stand,df_non_stand,Product_mapped,user_item_matrix, verbose = False)\n",
    "    mse, rmse = f2.meatrics_mse_rmse(known)\n",
    "    MSE.append(mse)\n",
    "    RMSE.append(rmse)\n",
    "    \n",
    "\n",
    "t1 = time.time()\n",
    "\n",
    "\n",
    "for i in range(100):\n",
    "    if i%20 == 0:\n",
    "        print(f'{i}/100')\n",
    "    find_metrics(i)\n",
    "\n",
    "    \n",
    "t2 = time.time()\n",
    "print('took in sec :', (t2 - t1))     \n"
   ]
  },
  {
   "cell_type": "code",
   "execution_count": 30,
   "metadata": {},
   "outputs": [
    {
     "name": "stdout",
     "output_type": "stream",
     "text": [
      "mean mse: 4.506243933531746\n",
      "mean rmse: 1.9917983525902656\n"
     ]
    }
   ],
   "source": [
    "print('mean mse:', statistics.mean(MSE))\n",
    "print('mean rmse:', statistics.mean(RMSE))"
   ]
  },
  {
   "cell_type": "markdown",
   "metadata": {},
   "source": [
    "So, after running the algorithm on 100 differents customer, we can conclude that the RMSE score tends toward 2.00.  \n",
    "This mean that the estimated ratings on average are about 2.00 higher or lower than the actual ratings.  \n",
    "Here, our scale is from 0 to 5, so it's is not a very good result at all."
   ]
  },
  {
   "cell_type": "markdown",
   "metadata": {},
   "source": [
    "## This is the end of my first model and the second part of this recommendation sytem.  \n",
    "## It's not a very good one but this approach can be useful for other dataset and use cases.\n",
    "## Please you can now read the the third part, I used another approach with the suprise library."
   ]
  }
 ],
 "metadata": {
  "kernelspec": {
   "display_name": "Python 3",
   "language": "python",
   "name": "python3"
  },
  "language_info": {
   "codemirror_mode": {
    "name": "ipython",
    "version": 3
   },
   "file_extension": ".py",
   "mimetype": "text/x-python",
   "name": "python",
   "nbconvert_exporter": "python",
   "pygments_lexer": "ipython3",
   "version": "3.8.3"
  }
 },
 "nbformat": 4,
 "nbformat_minor": 4
}
