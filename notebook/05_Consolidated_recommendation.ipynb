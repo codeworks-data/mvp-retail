{
 "cells": [
  {
   "cell_type": "markdown",
   "metadata": {},
   "source": [
    "# Part 5 : Recommendation sytem, we consolidate all notebook and define a final prediction"
   ]
  },
  {
   "cell_type": "markdown",
   "metadata": {},
   "source": [
    "To do this notebook I used all previous notebook.  \n",
    "It's better to read them before going to this one."
   ]
  },
  {
   "cell_type": "markdown",
   "metadata": {},
   "source": [
    "# The summary of the notebook is written below"
   ]
  },
  {
   "cell_type": "markdown",
   "metadata": {},
   "source": [
    "I. Import useful library and python file containing our functions  \n",
    "\n",
    "\n"
   ]
  },
  {
   "cell_type": "code",
   "execution_count": 1,
   "metadata": {},
   "outputs": [
    {
     "name": "stdout",
     "output_type": "stream",
     "text": [
      "/Users/kofficornelis/Documents/Retail_V2\n"
     ]
    }
   ],
   "source": [
    "%cd .."
   ]
  },
  {
   "cell_type": "markdown",
   "metadata": {},
   "source": [
    "# I. Import useful library and python file containing our functions"
   ]
  },
  {
   "cell_type": "code",
   "execution_count": 2,
   "metadata": {},
   "outputs": [],
   "source": [
    "import pandas as pd\n",
    "import numpy as np\n",
    "from matplotlib import pyplot as plt\n",
    "import seaborn as sns\n",
    "import datetime\n",
    "import pandas as pd\n",
    "import time\n",
    "from surprise import SVD\n",
    "from surprise import Dataset\n",
    "from surprise import accuracy\n",
    "from surprise.model_selection import train_test_split\n",
    "from surprise import KNNBasic,  KNNWithMeans, KNNBaseline, KNNWithZScore\n",
    "from surprise.model_selection import KFold\n",
    "from surprise import Reader\n",
    "from surprise import NormalPredictor\n",
    "from surprise.model_selection import cross_validate\n",
    "import matplotlib.pyplot as plt\n",
    "import seaborn as sns\n",
    "from surprise.model_selection import GridSearchCV\n",
    "from sklearn.metrics.pairwise import cosine_similarity\n",
    "import operator\n",
    "import statistics\n",
    "from sklearn.metrics import mean_squared_error \n",
    "import utils.Function_05 as f5\n",
    "import utils.Function_02 as f2\n",
    "import utils.Function_04 as f4\n",
    "\n",
    "# set the graphs to show in the jupyter notebook\n",
    "%matplotlib inline"
   ]
  },
  {
   "cell_type": "markdown",
   "metadata": {},
   "source": [
    "## A. Specify a User for all next prediction"
   ]
  },
  {
   "cell_type": "code",
   "execution_count": 3,
   "metadata": {},
   "outputs": [
    {
     "name": "stdout",
     "output_type": "stream",
     "text": [
      "The index of our specific user is 2 and his Id is 266785\n"
     ]
    }
   ],
   "source": [
    "df_non_stand = pd.read_csv('output/non_stand_user_perso_info.csv')\n",
    "index = False\n",
    "CURRENT_USER = 266785\n",
    "customer_index, customer_id = f2.select_customer(index , CURRENT_USER, df_non_stand)\n",
    "print(f'The index of our specific user is {customer_index} and his Id is {customer_id}')"
   ]
  },
  {
   "cell_type": "markdown",
   "metadata": {},
   "source": [
    "# II. Recommendation on user details"
   ]
  },
  {
   "cell_type": "markdown",
   "metadata": {},
   "source": [
    "## A. Retrieving useful dataframe"
   ]
  },
  {
   "cell_type": "code",
   "execution_count": 4,
   "metadata": {},
   "outputs": [],
   "source": [
    "Product_mapped = pd.read_csv(\"output/product_info_mapped.csv\")\n",
    "user_item_matrix = pd.read_hdf(\"output/user_item_matrix.hdf\",\"user_item_matrix\")\n",
    "df_stand = pd.read_hdf('output/standardize_df_user_personal_info.hdf','standardize_df_user_personal_info')"
   ]
  },
  {
   "cell_type": "markdown",
   "metadata": {},
   "source": [
    "## B. Doing prediction for a specific user"
   ]
  },
  {
   "cell_type": "code",
   "execution_count": 5,
   "metadata": {},
   "outputs": [
    {
     "name": "stdout",
     "output_type": "stream",
     "text": [
      "This len for list of neighbours for the cust_id : 266785 with a threshold of 0.99 : \n",
      "\n",
      "is actually 15 but we will restrict is to 10 \n",
      "\n"
     ]
    }
   ],
   "source": [
    "threshold = 0.99\n",
    "max_neighbours = 10\n",
    "pred_unknown_01, pred_known_01 = f2.do_prediction(customer_index, customer_id, max_neighbours, threshold,df_stand,df_non_stand,Product_mapped,user_item_matrix, verbose=True)"
   ]
  },
  {
   "cell_type": "markdown",
   "metadata": {},
   "source": [
    "## C. Display result for our specific user"
   ]
  },
  {
   "cell_type": "code",
   "execution_count": 6,
   "metadata": {},
   "outputs": [
    {
     "data": {
      "text/html": [
       "<div>\n",
       "<style scoped>\n",
       "    .dataframe tbody tr th:only-of-type {\n",
       "        vertical-align: middle;\n",
       "    }\n",
       "\n",
       "    .dataframe tbody tr th {\n",
       "        vertical-align: top;\n",
       "    }\n",
       "\n",
       "    .dataframe thead th {\n",
       "        text-align: right;\n",
       "    }\n",
       "</style>\n",
       "<table border=\"1\" class=\"dataframe\">\n",
       "  <thead>\n",
       "    <tr style=\"text-align: right;\">\n",
       "      <th></th>\n",
       "      <th>object_name</th>\n",
       "      <th>object_id</th>\n",
       "      <th>mean_from_similar_user</th>\n",
       "    </tr>\n",
       "  </thead>\n",
       "  <tbody>\n",
       "    <tr>\n",
       "      <th>14</th>\n",
       "      <td>Books_Academic</td>\n",
       "      <td>5_12</td>\n",
       "      <td>4.5</td>\n",
       "    </tr>\n",
       "    <tr>\n",
       "      <th>4</th>\n",
       "      <td>Footwear_Women</td>\n",
       "      <td>2_3</td>\n",
       "      <td>4.0</td>\n",
       "    </tr>\n",
       "    <tr>\n",
       "      <th>21</th>\n",
       "      <td>Home and kitchen_Bath</td>\n",
       "      <td>6_11</td>\n",
       "      <td>4.0</td>\n",
       "    </tr>\n",
       "    <tr>\n",
       "      <th>8</th>\n",
       "      <td>Electronics_Personal Appliances</td>\n",
       "      <td>3_8</td>\n",
       "      <td>3.5</td>\n",
       "    </tr>\n",
       "    <tr>\n",
       "      <th>1</th>\n",
       "      <td>Clothing_Women</td>\n",
       "      <td>1_1</td>\n",
       "      <td>3.5</td>\n",
       "    </tr>\n",
       "  </tbody>\n",
       "</table>\n",
       "</div>"
      ],
      "text/plain": [
       "                        object_name object_id  mean_from_similar_user\n",
       "14                   Books_Academic      5_12                     4.5\n",
       "4                    Footwear_Women       2_3                     4.0\n",
       "21            Home and kitchen_Bath      6_11                     4.0\n",
       "8   Electronics_Personal Appliances       3_8                     3.5\n",
       "1                    Clothing_Women       1_1                     3.5"
      ]
     },
     "execution_count": 6,
     "metadata": {},
     "output_type": "execute_result"
    }
   ],
   "source": [
    "pred_unknown_01.head()"
   ]
  },
  {
   "cell_type": "code",
   "execution_count": 7,
   "metadata": {},
   "outputs": [
    {
     "data": {
      "text/html": [
       "<div>\n",
       "<style scoped>\n",
       "    .dataframe tbody tr th:only-of-type {\n",
       "        vertical-align: middle;\n",
       "    }\n",
       "\n",
       "    .dataframe tbody tr th {\n",
       "        vertical-align: top;\n",
       "    }\n",
       "\n",
       "    .dataframe thead th {\n",
       "        text-align: right;\n",
       "    }\n",
       "</style>\n",
       "<table border=\"1\" class=\"dataframe\">\n",
       "  <thead>\n",
       "    <tr style=\"text-align: right;\">\n",
       "      <th></th>\n",
       "      <th>object_name</th>\n",
       "      <th>object_id</th>\n",
       "      <th>mean_from_similar_user</th>\n",
       "      <th>real_rating_from_266785</th>\n",
       "    </tr>\n",
       "  </thead>\n",
       "  <tbody>\n",
       "    <tr>\n",
       "      <th>0</th>\n",
       "      <td>Bags_Mens</td>\n",
       "      <td>4_1</td>\n",
       "      <td>4.000000</td>\n",
       "      <td>3.0</td>\n",
       "    </tr>\n",
       "    <tr>\n",
       "      <th>1</th>\n",
       "      <td>Footwear_Mens</td>\n",
       "      <td>2_1</td>\n",
       "      <td>3.600000</td>\n",
       "      <td>4.0</td>\n",
       "    </tr>\n",
       "    <tr>\n",
       "      <th>2</th>\n",
       "      <td>Footwear_Kids</td>\n",
       "      <td>2_4</td>\n",
       "      <td>2.666667</td>\n",
       "      <td>3.5</td>\n",
       "    </tr>\n",
       "    <tr>\n",
       "      <th>3</th>\n",
       "      <td>Home and kitchen_Kitchen</td>\n",
       "      <td>6_10</td>\n",
       "      <td>2.500000</td>\n",
       "      <td>5.0</td>\n",
       "    </tr>\n",
       "    <tr>\n",
       "      <th>4</th>\n",
       "      <td>Books_Children</td>\n",
       "      <td>5_11</td>\n",
       "      <td>1.000000</td>\n",
       "      <td>5.0</td>\n",
       "    </tr>\n",
       "  </tbody>\n",
       "</table>\n",
       "</div>"
      ],
      "text/plain": [
       "                object_name object_id  mean_from_similar_user  \\\n",
       "0                 Bags_Mens       4_1                4.000000   \n",
       "1             Footwear_Mens       2_1                3.600000   \n",
       "2             Footwear_Kids       2_4                2.666667   \n",
       "3  Home and kitchen_Kitchen      6_10                2.500000   \n",
       "4            Books_Children      5_11                1.000000   \n",
       "\n",
       "   real_rating_from_266785  \n",
       "0                      3.0  \n",
       "1                      4.0  \n",
       "2                      3.5  \n",
       "3                      5.0  \n",
       "4                      5.0  "
      ]
     },
     "execution_count": 7,
     "metadata": {},
     "output_type": "execute_result"
    }
   ],
   "source": [
    "pred_known_01.head()"
   ]
  },
  {
   "cell_type": "markdown",
   "metadata": {},
   "source": [
    "## D. Information about this method"
   ]
  },
  {
   "cell_type": "markdown",
   "metadata": {},
   "source": [
    "The RMSE tends toward 2.00 when we try this method on 100 differents users."
   ]
  },
  {
   "cell_type": "markdown",
   "metadata": {},
   "source": [
    "# III. Collaborative filtering memory based"
   ]
  },
  {
   "cell_type": "markdown",
   "metadata": {},
   "source": [
    "## A. Retrieving useful dataframe"
   ]
  },
  {
   "cell_type": "code",
   "execution_count": 8,
   "metadata": {},
   "outputs": [],
   "source": [
    "ratings_table = pd.read_csv('output/rating_table.csv')\n",
    "ratings_table = ratings_table.rename(columns={\"cust_id\": \"userId\", \"object_id\": \"ItemId\", \"rank\": \"rating\", \"object_name\": \"Item_Name\"})\n",
    "ratings_table = ratings_table.groupby(['userId', 'ItemId', 'Item_Name'])[['rating']].mean().reset_index()"
   ]
  },
  {
   "cell_type": "markdown",
   "metadata": {},
   "source": [
    "## B. Preparing datesets"
   ]
  },
  {
   "cell_type": "code",
   "execution_count": 9,
   "metadata": {},
   "outputs": [],
   "source": [
    "reader = Reader(rating_scale=(1, 5))\n",
    "# The columns must correspond to user_id, item_id and ratings (in that order).\n",
    "data = Dataset.load_from_df(ratings_table[['userId', 'ItemId', 'rating']], reader)\n",
    "trainsetfull = data.build_full_trainset()\n",
    "\n",
    "#we create here an anti_set\n",
    "anti_set = data.build_full_trainset().build_anti_testset()\n",
    "\n",
    "#we create here a nice_set\n",
    "nice_set = data.build_full_trainset().build_testset()"
   ]
  },
  {
   "cell_type": "markdown",
   "metadata": {},
   "source": [
    "## C. Train the algorithm"
   ]
  },
  {
   "cell_type": "code",
   "execution_count": 10,
   "metadata": {},
   "outputs": [
    {
     "name": "stdout",
     "output_type": "stream",
     "text": [
      "Computing the msd similarity matrix...\n",
      "Done computing similarity matrix.\n"
     ]
    },
    {
     "data": {
      "text/plain": [
       "<surprise.prediction_algorithms.knns.KNNBasic at 0x7fba8942a580>"
      ]
     },
     "execution_count": 10,
     "metadata": {},
     "output_type": "execute_result"
    }
   ],
   "source": [
    "algo = KNNBasic()\n",
    "algo.fit(trainsetfull)"
   ]
  },
  {
   "cell_type": "markdown",
   "metadata": {},
   "source": [
    "## D. Display prediction"
   ]
  },
  {
   "cell_type": "markdown",
   "metadata": {},
   "source": [
    "* On nice_set"
   ]
  },
  {
   "cell_type": "code",
   "execution_count": 11,
   "metadata": {},
   "outputs": [
    {
     "data": {
      "text/html": [
       "<div>\n",
       "<style scoped>\n",
       "    .dataframe tbody tr th:only-of-type {\n",
       "        vertical-align: middle;\n",
       "    }\n",
       "\n",
       "    .dataframe tbody tr th {\n",
       "        vertical-align: top;\n",
       "    }\n",
       "\n",
       "    .dataframe thead th {\n",
       "        text-align: right;\n",
       "    }\n",
       "</style>\n",
       "<table border=\"1\" class=\"dataframe\">\n",
       "  <thead>\n",
       "    <tr style=\"text-align: right;\">\n",
       "      <th></th>\n",
       "      <th>uid</th>\n",
       "      <th>iid</th>\n",
       "      <th>r_ui</th>\n",
       "      <th>est</th>\n",
       "      <th>details</th>\n",
       "    </tr>\n",
       "  </thead>\n",
       "  <tbody>\n",
       "    <tr>\n",
       "      <th>0</th>\n",
       "      <td>266783</td>\n",
       "      <td>1_4</td>\n",
       "      <td>2.0</td>\n",
       "      <td>2.0</td>\n",
       "      <td>{'actual_k': 40, 'was_impossible': False}</td>\n",
       "    </tr>\n",
       "    <tr>\n",
       "      <th>1</th>\n",
       "      <td>266783</td>\n",
       "      <td>2_1</td>\n",
       "      <td>4.0</td>\n",
       "      <td>4.0</td>\n",
       "      <td>{'actual_k': 40, 'was_impossible': False}</td>\n",
       "    </tr>\n",
       "    <tr>\n",
       "      <th>2</th>\n",
       "      <td>266783</td>\n",
       "      <td>5_10</td>\n",
       "      <td>2.0</td>\n",
       "      <td>2.0</td>\n",
       "      <td>{'actual_k': 40, 'was_impossible': False}</td>\n",
       "    </tr>\n",
       "    <tr>\n",
       "      <th>3</th>\n",
       "      <td>266784</td>\n",
       "      <td>3_4</td>\n",
       "      <td>2.0</td>\n",
       "      <td>2.0</td>\n",
       "      <td>{'actual_k': 40, 'was_impossible': False}</td>\n",
       "    </tr>\n",
       "    <tr>\n",
       "      <th>4</th>\n",
       "      <td>266784</td>\n",
       "      <td>5_10</td>\n",
       "      <td>3.0</td>\n",
       "      <td>3.0</td>\n",
       "      <td>{'actual_k': 40, 'was_impossible': False}</td>\n",
       "    </tr>\n",
       "  </tbody>\n",
       "</table>\n",
       "</div>"
      ],
      "text/plain": [
       "      uid   iid  r_ui  est                                    details\n",
       "0  266783   1_4   2.0  2.0  {'actual_k': 40, 'was_impossible': False}\n",
       "1  266783   2_1   4.0  4.0  {'actual_k': 40, 'was_impossible': False}\n",
       "2  266783  5_10   2.0  2.0  {'actual_k': 40, 'was_impossible': False}\n",
       "3  266784   3_4   2.0  2.0  {'actual_k': 40, 'was_impossible': False}\n",
       "4  266784  5_10   3.0  3.0  {'actual_k': 40, 'was_impossible': False}"
      ]
     },
     "execution_count": 11,
     "metadata": {},
     "output_type": "execute_result"
    }
   ],
   "source": [
    "predictions_nice = algo.test(nice_set)\n",
    "all_known = pd.DataFrame(predictions_nice)\n",
    "all_known.head()"
   ]
  },
  {
   "cell_type": "markdown",
   "metadata": {},
   "source": [
    "* On anti_set"
   ]
  },
  {
   "cell_type": "code",
   "execution_count": 12,
   "metadata": {},
   "outputs": [
    {
     "data": {
      "text/html": [
       "<div>\n",
       "<style scoped>\n",
       "    .dataframe tbody tr th:only-of-type {\n",
       "        vertical-align: middle;\n",
       "    }\n",
       "\n",
       "    .dataframe tbody tr th {\n",
       "        vertical-align: top;\n",
       "    }\n",
       "\n",
       "    .dataframe thead th {\n",
       "        text-align: right;\n",
       "    }\n",
       "</style>\n",
       "<table border=\"1\" class=\"dataframe\">\n",
       "  <thead>\n",
       "    <tr style=\"text-align: right;\">\n",
       "      <th></th>\n",
       "      <th>uid</th>\n",
       "      <th>iid</th>\n",
       "      <th>r_ui</th>\n",
       "      <th>est</th>\n",
       "      <th>details</th>\n",
       "    </tr>\n",
       "  </thead>\n",
       "  <tbody>\n",
       "    <tr>\n",
       "      <th>0</th>\n",
       "      <td>266783</td>\n",
       "      <td>3_4</td>\n",
       "      <td>2.999398</td>\n",
       "      <td>3.250000</td>\n",
       "      <td>{'actual_k': 40, 'was_impossible': False}</td>\n",
       "    </tr>\n",
       "    <tr>\n",
       "      <th>1</th>\n",
       "      <td>266783</td>\n",
       "      <td>5_7</td>\n",
       "      <td>2.999398</td>\n",
       "      <td>3.100000</td>\n",
       "      <td>{'actual_k': 40, 'was_impossible': False}</td>\n",
       "    </tr>\n",
       "    <tr>\n",
       "      <th>2</th>\n",
       "      <td>266783</td>\n",
       "      <td>2_4</td>\n",
       "      <td>2.999398</td>\n",
       "      <td>3.087500</td>\n",
       "      <td>{'actual_k': 40, 'was_impossible': False}</td>\n",
       "    </tr>\n",
       "    <tr>\n",
       "      <th>3</th>\n",
       "      <td>266783</td>\n",
       "      <td>4_1</td>\n",
       "      <td>2.999398</td>\n",
       "      <td>3.204904</td>\n",
       "      <td>{'actual_k': 40, 'was_impossible': False}</td>\n",
       "    </tr>\n",
       "    <tr>\n",
       "      <th>4</th>\n",
       "      <td>266783</td>\n",
       "      <td>5_11</td>\n",
       "      <td>2.999398</td>\n",
       "      <td>2.787500</td>\n",
       "      <td>{'actual_k': 40, 'was_impossible': False}</td>\n",
       "    </tr>\n",
       "  </tbody>\n",
       "</table>\n",
       "</div>"
      ],
      "text/plain": [
       "      uid   iid      r_ui       est                                    details\n",
       "0  266783   3_4  2.999398  3.250000  {'actual_k': 40, 'was_impossible': False}\n",
       "1  266783   5_7  2.999398  3.100000  {'actual_k': 40, 'was_impossible': False}\n",
       "2  266783   2_4  2.999398  3.087500  {'actual_k': 40, 'was_impossible': False}\n",
       "3  266783   4_1  2.999398  3.204904  {'actual_k': 40, 'was_impossible': False}\n",
       "4  266783  5_11  2.999398  2.787500  {'actual_k': 40, 'was_impossible': False}"
      ]
     },
     "execution_count": 12,
     "metadata": {},
     "output_type": "execute_result"
    }
   ],
   "source": [
    "predictions_anti = algo.test(anti_set)\n",
    "all_unknown = pd.DataFrame(predictions_anti)\n",
    "all_unknown.head()"
   ]
  },
  {
   "cell_type": "markdown",
   "metadata": {},
   "source": [
    "* For a specific user"
   ]
  },
  {
   "cell_type": "code",
   "execution_count": 13,
   "metadata": {},
   "outputs": [
    {
     "data": {
      "text/html": [
       "<div>\n",
       "<style scoped>\n",
       "    .dataframe tbody tr th:only-of-type {\n",
       "        vertical-align: middle;\n",
       "    }\n",
       "\n",
       "    .dataframe tbody tr th {\n",
       "        vertical-align: top;\n",
       "    }\n",
       "\n",
       "    .dataframe thead th {\n",
       "        text-align: right;\n",
       "    }\n",
       "</style>\n",
       "<table border=\"1\" class=\"dataframe\">\n",
       "  <thead>\n",
       "    <tr style=\"text-align: right;\">\n",
       "      <th></th>\n",
       "      <th>uid</th>\n",
       "      <th>iid</th>\n",
       "      <th>r_ui</th>\n",
       "      <th>est</th>\n",
       "      <th>details</th>\n",
       "    </tr>\n",
       "  </thead>\n",
       "  <tbody>\n",
       "    <tr>\n",
       "      <th>9</th>\n",
       "      <td>266785</td>\n",
       "      <td>5_11</td>\n",
       "      <td>5.0</td>\n",
       "      <td>5.000000</td>\n",
       "      <td>{'actual_k': 40, 'was_impossible': False}</td>\n",
       "    </tr>\n",
       "    <tr>\n",
       "      <th>10</th>\n",
       "      <td>266785</td>\n",
       "      <td>6_10</td>\n",
       "      <td>5.0</td>\n",
       "      <td>5.000000</td>\n",
       "      <td>{'actual_k': 40, 'was_impossible': False}</td>\n",
       "    </tr>\n",
       "    <tr>\n",
       "      <th>6</th>\n",
       "      <td>266785</td>\n",
       "      <td>2_1</td>\n",
       "      <td>4.0</td>\n",
       "      <td>4.000000</td>\n",
       "      <td>{'actual_k': 40, 'was_impossible': False}</td>\n",
       "    </tr>\n",
       "    <tr>\n",
       "      <th>7</th>\n",
       "      <td>266785</td>\n",
       "      <td>2_4</td>\n",
       "      <td>3.5</td>\n",
       "      <td>3.416968</td>\n",
       "      <td>{'actual_k': 40, 'was_impossible': False}</td>\n",
       "    </tr>\n",
       "  </tbody>\n",
       "</table>\n",
       "</div>"
      ],
      "text/plain": [
       "       uid   iid  r_ui       est                                    details\n",
       "9   266785  5_11   5.0  5.000000  {'actual_k': 40, 'was_impossible': False}\n",
       "10  266785  6_10   5.0  5.000000  {'actual_k': 40, 'was_impossible': False}\n",
       "6   266785   2_1   4.0  4.000000  {'actual_k': 40, 'was_impossible': False}\n",
       "7   266785   2_4   3.5  3.416968  {'actual_k': 40, 'was_impossible': False}"
      ]
     },
     "execution_count": 13,
     "metadata": {},
     "output_type": "execute_result"
    }
   ],
   "source": [
    "treshold = 3.0\n",
    "\n",
    "known = all_known[(all_known['est']>treshold)&(all_known['uid']==CURRENT_USER)].sort_values(by=['est'], ascending=False)\n",
    "unknown = all_unknown[(all_unknown['est']>treshold)&(all_unknown['uid']==CURRENT_USER)].sort_values(by=['est'], ascending=False)\n",
    "\n",
    "known.head()"
   ]
  },
  {
   "cell_type": "code",
   "execution_count": 14,
   "metadata": {},
   "outputs": [
    {
     "data": {
      "text/html": [
       "<div>\n",
       "<style scoped>\n",
       "    .dataframe tbody tr th:only-of-type {\n",
       "        vertical-align: middle;\n",
       "    }\n",
       "\n",
       "    .dataframe tbody tr th {\n",
       "        vertical-align: top;\n",
       "    }\n",
       "\n",
       "    .dataframe thead th {\n",
       "        text-align: right;\n",
       "    }\n",
       "</style>\n",
       "<table border=\"1\" class=\"dataframe\">\n",
       "  <thead>\n",
       "    <tr style=\"text-align: right;\">\n",
       "      <th></th>\n",
       "      <th>uid</th>\n",
       "      <th>iid</th>\n",
       "      <th>r_ui</th>\n",
       "      <th>est</th>\n",
       "      <th>details</th>\n",
       "    </tr>\n",
       "  </thead>\n",
       "  <tbody>\n",
       "    <tr>\n",
       "      <th>47</th>\n",
       "      <td>266785</td>\n",
       "      <td>3_8</td>\n",
       "      <td>2.999398</td>\n",
       "      <td>3.500000</td>\n",
       "      <td>{'actual_k': 40, 'was_impossible': False}</td>\n",
       "    </tr>\n",
       "    <tr>\n",
       "      <th>40</th>\n",
       "      <td>266785</td>\n",
       "      <td>1_4</td>\n",
       "      <td>2.999398</td>\n",
       "      <td>3.431074</td>\n",
       "      <td>{'actual_k': 40, 'was_impossible': False}</td>\n",
       "    </tr>\n",
       "    <tr>\n",
       "      <th>53</th>\n",
       "      <td>266785</td>\n",
       "      <td>3_9</td>\n",
       "      <td>2.999398</td>\n",
       "      <td>3.350000</td>\n",
       "      <td>{'actual_k': 40, 'was_impossible': False}</td>\n",
       "    </tr>\n",
       "    <tr>\n",
       "      <th>56</th>\n",
       "      <td>266785</td>\n",
       "      <td>5_3</td>\n",
       "      <td>2.999398</td>\n",
       "      <td>3.262500</td>\n",
       "      <td>{'actual_k': 40, 'was_impossible': False}</td>\n",
       "    </tr>\n",
       "    <tr>\n",
       "      <th>55</th>\n",
       "      <td>266785</td>\n",
       "      <td>1_1</td>\n",
       "      <td>2.999398</td>\n",
       "      <td>3.225000</td>\n",
       "      <td>{'actual_k': 40, 'was_impossible': False}</td>\n",
       "    </tr>\n",
       "  </tbody>\n",
       "</table>\n",
       "</div>"
      ],
      "text/plain": [
       "       uid  iid      r_ui       est                                    details\n",
       "47  266785  3_8  2.999398  3.500000  {'actual_k': 40, 'was_impossible': False}\n",
       "40  266785  1_4  2.999398  3.431074  {'actual_k': 40, 'was_impossible': False}\n",
       "53  266785  3_9  2.999398  3.350000  {'actual_k': 40, 'was_impossible': False}\n",
       "56  266785  5_3  2.999398  3.262500  {'actual_k': 40, 'was_impossible': False}\n",
       "55  266785  1_1  2.999398  3.225000  {'actual_k': 40, 'was_impossible': False}"
      ]
     },
     "execution_count": 14,
     "metadata": {},
     "output_type": "execute_result"
    }
   ],
   "source": [
    "unknown.head()"
   ]
  },
  {
   "cell_type": "markdown",
   "metadata": {},
   "source": [
    "## E. Information about this method"
   ]
  },
  {
   "cell_type": "code",
   "execution_count": 15,
   "metadata": {},
   "outputs": [
    {
     "name": "stdout",
     "output_type": "stream",
     "text": [
      "RMSE: 0.0206\n",
      "On the nice_set, the RMSE score is : 0.020617845744627092\n"
     ]
    }
   ],
   "source": [
    "print('On the nice_set, the RMSE score is :', accuracy.rmse(predictions_nice))"
   ]
  },
  {
   "cell_type": "markdown",
   "metadata": {},
   "source": [
    "The RMSE score is lower, we have for this method 0.02"
   ]
  },
  {
   "cell_type": "markdown",
   "metadata": {},
   "source": [
    "# IV. Collaborative filtering user_based"
   ]
  },
  {
   "cell_type": "markdown",
   "metadata": {},
   "source": [
    "## A. Retrieving useful dataframe"
   ]
  },
  {
   "cell_type": "code",
   "execution_count": 16,
   "metadata": {},
   "outputs": [],
   "source": [
    "user_item_matrix = pd.read_hdf(\"output/user_item_matrix.hdf\",\"user_item_matrix\")\n",
    "Product_map = pd.read_csv(\"output/product_info_mapped.csv\")"
   ]
  },
  {
   "cell_type": "markdown",
   "metadata": {},
   "source": [
    "## B. Selecting a user_id and do prediction"
   ]
  },
  {
   "cell_type": "code",
   "execution_count": 17,
   "metadata": {},
   "outputs": [],
   "source": [
    "#we set here the max value at 10\n",
    "max_value = 10\n",
    "similar_user_indices = f4.similar_users(CURRENT_USER, user_item_matrix, k=6)\n",
    "pred_known_03 = f4.recommend_item_from_uid(CURRENT_USER, similar_user_indices, max_value, user_item_matrix,Product_map, True)\n",
    "pred_unknown_03 = f4.recommend_item_from_uid(CURRENT_USER, similar_user_indices, max_value, user_item_matrix,Product_map, False)"
   ]
  },
  {
   "cell_type": "markdown",
   "metadata": {},
   "source": [
    "## C. Display prediction for a specific user"
   ]
  },
  {
   "cell_type": "code",
   "execution_count": 18,
   "metadata": {},
   "outputs": [
    {
     "data": {
      "text/html": [
       "<div>\n",
       "<style scoped>\n",
       "    .dataframe tbody tr th:only-of-type {\n",
       "        vertical-align: middle;\n",
       "    }\n",
       "\n",
       "    .dataframe tbody tr th {\n",
       "        vertical-align: top;\n",
       "    }\n",
       "\n",
       "    .dataframe thead th {\n",
       "        text-align: right;\n",
       "    }\n",
       "</style>\n",
       "<table border=\"1\" class=\"dataframe\">\n",
       "  <thead>\n",
       "    <tr style=\"text-align: right;\">\n",
       "      <th></th>\n",
       "      <th>object_name</th>\n",
       "      <th>object_id</th>\n",
       "      <th>mean_from_similar_user</th>\n",
       "    </tr>\n",
       "  </thead>\n",
       "  <tbody>\n",
       "    <tr>\n",
       "      <th>7</th>\n",
       "      <td>Electronics_Computers</td>\n",
       "      <td>3_5</td>\n",
       "      <td>3.5</td>\n",
       "    </tr>\n",
       "    <tr>\n",
       "      <th>18</th>\n",
       "      <td>Books_DIY</td>\n",
       "      <td>5_6</td>\n",
       "      <td>3.0</td>\n",
       "    </tr>\n",
       "    <tr>\n",
       "      <th>4</th>\n",
       "      <td>Footwear_Women</td>\n",
       "      <td>2_3</td>\n",
       "      <td>2.0</td>\n",
       "    </tr>\n",
       "    <tr>\n",
       "      <th>8</th>\n",
       "      <td>Electronics_Personal Appliances</td>\n",
       "      <td>3_8</td>\n",
       "      <td>1.0</td>\n",
       "    </tr>\n",
       "    <tr>\n",
       "      <th>0</th>\n",
       "      <td>Clothing_Mens</td>\n",
       "      <td>1_4</td>\n",
       "      <td>0.0</td>\n",
       "    </tr>\n",
       "  </tbody>\n",
       "</table>\n",
       "</div>"
      ],
      "text/plain": [
       "                        object_name object_id  mean_from_similar_user\n",
       "7             Electronics_Computers       3_5                     3.5\n",
       "18                        Books_DIY       5_6                     3.0\n",
       "4                    Footwear_Women       2_3                     2.0\n",
       "8   Electronics_Personal Appliances       3_8                     1.0\n",
       "0                     Clothing_Mens       1_4                     0.0"
      ]
     },
     "execution_count": 18,
     "metadata": {},
     "output_type": "execute_result"
    }
   ],
   "source": [
    "pred_unknown_03.head()"
   ]
  },
  {
   "cell_type": "code",
   "execution_count": 19,
   "metadata": {},
   "outputs": [
    {
     "data": {
      "text/html": [
       "<div>\n",
       "<style scoped>\n",
       "    .dataframe tbody tr th:only-of-type {\n",
       "        vertical-align: middle;\n",
       "    }\n",
       "\n",
       "    .dataframe tbody tr th {\n",
       "        vertical-align: top;\n",
       "    }\n",
       "\n",
       "    .dataframe thead th {\n",
       "        text-align: right;\n",
       "    }\n",
       "</style>\n",
       "<table border=\"1\" class=\"dataframe\">\n",
       "  <thead>\n",
       "    <tr style=\"text-align: right;\">\n",
       "      <th></th>\n",
       "      <th>object_name</th>\n",
       "      <th>object_id</th>\n",
       "      <th>mean_from_similar_user</th>\n",
       "      <th>real_rating_from_266785</th>\n",
       "    </tr>\n",
       "  </thead>\n",
       "  <tbody>\n",
       "    <tr>\n",
       "      <th>0</th>\n",
       "      <td>Footwear_Kids</td>\n",
       "      <td>2_4</td>\n",
       "      <td>5.000000</td>\n",
       "      <td>3.5</td>\n",
       "    </tr>\n",
       "    <tr>\n",
       "      <th>1</th>\n",
       "      <td>Books_Children</td>\n",
       "      <td>5_11</td>\n",
       "      <td>3.666667</td>\n",
       "      <td>5.0</td>\n",
       "    </tr>\n",
       "    <tr>\n",
       "      <th>2</th>\n",
       "      <td>Home and kitchen_Kitchen</td>\n",
       "      <td>6_10</td>\n",
       "      <td>3.300000</td>\n",
       "      <td>5.0</td>\n",
       "    </tr>\n",
       "    <tr>\n",
       "      <th>3</th>\n",
       "      <td>Bags_Mens</td>\n",
       "      <td>4_1</td>\n",
       "      <td>3.000000</td>\n",
       "      <td>3.0</td>\n",
       "    </tr>\n",
       "    <tr>\n",
       "      <th>4</th>\n",
       "      <td>Footwear_Mens</td>\n",
       "      <td>2_1</td>\n",
       "      <td>2.250000</td>\n",
       "      <td>4.0</td>\n",
       "    </tr>\n",
       "  </tbody>\n",
       "</table>\n",
       "</div>"
      ],
      "text/plain": [
       "                object_name object_id  mean_from_similar_user  \\\n",
       "0             Footwear_Kids       2_4                5.000000   \n",
       "1            Books_Children      5_11                3.666667   \n",
       "2  Home and kitchen_Kitchen      6_10                3.300000   \n",
       "3                 Bags_Mens       4_1                3.000000   \n",
       "4             Footwear_Mens       2_1                2.250000   \n",
       "\n",
       "   real_rating_from_266785  \n",
       "0                      3.5  \n",
       "1                      5.0  \n",
       "2                      5.0  \n",
       "3                      3.0  \n",
       "4                      4.0  "
      ]
     },
     "execution_count": 19,
     "metadata": {},
     "output_type": "execute_result"
    }
   ],
   "source": [
    "pred_known_03.head()"
   ]
  },
  {
   "cell_type": "markdown",
   "metadata": {},
   "source": [
    "## D. Information about this method"
   ]
  },
  {
   "cell_type": "markdown",
   "metadata": {},
   "source": [
    "The RMSE score tends to 1.07, meaning that the estimated ratings on average are about 1.07 higher or lower than the actual ratings.\n",
    "Here, our scale is from 0 to 5, so it's is not a bit better than previous notebooks."
   ]
  },
  {
   "cell_type": "markdown",
   "metadata": {},
   "source": [
    "# V. Create the consolidated Data frame"
   ]
  },
  {
   "cell_type": "markdown",
   "metadata": {},
   "source": [
    "## A. Set up user"
   ]
  },
  {
   "cell_type": "code",
   "execution_count": 20,
   "metadata": {},
   "outputs": [
    {
     "name": "stdout",
     "output_type": "stream",
     "text": [
      "index: 4\n",
      "Id: 266794\n"
     ]
    }
   ],
   "source": [
    "CURRENT_USER = 266794\n",
    "\n",
    "index = False\n",
    "cust_id = CURRENT_USER\n",
    "\n",
    "customer_index, customer_id = f2.select_customer(index , cust_id, df_non_stand)\n",
    "print('index:', customer_index)\n",
    "print('Id:', customer_id)"
   ]
  },
  {
   "cell_type": "markdown",
   "metadata": {},
   "source": [
    "## B. Result for model_01"
   ]
  },
  {
   "cell_type": "code",
   "execution_count": 21,
   "metadata": {},
   "outputs": [
    {
     "name": "stdout",
     "output_type": "stream",
     "text": [
      "This len for list of neighbours for the cust_id : 266794 with a threshold of 0.99 : \n",
      "\n",
      "is actually 11 but we will restrict is to 10 \n",
      "\n"
     ]
    }
   ],
   "source": [
    "threshold = 0.99\n",
    "max_neighbours = 10\n",
    "\n",
    "pred_unknown_01, pred_known_01 = f2.do_prediction(customer_index, customer_id, max_neighbours, threshold,df_stand,df_non_stand,Product_mapped,user_item_matrix, verbose = True)"
   ]
  },
  {
   "cell_type": "markdown",
   "metadata": {},
   "source": [
    "## C. Result for model_02"
   ]
  },
  {
   "cell_type": "code",
   "execution_count": 22,
   "metadata": {},
   "outputs": [],
   "source": [
    "#treshold at 0 because we want all value here\n",
    "treshold = 0\n",
    "\n",
    "pred_known_02 = all_known[(all_known['est']>treshold)&(all_known['uid']==CURRENT_USER)].sort_values(by=['est'], ascending=False)\n",
    "pred_unknown_02 = all_unknown[(all_unknown['est']>treshold)&(all_unknown['uid']==CURRENT_USER)].sort_values(by=['est'], ascending=False)"
   ]
  },
  {
   "cell_type": "markdown",
   "metadata": {},
   "source": [
    "## D. Result for model_03"
   ]
  },
  {
   "cell_type": "code",
   "execution_count": 23,
   "metadata": {},
   "outputs": [],
   "source": [
    "max_value = 10\n",
    "\n",
    "similar_user_indices = f4.similar_users(CURRENT_USER, user_item_matrix, k=10)\n",
    "pred_known_03 = f4.recommend_item_from_uid(CURRENT_USER, similar_user_indices, max_value, user_item_matrix,Product_map, True)\n",
    "pred_unknown_03 = f4.recommend_item_from_uid(CURRENT_USER, similar_user_indices, max_value, user_item_matrix,Product_map, False)"
   ]
  },
  {
   "cell_type": "markdown",
   "metadata": {},
   "source": [
    "## E. Merging all known values for this user"
   ]
  },
  {
   "cell_type": "markdown",
   "metadata": {},
   "source": [
    "We now have 3 differents models, we can use weights to give more importance to one over the other.  \n",
    "We use A, B, and C as weight for respectively model 01, 02, 03.  \n",
    "\n",
    "For a reminder :\n",
    " - Model 01 is based on similarity over personal information\n",
    " - Model 02 is based on collaborative filtering using suprise library\n",
    " - Model 03 is based on collaborative filtering too but take cosine similarity between users and use the mean of unrating item to estimate unknown ratings"
   ]
  },
  {
   "cell_type": "code",
   "execution_count": 24,
   "metadata": {},
   "outputs": [],
   "source": [
    "A,B,C = 1,1,1\n",
    "consolidated_known = f5.consolidate_function(pred_known_01,pred_known_02, pred_known_03, A,B,C, known = True)"
   ]
  },
  {
   "cell_type": "code",
   "execution_count": 25,
   "metadata": {},
   "outputs": [
    {
     "data": {
      "text/html": [
       "<div>\n",
       "<style scoped>\n",
       "    .dataframe tbody tr th:only-of-type {\n",
       "        vertical-align: middle;\n",
       "    }\n",
       "\n",
       "    .dataframe tbody tr th {\n",
       "        vertical-align: top;\n",
       "    }\n",
       "\n",
       "    .dataframe thead th {\n",
       "        text-align: right;\n",
       "    }\n",
       "</style>\n",
       "<table border=\"1\" class=\"dataframe\">\n",
       "  <thead>\n",
       "    <tr style=\"text-align: right;\">\n",
       "      <th></th>\n",
       "      <th>object_name</th>\n",
       "      <th>object_id</th>\n",
       "      <th>real_rank</th>\n",
       "      <th>pred_01</th>\n",
       "      <th>pred_02</th>\n",
       "      <th>pred02_worked</th>\n",
       "      <th>pred_03</th>\n",
       "      <th>consolidated_estimation</th>\n",
       "    </tr>\n",
       "  </thead>\n",
       "  <tbody>\n",
       "    <tr>\n",
       "      <th>0</th>\n",
       "      <td>Bags_Women</td>\n",
       "      <td>4_4</td>\n",
       "      <td>3.0</td>\n",
       "      <td>4.000000</td>\n",
       "      <td>3.000000</td>\n",
       "      <td>True</td>\n",
       "      <td>3.400000</td>\n",
       "      <td>3.466667</td>\n",
       "    </tr>\n",
       "    <tr>\n",
       "      <th>1</th>\n",
       "      <td>Books_Academic</td>\n",
       "      <td>5_12</td>\n",
       "      <td>4.0</td>\n",
       "      <td>3.666667</td>\n",
       "      <td>4.000000</td>\n",
       "      <td>True</td>\n",
       "      <td>3.722222</td>\n",
       "      <td>3.796296</td>\n",
       "    </tr>\n",
       "    <tr>\n",
       "      <th>2</th>\n",
       "      <td>Clothing_Kids</td>\n",
       "      <td>1_3</td>\n",
       "      <td>3.5</td>\n",
       "      <td>3.333333</td>\n",
       "      <td>3.574694</td>\n",
       "      <td>True</td>\n",
       "      <td>3.357143</td>\n",
       "      <td>3.421723</td>\n",
       "    </tr>\n",
       "    <tr>\n",
       "      <th>3</th>\n",
       "      <td>Footwear_Women</td>\n",
       "      <td>2_3</td>\n",
       "      <td>2.5</td>\n",
       "      <td>3.000000</td>\n",
       "      <td>2.495468</td>\n",
       "      <td>True</td>\n",
       "      <td>4.333333</td>\n",
       "      <td>3.276267</td>\n",
       "    </tr>\n",
       "    <tr>\n",
       "      <th>4</th>\n",
       "      <td>Bags_Mens</td>\n",
       "      <td>4_1</td>\n",
       "      <td>2.0</td>\n",
       "      <td>3.000000</td>\n",
       "      <td>2.000000</td>\n",
       "      <td>True</td>\n",
       "      <td>2.500000</td>\n",
       "      <td>2.500000</td>\n",
       "    </tr>\n",
       "    <tr>\n",
       "      <th>5</th>\n",
       "      <td>Books_Children</td>\n",
       "      <td>5_11</td>\n",
       "      <td>3.0</td>\n",
       "      <td>3.000000</td>\n",
       "      <td>3.000000</td>\n",
       "      <td>True</td>\n",
       "      <td>2.400000</td>\n",
       "      <td>2.800000</td>\n",
       "    </tr>\n",
       "    <tr>\n",
       "      <th>6</th>\n",
       "      <td>Electronics_Personal Appliances</td>\n",
       "      <td>3_8</td>\n",
       "      <td>4.0</td>\n",
       "      <td>2.333333</td>\n",
       "      <td>4.000000</td>\n",
       "      <td>True</td>\n",
       "      <td>3.500000</td>\n",
       "      <td>3.277778</td>\n",
       "    </tr>\n",
       "    <tr>\n",
       "      <th>7</th>\n",
       "      <td>Electronics_Audio and video</td>\n",
       "      <td>3_10</td>\n",
       "      <td>1.5</td>\n",
       "      <td>0.000000</td>\n",
       "      <td>1.577476</td>\n",
       "      <td>True</td>\n",
       "      <td>2.500000</td>\n",
       "      <td>2.038738</td>\n",
       "    </tr>\n",
       "  </tbody>\n",
       "</table>\n",
       "</div>"
      ],
      "text/plain": [
       "                       object_name object_id  real_rank   pred_01   pred_02  \\\n",
       "0                       Bags_Women       4_4        3.0  4.000000  3.000000   \n",
       "1                   Books_Academic      5_12        4.0  3.666667  4.000000   \n",
       "2                    Clothing_Kids       1_3        3.5  3.333333  3.574694   \n",
       "3                   Footwear_Women       2_3        2.5  3.000000  2.495468   \n",
       "4                        Bags_Mens       4_1        2.0  3.000000  2.000000   \n",
       "5                   Books_Children      5_11        3.0  3.000000  3.000000   \n",
       "6  Electronics_Personal Appliances       3_8        4.0  2.333333  4.000000   \n",
       "7      Electronics_Audio and video      3_10        1.5  0.000000  1.577476   \n",
       "\n",
       "  pred02_worked   pred_03  consolidated_estimation  \n",
       "0          True  3.400000                 3.466667  \n",
       "1          True  3.722222                 3.796296  \n",
       "2          True  3.357143                 3.421723  \n",
       "3          True  4.333333                 3.276267  \n",
       "4          True  2.500000                 2.500000  \n",
       "5          True  2.400000                 2.800000  \n",
       "6          True  3.500000                 3.277778  \n",
       "7          True  2.500000                 2.038738  "
      ]
     },
     "execution_count": 25,
     "metadata": {},
     "output_type": "execute_result"
    }
   ],
   "source": [
    "consolidated_known"
   ]
  },
  {
   "cell_type": "markdown",
   "metadata": {},
   "source": [
    "When all weights A, B, C are set to 1, we can easily see that the prediction 2 is performing well better than other.  \n",
    "It will be logic that B should be higher than A and C."
   ]
  },
  {
   "cell_type": "markdown",
   "metadata": {},
   "source": [
    "## E. Finding the best way to consolidated all the metrics by running a loop over user"
   ]
  },
  {
   "cell_type": "code",
   "execution_count": 26,
   "metadata": {},
   "outputs": [],
   "source": [
    "def find_metrics(specific_user):\n",
    "    \n",
    "    #finding predictions for model_01 :     \n",
    "    customer_index, customer_id = f2.select_customer(index , specific_user, df_non_stand)\n",
    "    _, pred_known_01 = f2.do_prediction(customer_index, customer_id, max_neighbours, threshold,df_stand,\n",
    "                                                      df_non_stand,Product_mapped,user_item_matrix, verbose = False)\n",
    "\n",
    "    #finding predictions for model_02 : \n",
    "    pred_known_02 = all_known[(all_known['est']>treshold)&(all_known['uid']==customer_id)].sort_values(by=['est'], ascending=False)\n",
    "     \n",
    "    #finding predictions for model_03 : \n",
    "    similar_user_indices = f4.similar_users(specific_user, user_item_matrix, k=6)\n",
    "    pred_known_03 = f4.recommend_item_from_uid(specific_user, similar_user_indices, max_value, user_item_matrix,Product_map, True)\n",
    "       \n",
    "    consolidated_known = f5.consolidate_function(pred_known_01,pred_known_02, pred_known_03, A,B,C, known = True)\n",
    "    mse, rmse = f5.meatrics_mse_rmse_consolidated(consolidated_known)\n",
    "    MSE.append(mse)\n",
    "    RMSE.append(rmse)"
   ]
  },
  {
   "cell_type": "code",
   "execution_count": 27,
   "metadata": {},
   "outputs": [
    {
     "name": "stdout",
     "output_type": "stream",
     "text": [
      "took in sec : 134.1696081161499\n"
     ]
    },
    {
     "data": {
      "text/html": [
       "<div>\n",
       "<style scoped>\n",
       "    .dataframe tbody tr th:only-of-type {\n",
       "        vertical-align: middle;\n",
       "    }\n",
       "\n",
       "    .dataframe tbody tr th {\n",
       "        vertical-align: top;\n",
       "    }\n",
       "\n",
       "    .dataframe thead th {\n",
       "        text-align: right;\n",
       "    }\n",
       "</style>\n",
       "<table border=\"1\" class=\"dataframe\">\n",
       "  <thead>\n",
       "    <tr style=\"text-align: right;\">\n",
       "      <th></th>\n",
       "      <th>A</th>\n",
       "      <th>B</th>\n",
       "      <th>C</th>\n",
       "      <th>mean_mse</th>\n",
       "      <th>mean_rmse</th>\n",
       "    </tr>\n",
       "  </thead>\n",
       "  <tbody>\n",
       "    <tr>\n",
       "      <th>0</th>\n",
       "      <td>1</td>\n",
       "      <td>4</td>\n",
       "      <td>1</td>\n",
       "      <td>0.180883</td>\n",
       "      <td>0.396553</td>\n",
       "    </tr>\n",
       "    <tr>\n",
       "      <th>0</th>\n",
       "      <td>1</td>\n",
       "      <td>4</td>\n",
       "      <td>2</td>\n",
       "      <td>0.247168</td>\n",
       "      <td>0.464264</td>\n",
       "    </tr>\n",
       "    <tr>\n",
       "      <th>0</th>\n",
       "      <td>1</td>\n",
       "      <td>3</td>\n",
       "      <td>1</td>\n",
       "      <td>0.262168</td>\n",
       "      <td>0.478023</td>\n",
       "    </tr>\n",
       "    <tr>\n",
       "      <th>0</th>\n",
       "      <td>1</td>\n",
       "      <td>3</td>\n",
       "      <td>2</td>\n",
       "      <td>0.339432</td>\n",
       "      <td>0.544748</td>\n",
       "    </tr>\n",
       "    <tr>\n",
       "      <th>0</th>\n",
       "      <td>2</td>\n",
       "      <td>4</td>\n",
       "      <td>1</td>\n",
       "      <td>0.373752</td>\n",
       "      <td>0.568178</td>\n",
       "    </tr>\n",
       "    <tr>\n",
       "      <th>0</th>\n",
       "      <td>2</td>\n",
       "      <td>4</td>\n",
       "      <td>2</td>\n",
       "      <td>0.414349</td>\n",
       "      <td>0.602238</td>\n",
       "    </tr>\n",
       "    <tr>\n",
       "      <th>0</th>\n",
       "      <td>2</td>\n",
       "      <td>3</td>\n",
       "      <td>1</td>\n",
       "      <td>0.511603</td>\n",
       "      <td>0.665883</td>\n",
       "    </tr>\n",
       "    <tr>\n",
       "      <th>0</th>\n",
       "      <td>2</td>\n",
       "      <td>3</td>\n",
       "      <td>2</td>\n",
       "      <td>0.546415</td>\n",
       "      <td>0.692733</td>\n",
       "    </tr>\n",
       "  </tbody>\n",
       "</table>\n",
       "</div>"
      ],
      "text/plain": [
       "   A  B  C  mean_mse  mean_rmse\n",
       "0  1  4  1  0.180883   0.396553\n",
       "0  1  4  2  0.247168   0.464264\n",
       "0  1  3  1  0.262168   0.478023\n",
       "0  1  3  2  0.339432   0.544748\n",
       "0  2  4  1  0.373752   0.568178\n",
       "0  2  4  2  0.414349   0.602238\n",
       "0  2  3  1  0.511603   0.665883\n",
       "0  2  3  2  0.546415   0.692733"
      ]
     },
     "execution_count": 27,
     "metadata": {},
     "output_type": "execute_result"
    }
   ],
   "source": [
    "RMSE = []\n",
    "MSE = []\n",
    "list_user = ratings_table.userId.unique().tolist()\n",
    "\n",
    "t1 = time.time()\n",
    "\n",
    "df_result = pd.DataFrame(columns=['A','B','C','mean_mse', 'mean_rmse']) \n",
    "\n",
    "for A in [1,2]:\n",
    "    for B in [3,4]:\n",
    "        for C in [1,2]:\n",
    "            for i, usr in enumerate(list_user):\n",
    "                find_metrics(usr)\n",
    "\n",
    "                if i == 15: # we stop when we try it for 15 differents users\n",
    "                    \n",
    "                    L = [[A,B,C,statistics.mean(MSE), statistics.mean(RMSE)]]\n",
    "                    RMSE = []\n",
    "                    MSE = []\n",
    "                    \n",
    "                    df_result = df_result.append(pd.DataFrame(L,columns=['A','B','C','mean_mse', 'mean_rmse'] ))\n",
    "                    \n",
    "                    break\n",
    "                    \n",
    "t2 = time.time()\n",
    "\n",
    "print('took in sec :', (t2 - t1))   \n",
    "\n",
    "result_ABC = df_result.sort_values(by=['mean_rmse'], ascending = True)\n",
    "result_ABC.to_csv('output/result_ABC.csv')\n",
    "result_ABC.head(20)"
   ]
  },
  {
   "cell_type": "markdown",
   "metadata": {},
   "source": [
    "Now that we find a RMSE at 0.396 we can keep this set of value A,B,C at 1,4,1.   \n",
    "Meaning that we accord much more importance at B so the method 02 and less at method 01 and 03.  \n",
    "That is quite logic, because rmse for model 02 is close to 0.11. \n",
    "Here, the best model should be the one with B at 1 , A and C at 0.  \n",
    "But I want to conserve all those 3 models so, I user 1,4,1"
   ]
  },
  {
   "cell_type": "markdown",
   "metadata": {},
   "source": [
    "## F. Merging all unknown values for our specific user"
   ]
  },
  {
   "cell_type": "code",
   "execution_count": 28,
   "metadata": {},
   "outputs": [],
   "source": [
    "A,B,C = 1,4,1"
   ]
  },
  {
   "cell_type": "code",
   "execution_count": 29,
   "metadata": {},
   "outputs": [
    {
     "data": {
      "text/html": [
       "<div>\n",
       "<style scoped>\n",
       "    .dataframe tbody tr th:only-of-type {\n",
       "        vertical-align: middle;\n",
       "    }\n",
       "\n",
       "    .dataframe tbody tr th {\n",
       "        vertical-align: top;\n",
       "    }\n",
       "\n",
       "    .dataframe thead th {\n",
       "        text-align: right;\n",
       "    }\n",
       "</style>\n",
       "<table border=\"1\" class=\"dataframe\">\n",
       "  <thead>\n",
       "    <tr style=\"text-align: right;\">\n",
       "      <th></th>\n",
       "      <th>object_name</th>\n",
       "      <th>object_id</th>\n",
       "      <th>rank_by_default</th>\n",
       "      <th>pred_01</th>\n",
       "      <th>pred_02</th>\n",
       "      <th>pred02_worked</th>\n",
       "      <th>pred_03</th>\n",
       "      <th>consolidated_estimation</th>\n",
       "    </tr>\n",
       "  </thead>\n",
       "  <tbody>\n",
       "    <tr>\n",
       "      <th>0</th>\n",
       "      <td>Home and kitchen_Bath</td>\n",
       "      <td>6_11</td>\n",
       "      <td>2.999398</td>\n",
       "      <td>5.000000</td>\n",
       "      <td>3.336921</td>\n",
       "      <td>True</td>\n",
       "      <td>0.0</td>\n",
       "      <td>3.669537</td>\n",
       "    </tr>\n",
       "    <tr>\n",
       "      <th>1</th>\n",
       "      <td>Electronics_Computers</td>\n",
       "      <td>3_5</td>\n",
       "      <td>2.999398</td>\n",
       "      <td>4.666667</td>\n",
       "      <td>2.932011</td>\n",
       "      <td>True</td>\n",
       "      <td>2.0</td>\n",
       "      <td>3.065785</td>\n",
       "    </tr>\n",
       "    <tr>\n",
       "      <th>5</th>\n",
       "      <td>Home and kitchen_Furnishing</td>\n",
       "      <td>6_2</td>\n",
       "      <td>2.999398</td>\n",
       "      <td>4.000000</td>\n",
       "      <td>3.200000</td>\n",
       "      <td>True</td>\n",
       "      <td>1.0</td>\n",
       "      <td>2.966667</td>\n",
       "    </tr>\n",
       "    <tr>\n",
       "      <th>2</th>\n",
       "      <td>Books_DIY</td>\n",
       "      <td>5_6</td>\n",
       "      <td>2.999398</td>\n",
       "      <td>4.666667</td>\n",
       "      <td>2.525000</td>\n",
       "      <td>True</td>\n",
       "      <td>0.0</td>\n",
       "      <td>2.953333</td>\n",
       "    </tr>\n",
       "    <tr>\n",
       "      <th>8</th>\n",
       "      <td>Clothing_Mens</td>\n",
       "      <td>1_4</td>\n",
       "      <td>2.999398</td>\n",
       "      <td>3.000000</td>\n",
       "      <td>2.924156</td>\n",
       "      <td>True</td>\n",
       "      <td>3.0</td>\n",
       "      <td>2.949437</td>\n",
       "    </tr>\n",
       "    <tr>\n",
       "      <th>9</th>\n",
       "      <td>Electronics_Mobiles</td>\n",
       "      <td>3_4</td>\n",
       "      <td>2.999398</td>\n",
       "      <td>2.666667</td>\n",
       "      <td>2.987500</td>\n",
       "      <td>True</td>\n",
       "      <td>0.0</td>\n",
       "      <td>2.923333</td>\n",
       "    </tr>\n",
       "    <tr>\n",
       "      <th>7</th>\n",
       "      <td>Books_Non-Fiction</td>\n",
       "      <td>5_10</td>\n",
       "      <td>2.999398</td>\n",
       "      <td>3.666667</td>\n",
       "      <td>2.712500</td>\n",
       "      <td>True</td>\n",
       "      <td>3.0</td>\n",
       "      <td>2.919444</td>\n",
       "    </tr>\n",
       "    <tr>\n",
       "      <th>3</th>\n",
       "      <td>Books_Comics</td>\n",
       "      <td>5_3</td>\n",
       "      <td>2.999398</td>\n",
       "      <td>4.333333</td>\n",
       "      <td>2.425000</td>\n",
       "      <td>True</td>\n",
       "      <td>3.0</td>\n",
       "      <td>2.838889</td>\n",
       "    </tr>\n",
       "    <tr>\n",
       "      <th>4</th>\n",
       "      <td>Books_Fiction</td>\n",
       "      <td>5_7</td>\n",
       "      <td>2.999398</td>\n",
       "      <td>4.000000</td>\n",
       "      <td>2.888913</td>\n",
       "      <td>True</td>\n",
       "      <td>1.0</td>\n",
       "      <td>2.759275</td>\n",
       "    </tr>\n",
       "    <tr>\n",
       "      <th>6</th>\n",
       "      <td>Clothing_Women</td>\n",
       "      <td>1_1</td>\n",
       "      <td>2.999398</td>\n",
       "      <td>3.750000</td>\n",
       "      <td>2.512500</td>\n",
       "      <td>True</td>\n",
       "      <td>2.0</td>\n",
       "      <td>2.633333</td>\n",
       "    </tr>\n",
       "    <tr>\n",
       "      <th>12</th>\n",
       "      <td>Footwear_Kids</td>\n",
       "      <td>2_4</td>\n",
       "      <td>2.999398</td>\n",
       "      <td>2.000000</td>\n",
       "      <td>2.712500</td>\n",
       "      <td>True</td>\n",
       "      <td>2.0</td>\n",
       "      <td>2.475000</td>\n",
       "    </tr>\n",
       "    <tr>\n",
       "      <th>11</th>\n",
       "      <td>Electronics_Cameras</td>\n",
       "      <td>3_9</td>\n",
       "      <td>2.999398</td>\n",
       "      <td>2.500000</td>\n",
       "      <td>2.833063</td>\n",
       "      <td>True</td>\n",
       "      <td>1.0</td>\n",
       "      <td>2.472042</td>\n",
       "    </tr>\n",
       "    <tr>\n",
       "      <th>10</th>\n",
       "      <td>Footwear_Mens</td>\n",
       "      <td>2_1</td>\n",
       "      <td>2.999398</td>\n",
       "      <td>2.500000</td>\n",
       "      <td>2.425000</td>\n",
       "      <td>True</td>\n",
       "      <td>0.0</td>\n",
       "      <td>2.440000</td>\n",
       "    </tr>\n",
       "    <tr>\n",
       "      <th>14</th>\n",
       "      <td>Home and kitchen_Tools</td>\n",
       "      <td>6_12</td>\n",
       "      <td>2.999398</td>\n",
       "      <td>1.000000</td>\n",
       "      <td>2.887500</td>\n",
       "      <td>True</td>\n",
       "      <td>2.0</td>\n",
       "      <td>2.425000</td>\n",
       "    </tr>\n",
       "    <tr>\n",
       "      <th>13</th>\n",
       "      <td>Home and kitchen_Kitchen</td>\n",
       "      <td>6_10</td>\n",
       "      <td>2.999398</td>\n",
       "      <td>2.000000</td>\n",
       "      <td>2.637500</td>\n",
       "      <td>True</td>\n",
       "      <td>1.5</td>\n",
       "      <td>2.341667</td>\n",
       "    </tr>\n",
       "  </tbody>\n",
       "</table>\n",
       "</div>"
      ],
      "text/plain": [
       "                    object_name object_id  rank_by_default   pred_01  \\\n",
       "0         Home and kitchen_Bath      6_11         2.999398  5.000000   \n",
       "1         Electronics_Computers       3_5         2.999398  4.666667   \n",
       "5   Home and kitchen_Furnishing       6_2         2.999398  4.000000   \n",
       "2                     Books_DIY       5_6         2.999398  4.666667   \n",
       "8                 Clothing_Mens       1_4         2.999398  3.000000   \n",
       "9           Electronics_Mobiles       3_4         2.999398  2.666667   \n",
       "7             Books_Non-Fiction      5_10         2.999398  3.666667   \n",
       "3                  Books_Comics       5_3         2.999398  4.333333   \n",
       "4                 Books_Fiction       5_7         2.999398  4.000000   \n",
       "6                Clothing_Women       1_1         2.999398  3.750000   \n",
       "12                Footwear_Kids       2_4         2.999398  2.000000   \n",
       "11          Electronics_Cameras       3_9         2.999398  2.500000   \n",
       "10                Footwear_Mens       2_1         2.999398  2.500000   \n",
       "14       Home and kitchen_Tools      6_12         2.999398  1.000000   \n",
       "13     Home and kitchen_Kitchen      6_10         2.999398  2.000000   \n",
       "\n",
       "     pred_02 pred02_worked  pred_03  consolidated_estimation  \n",
       "0   3.336921          True      0.0                 3.669537  \n",
       "1   2.932011          True      2.0                 3.065785  \n",
       "5   3.200000          True      1.0                 2.966667  \n",
       "2   2.525000          True      0.0                 2.953333  \n",
       "8   2.924156          True      3.0                 2.949437  \n",
       "9   2.987500          True      0.0                 2.923333  \n",
       "7   2.712500          True      3.0                 2.919444  \n",
       "3   2.425000          True      3.0                 2.838889  \n",
       "4   2.888913          True      1.0                 2.759275  \n",
       "6   2.512500          True      2.0                 2.633333  \n",
       "12  2.712500          True      2.0                 2.475000  \n",
       "11  2.833063          True      1.0                 2.472042  \n",
       "10  2.425000          True      0.0                 2.440000  \n",
       "14  2.887500          True      2.0                 2.425000  \n",
       "13  2.637500          True      1.5                 2.341667  "
      ]
     },
     "execution_count": 29,
     "metadata": {},
     "output_type": "execute_result"
    }
   ],
   "source": [
    "final_prediction = f5.consolidate_function(pred_unknown_01,pred_unknown_02, pred_unknown_03, A,B,C, known = False).sort_values(by=['consolidated_estimation'], ascending = False)\n",
    "final_prediction"
   ]
  },
  {
   "cell_type": "markdown",
   "metadata": {},
   "source": [
    "So, we finnaly obtain our prediction for our specific customer.  \n",
    "In the next cell we can see the 3 best option for himm according to my choice ;)"
   ]
  },
  {
   "cell_type": "code",
   "execution_count": 30,
   "metadata": {},
   "outputs": [
    {
     "name": "stdout",
     "output_type": "stream",
     "text": [
      "The Top 5 best prediction for user_id 266794 are : \n",
      "\n"
     ]
    },
    {
     "data": {
      "text/html": [
       "<div>\n",
       "<style scoped>\n",
       "    .dataframe tbody tr th:only-of-type {\n",
       "        vertical-align: middle;\n",
       "    }\n",
       "\n",
       "    .dataframe tbody tr th {\n",
       "        vertical-align: top;\n",
       "    }\n",
       "\n",
       "    .dataframe thead th {\n",
       "        text-align: right;\n",
       "    }\n",
       "</style>\n",
       "<table border=\"1\" class=\"dataframe\">\n",
       "  <thead>\n",
       "    <tr style=\"text-align: right;\">\n",
       "      <th></th>\n",
       "      <th>object_name</th>\n",
       "      <th>object_id</th>\n",
       "      <th>rank_by_default</th>\n",
       "      <th>pred_01</th>\n",
       "      <th>pred_02</th>\n",
       "      <th>pred02_worked</th>\n",
       "      <th>pred_03</th>\n",
       "      <th>consolidated_estimation</th>\n",
       "    </tr>\n",
       "  </thead>\n",
       "  <tbody>\n",
       "    <tr>\n",
       "      <th>0</th>\n",
       "      <td>Home and kitchen_Bath</td>\n",
       "      <td>6_11</td>\n",
       "      <td>2.999398</td>\n",
       "      <td>5.000000</td>\n",
       "      <td>3.336921</td>\n",
       "      <td>True</td>\n",
       "      <td>0.0</td>\n",
       "      <td>3.669537</td>\n",
       "    </tr>\n",
       "    <tr>\n",
       "      <th>1</th>\n",
       "      <td>Electronics_Computers</td>\n",
       "      <td>3_5</td>\n",
       "      <td>2.999398</td>\n",
       "      <td>4.666667</td>\n",
       "      <td>2.932011</td>\n",
       "      <td>True</td>\n",
       "      <td>2.0</td>\n",
       "      <td>3.065785</td>\n",
       "    </tr>\n",
       "    <tr>\n",
       "      <th>5</th>\n",
       "      <td>Home and kitchen_Furnishing</td>\n",
       "      <td>6_2</td>\n",
       "      <td>2.999398</td>\n",
       "      <td>4.000000</td>\n",
       "      <td>3.200000</td>\n",
       "      <td>True</td>\n",
       "      <td>1.0</td>\n",
       "      <td>2.966667</td>\n",
       "    </tr>\n",
       "    <tr>\n",
       "      <th>2</th>\n",
       "      <td>Books_DIY</td>\n",
       "      <td>5_6</td>\n",
       "      <td>2.999398</td>\n",
       "      <td>4.666667</td>\n",
       "      <td>2.525000</td>\n",
       "      <td>True</td>\n",
       "      <td>0.0</td>\n",
       "      <td>2.953333</td>\n",
       "    </tr>\n",
       "    <tr>\n",
       "      <th>8</th>\n",
       "      <td>Clothing_Mens</td>\n",
       "      <td>1_4</td>\n",
       "      <td>2.999398</td>\n",
       "      <td>3.000000</td>\n",
       "      <td>2.924156</td>\n",
       "      <td>True</td>\n",
       "      <td>3.0</td>\n",
       "      <td>2.949437</td>\n",
       "    </tr>\n",
       "  </tbody>\n",
       "</table>\n",
       "</div>"
      ],
      "text/plain": [
       "                   object_name object_id  rank_by_default   pred_01   pred_02  \\\n",
       "0        Home and kitchen_Bath      6_11         2.999398  5.000000  3.336921   \n",
       "1        Electronics_Computers       3_5         2.999398  4.666667  2.932011   \n",
       "5  Home and kitchen_Furnishing       6_2         2.999398  4.000000  3.200000   \n",
       "2                    Books_DIY       5_6         2.999398  4.666667  2.525000   \n",
       "8                Clothing_Mens       1_4         2.999398  3.000000  2.924156   \n",
       "\n",
       "  pred02_worked  pred_03  consolidated_estimation  \n",
       "0          True      0.0                 3.669537  \n",
       "1          True      2.0                 3.065785  \n",
       "5          True      1.0                 2.966667  \n",
       "2          True      0.0                 2.953333  \n",
       "8          True      3.0                 2.949437  "
      ]
     },
     "execution_count": 30,
     "metadata": {},
     "output_type": "execute_result"
    }
   ],
   "source": [
    "print(f'The Top 5 best prediction for user_id {CURRENT_USER} are : \\n')\n",
    "final_prediction.head(5)"
   ]
  },
  {
   "cell_type": "markdown",
   "metadata": {},
   "source": [
    "## This is the end of the fifth part and final part.\n",
    "## I hope you enjoy this reading"
   ]
  }
 ],
 "metadata": {
  "kernelspec": {
   "display_name": "Python 3",
   "language": "python",
   "name": "python3"
  },
  "language_info": {
   "codemirror_mode": {
    "name": "ipython",
    "version": 3
   },
   "file_extension": ".py",
   "mimetype": "text/x-python",
   "name": "python",
   "nbconvert_exporter": "python",
   "pygments_lexer": "ipython3",
   "version": "3.8.3"
  }
 },
 "nbformat": 4,
 "nbformat_minor": 4
}
