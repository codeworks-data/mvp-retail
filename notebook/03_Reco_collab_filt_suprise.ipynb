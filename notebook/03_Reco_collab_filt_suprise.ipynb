{
 "cells": [
  {
   "cell_type": "markdown",
   "metadata": {},
   "source": [
    "# Part 3: Recommendation system for retail using collaborative filtering memory based"
   ]
  },
  {
   "cell_type": "markdown",
   "metadata": {},
   "source": [
    "# In this notebook we will focus on surprise library which allows us to facilitate recommandation\n",
    "I use some articles during the creation of this notebook  :  \n",
    "* https://gist.github.com/pankajti/e631e8f6ce067fc76dfacedd9e4923ca#file-surprise_knn_recommendation-ipynb  \n",
    "* https://towardsdatascience.com/how-to-build-a-memory-based-recommendation-system-using-python-surprise-55f3257b2cf4  \n",
    "* https://pankaj-tiwari2.medium.com/neighborhood-based-collaborative-filtering-in-python-using-surprise-fe9d5700cb58\n",
    "* https://towardsdatascience.com/building-and-testing-recommender-systems-with-surprise-step-by-step-d4ba702ef80b"
   ]
  },
  {
   "cell_type": "markdown",
   "metadata": {},
   "source": [
    "This notebook will mainly focus on the collaborative filtering approach.  \n",
    "A user will be recommended items that people with similar tastes and preferences liked in the past.  \n",
    "So, this method predicts unknown ratings by using the similarities between users."
   ]
  },
  {
   "cell_type": "markdown",
   "metadata": {},
   "source": [
    "# The summary of the notebook is written below"
   ]
  },
  {
   "cell_type": "markdown",
   "metadata": {},
   "source": [
    "I. Import useful library and python file containing our functions\n",
    "\n",
    "II. Retrieving our data from a previous notebook  \n",
    "\n",
    "* A. Ratings_table, the basic table\n",
    "\n",
    "III. Preparing our differents set of data\n",
    "\n",
    "* A. Load our full ratings_table as data\n",
    "* B. Create the anti_set\n",
    "* C. Create the nice_set\n",
    "* D. Information about the full data  \n",
    "\n",
    "IV. Train a model  \n",
    "\n",
    "* A. Choosing the best algorithm\n",
    "* B. Trainning the best algorithm\n",
    "\n",
    "V. Prediction  \n",
    "\n",
    "* A. Prediction on a pair (userid and an itemid)\n",
    "* B. Prediction on an user_id\n",
    "* C. Checking metrics\n",
    "* D. Dislpay Result\n"
   ]
  },
  {
   "cell_type": "markdown",
   "metadata": {},
   "source": [
    "# I. Import useful library and python file containing our functions"
   ]
  },
  {
   "cell_type": "code",
   "execution_count": 4,
   "metadata": {},
   "outputs": [],
   "source": [
    "import pandas as pd\n",
    "import time\n",
    "from surprise import SVD\n",
    "from surprise import Dataset\n",
    "from surprise import accuracy\n",
    "from surprise.model_selection import train_test_split\n",
    "from surprise import KNNBasic,  KNNWithMeans, KNNBaseline, KNNWithZScore\n",
    "from surprise.model_selection import KFold\n",
    "from surprise import Reader\n",
    "from surprise import NormalPredictor\n",
    "from surprise.model_selection import cross_validate\n",
    "import matplotlib.pyplot as plt\n",
    "import seaborn as sns\n",
    "from surprise.model_selection import GridSearchCV"
   ]
  },
  {
   "cell_type": "markdown",
   "metadata": {},
   "source": [
    "You can see here a link to the surprise library to have more information : http://surpriselib.com"
   ]
  },
  {
   "cell_type": "markdown",
   "metadata": {},
   "source": [
    "# II. Retrieving our data from a previous notebook"
   ]
  },
  {
   "cell_type": "markdown",
   "metadata": {},
   "source": [
    "## A. Ratings_table, the basic table"
   ]
  },
  {
   "cell_type": "markdown",
   "metadata": {},
   "source": [
    "We use ratings_table as our basic table meaning that this table contain all needed information for this notebook.  \n",
    "* userId\n",
    "* rating\n",
    "* ItemID\n",
    "* Item_Name\n",
    "\n",
    "Moreover, this data frame contain only cust_id with more than 3 transactions"
   ]
  },
  {
   "cell_type": "code",
   "execution_count": 5,
   "metadata": {},
   "outputs": [
    {
     "data": {
      "text/html": [
       "<div>\n",
       "<style scoped>\n",
       "    .dataframe tbody tr th:only-of-type {\n",
       "        vertical-align: middle;\n",
       "    }\n",
       "\n",
       "    .dataframe tbody tr th {\n",
       "        vertical-align: top;\n",
       "    }\n",
       "\n",
       "    .dataframe thead th {\n",
       "        text-align: right;\n",
       "    }\n",
       "</style>\n",
       "<table border=\"1\" class=\"dataframe\">\n",
       "  <thead>\n",
       "    <tr style=\"text-align: right;\">\n",
       "      <th></th>\n",
       "      <th>userId</th>\n",
       "      <th>ItemId</th>\n",
       "      <th>Item_Name</th>\n",
       "      <th>rating</th>\n",
       "    </tr>\n",
       "  </thead>\n",
       "  <tbody>\n",
       "    <tr>\n",
       "      <th>0</th>\n",
       "      <td>266783</td>\n",
       "      <td>1_4</td>\n",
       "      <td>Clothing_Mens</td>\n",
       "      <td>2.0</td>\n",
       "    </tr>\n",
       "    <tr>\n",
       "      <th>1</th>\n",
       "      <td>266783</td>\n",
       "      <td>2_1</td>\n",
       "      <td>Footwear_Mens</td>\n",
       "      <td>4.0</td>\n",
       "    </tr>\n",
       "    <tr>\n",
       "      <th>2</th>\n",
       "      <td>266783</td>\n",
       "      <td>5_10</td>\n",
       "      <td>Books_Non-Fiction</td>\n",
       "      <td>2.0</td>\n",
       "    </tr>\n",
       "    <tr>\n",
       "      <th>3</th>\n",
       "      <td>266784</td>\n",
       "      <td>3_4</td>\n",
       "      <td>Electronics_Mobiles</td>\n",
       "      <td>2.0</td>\n",
       "    </tr>\n",
       "    <tr>\n",
       "      <th>4</th>\n",
       "      <td>266784</td>\n",
       "      <td>5_10</td>\n",
       "      <td>Books_Non-Fiction</td>\n",
       "      <td>3.0</td>\n",
       "    </tr>\n",
       "  </tbody>\n",
       "</table>\n",
       "</div>"
      ],
      "text/plain": [
       "   userId ItemId            Item_Name  rating\n",
       "0  266783    1_4        Clothing_Mens     2.0\n",
       "1  266783    2_1        Footwear_Mens     4.0\n",
       "2  266783   5_10    Books_Non-Fiction     2.0\n",
       "3  266784    3_4  Electronics_Mobiles     2.0\n",
       "4  266784   5_10    Books_Non-Fiction     3.0"
      ]
     },
     "execution_count": 5,
     "metadata": {},
     "output_type": "execute_result"
    }
   ],
   "source": [
    "ratings_table = pd.read_csv('output/rating_table.csv')\n",
    "ratings_table = ratings_table.rename(columns={\"cust_id\": \"userId\", \"object_id\": \"ItemId\", \"rank\": \"rating\", \"object_name\": \"Item_Name\"})\n",
    "ratings_table = ratings_table.groupby(['userId', 'ItemId', 'Item_Name'])[['rating']].mean().reset_index()\n",
    "ratings_table.head()"
   ]
  },
  {
   "cell_type": "markdown",
   "metadata": {},
   "source": [
    "So, we have 18 437 transactions and 4031 uniques customers"
   ]
  },
  {
   "cell_type": "code",
   "execution_count": 6,
   "metadata": {},
   "outputs": [
    {
     "name": "stdout",
     "output_type": "stream",
     "text": [
      "shape of the ratings_table: (16880, 4)\n",
      "numbers of uniques customer: 4031\n"
     ]
    }
   ],
   "source": [
    "print('shape of the ratings_table:', ratings_table.shape)\n",
    "print('numbers of uniques customer:', len(ratings_table.userId.unique()))"
   ]
  },
  {
   "cell_type": "markdown",
   "metadata": {},
   "source": [
    "# III. Preparing our differents set of data"
   ]
  },
  {
   "cell_type": "markdown",
   "metadata": {},
   "source": [
    "## A. Load our full ratings_table as data"
   ]
  },
  {
   "cell_type": "code",
   "execution_count": 7,
   "metadata": {},
   "outputs": [],
   "source": [
    "reader = Reader(rating_scale=(1, 5))\n",
    "# The columns must correspond to user_id, item_id and ratings (in that order).\n",
    "data = Dataset.load_from_df(ratings_table[['userId', 'ItemId', 'rating']], reader)"
   ]
  },
  {
   "cell_type": "markdown",
   "metadata": {},
   "source": [
    "## B. Create the anti_set"
   ]
  },
  {
   "cell_type": "markdown",
   "metadata": {},
   "source": [
    "An antiset is a set of those user and item pairs for which a rating doesn't exist in original dataset.  \n",
    "This is the set for which we are trying to predict ratings.  \n",
    "For example in following example userId 270384 has not rated ItemID 5_3, 5_12...  \n",
    "Surprise creates a set of such combinations by providing a default average rating.  \n",
    "We will be calculating an estimated rating for this set using our model."
   ]
  },
  {
   "cell_type": "code",
   "execution_count": 8,
   "metadata": {},
   "outputs": [
    {
     "data": {
      "text/plain": [
       "[(266783, '3_4', 2.999397709320695),\n",
       " (266783, '5_7', 2.999397709320695),\n",
       " (266783, '2_4', 2.999397709320695),\n",
       " (266783, '4_1', 2.999397709320695)]"
      ]
     },
     "execution_count": 8,
     "metadata": {},
     "output_type": "execute_result"
    }
   ],
   "source": [
    "# we create here an anti_set\n",
    "anti_set = data.build_full_trainset().build_anti_testset()\n",
    "anti_set[:4]"
   ]
  },
  {
   "cell_type": "markdown",
   "metadata": {},
   "source": [
    "For anti_set, we assign a mean value as a default value before prediction, so here it's 2.999. "
   ]
  },
  {
   "cell_type": "markdown",
   "metadata": {},
   "source": [
    "## C. Create the nice_set"
   ]
  },
  {
   "cell_type": "markdown",
   "metadata": {},
   "source": [
    "We create also a nice_set.  \n",
    "In the nice_set, we will only have our combinaison of userdId andIitemId which are already rated.  \n",
    "We can see here the real value of the rating."
   ]
  },
  {
   "cell_type": "code",
   "execution_count": 9,
   "metadata": {},
   "outputs": [
    {
     "data": {
      "text/plain": [
       "[(266783, '1_4', 2.0),\n",
       " (266783, '2_1', 4.0),\n",
       " (266783, '5_10', 2.0),\n",
       " (266784, '3_4', 2.0)]"
      ]
     },
     "execution_count": 9,
     "metadata": {},
     "output_type": "execute_result"
    }
   ],
   "source": [
    "# we create here a nice_set\n",
    "nice_set = data.build_full_trainset().build_testset()\n",
    "nice_set[:4]"
   ]
  },
  {
   "cell_type": "markdown",
   "metadata": {},
   "source": [
    "Here, we retrive the real rate for the couple (user, item)"
   ]
  },
  {
   "cell_type": "markdown",
   "metadata": {},
   "source": [
    "## D. Information about the full data"
   ]
  },
  {
   "cell_type": "code",
   "execution_count": 10,
   "metadata": {},
   "outputs": [
    {
     "data": {
      "text/html": [
       "<div>\n",
       "<style scoped>\n",
       "    .dataframe tbody tr th:only-of-type {\n",
       "        vertical-align: middle;\n",
       "    }\n",
       "\n",
       "    .dataframe tbody tr th {\n",
       "        vertical-align: top;\n",
       "    }\n",
       "\n",
       "    .dataframe thead th {\n",
       "        text-align: right;\n",
       "    }\n",
       "</style>\n",
       "<table border=\"1\" class=\"dataframe\">\n",
       "  <thead>\n",
       "    <tr style=\"text-align: right;\">\n",
       "      <th></th>\n",
       "      <th>ItemId</th>\n",
       "      <th>Item_Name</th>\n",
       "    </tr>\n",
       "  </thead>\n",
       "  <tbody>\n",
       "    <tr>\n",
       "      <th>0</th>\n",
       "      <td>1_4</td>\n",
       "      <td>Clothing_Mens</td>\n",
       "    </tr>\n",
       "    <tr>\n",
       "      <th>1</th>\n",
       "      <td>2_1</td>\n",
       "      <td>Footwear_Mens</td>\n",
       "    </tr>\n",
       "  </tbody>\n",
       "</table>\n",
       "</div>"
      ],
      "text/plain": [
       "  ItemId      Item_Name\n",
       "0    1_4  Clothing_Mens\n",
       "1    2_1  Footwear_Mens"
      ]
     },
     "metadata": {},
     "output_type": "display_data"
    },
    {
     "data": {
      "text/html": [
       "<div>\n",
       "<style scoped>\n",
       "    .dataframe tbody tr th:only-of-type {\n",
       "        vertical-align: middle;\n",
       "    }\n",
       "\n",
       "    .dataframe tbody tr th {\n",
       "        vertical-align: top;\n",
       "    }\n",
       "\n",
       "    .dataframe thead th {\n",
       "        text-align: right;\n",
       "    }\n",
       "</style>\n",
       "<table border=\"1\" class=\"dataframe\">\n",
       "  <thead>\n",
       "    <tr style=\"text-align: right;\">\n",
       "      <th></th>\n",
       "      <th>userId</th>\n",
       "    </tr>\n",
       "  </thead>\n",
       "  <tbody>\n",
       "    <tr>\n",
       "      <th>0</th>\n",
       "      <td>266783</td>\n",
       "    </tr>\n",
       "    <tr>\n",
       "      <th>3</th>\n",
       "      <td>266784</td>\n",
       "    </tr>\n",
       "  </tbody>\n",
       "</table>\n",
       "</div>"
      ],
      "text/plain": [
       "   userId\n",
       "0  266783\n",
       "3  266784"
      ]
     },
     "metadata": {},
     "output_type": "display_data"
    }
   ],
   "source": [
    "items = ratings_table[['ItemId' , 'Item_Name']].drop_duplicates(['ItemId' , 'Item_Name'])\n",
    "users = ratings_table[['userId']].drop_duplicates(['userId'])\n",
    "display(items.head(2))\n",
    "display(users.head(2))"
   ]
  },
  {
   "cell_type": "code",
   "execution_count": 11,
   "metadata": {},
   "outputs": [
    {
     "name": "stdout",
     "output_type": "stream",
     "text": [
      "Number of users:  4031 \n",
      "\n",
      "Number of items:  23 \n",
      "\n"
     ]
    }
   ],
   "source": [
    "trainsetfull = data.build_full_trainset()\n",
    "print('Number of users: ', trainsetfull.n_users, '\\n')\n",
    "print('Number of items: ', trainsetfull.n_items, '\\n')"
   ]
  },
  {
   "cell_type": "markdown",
   "metadata": {},
   "source": [
    "# IV. Train a model"
   ]
  },
  {
   "cell_type": "markdown",
   "metadata": {},
   "source": [
    "## A. Choosing the best algorithm"
   ]
  },
  {
   "cell_type": "markdown",
   "metadata": {},
   "source": [
    "We use cross validatin technique to estimate the best algo"
   ]
  },
  {
   "cell_type": "markdown",
   "metadata": {},
   "source": [
    "* cross-validated a number of model types with different parameters,\n",
    "* selected the configuration with the lowest average test RMSE score,\n",
    "* trained that model on the whole Dataset,\n",
    "* used it for predictions."
   ]
  },
  {
   "cell_type": "markdown",
   "metadata": {},
   "source": [
    "On this next cell, we can change the model and try many cross_validation.  \n",
    "\n",
    "We try SVD(), KNNWithMeans, KNNBasic, KNNWithZScore, KNNBaseline"
   ]
  },
  {
   "cell_type": "markdown",
   "metadata": {},
   "source": [
    "We create a data frame named DF_result to expose all our model test in order to choose with best result"
   ]
  },
  {
   "cell_type": "code",
   "execution_count": 64,
   "metadata": {},
   "outputs": [
    {
     "name": "stdout",
     "output_type": "stream",
     "text": [
      "Estimating biases using als...\n",
      "Computing the msd similarity matrix...\n",
      "Done computing similarity matrix.\n",
      "Estimating biases using als...\n",
      "Computing the msd similarity matrix...\n",
      "Done computing similarity matrix.\n",
      "Estimating biases using als...\n",
      "Computing the msd similarity matrix...\n",
      "Done computing similarity matrix.\n",
      "Computing the msd similarity matrix...\n",
      "Done computing similarity matrix.\n",
      "Computing the msd similarity matrix...\n",
      "Done computing similarity matrix.\n",
      "Computing the msd similarity matrix...\n",
      "Done computing similarity matrix.\n",
      "Computing the msd similarity matrix...\n",
      "Done computing similarity matrix.\n",
      "Computing the msd similarity matrix...\n",
      "Done computing similarity matrix.\n",
      "Computing the msd similarity matrix...\n",
      "Done computing similarity matrix.\n",
      "Computing the msd similarity matrix...\n",
      "Done computing similarity matrix.\n",
      "Computing the msd similarity matrix...\n",
      "Done computing similarity matrix.\n",
      "Computing the msd similarity matrix...\n",
      "Done computing similarity matrix.\n"
     ]
    },
    {
     "data": {
      "text/html": [
       "<div>\n",
       "<style scoped>\n",
       "    .dataframe tbody tr th:only-of-type {\n",
       "        vertical-align: middle;\n",
       "    }\n",
       "\n",
       "    .dataframe tbody tr th {\n",
       "        vertical-align: top;\n",
       "    }\n",
       "\n",
       "    .dataframe thead th {\n",
       "        text-align: right;\n",
       "    }\n",
       "</style>\n",
       "<table border=\"1\" class=\"dataframe\">\n",
       "  <thead>\n",
       "    <tr style=\"text-align: right;\">\n",
       "      <th></th>\n",
       "      <th>test_rmse</th>\n",
       "      <th>fit_time</th>\n",
       "      <th>test_time</th>\n",
       "    </tr>\n",
       "    <tr>\n",
       "      <th>Algorithm</th>\n",
       "      <th></th>\n",
       "      <th></th>\n",
       "      <th></th>\n",
       "    </tr>\n",
       "  </thead>\n",
       "  <tbody>\n",
       "    <tr>\n",
       "      <th>KNNBasic</th>\n",
       "      <td>1.410192</td>\n",
       "      <td>0.494234</td>\n",
       "      <td>1.405025</td>\n",
       "    </tr>\n",
       "    <tr>\n",
       "      <th>KNNBaseline</th>\n",
       "      <td>1.412596</td>\n",
       "      <td>0.605503</td>\n",
       "      <td>1.520622</td>\n",
       "    </tr>\n",
       "    <tr>\n",
       "      <th>SVD</th>\n",
       "      <td>1.442522</td>\n",
       "      <td>0.571950</td>\n",
       "      <td>0.033864</td>\n",
       "    </tr>\n",
       "    <tr>\n",
       "      <th>KNNWithMeans</th>\n",
       "      <td>1.590514</td>\n",
       "      <td>0.557834</td>\n",
       "      <td>1.395574</td>\n",
       "    </tr>\n",
       "    <tr>\n",
       "      <th>KNNWithZScore</th>\n",
       "      <td>1.603060</td>\n",
       "      <td>0.631478</td>\n",
       "      <td>1.538227</td>\n",
       "    </tr>\n",
       "  </tbody>\n",
       "</table>\n",
       "</div>"
      ],
      "text/plain": [
       "               test_rmse  fit_time  test_time\n",
       "Algorithm                                    \n",
       "KNNBasic        1.410192  0.494234   1.405025\n",
       "KNNBaseline     1.412596  0.605503   1.520622\n",
       "SVD             1.442522  0.571950   0.033864\n",
       "KNNWithMeans    1.590514  0.557834   1.395574\n",
       "KNNWithZScore   1.603060  0.631478   1.538227"
      ]
     },
     "execution_count": 64,
     "metadata": {},
     "output_type": "execute_result"
    }
   ],
   "source": [
    "benchmark = []\n",
    "\n",
    "# Iterate over all algorithms\n",
    "for algorithm in [SVD(), KNNBaseline(), KNNBasic(), KNNWithMeans(), KNNWithZScore()]:\n",
    "    \n",
    "    # Perform cross validation\n",
    "    results = cross_validate(algorithm, data, measures=['RMSE'], cv=3, verbose=False)\n",
    "    \n",
    "    # Get results & append algorithm name\n",
    "    tmp = pd.DataFrame.from_dict(results).mean(axis=0)\n",
    "    tmp = tmp.append(pd.Series([str(algorithm).split(' ')[0].split('.')[-1]], index=['Algorithm']))\n",
    "    benchmark.append(tmp)\n",
    "    \n",
    "result = pd.DataFrame(benchmark).set_index('Algorithm').sort_values('test_rmse')   \n",
    "result"
   ]
  },
  {
   "cell_type": "markdown",
   "metadata": {},
   "source": [
    "We select the best result thanks to the data frame result below."
   ]
  },
  {
   "cell_type": "markdown",
   "metadata": {},
   "source": [
    "So, we can see that the best algorithm is KNNBasic.\n",
    "This allow us to have a mean RMSE at 1.41 for the cross validation"
   ]
  },
  {
   "cell_type": "markdown",
   "metadata": {},
   "source": [
    "## B. Trainning the best algorithm"
   ]
  },
  {
   "cell_type": "markdown",
   "metadata": {},
   "source": [
    "Now that we find a good algorithm, we need to train it on the full dataset in order to do prediction "
   ]
  },
  {
   "cell_type": "code",
   "execution_count": 65,
   "metadata": {},
   "outputs": [
    {
     "name": "stdout",
     "output_type": "stream",
     "text": [
      "Computing the msd similarity matrix...\n",
      "Done computing similarity matrix.\n"
     ]
    },
    {
     "data": {
      "text/plain": [
       "<surprise.prediction_algorithms.knns.KNNBasic at 0x7fb77be23820>"
      ]
     },
     "execution_count": 65,
     "metadata": {},
     "output_type": "execute_result"
    }
   ],
   "source": [
    "algo = KNNBasic()\n",
    "algo.fit(trainsetfull)"
   ]
  },
  {
   "cell_type": "markdown",
   "metadata": {},
   "source": [
    "We can see information about the chosen algorithm : "
   ]
  },
  {
   "cell_type": "code",
   "execution_count": 66,
   "metadata": {},
   "outputs": [
    {
     "name": "stdout",
     "output_type": "stream",
     "text": [
      "algo: KNNBasic, k = 40, min_k = 1, sim = {'user_based': True}\n"
     ]
    }
   ],
   "source": [
    "print('algo: {0}, k = {1}, min_k = {2}, sim = {3}'.format(algo.__class__.__name__, algo.k, algo.min_k, algo.sim_options))"
   ]
  },
  {
   "cell_type": "markdown",
   "metadata": {},
   "source": [
    "# V. Prediction"
   ]
  },
  {
   "cell_type": "markdown",
   "metadata": {},
   "source": [
    "## A. Prediction on a pair (userid and an itemid)"
   ]
  },
  {
   "cell_type": "code",
   "execution_count": 67,
   "metadata": {},
   "outputs": [
    {
     "data": {
      "text/plain": [
       "Prediction(uid=270384, iid='5_12', r_ui=None, est=2.725, details={'actual_k': 40, 'was_impossible': False})"
      ]
     },
     "execution_count": 67,
     "metadata": {},
     "output_type": "execute_result"
    }
   ],
   "source": [
    "algo.predict(uid = 270384, iid = '5_12')"
   ]
  },
  {
   "cell_type": "markdown",
   "metadata": {},
   "source": [
    "In this case, the prediction for the cust_id 270384 and the item 5_12 will be around 2.79"
   ]
  },
  {
   "cell_type": "markdown",
   "metadata": {},
   "source": [
    "## B. Prediction on an user_id"
   ]
  },
  {
   "cell_type": "markdown",
   "metadata": {},
   "source": [
    "With anti_pred_df, we do the prediction for all unknown rate with the anti_set"
   ]
  },
  {
   "cell_type": "code",
   "execution_count": 68,
   "metadata": {},
   "outputs": [],
   "source": [
    "anti_pre = algo.test(anti_set)\n",
    "anti_pred_df = pd.DataFrame(anti_pre).merge(items , left_on = ['iid'], right_on = ['ItemId'])\n",
    "anti_pred_df = pd.DataFrame(anti_pred_df).merge(users , left_on = ['uid'], right_on = ['userId'])"
   ]
  },
  {
   "cell_type": "markdown",
   "metadata": {},
   "source": [
    "In the data frame below, r_ui correspond to the rating of the customer for the item but if the result is 2.999398,  \n",
    "it's ean that the customer never rate this item yet.   \n",
    "r_ui stand for rating between user and item.  \n",
    "est is the estimation for the rating for the couple (user,item)"
   ]
  },
  {
   "cell_type": "code",
   "execution_count": 69,
   "metadata": {},
   "outputs": [
    {
     "data": {
      "text/html": [
       "<div>\n",
       "<style scoped>\n",
       "    .dataframe tbody tr th:only-of-type {\n",
       "        vertical-align: middle;\n",
       "    }\n",
       "\n",
       "    .dataframe tbody tr th {\n",
       "        vertical-align: top;\n",
       "    }\n",
       "\n",
       "    .dataframe thead th {\n",
       "        text-align: right;\n",
       "    }\n",
       "</style>\n",
       "<table border=\"1\" class=\"dataframe\">\n",
       "  <thead>\n",
       "    <tr style=\"text-align: right;\">\n",
       "      <th></th>\n",
       "      <th>uid</th>\n",
       "      <th>iid</th>\n",
       "      <th>r_ui</th>\n",
       "      <th>est</th>\n",
       "      <th>details</th>\n",
       "      <th>ItemId</th>\n",
       "      <th>Item_Name</th>\n",
       "      <th>userId</th>\n",
       "    </tr>\n",
       "  </thead>\n",
       "  <tbody>\n",
       "    <tr>\n",
       "      <th>73396</th>\n",
       "      <td>266784</td>\n",
       "      <td>2_4</td>\n",
       "      <td>2.999398</td>\n",
       "      <td>3.3625</td>\n",
       "      <td>{'actual_k': 40, 'was_impossible': False}</td>\n",
       "      <td>2_4</td>\n",
       "      <td>Footwear_Kids</td>\n",
       "      <td>266784</td>\n",
       "    </tr>\n",
       "    <tr>\n",
       "      <th>73404</th>\n",
       "      <td>266784</td>\n",
       "      <td>4_4</td>\n",
       "      <td>2.999398</td>\n",
       "      <td>3.3625</td>\n",
       "      <td>{'actual_k': 40, 'was_impossible': False}</td>\n",
       "      <td>4_4</td>\n",
       "      <td>Bags_Women</td>\n",
       "      <td>266784</td>\n",
       "    </tr>\n",
       "    <tr>\n",
       "      <th>73397</th>\n",
       "      <td>266784</td>\n",
       "      <td>4_1</td>\n",
       "      <td>2.999398</td>\n",
       "      <td>3.2875</td>\n",
       "      <td>{'actual_k': 40, 'was_impossible': False}</td>\n",
       "      <td>4_1</td>\n",
       "      <td>Bags_Mens</td>\n",
       "      <td>266784</td>\n",
       "    </tr>\n",
       "    <tr>\n",
       "      <th>73403</th>\n",
       "      <td>266784</td>\n",
       "      <td>3_8</td>\n",
       "      <td>2.999398</td>\n",
       "      <td>3.2125</td>\n",
       "      <td>{'actual_k': 40, 'was_impossible': False}</td>\n",
       "      <td>3_8</td>\n",
       "      <td>Electronics_Personal Appliances</td>\n",
       "      <td>266784</td>\n",
       "    </tr>\n",
       "    <tr>\n",
       "      <th>73409</th>\n",
       "      <td>266784</td>\n",
       "      <td>3_9</td>\n",
       "      <td>2.999398</td>\n",
       "      <td>3.2125</td>\n",
       "      <td>{'actual_k': 40, 'was_impossible': False}</td>\n",
       "      <td>3_9</td>\n",
       "      <td>Electronics_Cameras</td>\n",
       "      <td>266784</td>\n",
       "    </tr>\n",
       "    <tr>\n",
       "      <th>73402</th>\n",
       "      <td>266784</td>\n",
       "      <td>3_10</td>\n",
       "      <td>2.999398</td>\n",
       "      <td>3.1875</td>\n",
       "      <td>{'actual_k': 40, 'was_impossible': False}</td>\n",
       "      <td>3_10</td>\n",
       "      <td>Electronics_Audio and video</td>\n",
       "      <td>266784</td>\n",
       "    </tr>\n",
       "    <tr>\n",
       "      <th>73406</th>\n",
       "      <td>266784</td>\n",
       "      <td>3_5</td>\n",
       "      <td>2.999398</td>\n",
       "      <td>3.1875</td>\n",
       "      <td>{'actual_k': 40, 'was_impossible': False}</td>\n",
       "      <td>3_5</td>\n",
       "      <td>Electronics_Computers</td>\n",
       "      <td>266784</td>\n",
       "    </tr>\n",
       "    <tr>\n",
       "      <th>73412</th>\n",
       "      <td>266784</td>\n",
       "      <td>5_3</td>\n",
       "      <td>2.999398</td>\n",
       "      <td>3.1125</td>\n",
       "      <td>{'actual_k': 40, 'was_impossible': False}</td>\n",
       "      <td>5_3</td>\n",
       "      <td>Books_Comics</td>\n",
       "      <td>266784</td>\n",
       "    </tr>\n",
       "    <tr>\n",
       "      <th>73415</th>\n",
       "      <td>266784</td>\n",
       "      <td>2_1</td>\n",
       "      <td>2.999398</td>\n",
       "      <td>3.1000</td>\n",
       "      <td>{'actual_k': 40, 'was_impossible': False}</td>\n",
       "      <td>2_1</td>\n",
       "      <td>Footwear_Mens</td>\n",
       "      <td>266784</td>\n",
       "    </tr>\n",
       "    <tr>\n",
       "      <th>73398</th>\n",
       "      <td>266784</td>\n",
       "      <td>5_11</td>\n",
       "      <td>2.999398</td>\n",
       "      <td>3.0750</td>\n",
       "      <td>{'actual_k': 40, 'was_impossible': False}</td>\n",
       "      <td>5_11</td>\n",
       "      <td>Books_Children</td>\n",
       "      <td>266784</td>\n",
       "    </tr>\n",
       "    <tr>\n",
       "      <th>73414</th>\n",
       "      <td>266784</td>\n",
       "      <td>1_4</td>\n",
       "      <td>2.999398</td>\n",
       "      <td>3.0750</td>\n",
       "      <td>{'actual_k': 40, 'was_impossible': False}</td>\n",
       "      <td>1_4</td>\n",
       "      <td>Clothing_Mens</td>\n",
       "      <td>266784</td>\n",
       "    </tr>\n",
       "  </tbody>\n",
       "</table>\n",
       "</div>"
      ],
      "text/plain": [
       "          uid   iid      r_ui     est  \\\n",
       "73396  266784   2_4  2.999398  3.3625   \n",
       "73404  266784   4_4  2.999398  3.3625   \n",
       "73397  266784   4_1  2.999398  3.2875   \n",
       "73403  266784   3_8  2.999398  3.2125   \n",
       "73409  266784   3_9  2.999398  3.2125   \n",
       "73402  266784  3_10  2.999398  3.1875   \n",
       "73406  266784   3_5  2.999398  3.1875   \n",
       "73412  266784   5_3  2.999398  3.1125   \n",
       "73415  266784   2_1  2.999398  3.1000   \n",
       "73398  266784  5_11  2.999398  3.0750   \n",
       "73414  266784   1_4  2.999398  3.0750   \n",
       "\n",
       "                                         details ItemId  \\\n",
       "73396  {'actual_k': 40, 'was_impossible': False}    2_4   \n",
       "73404  {'actual_k': 40, 'was_impossible': False}    4_4   \n",
       "73397  {'actual_k': 40, 'was_impossible': False}    4_1   \n",
       "73403  {'actual_k': 40, 'was_impossible': False}    3_8   \n",
       "73409  {'actual_k': 40, 'was_impossible': False}    3_9   \n",
       "73402  {'actual_k': 40, 'was_impossible': False}   3_10   \n",
       "73406  {'actual_k': 40, 'was_impossible': False}    3_5   \n",
       "73412  {'actual_k': 40, 'was_impossible': False}    5_3   \n",
       "73415  {'actual_k': 40, 'was_impossible': False}    2_1   \n",
       "73398  {'actual_k': 40, 'was_impossible': False}   5_11   \n",
       "73414  {'actual_k': 40, 'was_impossible': False}    1_4   \n",
       "\n",
       "                             Item_Name  userId  \n",
       "73396                    Footwear_Kids  266784  \n",
       "73404                       Bags_Women  266784  \n",
       "73397                        Bags_Mens  266784  \n",
       "73403  Electronics_Personal Appliances  266784  \n",
       "73409              Electronics_Cameras  266784  \n",
       "73402      Electronics_Audio and video  266784  \n",
       "73406            Electronics_Computers  266784  \n",
       "73412                     Books_Comics  266784  \n",
       "73415                    Footwear_Mens  266784  \n",
       "73398                   Books_Children  266784  \n",
       "73414                    Clothing_Mens  266784  "
      ]
     },
     "execution_count": 69,
     "metadata": {},
     "output_type": "execute_result"
    }
   ],
   "source": [
    "user_id_to_predict = 266784\n",
    "treshold = 3.0\n",
    "anti_pred_df[(anti_pred_df['est']>treshold)&(anti_pred_df['userId']==user_id_to_predict)].sort_values(by=['est'], ascending=False)"
   ]
  },
  {
   "cell_type": "markdown",
   "metadata": {},
   "source": [
    "With nice_pred_df, we do the prediction for all known value to see how the algorithm peforms"
   ]
  },
  {
   "cell_type": "code",
   "execution_count": 70,
   "metadata": {},
   "outputs": [],
   "source": [
    "nice_pre = algo.test(nice_set)\n",
    "nice_pred_df = pd.DataFrame(nice_pre).merge(items , left_on = ['iid'], right_on = ['ItemId'])\n",
    "nice_pred_df = pd.DataFrame(nice_pred_df).merge(users , left_on = ['uid'], right_on = ['userId'])"
   ]
  },
  {
   "cell_type": "markdown",
   "metadata": {},
   "source": [
    "In the Data frame below, r_ui also mean rating between user and item but for the nice_set, user already interact with the item so r_ui give us the real rate. "
   ]
  },
  {
   "cell_type": "code",
   "execution_count": 71,
   "metadata": {},
   "outputs": [
    {
     "data": {
      "text/html": [
       "<div>\n",
       "<style scoped>\n",
       "    .dataframe tbody tr th:only-of-type {\n",
       "        vertical-align: middle;\n",
       "    }\n",
       "\n",
       "    .dataframe tbody tr th {\n",
       "        vertical-align: top;\n",
       "    }\n",
       "\n",
       "    .dataframe thead th {\n",
       "        text-align: right;\n",
       "    }\n",
       "</style>\n",
       "<table border=\"1\" class=\"dataframe\">\n",
       "  <thead>\n",
       "    <tr style=\"text-align: right;\">\n",
       "      <th></th>\n",
       "      <th>uid</th>\n",
       "      <th>iid</th>\n",
       "      <th>r_ui</th>\n",
       "      <th>est</th>\n",
       "      <th>details</th>\n",
       "      <th>ItemId</th>\n",
       "      <th>Item_Name</th>\n",
       "      <th>userId</th>\n",
       "    </tr>\n",
       "  </thead>\n",
       "  <tbody>\n",
       "    <tr>\n",
       "      <th>3197</th>\n",
       "      <td>266785</td>\n",
       "      <td>5_11</td>\n",
       "      <td>5.0</td>\n",
       "      <td>5.000000</td>\n",
       "      <td>{'actual_k': 40, 'was_impossible': False}</td>\n",
       "      <td>5_11</td>\n",
       "      <td>Books_Children</td>\n",
       "      <td>266785</td>\n",
       "    </tr>\n",
       "    <tr>\n",
       "      <th>3198</th>\n",
       "      <td>266785</td>\n",
       "      <td>6_10</td>\n",
       "      <td>5.0</td>\n",
       "      <td>5.000000</td>\n",
       "      <td>{'actual_k': 40, 'was_impossible': False}</td>\n",
       "      <td>6_10</td>\n",
       "      <td>Home and kitchen_Kitchen</td>\n",
       "      <td>266785</td>\n",
       "    </tr>\n",
       "    <tr>\n",
       "      <th>3194</th>\n",
       "      <td>266785</td>\n",
       "      <td>2_1</td>\n",
       "      <td>4.0</td>\n",
       "      <td>4.000000</td>\n",
       "      <td>{'actual_k': 40, 'was_impossible': False}</td>\n",
       "      <td>2_1</td>\n",
       "      <td>Footwear_Mens</td>\n",
       "      <td>266785</td>\n",
       "    </tr>\n",
       "    <tr>\n",
       "      <th>3195</th>\n",
       "      <td>266785</td>\n",
       "      <td>2_4</td>\n",
       "      <td>3.5</td>\n",
       "      <td>3.416968</td>\n",
       "      <td>{'actual_k': 40, 'was_impossible': False}</td>\n",
       "      <td>2_4</td>\n",
       "      <td>Footwear_Kids</td>\n",
       "      <td>266785</td>\n",
       "    </tr>\n",
       "  </tbody>\n",
       "</table>\n",
       "</div>"
      ],
      "text/plain": [
       "         uid   iid  r_ui       est                                    details  \\\n",
       "3197  266785  5_11   5.0  5.000000  {'actual_k': 40, 'was_impossible': False}   \n",
       "3198  266785  6_10   5.0  5.000000  {'actual_k': 40, 'was_impossible': False}   \n",
       "3194  266785   2_1   4.0  4.000000  {'actual_k': 40, 'was_impossible': False}   \n",
       "3195  266785   2_4   3.5  3.416968  {'actual_k': 40, 'was_impossible': False}   \n",
       "\n",
       "     ItemId                 Item_Name  userId  \n",
       "3197   5_11            Books_Children  266785  \n",
       "3198   6_10  Home and kitchen_Kitchen  266785  \n",
       "3194    2_1             Footwear_Mens  266785  \n",
       "3195    2_4             Footwear_Kids  266785  "
      ]
     },
     "execution_count": 71,
     "metadata": {},
     "output_type": "execute_result"
    }
   ],
   "source": [
    "user_id_to_predict = 266785\n",
    "treshold = 3.0\n",
    "nice_pred_df[(nice_pred_df['est']>treshold)&(nice_pred_df['userId']==user_id_to_predict)].sort_values(by=['est'], ascending=False)"
   ]
  },
  {
   "cell_type": "markdown",
   "metadata": {},
   "source": [
    "## C. Checking metrics"
   ]
  },
  {
   "cell_type": "markdown",
   "metadata": {},
   "source": [
    "We can check here how does it perform with the rmse metrics"
   ]
  },
  {
   "cell_type": "markdown",
   "metadata": {},
   "source": [
    "We can't really have a look to our anti_set metrics because it's irrelevant.  \n",
    "We will compare all our estimation to a mean value set by default."
   ]
  },
  {
   "cell_type": "markdown",
   "metadata": {},
   "source": [
    "But we can effectively compare result predict by the algorithm and the real value rated by customers with the \"nice_set\""
   ]
  },
  {
   "cell_type": "code",
   "execution_count": 72,
   "metadata": {},
   "outputs": [
    {
     "name": "stdout",
     "output_type": "stream",
     "text": [
      "RMSE: 0.0206\n",
      "On the nice_set, the RMSE score is : 0.020617845744627092\n"
     ]
    }
   ],
   "source": [
    "#on nice_set\n",
    "predictions = algo.test(nice_set)\n",
    "print('On the nice_set, the RMSE score is :', accuracy.rmse(predictions))"
   ]
  },
  {
   "cell_type": "markdown",
   "metadata": {},
   "source": [
    "So, the RMSE score is 0.11 meanning that would mean the estimated ratings on average are about 0.02 higher or lower than the actual ratings.  \n",
    "Here, our scale is from 0 to 5, so it's a very good result."
   ]
  },
  {
   "cell_type": "markdown",
   "metadata": {},
   "source": [
    "We can display below a full data frame with all nice_set value to compare and see how poorly it performs... "
   ]
  },
  {
   "cell_type": "code",
   "execution_count": 74,
   "metadata": {},
   "outputs": [
    {
     "data": {
      "text/html": [
       "<div>\n",
       "<style scoped>\n",
       "    .dataframe tbody tr th:only-of-type {\n",
       "        vertical-align: middle;\n",
       "    }\n",
       "\n",
       "    .dataframe tbody tr th {\n",
       "        vertical-align: top;\n",
       "    }\n",
       "\n",
       "    .dataframe thead th {\n",
       "        text-align: right;\n",
       "    }\n",
       "</style>\n",
       "<table border=\"1\" class=\"dataframe\">\n",
       "  <thead>\n",
       "    <tr style=\"text-align: right;\">\n",
       "      <th></th>\n",
       "      <th>uid</th>\n",
       "      <th>iid</th>\n",
       "      <th>r_ui</th>\n",
       "      <th>est</th>\n",
       "      <th>details</th>\n",
       "    </tr>\n",
       "  </thead>\n",
       "  <tbody>\n",
       "    <tr>\n",
       "      <th>0</th>\n",
       "      <td>266783</td>\n",
       "      <td>1_4</td>\n",
       "      <td>2.0</td>\n",
       "      <td>2.0</td>\n",
       "      <td>{'actual_k': 40, 'was_impossible': False}</td>\n",
       "    </tr>\n",
       "    <tr>\n",
       "      <th>1</th>\n",
       "      <td>266783</td>\n",
       "      <td>2_1</td>\n",
       "      <td>4.0</td>\n",
       "      <td>4.0</td>\n",
       "      <td>{'actual_k': 40, 'was_impossible': False}</td>\n",
       "    </tr>\n",
       "    <tr>\n",
       "      <th>2</th>\n",
       "      <td>266783</td>\n",
       "      <td>5_10</td>\n",
       "      <td>2.0</td>\n",
       "      <td>2.0</td>\n",
       "      <td>{'actual_k': 40, 'was_impossible': False}</td>\n",
       "    </tr>\n",
       "    <tr>\n",
       "      <th>3</th>\n",
       "      <td>266784</td>\n",
       "      <td>3_4</td>\n",
       "      <td>2.0</td>\n",
       "      <td>2.0</td>\n",
       "      <td>{'actual_k': 40, 'was_impossible': False}</td>\n",
       "    </tr>\n",
       "    <tr>\n",
       "      <th>4</th>\n",
       "      <td>266784</td>\n",
       "      <td>5_10</td>\n",
       "      <td>3.0</td>\n",
       "      <td>3.0</td>\n",
       "      <td>{'actual_k': 40, 'was_impossible': False}</td>\n",
       "    </tr>\n",
       "    <tr>\n",
       "      <th>...</th>\n",
       "      <td>...</td>\n",
       "      <td>...</td>\n",
       "      <td>...</td>\n",
       "      <td>...</td>\n",
       "      <td>...</td>\n",
       "    </tr>\n",
       "    <tr>\n",
       "      <th>16875</th>\n",
       "      <td>275261</td>\n",
       "      <td>5_11</td>\n",
       "      <td>5.0</td>\n",
       "      <td>5.0</td>\n",
       "      <td>{'actual_k': 40, 'was_impossible': False}</td>\n",
       "    </tr>\n",
       "    <tr>\n",
       "      <th>16876</th>\n",
       "      <td>275261</td>\n",
       "      <td>5_3</td>\n",
       "      <td>3.0</td>\n",
       "      <td>3.0</td>\n",
       "      <td>{'actual_k': 40, 'was_impossible': False}</td>\n",
       "    </tr>\n",
       "    <tr>\n",
       "      <th>16877</th>\n",
       "      <td>275265</td>\n",
       "      <td>4_1</td>\n",
       "      <td>1.0</td>\n",
       "      <td>1.0</td>\n",
       "      <td>{'actual_k': 40, 'was_impossible': False}</td>\n",
       "    </tr>\n",
       "    <tr>\n",
       "      <th>16878</th>\n",
       "      <td>275265</td>\n",
       "      <td>5_12</td>\n",
       "      <td>3.0</td>\n",
       "      <td>3.0</td>\n",
       "      <td>{'actual_k': 40, 'was_impossible': False}</td>\n",
       "    </tr>\n",
       "    <tr>\n",
       "      <th>16879</th>\n",
       "      <td>275265</td>\n",
       "      <td>6_2</td>\n",
       "      <td>3.0</td>\n",
       "      <td>3.0</td>\n",
       "      <td>{'actual_k': 40, 'was_impossible': False}</td>\n",
       "    </tr>\n",
       "  </tbody>\n",
       "</table>\n",
       "<p>16880 rows × 5 columns</p>\n",
       "</div>"
      ],
      "text/plain": [
       "          uid   iid  r_ui  est                                    details\n",
       "0      266783   1_4   2.0  2.0  {'actual_k': 40, 'was_impossible': False}\n",
       "1      266783   2_1   4.0  4.0  {'actual_k': 40, 'was_impossible': False}\n",
       "2      266783  5_10   2.0  2.0  {'actual_k': 40, 'was_impossible': False}\n",
       "3      266784   3_4   2.0  2.0  {'actual_k': 40, 'was_impossible': False}\n",
       "4      266784  5_10   3.0  3.0  {'actual_k': 40, 'was_impossible': False}\n",
       "...       ...   ...   ...  ...                                        ...\n",
       "16875  275261  5_11   5.0  5.0  {'actual_k': 40, 'was_impossible': False}\n",
       "16876  275261   5_3   3.0  3.0  {'actual_k': 40, 'was_impossible': False}\n",
       "16877  275265   4_1   1.0  1.0  {'actual_k': 40, 'was_impossible': False}\n",
       "16878  275265  5_12   3.0  3.0  {'actual_k': 40, 'was_impossible': False}\n",
       "16879  275265   6_2   3.0  3.0  {'actual_k': 40, 'was_impossible': False}\n",
       "\n",
       "[16880 rows x 5 columns]"
      ]
     },
     "execution_count": 74,
     "metadata": {},
     "output_type": "execute_result"
    }
   ],
   "source": [
    "pd.DataFrame(predictions)"
   ]
  },
  {
   "cell_type": "markdown",
   "metadata": {},
   "source": [
    "## D. Display Result"
   ]
  },
  {
   "cell_type": "code",
   "execution_count": 75,
   "metadata": {},
   "outputs": [],
   "source": [
    "#from https://nbviewer.jupyter.org/github/NicolasHug/Surprise/blob/master/examples/notebooks/KNNBasic_analysis.ipynb\n",
    "\n",
    "def get_Iu(uid):\n",
    "    \"\"\" return the number of items rated by given user\n",
    "    args: \n",
    "      uid: the id of the user\n",
    "    returns: \n",
    "      the number of items rated by the user\n",
    "    \"\"\"\n",
    "    try:\n",
    "        return len(trainsetfull.ur[trainsetfull.to_inner_uid(uid)])\n",
    "    except ValueError: # user was not part of the trainset\n",
    "        return 0\n",
    "    \n",
    "def get_Ui(iid):\n",
    "    \"\"\" return number of users that have rated given item\n",
    "    args:\n",
    "      iid: the raw id of the item\n",
    "    returns:\n",
    "      the number of users that have rated the item.\n",
    "    \"\"\"\n",
    "    try: \n",
    "        return len(trainsetfull.ir[trainsetfull.to_inner_iid(iid)])\n",
    "    except ValueError:\n",
    "        return 0\n",
    "    \n",
    "df = pd.DataFrame(predictions, columns=['uid', 'iid', 'rui', 'est', 'details'])\n",
    "df['Iu'] = df.uid.apply(get_Iu)\n",
    "df['Ui'] = df.iid.apply(get_Ui)\n",
    "df['err'] = abs(df.est - df.rui)\n",
    "best_predictions = df.sort_values(by='err')[:10]\n",
    "worst_predictions = df.sort_values(by='err')[-10:]"
   ]
  },
  {
   "cell_type": "code",
   "execution_count": 76,
   "metadata": {},
   "outputs": [
    {
     "data": {
      "text/html": [
       "<div>\n",
       "<style scoped>\n",
       "    .dataframe tbody tr th:only-of-type {\n",
       "        vertical-align: middle;\n",
       "    }\n",
       "\n",
       "    .dataframe tbody tr th {\n",
       "        vertical-align: top;\n",
       "    }\n",
       "\n",
       "    .dataframe thead th {\n",
       "        text-align: right;\n",
       "    }\n",
       "</style>\n",
       "<table border=\"1\" class=\"dataframe\">\n",
       "  <thead>\n",
       "    <tr style=\"text-align: right;\">\n",
       "      <th></th>\n",
       "      <th>uid</th>\n",
       "      <th>iid</th>\n",
       "      <th>rui</th>\n",
       "      <th>est</th>\n",
       "      <th>details</th>\n",
       "      <th>Iu</th>\n",
       "      <th>Ui</th>\n",
       "      <th>err</th>\n",
       "    </tr>\n",
       "  </thead>\n",
       "  <tbody>\n",
       "    <tr>\n",
       "      <th>0</th>\n",
       "      <td>266783</td>\n",
       "      <td>1_4</td>\n",
       "      <td>2.0</td>\n",
       "      <td>2.0</td>\n",
       "      <td>{'actual_k': 40, 'was_impossible': False}</td>\n",
       "      <td>3</td>\n",
       "      <td>703</td>\n",
       "      <td>0.0</td>\n",
       "    </tr>\n",
       "    <tr>\n",
       "      <th>11103</th>\n",
       "      <td>272357</td>\n",
       "      <td>3_4</td>\n",
       "      <td>3.0</td>\n",
       "      <td>3.0</td>\n",
       "      <td>{'actual_k': 40, 'was_impossible': False}</td>\n",
       "      <td>6</td>\n",
       "      <td>767</td>\n",
       "      <td>0.0</td>\n",
       "    </tr>\n",
       "    <tr>\n",
       "      <th>11104</th>\n",
       "      <td>272357</td>\n",
       "      <td>3_5</td>\n",
       "      <td>2.0</td>\n",
       "      <td>2.0</td>\n",
       "      <td>{'actual_k': 40, 'was_impossible': False}</td>\n",
       "      <td>6</td>\n",
       "      <td>709</td>\n",
       "      <td>0.0</td>\n",
       "    </tr>\n",
       "    <tr>\n",
       "      <th>11105</th>\n",
       "      <td>272357</td>\n",
       "      <td>5_10</td>\n",
       "      <td>2.0</td>\n",
       "      <td>2.0</td>\n",
       "      <td>{'actual_k': 40, 'was_impossible': False}</td>\n",
       "      <td>6</td>\n",
       "      <td>729</td>\n",
       "      <td>0.0</td>\n",
       "    </tr>\n",
       "    <tr>\n",
       "      <th>11106</th>\n",
       "      <td>272357</td>\n",
       "      <td>5_7</td>\n",
       "      <td>1.0</td>\n",
       "      <td>1.0</td>\n",
       "      <td>{'actual_k': 40, 'was_impossible': False}</td>\n",
       "      <td>6</td>\n",
       "      <td>771</td>\n",
       "      <td>0.0</td>\n",
       "    </tr>\n",
       "    <tr>\n",
       "      <th>11107</th>\n",
       "      <td>272358</td>\n",
       "      <td>2_4</td>\n",
       "      <td>3.0</td>\n",
       "      <td>3.0</td>\n",
       "      <td>{'actual_k': 40, 'was_impossible': False}</td>\n",
       "      <td>4</td>\n",
       "      <td>728</td>\n",
       "      <td>0.0</td>\n",
       "    </tr>\n",
       "    <tr>\n",
       "      <th>11109</th>\n",
       "      <td>272358</td>\n",
       "      <td>3_9</td>\n",
       "      <td>4.0</td>\n",
       "      <td>4.0</td>\n",
       "      <td>{'actual_k': 40, 'was_impossible': False}</td>\n",
       "      <td>4</td>\n",
       "      <td>721</td>\n",
       "      <td>0.0</td>\n",
       "    </tr>\n",
       "    <tr>\n",
       "      <th>11111</th>\n",
       "      <td>272359</td>\n",
       "      <td>3_9</td>\n",
       "      <td>2.0</td>\n",
       "      <td>2.0</td>\n",
       "      <td>{'actual_k': 40, 'was_impossible': False}</td>\n",
       "      <td>3</td>\n",
       "      <td>721</td>\n",
       "      <td>0.0</td>\n",
       "    </tr>\n",
       "    <tr>\n",
       "      <th>11112</th>\n",
       "      <td>272359</td>\n",
       "      <td>5_10</td>\n",
       "      <td>5.0</td>\n",
       "      <td>5.0</td>\n",
       "      <td>{'actual_k': 40, 'was_impossible': False}</td>\n",
       "      <td>3</td>\n",
       "      <td>729</td>\n",
       "      <td>0.0</td>\n",
       "    </tr>\n",
       "    <tr>\n",
       "      <th>11113</th>\n",
       "      <td>272359</td>\n",
       "      <td>6_10</td>\n",
       "      <td>2.0</td>\n",
       "      <td>2.0</td>\n",
       "      <td>{'actual_k': 40, 'was_impossible': False}</td>\n",
       "      <td>3</td>\n",
       "      <td>734</td>\n",
       "      <td>0.0</td>\n",
       "    </tr>\n",
       "  </tbody>\n",
       "</table>\n",
       "</div>"
      ],
      "text/plain": [
       "          uid   iid  rui  est                                    details  Iu  \\\n",
       "0      266783   1_4  2.0  2.0  {'actual_k': 40, 'was_impossible': False}   3   \n",
       "11103  272357   3_4  3.0  3.0  {'actual_k': 40, 'was_impossible': False}   6   \n",
       "11104  272357   3_5  2.0  2.0  {'actual_k': 40, 'was_impossible': False}   6   \n",
       "11105  272357  5_10  2.0  2.0  {'actual_k': 40, 'was_impossible': False}   6   \n",
       "11106  272357   5_7  1.0  1.0  {'actual_k': 40, 'was_impossible': False}   6   \n",
       "11107  272358   2_4  3.0  3.0  {'actual_k': 40, 'was_impossible': False}   4   \n",
       "11109  272358   3_9  4.0  4.0  {'actual_k': 40, 'was_impossible': False}   4   \n",
       "11111  272359   3_9  2.0  2.0  {'actual_k': 40, 'was_impossible': False}   3   \n",
       "11112  272359  5_10  5.0  5.0  {'actual_k': 40, 'was_impossible': False}   3   \n",
       "11113  272359  6_10  2.0  2.0  {'actual_k': 40, 'was_impossible': False}   3   \n",
       "\n",
       "        Ui  err  \n",
       "0      703  0.0  \n",
       "11103  767  0.0  \n",
       "11104  709  0.0  \n",
       "11105  729  0.0  \n",
       "11106  771  0.0  \n",
       "11107  728  0.0  \n",
       "11109  721  0.0  \n",
       "11111  721  0.0  \n",
       "11112  729  0.0  \n",
       "11113  734  0.0  "
      ]
     },
     "execution_count": 76,
     "metadata": {},
     "output_type": "execute_result"
    }
   ],
   "source": [
    "#display best prediction\n",
    "best_predictions"
   ]
  },
  {
   "cell_type": "markdown",
   "metadata": {},
   "source": [
    "Those result are very good, over more than 699 rate for each item (UI), we manage to find 40 neighbours  \n",
    "and estimate a lot of perfect score where estimation (est) = real rate (rui)"
   ]
  },
  {
   "cell_type": "code",
   "execution_count": 77,
   "metadata": {},
   "outputs": [
    {
     "data": {
      "text/html": [
       "<div>\n",
       "<style scoped>\n",
       "    .dataframe tbody tr th:only-of-type {\n",
       "        vertical-align: middle;\n",
       "    }\n",
       "\n",
       "    .dataframe tbody tr th {\n",
       "        vertical-align: top;\n",
       "    }\n",
       "\n",
       "    .dataframe thead th {\n",
       "        text-align: right;\n",
       "    }\n",
       "</style>\n",
       "<table border=\"1\" class=\"dataframe\">\n",
       "  <thead>\n",
       "    <tr style=\"text-align: right;\">\n",
       "      <th></th>\n",
       "      <th>uid</th>\n",
       "      <th>iid</th>\n",
       "      <th>rui</th>\n",
       "      <th>est</th>\n",
       "      <th>details</th>\n",
       "      <th>Iu</th>\n",
       "      <th>Ui</th>\n",
       "      <th>err</th>\n",
       "    </tr>\n",
       "  </thead>\n",
       "  <tbody>\n",
       "    <tr>\n",
       "      <th>5011</th>\n",
       "      <td>269320</td>\n",
       "      <td>3_8</td>\n",
       "      <td>3.333333</td>\n",
       "      <td>3.038459</td>\n",
       "      <td>{'actual_k': 40, 'was_impossible': False}</td>\n",
       "      <td>6</td>\n",
       "      <td>708</td>\n",
       "      <td>0.294874</td>\n",
       "    </tr>\n",
       "    <tr>\n",
       "      <th>7824</th>\n",
       "      <td>270706</td>\n",
       "      <td>3_10</td>\n",
       "      <td>3.333333</td>\n",
       "      <td>3.035698</td>\n",
       "      <td>{'actual_k': 40, 'was_impossible': False}</td>\n",
       "      <td>6</td>\n",
       "      <td>709</td>\n",
       "      <td>0.297636</td>\n",
       "    </tr>\n",
       "    <tr>\n",
       "      <th>2066</th>\n",
       "      <td>267888</td>\n",
       "      <td>2_1</td>\n",
       "      <td>1.666667</td>\n",
       "      <td>1.964395</td>\n",
       "      <td>{'actual_k': 40, 'was_impossible': False}</td>\n",
       "      <td>4</td>\n",
       "      <td>702</td>\n",
       "      <td>0.297729</td>\n",
       "    </tr>\n",
       "    <tr>\n",
       "      <th>4779</th>\n",
       "      <td>269225</td>\n",
       "      <td>3_4</td>\n",
       "      <td>2.666667</td>\n",
       "      <td>2.964516</td>\n",
       "      <td>{'actual_k': 40, 'was_impossible': False}</td>\n",
       "      <td>7</td>\n",
       "      <td>767</td>\n",
       "      <td>0.297850</td>\n",
       "    </tr>\n",
       "    <tr>\n",
       "      <th>14924</th>\n",
       "      <td>274306</td>\n",
       "      <td>5_11</td>\n",
       "      <td>3.666667</td>\n",
       "      <td>3.964531</td>\n",
       "      <td>{'actual_k': 40, 'was_impossible': False}</td>\n",
       "      <td>6</td>\n",
       "      <td>759</td>\n",
       "      <td>0.297864</td>\n",
       "    </tr>\n",
       "    <tr>\n",
       "      <th>6510</th>\n",
       "      <td>270049</td>\n",
       "      <td>6_2</td>\n",
       "      <td>1.666667</td>\n",
       "      <td>1.964547</td>\n",
       "      <td>{'actual_k': 40, 'was_impossible': False}</td>\n",
       "      <td>5</td>\n",
       "      <td>756</td>\n",
       "      <td>0.297880</td>\n",
       "    </tr>\n",
       "    <tr>\n",
       "      <th>13728</th>\n",
       "      <td>273682</td>\n",
       "      <td>5_7</td>\n",
       "      <td>3.666667</td>\n",
       "      <td>3.964653</td>\n",
       "      <td>{'actual_k': 40, 'was_impossible': False}</td>\n",
       "      <td>4</td>\n",
       "      <td>771</td>\n",
       "      <td>0.297986</td>\n",
       "    </tr>\n",
       "    <tr>\n",
       "      <th>16176</th>\n",
       "      <td>274923</td>\n",
       "      <td>5_7</td>\n",
       "      <td>4.333333</td>\n",
       "      <td>4.035286</td>\n",
       "      <td>{'actual_k': 40, 'was_impossible': False}</td>\n",
       "      <td>7</td>\n",
       "      <td>771</td>\n",
       "      <td>0.298048</td>\n",
       "    </tr>\n",
       "    <tr>\n",
       "      <th>3890</th>\n",
       "      <td>268819</td>\n",
       "      <td>5_10</td>\n",
       "      <td>2.333333</td>\n",
       "      <td>2.022662</td>\n",
       "      <td>{'actual_k': 40, 'was_impossible': False}</td>\n",
       "      <td>8</td>\n",
       "      <td>729</td>\n",
       "      <td>0.310672</td>\n",
       "    </tr>\n",
       "    <tr>\n",
       "      <th>13738</th>\n",
       "      <td>273684</td>\n",
       "      <td>6_11</td>\n",
       "      <td>2.333333</td>\n",
       "      <td>2.022142</td>\n",
       "      <td>{'actual_k': 40, 'was_impossible': False}</td>\n",
       "      <td>6</td>\n",
       "      <td>763</td>\n",
       "      <td>0.311191</td>\n",
       "    </tr>\n",
       "  </tbody>\n",
       "</table>\n",
       "</div>"
      ],
      "text/plain": [
       "          uid   iid       rui       est  \\\n",
       "5011   269320   3_8  3.333333  3.038459   \n",
       "7824   270706  3_10  3.333333  3.035698   \n",
       "2066   267888   2_1  1.666667  1.964395   \n",
       "4779   269225   3_4  2.666667  2.964516   \n",
       "14924  274306  5_11  3.666667  3.964531   \n",
       "6510   270049   6_2  1.666667  1.964547   \n",
       "13728  273682   5_7  3.666667  3.964653   \n",
       "16176  274923   5_7  4.333333  4.035286   \n",
       "3890   268819  5_10  2.333333  2.022662   \n",
       "13738  273684  6_11  2.333333  2.022142   \n",
       "\n",
       "                                         details  Iu   Ui       err  \n",
       "5011   {'actual_k': 40, 'was_impossible': False}   6  708  0.294874  \n",
       "7824   {'actual_k': 40, 'was_impossible': False}   6  709  0.297636  \n",
       "2066   {'actual_k': 40, 'was_impossible': False}   4  702  0.297729  \n",
       "4779   {'actual_k': 40, 'was_impossible': False}   7  767  0.297850  \n",
       "14924  {'actual_k': 40, 'was_impossible': False}   6  759  0.297864  \n",
       "6510   {'actual_k': 40, 'was_impossible': False}   5  756  0.297880  \n",
       "13728  {'actual_k': 40, 'was_impossible': False}   4  771  0.297986  \n",
       "16176  {'actual_k': 40, 'was_impossible': False}   7  771  0.298048  \n",
       "3890   {'actual_k': 40, 'was_impossible': False}   8  729  0.310672  \n",
       "13738  {'actual_k': 40, 'was_impossible': False}   6  763  0.311191  "
      ]
     },
     "execution_count": 77,
     "metadata": {},
     "output_type": "execute_result"
    }
   ],
   "source": [
    "worst_predictions"
   ]
  },
  {
   "cell_type": "markdown",
   "metadata": {},
   "source": [
    "Even the worst prediction seems very accurate to me."
   ]
  },
  {
   "cell_type": "markdown",
   "metadata": {},
   "source": [
    "Those very good result mainly said that we found neigbhors that are very similar to the customer we made recommendation."
   ]
  },
  {
   "cell_type": "markdown",
   "metadata": {},
   "source": [
    "## Thank you for finishing part 3, this model with the surprise library give us really accurate result. \n",
    "## The fourth part, is also a collabortive filtering method but result are not as good as this one."
   ]
  }
 ],
 "metadata": {
  "kernelspec": {
   "display_name": "Python 3",
   "language": "python",
   "name": "python3"
  },
  "language_info": {
   "codemirror_mode": {
    "name": "ipython",
    "version": 3
   },
   "file_extension": ".py",
   "mimetype": "text/x-python",
   "name": "python",
   "nbconvert_exporter": "python",
   "pygments_lexer": "ipython3",
   "version": "3.8.3"
  }
 },
 "nbformat": 4,
 "nbformat_minor": 4
}
