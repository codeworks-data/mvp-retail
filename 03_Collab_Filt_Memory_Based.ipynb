{
 "cells": [
  {
   "cell_type": "markdown",
   "metadata": {},
   "source": [
    "# Part 3: Recommendation system for retail using collaborative filtering memory based"
   ]
  },
  {
   "cell_type": "markdown",
   "metadata": {},
   "source": [
    "# In this notebook we will focus on surprise library which allows us to facilitate recommandation\n",
    "I use some articles during the creation of this notebook  :  \n",
    "* https://gist.github.com/pankajti/e631e8f6ce067fc76dfacedd9e4923ca#file-surprise_knn_recommendation-ipynb  \n",
    "* https://towardsdatascience.com/how-to-build-a-memory-based-recommendation-system-using-python-surprise-55f3257b2cf4  \n",
    "* https://pankaj-tiwari2.medium.com/neighborhood-based-collaborative-filtering-in-python-using-surprise-fe9d5700cb58"
   ]
  },
  {
   "cell_type": "markdown",
   "metadata": {},
   "source": [
    "# The summary of the notebook is written below"
   ]
  },
  {
   "cell_type": "markdown",
   "metadata": {},
   "source": [
    "I. Import useful library and python file containing our functions\n",
    "\n",
    "II. Retrieving our data from a previous notebook  \n",
    "\n",
    "* A. Ratings_table, the basic table\n",
    "\n",
    "III. Preparing our differents set of data\n",
    "\n",
    "* A. Load our full ratings_table as data\n",
    "* B. Create the anti_set\n",
    "* C. Create the nice_set\n",
    "* D. Information about the full data  \n",
    "\n",
    "IV. Train a model  \n",
    "\n",
    "* A. Choosing the best algorithm\n",
    "* B. Trainning the best algorithm\n",
    "\n",
    "V. Prediction  \n",
    "\n",
    "* A. Prediction on a pair (userid and an itemid)\n",
    "* B. Prediction on an user_id\n",
    "* C. Checking metrics\n",
    "* D. Some serendipity ?? \n"
   ]
  },
  {
   "cell_type": "markdown",
   "metadata": {},
   "source": [
    "# I. Import useful library and python file containing our functions"
   ]
  },
  {
   "cell_type": "code",
   "execution_count": 3,
   "metadata": {},
   "outputs": [],
   "source": [
    "import pandas as pd\n",
    "import time\n",
    "from surprise import SVD\n",
    "from surprise import Dataset\n",
    "from surprise import accuracy\n",
    "from surprise.model_selection import train_test_split\n",
    "from surprise import KNNBasic,  KNNWithMeans, KNNBaseline, KNNWithZScore\n",
    "from surprise.model_selection import KFold\n",
    "from surprise import Reader\n",
    "from surprise import NormalPredictor\n",
    "from surprise.model_selection import cross_validate\n",
    "import matplotlib.pyplot as plt\n",
    "import seaborn as sns\n",
    "from surprise.model_selection import GridSearchCV\n",
    "\n"
   ]
  },
  {
   "cell_type": "markdown",
   "metadata": {},
   "source": [
    "# II. Retrieving our data from a previous notebook"
   ]
  },
  {
   "cell_type": "markdown",
   "metadata": {},
   "source": [
    "## A. Ratings_table, the basic table"
   ]
  },
  {
   "cell_type": "markdown",
   "metadata": {},
   "source": [
    "We use ratings_table as our basic table meaning that this table contain all needed information for this notebook.  \n",
    "* userId\n",
    "* rating\n",
    "* ItemID\n",
    "* Item_Name\n",
    "\n",
    "Moreover, this data frame contain only cust_id with more than 3 transactions"
   ]
  },
  {
   "cell_type": "code",
   "execution_count": 203,
   "metadata": {},
   "outputs": [
    {
     "data": {
      "text/html": [
       "<div>\n",
       "<style scoped>\n",
       "    .dataframe tbody tr th:only-of-type {\n",
       "        vertical-align: middle;\n",
       "    }\n",
       "\n",
       "    .dataframe tbody tr th {\n",
       "        vertical-align: top;\n",
       "    }\n",
       "\n",
       "    .dataframe thead th {\n",
       "        text-align: right;\n",
       "    }\n",
       "</style>\n",
       "<table border=\"1\" class=\"dataframe\">\n",
       "  <thead>\n",
       "    <tr style=\"text-align: right;\">\n",
       "      <th></th>\n",
       "      <th>userId</th>\n",
       "      <th>ItemId</th>\n",
       "      <th>Item_Name</th>\n",
       "      <th>rating</th>\n",
       "    </tr>\n",
       "  </thead>\n",
       "  <tbody>\n",
       "    <tr>\n",
       "      <th>0</th>\n",
       "      <td>266783</td>\n",
       "      <td>1_4</td>\n",
       "      <td>Clothing_Mens</td>\n",
       "      <td>2.0</td>\n",
       "    </tr>\n",
       "    <tr>\n",
       "      <th>1</th>\n",
       "      <td>266783</td>\n",
       "      <td>2_1</td>\n",
       "      <td>Footwear_Mens</td>\n",
       "      <td>4.0</td>\n",
       "    </tr>\n",
       "    <tr>\n",
       "      <th>2</th>\n",
       "      <td>266783</td>\n",
       "      <td>5_10</td>\n",
       "      <td>Books_Non-Fiction</td>\n",
       "      <td>2.0</td>\n",
       "    </tr>\n",
       "    <tr>\n",
       "      <th>3</th>\n",
       "      <td>266784</td>\n",
       "      <td>3_4</td>\n",
       "      <td>Electronics_Mobiles</td>\n",
       "      <td>2.0</td>\n",
       "    </tr>\n",
       "    <tr>\n",
       "      <th>4</th>\n",
       "      <td>266784</td>\n",
       "      <td>5_10</td>\n",
       "      <td>Books_Non-Fiction</td>\n",
       "      <td>3.0</td>\n",
       "    </tr>\n",
       "  </tbody>\n",
       "</table>\n",
       "</div>"
      ],
      "text/plain": [
       "   userId ItemId            Item_Name  rating\n",
       "0  266783    1_4        Clothing_Mens     2.0\n",
       "1  266783    2_1        Footwear_Mens     4.0\n",
       "2  266783   5_10    Books_Non-Fiction     2.0\n",
       "3  266784    3_4  Electronics_Mobiles     2.0\n",
       "4  266784   5_10    Books_Non-Fiction     3.0"
      ]
     },
     "execution_count": 203,
     "metadata": {},
     "output_type": "execute_result"
    }
   ],
   "source": [
    "ratings_table = pd.read_csv('rating_table.csv')\n",
    "ratings_table = ratings_table.rename(columns={\"cust_id\": \"userId\", \"object_id\": \"ItemId\", \"rank\": \"rating\", \"object_name\": \"Item_Name\"})\n",
    "ratings_table = ratings_table.groupby(['userId', 'ItemId', 'Item_Name'])[['rating']].mean().reset_index()\n",
    "ratings_table.head()"
   ]
  },
  {
   "cell_type": "markdown",
   "metadata": {},
   "source": [
    "So, we have 18 437 transactions and 4031 uniques customers"
   ]
  },
  {
   "cell_type": "code",
   "execution_count": 204,
   "metadata": {},
   "outputs": [
    {
     "name": "stdout",
     "output_type": "stream",
     "text": [
      "shape of the ratings_table: (16880, 4)\n",
      "numbers of uniques customer: 4031\n"
     ]
    }
   ],
   "source": [
    "print('shape of the ratings_table:', ratings_table.shape)\n",
    "print('numbers of uniques customer:', len(ratings_table.userId.unique()))"
   ]
  },
  {
   "cell_type": "markdown",
   "metadata": {},
   "source": [
    "# III. Preparing our differents set of data"
   ]
  },
  {
   "cell_type": "markdown",
   "metadata": {},
   "source": [
    "## A. Load our full ratings_table as data"
   ]
  },
  {
   "cell_type": "code",
   "execution_count": 205,
   "metadata": {},
   "outputs": [],
   "source": [
    "reader = Reader(rating_scale=(1, 5))\n",
    "# The columns must correspond to user_id, item_id and ratings (in that order).\n",
    "data = Dataset.load_from_df(ratings_table[['userId', 'ItemId', 'rating']], reader)"
   ]
  },
  {
   "cell_type": "markdown",
   "metadata": {},
   "source": [
    "## B. Create the anti_set"
   ]
  },
  {
   "cell_type": "markdown",
   "metadata": {},
   "source": [
    "An antiset is a set of those user and item pairs for which a rating doesn't exist in original dataset.  \n",
    "This is the set for which we are trying to predict ratings.  \n",
    "For example in following example userId 270384 has not rated ItemID 5_3, 5_12...  \n",
    "Surprise creates a set of such combinations by providing a default average rating.  \n",
    "We will be calculating an estimated rating for this set using our model."
   ]
  },
  {
   "cell_type": "code",
   "execution_count": 206,
   "metadata": {},
   "outputs": [
    {
     "data": {
      "text/plain": [
       "[(266783, '3_4', 2.999397709320695),\n",
       " (266783, '5_7', 2.999397709320695),\n",
       " (266783, '2_4', 2.999397709320695),\n",
       " (266783, '4_1', 2.999397709320695)]"
      ]
     },
     "execution_count": 206,
     "metadata": {},
     "output_type": "execute_result"
    }
   ],
   "source": [
    "anti_set = data.build_full_trainset().build_anti_testset()\n",
    "anti_set[:4]"
   ]
  },
  {
   "cell_type": "markdown",
   "metadata": {},
   "source": [
    "## C. Create the nice_set"
   ]
  },
  {
   "cell_type": "markdown",
   "metadata": {},
   "source": [
    "We create also a nice_set.  \n",
    "In the nice_set, we will only have our combinaison of userdId andIitemId which are already rated.  \n",
    "We can see here the real value of the rating."
   ]
  },
  {
   "cell_type": "code",
   "execution_count": 207,
   "metadata": {},
   "outputs": [
    {
     "data": {
      "text/plain": [
       "[(266783, '1_4', 2.0),\n",
       " (266783, '2_1', 4.0),\n",
       " (266783, '5_10', 2.0),\n",
       " (266784, '3_4', 2.0)]"
      ]
     },
     "execution_count": 207,
     "metadata": {},
     "output_type": "execute_result"
    }
   ],
   "source": [
    "#we create here an anti_set\n",
    "nice_set = data.build_full_trainset().build_testset()\n",
    "nice_set[:4]"
   ]
  },
  {
   "cell_type": "markdown",
   "metadata": {},
   "source": [
    "## D. Information about the full data"
   ]
  },
  {
   "cell_type": "code",
   "execution_count": 208,
   "metadata": {},
   "outputs": [
    {
     "data": {
      "text/html": [
       "<div>\n",
       "<style scoped>\n",
       "    .dataframe tbody tr th:only-of-type {\n",
       "        vertical-align: middle;\n",
       "    }\n",
       "\n",
       "    .dataframe tbody tr th {\n",
       "        vertical-align: top;\n",
       "    }\n",
       "\n",
       "    .dataframe thead th {\n",
       "        text-align: right;\n",
       "    }\n",
       "</style>\n",
       "<table border=\"1\" class=\"dataframe\">\n",
       "  <thead>\n",
       "    <tr style=\"text-align: right;\">\n",
       "      <th></th>\n",
       "      <th>ItemId</th>\n",
       "      <th>Item_Name</th>\n",
       "    </tr>\n",
       "  </thead>\n",
       "  <tbody>\n",
       "    <tr>\n",
       "      <th>0</th>\n",
       "      <td>1_4</td>\n",
       "      <td>Clothing_Mens</td>\n",
       "    </tr>\n",
       "    <tr>\n",
       "      <th>1</th>\n",
       "      <td>2_1</td>\n",
       "      <td>Footwear_Mens</td>\n",
       "    </tr>\n",
       "  </tbody>\n",
       "</table>\n",
       "</div>"
      ],
      "text/plain": [
       "  ItemId      Item_Name\n",
       "0    1_4  Clothing_Mens\n",
       "1    2_1  Footwear_Mens"
      ]
     },
     "metadata": {},
     "output_type": "display_data"
    },
    {
     "data": {
      "text/html": [
       "<div>\n",
       "<style scoped>\n",
       "    .dataframe tbody tr th:only-of-type {\n",
       "        vertical-align: middle;\n",
       "    }\n",
       "\n",
       "    .dataframe tbody tr th {\n",
       "        vertical-align: top;\n",
       "    }\n",
       "\n",
       "    .dataframe thead th {\n",
       "        text-align: right;\n",
       "    }\n",
       "</style>\n",
       "<table border=\"1\" class=\"dataframe\">\n",
       "  <thead>\n",
       "    <tr style=\"text-align: right;\">\n",
       "      <th></th>\n",
       "      <th>userId</th>\n",
       "    </tr>\n",
       "  </thead>\n",
       "  <tbody>\n",
       "    <tr>\n",
       "      <th>0</th>\n",
       "      <td>266783</td>\n",
       "    </tr>\n",
       "    <tr>\n",
       "      <th>3</th>\n",
       "      <td>266784</td>\n",
       "    </tr>\n",
       "  </tbody>\n",
       "</table>\n",
       "</div>"
      ],
      "text/plain": [
       "   userId\n",
       "0  266783\n",
       "3  266784"
      ]
     },
     "metadata": {},
     "output_type": "display_data"
    }
   ],
   "source": [
    "items = ratings_table[['ItemId' , 'Item_Name']].drop_duplicates(['ItemId' , 'Item_Name'])\n",
    "users = ratings_table[['userId']].drop_duplicates(['userId'])\n",
    "display(items.head(2))\n",
    "display(users.head(2))"
   ]
  },
  {
   "cell_type": "code",
   "execution_count": 209,
   "metadata": {},
   "outputs": [
    {
     "name": "stdout",
     "output_type": "stream",
     "text": [
      "Number of users:  4031 \n",
      "\n",
      "Number of items:  23 \n",
      "\n"
     ]
    }
   ],
   "source": [
    "trainsetfull = data.build_full_trainset()\n",
    "print('Number of users: ', trainsetfull.n_users, '\\n')\n",
    "print('Number of items: ', trainsetfull.n_items, '\\n')"
   ]
  },
  {
   "cell_type": "markdown",
   "metadata": {},
   "source": [
    "# IV. Train a model"
   ]
  },
  {
   "cell_type": "markdown",
   "metadata": {},
   "source": [
    "## A. Choosing the best algorithm"
   ]
  },
  {
   "cell_type": "markdown",
   "metadata": {},
   "source": [
    "We use cross validatin technique to estimate the best algo"
   ]
  },
  {
   "cell_type": "markdown",
   "metadata": {},
   "source": [
    "* cross-validated a number of model types with different parameters,\n",
    "* selected the configuration with the lowest average test RMSE score,\n",
    "* trained that model on the whole Dataset,\n",
    "* used it for predictions."
   ]
  },
  {
   "cell_type": "markdown",
   "metadata": {},
   "source": [
    "On this next cell, we can change a lot of parameters:\n",
    "* k : it is the upper limit of similar items we want the algorithm to consider\n",
    "* min_k : if a user does not have enough ratings, the global average will be used for estimations\n",
    "* For sim_option :  \n",
    "    * name : type of formula for the similarity functions (pearson, cosine, MSD)\n",
    "    * user_based : Basically, there are two different routes when you want to estimate similarities. You can either compute how similar each item is to each other item, or do the same with the users.\n",
    "\n",
    "We can also change the model (KNNWithMeans, KNNBasic, KNNWithZScore, KNNBaseline)"
   ]
  },
  {
   "cell_type": "markdown",
   "metadata": {},
   "source": [
    "We create a data frame named DF_result to expose all our model test in order to choose with best result"
   ]
  },
  {
   "cell_type": "code",
   "execution_count": 210,
   "metadata": {
    "collapsed": true,
    "jupyter": {
     "outputs_hidden": true
    }
   },
   "outputs": [
    {
     "name": "stdout",
     "output_type": "stream",
     "text": [
      "Computing the pearson similarity matrix...\n",
      "Done computing similarity matrix.\n",
      "Computing the pearson similarity matrix...\n",
      "Done computing similarity matrix.\n",
      "Computing the pearson similarity matrix...\n",
      "Done computing similarity matrix.\n",
      "Computing the pearson similarity matrix...\n",
      "Done computing similarity matrix.\n",
      "Computing the pearson similarity matrix...\n",
      "Done computing similarity matrix.\n",
      "Computing the pearson similarity matrix...\n",
      "Done computing similarity matrix.\n",
      "Computing the pearson similarity matrix...\n",
      "Done computing similarity matrix.\n",
      "Computing the pearson similarity matrix...\n",
      "Done computing similarity matrix.\n",
      "Computing the pearson similarity matrix...\n",
      "Done computing similarity matrix.\n",
      "Computing the pearson similarity matrix...\n",
      "Done computing similarity matrix.\n",
      "Computing the cosine similarity matrix...\n",
      "Done computing similarity matrix.\n",
      "Computing the cosine similarity matrix...\n",
      "Done computing similarity matrix.\n",
      "Computing the cosine similarity matrix...\n",
      "Done computing similarity matrix.\n",
      "Computing the cosine similarity matrix...\n",
      "Done computing similarity matrix.\n",
      "Computing the cosine similarity matrix...\n",
      "Done computing similarity matrix.\n",
      "Computing the cosine similarity matrix...\n",
      "Done computing similarity matrix.\n",
      "Computing the cosine similarity matrix...\n",
      "Done computing similarity matrix.\n",
      "Computing the cosine similarity matrix...\n",
      "Done computing similarity matrix.\n",
      "Computing the cosine similarity matrix...\n",
      "Done computing similarity matrix.\n",
      "Computing the cosine similarity matrix...\n",
      "Done computing similarity matrix.\n",
      "Computing the msd similarity matrix...\n",
      "Done computing similarity matrix.\n",
      "Computing the msd similarity matrix...\n",
      "Done computing similarity matrix.\n",
      "Computing the msd similarity matrix...\n",
      "Done computing similarity matrix.\n",
      "Computing the msd similarity matrix...\n",
      "Done computing similarity matrix.\n",
      "Computing the msd similarity matrix...\n",
      "Done computing similarity matrix.\n",
      "Computing the msd similarity matrix...\n",
      "Done computing similarity matrix.\n",
      "Computing the msd similarity matrix...\n",
      "Done computing similarity matrix.\n"
     ]
    },
    {
     "ename": "KeyboardInterrupt",
     "evalue": "",
     "output_type": "error",
     "traceback": [
      "\u001b[0;31m---------------------------------------------------------------------------\u001b[0m",
      "\u001b[0;31mKeyboardInterrupt\u001b[0m                         Traceback (most recent call last)",
      "\u001b[0;32m<ipython-input-210-5b6314c9a7b1>\u001b[0m in \u001b[0;36m<module>\u001b[0;34m\u001b[0m\n\u001b[1;32m     36\u001b[0m                 \u001b[0mmy_sim_option\u001b[0m\u001b[0;34m[\u001b[0m\u001b[0;34m'name'\u001b[0m\u001b[0;34m]\u001b[0m \u001b[0;34m=\u001b[0m \u001b[0mmetric\u001b[0m\u001b[0;34m\u001b[0m\u001b[0;34m\u001b[0m\u001b[0m\n\u001b[1;32m     37\u001b[0m                 \u001b[0mmy_sim_option\u001b[0m\u001b[0;34m[\u001b[0m\u001b[0;34m'user_based'\u001b[0m\u001b[0;34m]\u001b[0m \u001b[0;34m=\u001b[0m \u001b[0mBool\u001b[0m\u001b[0;34m\u001b[0m\u001b[0;34m\u001b[0m\u001b[0m\n\u001b[0;32m---> 38\u001b[0;31m                 \u001b[0malgo\u001b[0m \u001b[0;34m,\u001b[0m \u001b[0malgor\u001b[0m\u001b[0;34m,\u001b[0m \u001b[0mmy_k\u001b[0m\u001b[0;34m,\u001b[0m \u001b[0mmy_min_k\u001b[0m\u001b[0;34m,\u001b[0m \u001b[0mresults\u001b[0m \u001b[0;34m=\u001b[0m \u001b[0mcompute_result\u001b[0m\u001b[0;34m(\u001b[0m\u001b[0malgor\u001b[0m\u001b[0;34m,\u001b[0m \u001b[0mmy_k\u001b[0m\u001b[0;34m,\u001b[0m \u001b[0mmy_min_k\u001b[0m\u001b[0;34m,\u001b[0m \u001b[0mmy_sim_option\u001b[0m\u001b[0;34m,\u001b[0m \u001b[0mdata\u001b[0m \u001b[0;34m=\u001b[0m \u001b[0mdata\u001b[0m\u001b[0;34m)\u001b[0m\u001b[0;34m\u001b[0m\u001b[0;34m\u001b[0m\u001b[0m\n\u001b[0m\u001b[1;32m     39\u001b[0m \u001b[0;34m\u001b[0m\u001b[0m\n\u001b[1;32m     40\u001b[0m                 \u001b[0mL\u001b[0m\u001b[0;34m.\u001b[0m\u001b[0mappend\u001b[0m\u001b[0;34m(\u001b[0m\u001b[0;34m[\u001b[0m\u001b[0malgor\u001b[0m\u001b[0;34m.\u001b[0m\u001b[0m__name__\u001b[0m\u001b[0;34m,\u001b[0m \u001b[0mmy_k\u001b[0m\u001b[0;34m,\u001b[0m \u001b[0mmy_min_k\u001b[0m\u001b[0;34m,\u001b[0m \u001b[0mmetric\u001b[0m\u001b[0;34m,\u001b[0m \u001b[0mBool\u001b[0m\u001b[0;34m,\u001b[0m \u001b[0mresults\u001b[0m\u001b[0;34m]\u001b[0m\u001b[0;34m)\u001b[0m\u001b[0;34m\u001b[0m\u001b[0;34m\u001b[0m\u001b[0m\n",
      "\u001b[0;32m<ipython-input-210-5b6314c9a7b1>\u001b[0m in \u001b[0;36mcompute_result\u001b[0;34m(algor, my_k, my_min_k, my_sim_option, data)\u001b[0m\n\u001b[1;32m     16\u001b[0m         )\n\u001b[1;32m     17\u001b[0m \u001b[0;34m\u001b[0m\u001b[0m\n\u001b[0;32m---> 18\u001b[0;31m     results = cross_validate(\n\u001b[0m\u001b[1;32m     19\u001b[0m         \u001b[0malgo\u001b[0m \u001b[0;34m=\u001b[0m \u001b[0malgo\u001b[0m\u001b[0;34m,\u001b[0m \u001b[0mdata\u001b[0m \u001b[0;34m=\u001b[0m \u001b[0mdata\u001b[0m\u001b[0;34m,\u001b[0m \u001b[0mmeasures\u001b[0m\u001b[0;34m=\u001b[0m\u001b[0;34m[\u001b[0m\u001b[0;34m'RMSE'\u001b[0m\u001b[0;34m]\u001b[0m\u001b[0;34m,\u001b[0m\u001b[0;34m\u001b[0m\u001b[0;34m\u001b[0m\u001b[0m\n\u001b[1;32m     20\u001b[0m         \u001b[0mcv\u001b[0m\u001b[0;34m=\u001b[0m\u001b[0;36m5\u001b[0m\u001b[0;34m,\u001b[0m \u001b[0mreturn_train_measures\u001b[0m\u001b[0;34m=\u001b[0m\u001b[0;32mTrue\u001b[0m\u001b[0;34m\u001b[0m\u001b[0;34m\u001b[0m\u001b[0m\n",
      "\u001b[0;32m~/opt/anaconda3/lib/python3.8/site-packages/surprise/model_selection/validation.py\u001b[0m in \u001b[0;36mcross_validate\u001b[0;34m(algo, data, measures, cv, return_train_measures, n_jobs, pre_dispatch, verbose)\u001b[0m\n\u001b[1;32m    101\u001b[0m                                            return_train_measures)\n\u001b[1;32m    102\u001b[0m                     for (trainset, testset) in cv.split(data))\n\u001b[0;32m--> 103\u001b[0;31m     \u001b[0mout\u001b[0m \u001b[0;34m=\u001b[0m \u001b[0mParallel\u001b[0m\u001b[0;34m(\u001b[0m\u001b[0mn_jobs\u001b[0m\u001b[0;34m=\u001b[0m\u001b[0mn_jobs\u001b[0m\u001b[0;34m,\u001b[0m \u001b[0mpre_dispatch\u001b[0m\u001b[0;34m=\u001b[0m\u001b[0mpre_dispatch\u001b[0m\u001b[0;34m)\u001b[0m\u001b[0;34m(\u001b[0m\u001b[0mdelayed_list\u001b[0m\u001b[0;34m)\u001b[0m\u001b[0;34m\u001b[0m\u001b[0;34m\u001b[0m\u001b[0m\n\u001b[0m\u001b[1;32m    104\u001b[0m \u001b[0;34m\u001b[0m\u001b[0m\n\u001b[1;32m    105\u001b[0m     (test_measures_dicts,\n",
      "\u001b[0;32m~/opt/anaconda3/lib/python3.8/site-packages/joblib/parallel.py\u001b[0m in \u001b[0;36m__call__\u001b[0;34m(self, iterable)\u001b[0m\n\u001b[1;32m   1030\u001b[0m                 \u001b[0mself\u001b[0m\u001b[0;34m.\u001b[0m\u001b[0m_iterating\u001b[0m \u001b[0;34m=\u001b[0m \u001b[0mself\u001b[0m\u001b[0;34m.\u001b[0m\u001b[0m_original_iterator\u001b[0m \u001b[0;32mis\u001b[0m \u001b[0;32mnot\u001b[0m \u001b[0;32mNone\u001b[0m\u001b[0;34m\u001b[0m\u001b[0;34m\u001b[0m\u001b[0m\n\u001b[1;32m   1031\u001b[0m \u001b[0;34m\u001b[0m\u001b[0m\n\u001b[0;32m-> 1032\u001b[0;31m             \u001b[0;32mwhile\u001b[0m \u001b[0mself\u001b[0m\u001b[0;34m.\u001b[0m\u001b[0mdispatch_one_batch\u001b[0m\u001b[0;34m(\u001b[0m\u001b[0miterator\u001b[0m\u001b[0;34m)\u001b[0m\u001b[0;34m:\u001b[0m\u001b[0;34m\u001b[0m\u001b[0;34m\u001b[0m\u001b[0m\n\u001b[0m\u001b[1;32m   1033\u001b[0m                 \u001b[0;32mpass\u001b[0m\u001b[0;34m\u001b[0m\u001b[0;34m\u001b[0m\u001b[0m\n\u001b[1;32m   1034\u001b[0m \u001b[0;34m\u001b[0m\u001b[0m\n",
      "\u001b[0;32m~/opt/anaconda3/lib/python3.8/site-packages/joblib/parallel.py\u001b[0m in \u001b[0;36mdispatch_one_batch\u001b[0;34m(self, iterator)\u001b[0m\n\u001b[1;32m    845\u001b[0m                 \u001b[0;32mreturn\u001b[0m \u001b[0;32mFalse\u001b[0m\u001b[0;34m\u001b[0m\u001b[0;34m\u001b[0m\u001b[0m\n\u001b[1;32m    846\u001b[0m             \u001b[0;32melse\u001b[0m\u001b[0;34m:\u001b[0m\u001b[0;34m\u001b[0m\u001b[0;34m\u001b[0m\u001b[0m\n\u001b[0;32m--> 847\u001b[0;31m                 \u001b[0mself\u001b[0m\u001b[0;34m.\u001b[0m\u001b[0m_dispatch\u001b[0m\u001b[0;34m(\u001b[0m\u001b[0mtasks\u001b[0m\u001b[0;34m)\u001b[0m\u001b[0;34m\u001b[0m\u001b[0;34m\u001b[0m\u001b[0m\n\u001b[0m\u001b[1;32m    848\u001b[0m                 \u001b[0;32mreturn\u001b[0m \u001b[0;32mTrue\u001b[0m\u001b[0;34m\u001b[0m\u001b[0;34m\u001b[0m\u001b[0m\n\u001b[1;32m    849\u001b[0m \u001b[0;34m\u001b[0m\u001b[0m\n",
      "\u001b[0;32m~/opt/anaconda3/lib/python3.8/site-packages/joblib/parallel.py\u001b[0m in \u001b[0;36m_dispatch\u001b[0;34m(self, batch)\u001b[0m\n\u001b[1;32m    763\u001b[0m         \u001b[0;32mwith\u001b[0m \u001b[0mself\u001b[0m\u001b[0;34m.\u001b[0m\u001b[0m_lock\u001b[0m\u001b[0;34m:\u001b[0m\u001b[0;34m\u001b[0m\u001b[0;34m\u001b[0m\u001b[0m\n\u001b[1;32m    764\u001b[0m             \u001b[0mjob_idx\u001b[0m \u001b[0;34m=\u001b[0m \u001b[0mlen\u001b[0m\u001b[0;34m(\u001b[0m\u001b[0mself\u001b[0m\u001b[0;34m.\u001b[0m\u001b[0m_jobs\u001b[0m\u001b[0;34m)\u001b[0m\u001b[0;34m\u001b[0m\u001b[0;34m\u001b[0m\u001b[0m\n\u001b[0;32m--> 765\u001b[0;31m             \u001b[0mjob\u001b[0m \u001b[0;34m=\u001b[0m \u001b[0mself\u001b[0m\u001b[0;34m.\u001b[0m\u001b[0m_backend\u001b[0m\u001b[0;34m.\u001b[0m\u001b[0mapply_async\u001b[0m\u001b[0;34m(\u001b[0m\u001b[0mbatch\u001b[0m\u001b[0;34m,\u001b[0m \u001b[0mcallback\u001b[0m\u001b[0;34m=\u001b[0m\u001b[0mcb\u001b[0m\u001b[0;34m)\u001b[0m\u001b[0;34m\u001b[0m\u001b[0;34m\u001b[0m\u001b[0m\n\u001b[0m\u001b[1;32m    766\u001b[0m             \u001b[0;31m# A job can complete so quickly than its callback is\u001b[0m\u001b[0;34m\u001b[0m\u001b[0;34m\u001b[0m\u001b[0;34m\u001b[0m\u001b[0m\n\u001b[1;32m    767\u001b[0m             \u001b[0;31m# called before we get here, causing self._jobs to\u001b[0m\u001b[0;34m\u001b[0m\u001b[0;34m\u001b[0m\u001b[0;34m\u001b[0m\u001b[0m\n",
      "\u001b[0;32m~/opt/anaconda3/lib/python3.8/site-packages/joblib/_parallel_backends.py\u001b[0m in \u001b[0;36mapply_async\u001b[0;34m(self, func, callback)\u001b[0m\n\u001b[1;32m    206\u001b[0m     \u001b[0;32mdef\u001b[0m \u001b[0mapply_async\u001b[0m\u001b[0;34m(\u001b[0m\u001b[0mself\u001b[0m\u001b[0;34m,\u001b[0m \u001b[0mfunc\u001b[0m\u001b[0;34m,\u001b[0m \u001b[0mcallback\u001b[0m\u001b[0;34m=\u001b[0m\u001b[0;32mNone\u001b[0m\u001b[0;34m)\u001b[0m\u001b[0;34m:\u001b[0m\u001b[0;34m\u001b[0m\u001b[0;34m\u001b[0m\u001b[0m\n\u001b[1;32m    207\u001b[0m         \u001b[0;34m\"\"\"Schedule a func to be run\"\"\"\u001b[0m\u001b[0;34m\u001b[0m\u001b[0;34m\u001b[0m\u001b[0m\n\u001b[0;32m--> 208\u001b[0;31m         \u001b[0mresult\u001b[0m \u001b[0;34m=\u001b[0m \u001b[0mImmediateResult\u001b[0m\u001b[0;34m(\u001b[0m\u001b[0mfunc\u001b[0m\u001b[0;34m)\u001b[0m\u001b[0;34m\u001b[0m\u001b[0;34m\u001b[0m\u001b[0m\n\u001b[0m\u001b[1;32m    209\u001b[0m         \u001b[0;32mif\u001b[0m \u001b[0mcallback\u001b[0m\u001b[0;34m:\u001b[0m\u001b[0;34m\u001b[0m\u001b[0;34m\u001b[0m\u001b[0m\n\u001b[1;32m    210\u001b[0m             \u001b[0mcallback\u001b[0m\u001b[0;34m(\u001b[0m\u001b[0mresult\u001b[0m\u001b[0;34m)\u001b[0m\u001b[0;34m\u001b[0m\u001b[0;34m\u001b[0m\u001b[0m\n",
      "\u001b[0;32m~/opt/anaconda3/lib/python3.8/site-packages/joblib/_parallel_backends.py\u001b[0m in \u001b[0;36m__init__\u001b[0;34m(self, batch)\u001b[0m\n\u001b[1;32m    570\u001b[0m         \u001b[0;31m# Don't delay the application, to avoid keeping the input\u001b[0m\u001b[0;34m\u001b[0m\u001b[0;34m\u001b[0m\u001b[0;34m\u001b[0m\u001b[0m\n\u001b[1;32m    571\u001b[0m         \u001b[0;31m# arguments in memory\u001b[0m\u001b[0;34m\u001b[0m\u001b[0;34m\u001b[0m\u001b[0;34m\u001b[0m\u001b[0m\n\u001b[0;32m--> 572\u001b[0;31m         \u001b[0mself\u001b[0m\u001b[0;34m.\u001b[0m\u001b[0mresults\u001b[0m \u001b[0;34m=\u001b[0m \u001b[0mbatch\u001b[0m\u001b[0;34m(\u001b[0m\u001b[0;34m)\u001b[0m\u001b[0;34m\u001b[0m\u001b[0;34m\u001b[0m\u001b[0m\n\u001b[0m\u001b[1;32m    573\u001b[0m \u001b[0;34m\u001b[0m\u001b[0m\n\u001b[1;32m    574\u001b[0m     \u001b[0;32mdef\u001b[0m \u001b[0mget\u001b[0m\u001b[0;34m(\u001b[0m\u001b[0mself\u001b[0m\u001b[0;34m)\u001b[0m\u001b[0;34m:\u001b[0m\u001b[0;34m\u001b[0m\u001b[0;34m\u001b[0m\u001b[0m\n",
      "\u001b[0;32m~/opt/anaconda3/lib/python3.8/site-packages/joblib/parallel.py\u001b[0m in \u001b[0;36m__call__\u001b[0;34m(self)\u001b[0m\n\u001b[1;32m    250\u001b[0m         \u001b[0;31m# change the default number of processes to -1\u001b[0m\u001b[0;34m\u001b[0m\u001b[0;34m\u001b[0m\u001b[0;34m\u001b[0m\u001b[0m\n\u001b[1;32m    251\u001b[0m         \u001b[0;32mwith\u001b[0m \u001b[0mparallel_backend\u001b[0m\u001b[0;34m(\u001b[0m\u001b[0mself\u001b[0m\u001b[0;34m.\u001b[0m\u001b[0m_backend\u001b[0m\u001b[0;34m,\u001b[0m \u001b[0mn_jobs\u001b[0m\u001b[0;34m=\u001b[0m\u001b[0mself\u001b[0m\u001b[0;34m.\u001b[0m\u001b[0m_n_jobs\u001b[0m\u001b[0;34m)\u001b[0m\u001b[0;34m:\u001b[0m\u001b[0;34m\u001b[0m\u001b[0;34m\u001b[0m\u001b[0m\n\u001b[0;32m--> 252\u001b[0;31m             return [func(*args, **kwargs)\n\u001b[0m\u001b[1;32m    253\u001b[0m                     for func, args, kwargs in self.items]\n\u001b[1;32m    254\u001b[0m \u001b[0;34m\u001b[0m\u001b[0m\n",
      "\u001b[0;32m~/opt/anaconda3/lib/python3.8/site-packages/joblib/parallel.py\u001b[0m in \u001b[0;36m<listcomp>\u001b[0;34m(.0)\u001b[0m\n\u001b[1;32m    250\u001b[0m         \u001b[0;31m# change the default number of processes to -1\u001b[0m\u001b[0;34m\u001b[0m\u001b[0;34m\u001b[0m\u001b[0;34m\u001b[0m\u001b[0m\n\u001b[1;32m    251\u001b[0m         \u001b[0;32mwith\u001b[0m \u001b[0mparallel_backend\u001b[0m\u001b[0;34m(\u001b[0m\u001b[0mself\u001b[0m\u001b[0;34m.\u001b[0m\u001b[0m_backend\u001b[0m\u001b[0;34m,\u001b[0m \u001b[0mn_jobs\u001b[0m\u001b[0;34m=\u001b[0m\u001b[0mself\u001b[0m\u001b[0;34m.\u001b[0m\u001b[0m_n_jobs\u001b[0m\u001b[0;34m)\u001b[0m\u001b[0;34m:\u001b[0m\u001b[0;34m\u001b[0m\u001b[0;34m\u001b[0m\u001b[0m\n\u001b[0;32m--> 252\u001b[0;31m             return [func(*args, **kwargs)\n\u001b[0m\u001b[1;32m    253\u001b[0m                     for func, args, kwargs in self.items]\n\u001b[1;32m    254\u001b[0m \u001b[0;34m\u001b[0m\u001b[0m\n",
      "\u001b[0;32m~/opt/anaconda3/lib/python3.8/site-packages/surprise/model_selection/validation.py\u001b[0m in \u001b[0;36mfit_and_score\u001b[0;34m(algo, trainset, testset, measures, return_train_measures)\u001b[0m\n\u001b[1;32m    167\u001b[0m     \u001b[0mfit_time\u001b[0m \u001b[0;34m=\u001b[0m \u001b[0mtime\u001b[0m\u001b[0;34m.\u001b[0m\u001b[0mtime\u001b[0m\u001b[0;34m(\u001b[0m\u001b[0;34m)\u001b[0m \u001b[0;34m-\u001b[0m \u001b[0mstart_fit\u001b[0m\u001b[0;34m\u001b[0m\u001b[0;34m\u001b[0m\u001b[0m\n\u001b[1;32m    168\u001b[0m     \u001b[0mstart_test\u001b[0m \u001b[0;34m=\u001b[0m \u001b[0mtime\u001b[0m\u001b[0;34m.\u001b[0m\u001b[0mtime\u001b[0m\u001b[0;34m(\u001b[0m\u001b[0;34m)\u001b[0m\u001b[0;34m\u001b[0m\u001b[0;34m\u001b[0m\u001b[0m\n\u001b[0;32m--> 169\u001b[0;31m     \u001b[0mpredictions\u001b[0m \u001b[0;34m=\u001b[0m \u001b[0malgo\u001b[0m\u001b[0;34m.\u001b[0m\u001b[0mtest\u001b[0m\u001b[0;34m(\u001b[0m\u001b[0mtestset\u001b[0m\u001b[0;34m)\u001b[0m\u001b[0;34m\u001b[0m\u001b[0;34m\u001b[0m\u001b[0m\n\u001b[0m\u001b[1;32m    170\u001b[0m     \u001b[0mtest_time\u001b[0m \u001b[0;34m=\u001b[0m \u001b[0mtime\u001b[0m\u001b[0;34m.\u001b[0m\u001b[0mtime\u001b[0m\u001b[0;34m(\u001b[0m\u001b[0;34m)\u001b[0m \u001b[0;34m-\u001b[0m \u001b[0mstart_test\u001b[0m\u001b[0;34m\u001b[0m\u001b[0;34m\u001b[0m\u001b[0m\n\u001b[1;32m    171\u001b[0m \u001b[0;34m\u001b[0m\u001b[0m\n",
      "\u001b[0;32m~/opt/anaconda3/lib/python3.8/site-packages/surprise/prediction_algorithms/algo_base.py\u001b[0m in \u001b[0;36mtest\u001b[0;34m(self, testset, verbose)\u001b[0m\n\u001b[1;32m    162\u001b[0m \u001b[0;34m\u001b[0m\u001b[0m\n\u001b[1;32m    163\u001b[0m         \u001b[0;31m# The ratings are translated back to their original scale.\u001b[0m\u001b[0;34m\u001b[0m\u001b[0;34m\u001b[0m\u001b[0;34m\u001b[0m\u001b[0m\n\u001b[0;32m--> 164\u001b[0;31m         predictions = [self.predict(uid,\n\u001b[0m\u001b[1;32m    165\u001b[0m                                     \u001b[0miid\u001b[0m\u001b[0;34m,\u001b[0m\u001b[0;34m\u001b[0m\u001b[0;34m\u001b[0m\u001b[0m\n\u001b[1;32m    166\u001b[0m                                     \u001b[0mr_ui_trans\u001b[0m\u001b[0;34m,\u001b[0m\u001b[0;34m\u001b[0m\u001b[0;34m\u001b[0m\u001b[0m\n",
      "\u001b[0;32m~/opt/anaconda3/lib/python3.8/site-packages/surprise/prediction_algorithms/algo_base.py\u001b[0m in \u001b[0;36m<listcomp>\u001b[0;34m(.0)\u001b[0m\n\u001b[1;32m    162\u001b[0m \u001b[0;34m\u001b[0m\u001b[0m\n\u001b[1;32m    163\u001b[0m         \u001b[0;31m# The ratings are translated back to their original scale.\u001b[0m\u001b[0;34m\u001b[0m\u001b[0;34m\u001b[0m\u001b[0;34m\u001b[0m\u001b[0m\n\u001b[0;32m--> 164\u001b[0;31m         predictions = [self.predict(uid,\n\u001b[0m\u001b[1;32m    165\u001b[0m                                     \u001b[0miid\u001b[0m\u001b[0;34m,\u001b[0m\u001b[0;34m\u001b[0m\u001b[0;34m\u001b[0m\u001b[0m\n\u001b[1;32m    166\u001b[0m                                     \u001b[0mr_ui_trans\u001b[0m\u001b[0;34m,\u001b[0m\u001b[0;34m\u001b[0m\u001b[0;34m\u001b[0m\u001b[0m\n",
      "\u001b[0;31mKeyboardInterrupt\u001b[0m: "
     ]
    }
   ],
   "source": [
    "\n",
    "#Creation of the result df\n",
    "DF_result = pd.DataFrame(columns = ['algor', 'my_k', 'my_min_k', 'my_sim_option_name', 'my_sim_option_user_based', 'results'])\n",
    "\n",
    "\n",
    "my_k = 6\n",
    "my_min_k = 2\n",
    "my_sim_option = { 'name':'pearson', 'user_based':False }\n",
    "\n",
    "\n",
    "\n",
    "def compute_result(algor, my_k, my_min_k, my_sim_option, data = data):\n",
    "\n",
    "    algo = algor(\n",
    "        k = my_k, min_k = my_min_k, \n",
    "        sim_options = my_sim_option, verbose = True\n",
    "        )\n",
    "\n",
    "    results = cross_validate(\n",
    "        algo = algo, data = data, measures=['RMSE'], \n",
    "        cv=5, return_train_measures=True\n",
    "        )\n",
    "    \n",
    " \n",
    "    return algo, algor, my_k, my_min_k, results['test_rmse'].mean()\n",
    "\n",
    "\n",
    "t1 = time.time()\n",
    "\n",
    "\n",
    "for algor in [KNNWithMeans, KNNBasic, KNNWithZScore, KNNBaseline]:        # [KNNWithMeans, KNNBasic, KNNWithZScore, KNNBaseline]:\n",
    "    for metric in ['pearson', 'cosine', 'MSD']: #['pearson', 'cosine', 'MSD']:\n",
    "        for Bool in [False]: #[True, False]\n",
    "            for my_k in [5,7]: #[4,7,14]\n",
    "                L= []\n",
    "\n",
    "                my_sim_option['name'] = metric\n",
    "                my_sim_option['user_based'] = Bool\n",
    "                algo , algor, my_k, my_min_k, results = compute_result(algor, my_k, my_min_k, my_sim_option, data = data)\n",
    "\n",
    "                L.append([algor.__name__, my_k, my_min_k, metric, Bool, results])\n",
    "\n",
    "                df_temp = pd.DataFrame(L,columns = ['algor', 'my_k', 'my_min_k', 'my_sim_option_name', 'my_sim_option_user_based', 'results'])\n",
    "\n",
    "\n",
    "                DF_result = DF_result.append(df_temp, ignore_index=True)\n",
    "\n",
    "\n",
    "DF_result.sort_values(by=['results'], ascending=True, inplace=True)\n",
    "DF_result.head()\n",
    "t2 = time.time()\n",
    "\n",
    "#it takes 23 min to complete with conditions written in comment\n",
    "print('took in sec :', (t2 - t1))\n",
    "DF_result"
   ]
  },
  {
   "cell_type": "markdown",
   "metadata": {},
   "source": [
    "We select the best result thanks to the data frame result below.  \n",
    "The previous cell was a bit long to exectue, around 23 min so i willl save the result in a csv file."
   ]
  },
  {
   "cell_type": "code",
   "execution_count": 211,
   "metadata": {},
   "outputs": [
    {
     "data": {
      "text/html": [
       "<div>\n",
       "<style scoped>\n",
       "    .dataframe tbody tr th:only-of-type {\n",
       "        vertical-align: middle;\n",
       "    }\n",
       "\n",
       "    .dataframe tbody tr th {\n",
       "        vertical-align: top;\n",
       "    }\n",
       "\n",
       "    .dataframe thead th {\n",
       "        text-align: right;\n",
       "    }\n",
       "</style>\n",
       "<table border=\"1\" class=\"dataframe\">\n",
       "  <thead>\n",
       "    <tr style=\"text-align: right;\">\n",
       "      <th></th>\n",
       "      <th>algor</th>\n",
       "      <th>my_k</th>\n",
       "      <th>my_min_k</th>\n",
       "      <th>my_sim_option_name</th>\n",
       "      <th>my_sim_option_user_based</th>\n",
       "      <th>results</th>\n",
       "    </tr>\n",
       "  </thead>\n",
       "  <tbody>\n",
       "    <tr>\n",
       "      <th>0</th>\n",
       "      <td>KNNWithMeans</td>\n",
       "      <td>5</td>\n",
       "      <td>2</td>\n",
       "      <td>pearson</td>\n",
       "      <td>False</td>\n",
       "      <td>1.552837</td>\n",
       "    </tr>\n",
       "    <tr>\n",
       "      <th>1</th>\n",
       "      <td>KNNWithMeans</td>\n",
       "      <td>7</td>\n",
       "      <td>2</td>\n",
       "      <td>pearson</td>\n",
       "      <td>False</td>\n",
       "      <td>1.558880</td>\n",
       "    </tr>\n",
       "    <tr>\n",
       "      <th>2</th>\n",
       "      <td>KNNWithMeans</td>\n",
       "      <td>5</td>\n",
       "      <td>2</td>\n",
       "      <td>cosine</td>\n",
       "      <td>False</td>\n",
       "      <td>1.597842</td>\n",
       "    </tr>\n",
       "    <tr>\n",
       "      <th>3</th>\n",
       "      <td>KNNWithMeans</td>\n",
       "      <td>7</td>\n",
       "      <td>2</td>\n",
       "      <td>cosine</td>\n",
       "      <td>False</td>\n",
       "      <td>1.595564</td>\n",
       "    </tr>\n",
       "    <tr>\n",
       "      <th>4</th>\n",
       "      <td>KNNWithMeans</td>\n",
       "      <td>5</td>\n",
       "      <td>2</td>\n",
       "      <td>MSD</td>\n",
       "      <td>False</td>\n",
       "      <td>1.589469</td>\n",
       "    </tr>\n",
       "  </tbody>\n",
       "</table>\n",
       "</div>"
      ],
      "text/plain": [
       "          algor my_k my_min_k my_sim_option_name my_sim_option_user_based  \\\n",
       "0  KNNWithMeans    5        2            pearson                    False   \n",
       "1  KNNWithMeans    7        2            pearson                    False   \n",
       "2  KNNWithMeans    5        2             cosine                    False   \n",
       "3  KNNWithMeans    7        2             cosine                    False   \n",
       "4  KNNWithMeans    5        2                MSD                    False   \n",
       "\n",
       "    results  \n",
       "0  1.552837  \n",
       "1  1.558880  \n",
       "2  1.597842  \n",
       "3  1.595564  \n",
       "4  1.589469  "
      ]
     },
     "execution_count": 211,
     "metadata": {},
     "output_type": "execute_result"
    }
   ],
   "source": [
    "#DF_result.to_csv('df_result_metrics.csv', index = False)\n",
    "DF_result.head(20)"
   ]
  },
  {
   "cell_type": "markdown",
   "metadata": {},
   "source": [
    "So, we can see that the best algorithm is KNNBaseline with k at 14,  min_k at 2, the similarity metrics as cosine, we use user_based on True.  \n",
    "This allow us to have a mean RMSE at 1.46"
   ]
  },
  {
   "cell_type": "code",
   "execution_count": 212,
   "metadata": {},
   "outputs": [
    {
     "name": "stdout",
     "output_type": "stream",
     "text": [
      "Estimating biases using als...\n",
      "Computing the cosine similarity matrix...\n",
      "Done computing similarity matrix.\n",
      "Estimating biases using als...\n",
      "Computing the cosine similarity matrix...\n",
      "Done computing similarity matrix.\n",
      "Estimating biases using als...\n",
      "Computing the cosine similarity matrix...\n",
      "Done computing similarity matrix.\n",
      "Estimating biases using als...\n",
      "Computing the cosine similarity matrix...\n",
      "Done computing similarity matrix.\n",
      "Estimating biases using als...\n",
      "Computing the cosine similarity matrix...\n",
      "Done computing similarity matrix.\n"
     ]
    }
   ],
   "source": [
    "algo, _, _, _, _ =  compute_result(algor = KNNBaseline, my_k = 7, my_min_k = 2, my_sim_option = {'name': 'cosine', 'user_based': True}, data = data)"
   ]
  },
  {
   "cell_type": "markdown",
   "metadata": {},
   "source": [
    "## B. Trainning the best algorithm"
   ]
  },
  {
   "cell_type": "markdown",
   "metadata": {},
   "source": [
    "Now that we find a good algorithm, we need to train it on the full dataset in order to do prediction "
   ]
  },
  {
   "cell_type": "code",
   "execution_count": 213,
   "metadata": {},
   "outputs": [
    {
     "name": "stdout",
     "output_type": "stream",
     "text": [
      "Estimating biases using als...\n",
      "Computing the cosine similarity matrix...\n",
      "Done computing similarity matrix.\n"
     ]
    },
    {
     "data": {
      "text/plain": [
       "<surprise.prediction_algorithms.knns.KNNBaseline at 0x7f96346ff130>"
      ]
     },
     "execution_count": 213,
     "metadata": {},
     "output_type": "execute_result"
    }
   ],
   "source": [
    "algo.fit(trainsetfull)"
   ]
  },
  {
   "cell_type": "markdown",
   "metadata": {},
   "source": [
    "# V. Prediction"
   ]
  },
  {
   "cell_type": "markdown",
   "metadata": {},
   "source": [
    "## A. Prediction on a pair (userid and an itemid)"
   ]
  },
  {
   "cell_type": "code",
   "execution_count": 214,
   "metadata": {},
   "outputs": [
    {
     "data": {
      "text/plain": [
       "Prediction(uid=270384, iid='5_12', r_ui=None, est=2.389500534574194, details={'actual_k': 7, 'was_impossible': False})"
      ]
     },
     "execution_count": 214,
     "metadata": {},
     "output_type": "execute_result"
    }
   ],
   "source": [
    "algo.predict(uid = 270384, iid = '5_12')"
   ]
  },
  {
   "cell_type": "markdown",
   "metadata": {},
   "source": [
    "In this case, the prediction for the cust_id 270384 and the item 5_12 will be around 3.6"
   ]
  },
  {
   "cell_type": "markdown",
   "metadata": {},
   "source": [
    "## B. Prediction on an user_id"
   ]
  },
  {
   "cell_type": "markdown",
   "metadata": {},
   "source": [
    "With anti_pred_df, we do the prediction for all unknown rate with the anti_set"
   ]
  },
  {
   "cell_type": "code",
   "execution_count": 215,
   "metadata": {},
   "outputs": [],
   "source": [
    "anti_pre = algo.test(anti_set)\n",
    "anti_pred_df = pd.DataFrame(anti_pre).merge(items , left_on = ['iid'], right_on = ['ItemId'])\n",
    "anti_pred_df = pd.DataFrame(anti_pred_df).merge(users , left_on = ['uid'], right_on = ['userId'])"
   ]
  },
  {
   "cell_type": "code",
   "execution_count": 216,
   "metadata": {},
   "outputs": [
    {
     "data": {
      "text/html": [
       "<div>\n",
       "<style scoped>\n",
       "    .dataframe tbody tr th:only-of-type {\n",
       "        vertical-align: middle;\n",
       "    }\n",
       "\n",
       "    .dataframe tbody tr th {\n",
       "        vertical-align: top;\n",
       "    }\n",
       "\n",
       "    .dataframe thead th {\n",
       "        text-align: right;\n",
       "    }\n",
       "</style>\n",
       "<table border=\"1\" class=\"dataframe\">\n",
       "  <thead>\n",
       "    <tr style=\"text-align: right;\">\n",
       "      <th></th>\n",
       "      <th>uid</th>\n",
       "      <th>iid</th>\n",
       "      <th>r_ui</th>\n",
       "      <th>est</th>\n",
       "      <th>details</th>\n",
       "      <th>ItemId</th>\n",
       "      <th>Item_Name</th>\n",
       "      <th>userId</th>\n",
       "    </tr>\n",
       "  </thead>\n",
       "  <tbody>\n",
       "    <tr>\n",
       "      <th>73400</th>\n",
       "      <td>266784</td>\n",
       "      <td>1_3</td>\n",
       "      <td>2.999398</td>\n",
       "      <td>4.228812</td>\n",
       "      <td>{'actual_k': 7, 'was_impossible': False}</td>\n",
       "      <td>1_3</td>\n",
       "      <td>Clothing_Kids</td>\n",
       "      <td>266784</td>\n",
       "    </tr>\n",
       "    <tr>\n",
       "      <th>73410</th>\n",
       "      <td>266784</td>\n",
       "      <td>6_11</td>\n",
       "      <td>2.999398</td>\n",
       "      <td>3.918306</td>\n",
       "      <td>{'actual_k': 7, 'was_impossible': False}</td>\n",
       "      <td>6_11</td>\n",
       "      <td>Home and kitchen_Bath</td>\n",
       "      <td>266784</td>\n",
       "    </tr>\n",
       "    <tr>\n",
       "      <th>73404</th>\n",
       "      <td>266784</td>\n",
       "      <td>4_4</td>\n",
       "      <td>2.999398</td>\n",
       "      <td>3.833014</td>\n",
       "      <td>{'actual_k': 7, 'was_impossible': False}</td>\n",
       "      <td>4_4</td>\n",
       "      <td>Bags_Women</td>\n",
       "      <td>266784</td>\n",
       "    </tr>\n",
       "    <tr>\n",
       "      <th>73397</th>\n",
       "      <td>266784</td>\n",
       "      <td>4_1</td>\n",
       "      <td>2.999398</td>\n",
       "      <td>3.660677</td>\n",
       "      <td>{'actual_k': 7, 'was_impossible': False}</td>\n",
       "      <td>4_1</td>\n",
       "      <td>Bags_Mens</td>\n",
       "      <td>266784</td>\n",
       "    </tr>\n",
       "    <tr>\n",
       "      <th>73396</th>\n",
       "      <td>266784</td>\n",
       "      <td>2_4</td>\n",
       "      <td>2.999398</td>\n",
       "      <td>3.597158</td>\n",
       "      <td>{'actual_k': 7, 'was_impossible': False}</td>\n",
       "      <td>2_4</td>\n",
       "      <td>Footwear_Kids</td>\n",
       "      <td>266784</td>\n",
       "    </tr>\n",
       "    <tr>\n",
       "      <th>73406</th>\n",
       "      <td>266784</td>\n",
       "      <td>3_5</td>\n",
       "      <td>2.999398</td>\n",
       "      <td>3.512738</td>\n",
       "      <td>{'actual_k': 7, 'was_impossible': False}</td>\n",
       "      <td>3_5</td>\n",
       "      <td>Electronics_Computers</td>\n",
       "      <td>266784</td>\n",
       "    </tr>\n",
       "    <tr>\n",
       "      <th>73411</th>\n",
       "      <td>266784</td>\n",
       "      <td>1_1</td>\n",
       "      <td>2.999398</td>\n",
       "      <td>3.459833</td>\n",
       "      <td>{'actual_k': 7, 'was_impossible': False}</td>\n",
       "      <td>1_1</td>\n",
       "      <td>Clothing_Women</td>\n",
       "      <td>266784</td>\n",
       "    </tr>\n",
       "    <tr>\n",
       "      <th>73412</th>\n",
       "      <td>266784</td>\n",
       "      <td>5_3</td>\n",
       "      <td>2.999398</td>\n",
       "      <td>3.386538</td>\n",
       "      <td>{'actual_k': 7, 'was_impossible': False}</td>\n",
       "      <td>5_3</td>\n",
       "      <td>Books_Comics</td>\n",
       "      <td>266784</td>\n",
       "    </tr>\n",
       "    <tr>\n",
       "      <th>73409</th>\n",
       "      <td>266784</td>\n",
       "      <td>3_9</td>\n",
       "      <td>2.999398</td>\n",
       "      <td>3.211833</td>\n",
       "      <td>{'actual_k': 7, 'was_impossible': False}</td>\n",
       "      <td>3_9</td>\n",
       "      <td>Electronics_Cameras</td>\n",
       "      <td>266784</td>\n",
       "    </tr>\n",
       "    <tr>\n",
       "      <th>73415</th>\n",
       "      <td>266784</td>\n",
       "      <td>2_1</td>\n",
       "      <td>2.999398</td>\n",
       "      <td>3.181940</td>\n",
       "      <td>{'actual_k': 7, 'was_impossible': False}</td>\n",
       "      <td>2_1</td>\n",
       "      <td>Footwear_Mens</td>\n",
       "      <td>266784</td>\n",
       "    </tr>\n",
       "    <tr>\n",
       "      <th>73414</th>\n",
       "      <td>266784</td>\n",
       "      <td>1_4</td>\n",
       "      <td>2.999398</td>\n",
       "      <td>3.166524</td>\n",
       "      <td>{'actual_k': 7, 'was_impossible': False}</td>\n",
       "      <td>1_4</td>\n",
       "      <td>Clothing_Mens</td>\n",
       "      <td>266784</td>\n",
       "    </tr>\n",
       "    <tr>\n",
       "      <th>73405</th>\n",
       "      <td>266784</td>\n",
       "      <td>5_12</td>\n",
       "      <td>2.999398</td>\n",
       "      <td>3.068972</td>\n",
       "      <td>{'actual_k': 7, 'was_impossible': False}</td>\n",
       "      <td>5_12</td>\n",
       "      <td>Books_Academic</td>\n",
       "      <td>266784</td>\n",
       "    </tr>\n",
       "    <tr>\n",
       "      <th>73408</th>\n",
       "      <td>266784</td>\n",
       "      <td>6_2</td>\n",
       "      <td>2.999398</td>\n",
       "      <td>3.059256</td>\n",
       "      <td>{'actual_k': 7, 'was_impossible': False}</td>\n",
       "      <td>6_2</td>\n",
       "      <td>Home and kitchen_Furnishing</td>\n",
       "      <td>266784</td>\n",
       "    </tr>\n",
       "  </tbody>\n",
       "</table>\n",
       "</div>"
      ],
      "text/plain": [
       "          uid   iid      r_ui       est  \\\n",
       "73400  266784   1_3  2.999398  4.228812   \n",
       "73410  266784  6_11  2.999398  3.918306   \n",
       "73404  266784   4_4  2.999398  3.833014   \n",
       "73397  266784   4_1  2.999398  3.660677   \n",
       "73396  266784   2_4  2.999398  3.597158   \n",
       "73406  266784   3_5  2.999398  3.512738   \n",
       "73411  266784   1_1  2.999398  3.459833   \n",
       "73412  266784   5_3  2.999398  3.386538   \n",
       "73409  266784   3_9  2.999398  3.211833   \n",
       "73415  266784   2_1  2.999398  3.181940   \n",
       "73414  266784   1_4  2.999398  3.166524   \n",
       "73405  266784  5_12  2.999398  3.068972   \n",
       "73408  266784   6_2  2.999398  3.059256   \n",
       "\n",
       "                                        details ItemId  \\\n",
       "73400  {'actual_k': 7, 'was_impossible': False}    1_3   \n",
       "73410  {'actual_k': 7, 'was_impossible': False}   6_11   \n",
       "73404  {'actual_k': 7, 'was_impossible': False}    4_4   \n",
       "73397  {'actual_k': 7, 'was_impossible': False}    4_1   \n",
       "73396  {'actual_k': 7, 'was_impossible': False}    2_4   \n",
       "73406  {'actual_k': 7, 'was_impossible': False}    3_5   \n",
       "73411  {'actual_k': 7, 'was_impossible': False}    1_1   \n",
       "73412  {'actual_k': 7, 'was_impossible': False}    5_3   \n",
       "73409  {'actual_k': 7, 'was_impossible': False}    3_9   \n",
       "73415  {'actual_k': 7, 'was_impossible': False}    2_1   \n",
       "73414  {'actual_k': 7, 'was_impossible': False}    1_4   \n",
       "73405  {'actual_k': 7, 'was_impossible': False}   5_12   \n",
       "73408  {'actual_k': 7, 'was_impossible': False}    6_2   \n",
       "\n",
       "                         Item_Name  userId  \n",
       "73400                Clothing_Kids  266784  \n",
       "73410        Home and kitchen_Bath  266784  \n",
       "73404                   Bags_Women  266784  \n",
       "73397                    Bags_Mens  266784  \n",
       "73396                Footwear_Kids  266784  \n",
       "73406        Electronics_Computers  266784  \n",
       "73411               Clothing_Women  266784  \n",
       "73412                 Books_Comics  266784  \n",
       "73409          Electronics_Cameras  266784  \n",
       "73415                Footwear_Mens  266784  \n",
       "73414                Clothing_Mens  266784  \n",
       "73405               Books_Academic  266784  \n",
       "73408  Home and kitchen_Furnishing  266784  "
      ]
     },
     "execution_count": 216,
     "metadata": {},
     "output_type": "execute_result"
    }
   ],
   "source": [
    "user_id_to_predict = 266784\n",
    "treshold = 3.0\n",
    "anti_pred_df[(anti_pred_df['est']>treshold)&(anti_pred_df['userId']==user_id_to_predict)].sort_values(by=['est'], ascending=False)"
   ]
  },
  {
   "cell_type": "markdown",
   "metadata": {},
   "source": [
    "With nice_pred_df, we do the prediction for all known value to see how the algorithm peforms"
   ]
  },
  {
   "cell_type": "code",
   "execution_count": 217,
   "metadata": {},
   "outputs": [],
   "source": [
    "nice_pre = algo.test(nice_set)\n",
    "nice_pred_df = pd.DataFrame(nice_pre).merge(items , left_on = ['iid'], right_on = ['ItemId'])\n",
    "nice_pred_df = pd.DataFrame(nice_pred_df).merge(users , left_on = ['uid'], right_on = ['userId'])"
   ]
  },
  {
   "cell_type": "code",
   "execution_count": 218,
   "metadata": {},
   "outputs": [
    {
     "data": {
      "text/html": [
       "<div>\n",
       "<style scoped>\n",
       "    .dataframe tbody tr th:only-of-type {\n",
       "        vertical-align: middle;\n",
       "    }\n",
       "\n",
       "    .dataframe tbody tr th {\n",
       "        vertical-align: top;\n",
       "    }\n",
       "\n",
       "    .dataframe thead th {\n",
       "        text-align: right;\n",
       "    }\n",
       "</style>\n",
       "<table border=\"1\" class=\"dataframe\">\n",
       "  <thead>\n",
       "    <tr style=\"text-align: right;\">\n",
       "      <th></th>\n",
       "      <th>uid</th>\n",
       "      <th>iid</th>\n",
       "      <th>r_ui</th>\n",
       "      <th>est</th>\n",
       "      <th>details</th>\n",
       "      <th>ItemId</th>\n",
       "      <th>Item_Name</th>\n",
       "      <th>userId</th>\n",
       "    </tr>\n",
       "  </thead>\n",
       "  <tbody>\n",
       "    <tr>\n",
       "      <th>3194</th>\n",
       "      <td>266785</td>\n",
       "      <td>2_1</td>\n",
       "      <td>4.0</td>\n",
       "      <td>4.063014</td>\n",
       "      <td>{'actual_k': 7, 'was_impossible': False}</td>\n",
       "      <td>2_1</td>\n",
       "      <td>Footwear_Mens</td>\n",
       "      <td>266785</td>\n",
       "    </tr>\n",
       "    <tr>\n",
       "      <th>3197</th>\n",
       "      <td>266785</td>\n",
       "      <td>5_11</td>\n",
       "      <td>5.0</td>\n",
       "      <td>3.775466</td>\n",
       "      <td>{'actual_k': 7, 'was_impossible': False}</td>\n",
       "      <td>5_11</td>\n",
       "      <td>Books_Children</td>\n",
       "      <td>266785</td>\n",
       "    </tr>\n",
       "    <tr>\n",
       "      <th>3195</th>\n",
       "      <td>266785</td>\n",
       "      <td>2_4</td>\n",
       "      <td>3.5</td>\n",
       "      <td>3.670563</td>\n",
       "      <td>{'actual_k': 7, 'was_impossible': False}</td>\n",
       "      <td>2_4</td>\n",
       "      <td>Footwear_Kids</td>\n",
       "      <td>266785</td>\n",
       "    </tr>\n",
       "    <tr>\n",
       "      <th>3196</th>\n",
       "      <td>266785</td>\n",
       "      <td>4_1</td>\n",
       "      <td>3.0</td>\n",
       "      <td>3.293609</td>\n",
       "      <td>{'actual_k': 7, 'was_impossible': False}</td>\n",
       "      <td>4_1</td>\n",
       "      <td>Bags_Mens</td>\n",
       "      <td>266785</td>\n",
       "    </tr>\n",
       "    <tr>\n",
       "      <th>3198</th>\n",
       "      <td>266785</td>\n",
       "      <td>6_10</td>\n",
       "      <td>5.0</td>\n",
       "      <td>3.220526</td>\n",
       "      <td>{'actual_k': 7, 'was_impossible': False}</td>\n",
       "      <td>6_10</td>\n",
       "      <td>Home and kitchen_Kitchen</td>\n",
       "      <td>266785</td>\n",
       "    </tr>\n",
       "  </tbody>\n",
       "</table>\n",
       "</div>"
      ],
      "text/plain": [
       "         uid   iid  r_ui       est                                   details  \\\n",
       "3194  266785   2_1   4.0  4.063014  {'actual_k': 7, 'was_impossible': False}   \n",
       "3197  266785  5_11   5.0  3.775466  {'actual_k': 7, 'was_impossible': False}   \n",
       "3195  266785   2_4   3.5  3.670563  {'actual_k': 7, 'was_impossible': False}   \n",
       "3196  266785   4_1   3.0  3.293609  {'actual_k': 7, 'was_impossible': False}   \n",
       "3198  266785  6_10   5.0  3.220526  {'actual_k': 7, 'was_impossible': False}   \n",
       "\n",
       "     ItemId                 Item_Name  userId  \n",
       "3194    2_1             Footwear_Mens  266785  \n",
       "3197   5_11            Books_Children  266785  \n",
       "3195    2_4             Footwear_Kids  266785  \n",
       "3196    4_1                 Bags_Mens  266785  \n",
       "3198   6_10  Home and kitchen_Kitchen  266785  "
      ]
     },
     "execution_count": 218,
     "metadata": {},
     "output_type": "execute_result"
    }
   ],
   "source": [
    "user_id_to_predict = 266785\n",
    "treshold = 3.0\n",
    "nice_pred_df[(nice_pred_df['est']>treshold)&(nice_pred_df['userId']==user_id_to_predict)].sort_values(by=['est'], ascending=False)"
   ]
  },
  {
   "cell_type": "markdown",
   "metadata": {},
   "source": [
    "## C. Checking metrics"
   ]
  },
  {
   "cell_type": "markdown",
   "metadata": {},
   "source": [
    "We can check here how does it perform with the rmse metrics"
   ]
  },
  {
   "cell_type": "markdown",
   "metadata": {},
   "source": [
    "We can't really have a look to our anti_set metrics because it's irrelevant.  \n",
    "We will compare all our estimation to a mean value set by default."
   ]
  },
  {
   "cell_type": "markdown",
   "metadata": {},
   "source": [
    "But we can effectively compare result predict by the algorithm and the real value rated by customers with the \"nice_set\""
   ]
  },
  {
   "cell_type": "code",
   "execution_count": 219,
   "metadata": {},
   "outputs": [
    {
     "name": "stdout",
     "output_type": "stream",
     "text": [
      "RMSE: 1.3812\n",
      "On the nice_set, the RMSE score is : 1.3811797192355084\n"
     ]
    }
   ],
   "source": [
    "#on nice_set\n",
    "predictions = algo.test(nice_set)\n",
    "print('On the nice_set, the RMSE score is :', accuracy.rmse(predictions))"
   ]
  },
  {
   "cell_type": "markdown",
   "metadata": {},
   "source": [
    "So, the RMSE score is 1.39 meanning that would mean the estimated ratings on average are about 1.39 higher or lower than the actual ratings.  \n",
    "Here, our scale is from 0 to 5, so it's is not a very good result at all."
   ]
  },
  {
   "cell_type": "markdown",
   "metadata": {},
   "source": [
    "We can display below a full data frame with all nice_set value to compare and see how poorly it performs... "
   ]
  },
  {
   "cell_type": "code",
   "execution_count": 220,
   "metadata": {},
   "outputs": [
    {
     "data": {
      "text/html": [
       "<div>\n",
       "<style scoped>\n",
       "    .dataframe tbody tr th:only-of-type {\n",
       "        vertical-align: middle;\n",
       "    }\n",
       "\n",
       "    .dataframe tbody tr th {\n",
       "        vertical-align: top;\n",
       "    }\n",
       "\n",
       "    .dataframe thead th {\n",
       "        text-align: right;\n",
       "    }\n",
       "</style>\n",
       "<table border=\"1\" class=\"dataframe\">\n",
       "  <thead>\n",
       "    <tr style=\"text-align: right;\">\n",
       "      <th></th>\n",
       "      <th>uid</th>\n",
       "      <th>iid</th>\n",
       "      <th>r_ui</th>\n",
       "      <th>est</th>\n",
       "      <th>details</th>\n",
       "    </tr>\n",
       "  </thead>\n",
       "  <tbody>\n",
       "    <tr>\n",
       "      <th>0</th>\n",
       "      <td>266783</td>\n",
       "      <td>1_4</td>\n",
       "      <td>2.0</td>\n",
       "      <td>2.969048</td>\n",
       "      <td>{'actual_k': 7, 'was_impossible': False}</td>\n",
       "    </tr>\n",
       "    <tr>\n",
       "      <th>1</th>\n",
       "      <td>266783</td>\n",
       "      <td>2_1</td>\n",
       "      <td>4.0</td>\n",
       "      <td>2.596845</td>\n",
       "      <td>{'actual_k': 7, 'was_impossible': False}</td>\n",
       "    </tr>\n",
       "    <tr>\n",
       "      <th>2</th>\n",
       "      <td>266783</td>\n",
       "      <td>5_10</td>\n",
       "      <td>2.0</td>\n",
       "      <td>2.810934</td>\n",
       "      <td>{'actual_k': 7, 'was_impossible': False}</td>\n",
       "    </tr>\n",
       "    <tr>\n",
       "      <th>3</th>\n",
       "      <td>266784</td>\n",
       "      <td>3_4</td>\n",
       "      <td>2.0</td>\n",
       "      <td>3.657985</td>\n",
       "      <td>{'actual_k': 7, 'was_impossible': False}</td>\n",
       "    </tr>\n",
       "    <tr>\n",
       "      <th>4</th>\n",
       "      <td>266784</td>\n",
       "      <td>5_10</td>\n",
       "      <td>3.0</td>\n",
       "      <td>3.182158</td>\n",
       "      <td>{'actual_k': 7, 'was_impossible': False}</td>\n",
       "    </tr>\n",
       "    <tr>\n",
       "      <th>...</th>\n",
       "      <td>...</td>\n",
       "      <td>...</td>\n",
       "      <td>...</td>\n",
       "      <td>...</td>\n",
       "      <td>...</td>\n",
       "    </tr>\n",
       "    <tr>\n",
       "      <th>16875</th>\n",
       "      <td>275261</td>\n",
       "      <td>5_11</td>\n",
       "      <td>5.0</td>\n",
       "      <td>3.193583</td>\n",
       "      <td>{'actual_k': 7, 'was_impossible': False}</td>\n",
       "    </tr>\n",
       "    <tr>\n",
       "      <th>16876</th>\n",
       "      <td>275261</td>\n",
       "      <td>5_3</td>\n",
       "      <td>3.0</td>\n",
       "      <td>3.358162</td>\n",
       "      <td>{'actual_k': 7, 'was_impossible': False}</td>\n",
       "    </tr>\n",
       "    <tr>\n",
       "      <th>16877</th>\n",
       "      <td>275265</td>\n",
       "      <td>4_1</td>\n",
       "      <td>1.0</td>\n",
       "      <td>2.000597</td>\n",
       "      <td>{'actual_k': 7, 'was_impossible': False}</td>\n",
       "    </tr>\n",
       "    <tr>\n",
       "      <th>16878</th>\n",
       "      <td>275265</td>\n",
       "      <td>5_12</td>\n",
       "      <td>3.0</td>\n",
       "      <td>3.010975</td>\n",
       "      <td>{'actual_k': 7, 'was_impossible': False}</td>\n",
       "    </tr>\n",
       "    <tr>\n",
       "      <th>16879</th>\n",
       "      <td>275265</td>\n",
       "      <td>6_2</td>\n",
       "      <td>3.0</td>\n",
       "      <td>3.528232</td>\n",
       "      <td>{'actual_k': 7, 'was_impossible': False}</td>\n",
       "    </tr>\n",
       "  </tbody>\n",
       "</table>\n",
       "<p>16880 rows × 5 columns</p>\n",
       "</div>"
      ],
      "text/plain": [
       "          uid   iid  r_ui       est                                   details\n",
       "0      266783   1_4   2.0  2.969048  {'actual_k': 7, 'was_impossible': False}\n",
       "1      266783   2_1   4.0  2.596845  {'actual_k': 7, 'was_impossible': False}\n",
       "2      266783  5_10   2.0  2.810934  {'actual_k': 7, 'was_impossible': False}\n",
       "3      266784   3_4   2.0  3.657985  {'actual_k': 7, 'was_impossible': False}\n",
       "4      266784  5_10   3.0  3.182158  {'actual_k': 7, 'was_impossible': False}\n",
       "...       ...   ...   ...       ...                                       ...\n",
       "16875  275261  5_11   5.0  3.193583  {'actual_k': 7, 'was_impossible': False}\n",
       "16876  275261   5_3   3.0  3.358162  {'actual_k': 7, 'was_impossible': False}\n",
       "16877  275265   4_1   1.0  2.000597  {'actual_k': 7, 'was_impossible': False}\n",
       "16878  275265  5_12   3.0  3.010975  {'actual_k': 7, 'was_impossible': False}\n",
       "16879  275265   6_2   3.0  3.528232  {'actual_k': 7, 'was_impossible': False}\n",
       "\n",
       "[16880 rows x 5 columns]"
      ]
     },
     "execution_count": 220,
     "metadata": {},
     "output_type": "execute_result"
    }
   ],
   "source": [
    "pd.DataFrame(predictions)"
   ]
  },
  {
   "cell_type": "markdown",
   "metadata": {},
   "source": [
    "## D. Some serendipity ?? "
   ]
  },
  {
   "cell_type": "markdown",
   "metadata": {},
   "source": [
    "Purelly by curiosity I try some another random algorithm to check if poor RMSE value is always the norm.  \n",
    "But i find an algo with a RMSE at 0.62 on the nice_set, and it's is quite promising"
   ]
  },
  {
   "cell_type": "code",
   "execution_count": 221,
   "metadata": {},
   "outputs": [
    {
     "name": "stdout",
     "output_type": "stream",
     "text": [
      "Computing the pearson similarity matrix...\n",
      "Done computing similarity matrix.\n",
      "Computing the pearson similarity matrix...\n",
      "Done computing similarity matrix.\n",
      "Computing the pearson similarity matrix...\n",
      "Done computing similarity matrix.\n",
      "Computing the pearson similarity matrix...\n",
      "Done computing similarity matrix.\n",
      "Computing the pearson similarity matrix...\n",
      "Done computing similarity matrix.\n"
     ]
    }
   ],
   "source": [
    "algo, _, _, _, _ =  compute_result(algor = KNNBasic, my_k = 5, my_min_k = 2, my_sim_option = {'name': 'pearson', 'user_based': False})"
   ]
  },
  {
   "cell_type": "code",
   "execution_count": 222,
   "metadata": {},
   "outputs": [
    {
     "name": "stdout",
     "output_type": "stream",
     "text": [
      "Computing the pearson similarity matrix...\n",
      "Done computing similarity matrix.\n"
     ]
    },
    {
     "data": {
      "text/plain": [
       "<surprise.prediction_algorithms.knns.KNNBasic at 0x7f96007540a0>"
      ]
     },
     "execution_count": 222,
     "metadata": {},
     "output_type": "execute_result"
    }
   ],
   "source": [
    "algo.fit(trainsetfull)"
   ]
  },
  {
   "cell_type": "code",
   "execution_count": 223,
   "metadata": {},
   "outputs": [
    {
     "name": "stdout",
     "output_type": "stream",
     "text": [
      "RMSE: 0.5442\n",
      "On the nice_set, the RMSE score is : 0.5441917914334575\n"
     ]
    }
   ],
   "source": [
    "#on nice_set\n",
    "predictions = algo.test(nice_set)\n",
    "print('On the nice_set, the RMSE score is :', accuracy.rmse(predictions))"
   ]
  },
  {
   "cell_type": "code",
   "execution_count": 224,
   "metadata": {},
   "outputs": [
    {
     "data": {
      "text/html": [
       "<div>\n",
       "<style scoped>\n",
       "    .dataframe tbody tr th:only-of-type {\n",
       "        vertical-align: middle;\n",
       "    }\n",
       "\n",
       "    .dataframe tbody tr th {\n",
       "        vertical-align: top;\n",
       "    }\n",
       "\n",
       "    .dataframe thead th {\n",
       "        text-align: right;\n",
       "    }\n",
       "</style>\n",
       "<table border=\"1\" class=\"dataframe\">\n",
       "  <thead>\n",
       "    <tr style=\"text-align: right;\">\n",
       "      <th></th>\n",
       "      <th>uid</th>\n",
       "      <th>iid</th>\n",
       "      <th>r_ui</th>\n",
       "      <th>est</th>\n",
       "      <th>details</th>\n",
       "    </tr>\n",
       "  </thead>\n",
       "  <tbody>\n",
       "    <tr>\n",
       "      <th>0</th>\n",
       "      <td>266783</td>\n",
       "      <td>1_4</td>\n",
       "      <td>2.0</td>\n",
       "      <td>2.000000</td>\n",
       "      <td>{'actual_k': 2, 'was_impossible': False}</td>\n",
       "    </tr>\n",
       "    <tr>\n",
       "      <th>1</th>\n",
       "      <td>266783</td>\n",
       "      <td>2_1</td>\n",
       "      <td>4.0</td>\n",
       "      <td>2.999398</td>\n",
       "      <td>{'was_impossible': True, 'reason': 'Not enough...</td>\n",
       "    </tr>\n",
       "    <tr>\n",
       "      <th>2</th>\n",
       "      <td>266783</td>\n",
       "      <td>5_10</td>\n",
       "      <td>2.0</td>\n",
       "      <td>2.000000</td>\n",
       "      <td>{'actual_k': 2, 'was_impossible': False}</td>\n",
       "    </tr>\n",
       "    <tr>\n",
       "      <th>3</th>\n",
       "      <td>266784</td>\n",
       "      <td>3_4</td>\n",
       "      <td>2.0</td>\n",
       "      <td>2.999398</td>\n",
       "      <td>{'was_impossible': True, 'reason': 'Not enough...</td>\n",
       "    </tr>\n",
       "    <tr>\n",
       "      <th>4</th>\n",
       "      <td>266784</td>\n",
       "      <td>5_10</td>\n",
       "      <td>3.0</td>\n",
       "      <td>2.999398</td>\n",
       "      <td>{'was_impossible': True, 'reason': 'Not enough...</td>\n",
       "    </tr>\n",
       "    <tr>\n",
       "      <th>...</th>\n",
       "      <td>...</td>\n",
       "      <td>...</td>\n",
       "      <td>...</td>\n",
       "      <td>...</td>\n",
       "      <td>...</td>\n",
       "    </tr>\n",
       "    <tr>\n",
       "      <th>16875</th>\n",
       "      <td>275261</td>\n",
       "      <td>5_11</td>\n",
       "      <td>5.0</td>\n",
       "      <td>4.488831</td>\n",
       "      <td>{'actual_k': 2, 'was_impossible': False}</td>\n",
       "    </tr>\n",
       "    <tr>\n",
       "      <th>16876</th>\n",
       "      <td>275261</td>\n",
       "      <td>5_3</td>\n",
       "      <td>3.0</td>\n",
       "      <td>2.999398</td>\n",
       "      <td>{'was_impossible': True, 'reason': 'Not enough...</td>\n",
       "    </tr>\n",
       "    <tr>\n",
       "      <th>16877</th>\n",
       "      <td>275265</td>\n",
       "      <td>4_1</td>\n",
       "      <td>1.0</td>\n",
       "      <td>1.057290</td>\n",
       "      <td>{'actual_k': 2, 'was_impossible': False}</td>\n",
       "    </tr>\n",
       "    <tr>\n",
       "      <th>16878</th>\n",
       "      <td>275265</td>\n",
       "      <td>5_12</td>\n",
       "      <td>3.0</td>\n",
       "      <td>2.942710</td>\n",
       "      <td>{'actual_k': 2, 'was_impossible': False}</td>\n",
       "    </tr>\n",
       "    <tr>\n",
       "      <th>16879</th>\n",
       "      <td>275265</td>\n",
       "      <td>6_2</td>\n",
       "      <td>3.0</td>\n",
       "      <td>2.999398</td>\n",
       "      <td>{'was_impossible': True, 'reason': 'Not enough...</td>\n",
       "    </tr>\n",
       "  </tbody>\n",
       "</table>\n",
       "<p>16880 rows × 5 columns</p>\n",
       "</div>"
      ],
      "text/plain": [
       "          uid   iid  r_ui       est  \\\n",
       "0      266783   1_4   2.0  2.000000   \n",
       "1      266783   2_1   4.0  2.999398   \n",
       "2      266783  5_10   2.0  2.000000   \n",
       "3      266784   3_4   2.0  2.999398   \n",
       "4      266784  5_10   3.0  2.999398   \n",
       "...       ...   ...   ...       ...   \n",
       "16875  275261  5_11   5.0  4.488831   \n",
       "16876  275261   5_3   3.0  2.999398   \n",
       "16877  275265   4_1   1.0  1.057290   \n",
       "16878  275265  5_12   3.0  2.942710   \n",
       "16879  275265   6_2   3.0  2.999398   \n",
       "\n",
       "                                                 details  \n",
       "0               {'actual_k': 2, 'was_impossible': False}  \n",
       "1      {'was_impossible': True, 'reason': 'Not enough...  \n",
       "2               {'actual_k': 2, 'was_impossible': False}  \n",
       "3      {'was_impossible': True, 'reason': 'Not enough...  \n",
       "4      {'was_impossible': True, 'reason': 'Not enough...  \n",
       "...                                                  ...  \n",
       "16875           {'actual_k': 2, 'was_impossible': False}  \n",
       "16876  {'was_impossible': True, 'reason': 'Not enough...  \n",
       "16877           {'actual_k': 2, 'was_impossible': False}  \n",
       "16878           {'actual_k': 2, 'was_impossible': False}  \n",
       "16879  {'was_impossible': True, 'reason': 'Not enough...  \n",
       "\n",
       "[16880 rows x 5 columns]"
      ]
     },
     "execution_count": 224,
     "metadata": {},
     "output_type": "execute_result"
    }
   ],
   "source": [
    "pd.DataFrame(predictions)"
   ]
  },
  {
   "cell_type": "code",
   "execution_count": null,
   "metadata": {},
   "outputs": [],
   "source": []
  },
  {
   "cell_type": "markdown",
   "metadata": {},
   "source": [
    "# Thank you for finishing part 3, let's move on the fouth part now"
   ]
  },
  {
   "cell_type": "code",
   "execution_count": null,
   "metadata": {},
   "outputs": [],
   "source": []
  },
  {
   "cell_type": "code",
   "execution_count": null,
   "metadata": {},
   "outputs": [],
   "source": []
  }
 ],
 "metadata": {
  "kernelspec": {
   "display_name": "Python 3",
   "language": "python",
   "name": "python3"
  },
  "language_info": {
   "codemirror_mode": {
    "name": "ipython",
    "version": 3
   },
   "file_extension": ".py",
   "mimetype": "text/x-python",
   "name": "python",
   "nbconvert_exporter": "python",
   "pygments_lexer": "ipython3",
   "version": "3.8.3"
  }
 },
 "nbformat": 4,
 "nbformat_minor": 4
}
