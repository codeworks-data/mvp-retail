{
 "cells": [
  {
   "cell_type": "markdown",
   "metadata": {},
   "source": [
    "# Part 4: Recommendation system for retail using collaborative filtering user-based"
   ]
  },
  {
   "cell_type": "markdown",
   "metadata": {},
   "source": [
    "# In this notebook we will focus on collaborative filtering with user-based which allows us to facilitate recommandation\n",
    "I use some articles during the creation of this notebook  :  \n",
    "* https://towardsdatascience.com/build-a-user-based-collaborative-filtering-recommendation-engine-for-anime-92d35921f304\n",
    "\n",
    "\n",
    "In this notebook, we will focus on 2 main steps, knowing that users will be similar if they like similar items : \n",
    "* First we discover which users are similar\n",
    "* Then recommend items that other similar users like"
   ]
  },
  {
   "cell_type": "markdown",
   "metadata": {},
   "source": [
    "# The summary of the notebook is written below"
   ]
  },
  {
   "cell_type": "markdown",
   "metadata": {},
   "source": [
    "I. Import useful library and python file containing our functions  \n",
    "\n",
    "II. Retrieving our data from a previous notebook  \n",
    "\n",
    "* A. User_item matrix\n",
    "* B. Product_info_mapped\n",
    "\n",
    "III. Selecting similar users  \n",
    "\n",
    "IV. Recommandation for this specific user   \n",
    "\n",
    "* A. Unknown rating\n",
    "* B. Known rating\n",
    "* C. Metric RMSE for one user  \n",
    "\n",
    "V. Metrics\n",
    "\n"
   ]
  },
  {
   "cell_type": "markdown",
   "metadata": {},
   "source": [
    "# I. Import useful library and python file containing our functions"
   ]
  },
  {
   "cell_type": "code",
   "execution_count": 1,
   "metadata": {},
   "outputs": [],
   "source": [
    "import pandas as pd\n",
    "import numpy as np\n",
    "from matplotlib import pyplot as plt\n",
    "import seaborn as sns\n",
    "from sklearn.metrics.pairwise import cosine_similarity\n",
    "import operator\n",
    "import statistics\n",
    "from sklearn.metrics import mean_squared_error \n",
    "import Function_04 as f4\n",
    "\n",
    "# set the graphs to show in the jupyter notebook\n",
    "%matplotlib inline"
   ]
  },
  {
   "cell_type": "markdown",
   "metadata": {},
   "source": [
    "# II. Retrieving our data from a previous notebook"
   ]
  },
  {
   "cell_type": "markdown",
   "metadata": {},
   "source": [
    "## A. User_item matrix"
   ]
  },
  {
   "cell_type": "markdown",
   "metadata": {},
   "source": [
    "We retrieve our user_item matrix with only customer that we are interested in"
   ]
  },
  {
   "cell_type": "code",
   "execution_count": 2,
   "metadata": {},
   "outputs": [
    {
     "data": {
      "text/html": [
       "<div>\n",
       "<style scoped>\n",
       "    .dataframe tbody tr th:only-of-type {\n",
       "        vertical-align: middle;\n",
       "    }\n",
       "\n",
       "    .dataframe tbody tr th {\n",
       "        vertical-align: top;\n",
       "    }\n",
       "\n",
       "    .dataframe thead th {\n",
       "        text-align: right;\n",
       "    }\n",
       "</style>\n",
       "<table border=\"1\" class=\"dataframe\">\n",
       "  <thead>\n",
       "    <tr style=\"text-align: right;\">\n",
       "      <th>object_id</th>\n",
       "      <th>1_1</th>\n",
       "      <th>1_3</th>\n",
       "      <th>1_4</th>\n",
       "      <th>2_1</th>\n",
       "      <th>2_3</th>\n",
       "      <th>2_4</th>\n",
       "      <th>3_10</th>\n",
       "      <th>3_4</th>\n",
       "      <th>3_5</th>\n",
       "      <th>3_8</th>\n",
       "      <th>...</th>\n",
       "      <th>5_10</th>\n",
       "      <th>5_11</th>\n",
       "      <th>5_12</th>\n",
       "      <th>5_3</th>\n",
       "      <th>5_6</th>\n",
       "      <th>5_7</th>\n",
       "      <th>6_10</th>\n",
       "      <th>6_11</th>\n",
       "      <th>6_12</th>\n",
       "      <th>6_2</th>\n",
       "    </tr>\n",
       "    <tr>\n",
       "      <th>cust_id</th>\n",
       "      <th></th>\n",
       "      <th></th>\n",
       "      <th></th>\n",
       "      <th></th>\n",
       "      <th></th>\n",
       "      <th></th>\n",
       "      <th></th>\n",
       "      <th></th>\n",
       "      <th></th>\n",
       "      <th></th>\n",
       "      <th></th>\n",
       "      <th></th>\n",
       "      <th></th>\n",
       "      <th></th>\n",
       "      <th></th>\n",
       "      <th></th>\n",
       "      <th></th>\n",
       "      <th></th>\n",
       "      <th></th>\n",
       "      <th></th>\n",
       "      <th></th>\n",
       "    </tr>\n",
       "  </thead>\n",
       "  <tbody>\n",
       "    <tr>\n",
       "      <th>266783</th>\n",
       "      <td>0.0</td>\n",
       "      <td>0.0</td>\n",
       "      <td>2.0</td>\n",
       "      <td>4.0</td>\n",
       "      <td>0.0</td>\n",
       "      <td>0.0</td>\n",
       "      <td>0.0</td>\n",
       "      <td>0.0</td>\n",
       "      <td>0.0</td>\n",
       "      <td>0.0</td>\n",
       "      <td>...</td>\n",
       "      <td>2.0</td>\n",
       "      <td>0.0</td>\n",
       "      <td>0.0</td>\n",
       "      <td>0.0</td>\n",
       "      <td>0.0</td>\n",
       "      <td>0.0</td>\n",
       "      <td>0.0</td>\n",
       "      <td>0.0</td>\n",
       "      <td>0.0</td>\n",
       "      <td>0.0</td>\n",
       "    </tr>\n",
       "    <tr>\n",
       "      <th>266784</th>\n",
       "      <td>0.0</td>\n",
       "      <td>0.0</td>\n",
       "      <td>0.0</td>\n",
       "      <td>0.0</td>\n",
       "      <td>0.0</td>\n",
       "      <td>0.0</td>\n",
       "      <td>0.0</td>\n",
       "      <td>2.0</td>\n",
       "      <td>0.0</td>\n",
       "      <td>0.0</td>\n",
       "      <td>...</td>\n",
       "      <td>3.0</td>\n",
       "      <td>0.0</td>\n",
       "      <td>0.0</td>\n",
       "      <td>0.0</td>\n",
       "      <td>0.0</td>\n",
       "      <td>5.0</td>\n",
       "      <td>0.0</td>\n",
       "      <td>0.0</td>\n",
       "      <td>0.0</td>\n",
       "      <td>0.0</td>\n",
       "    </tr>\n",
       "    <tr>\n",
       "      <th>266785</th>\n",
       "      <td>0.0</td>\n",
       "      <td>0.0</td>\n",
       "      <td>0.0</td>\n",
       "      <td>4.0</td>\n",
       "      <td>0.0</td>\n",
       "      <td>3.5</td>\n",
       "      <td>0.0</td>\n",
       "      <td>0.0</td>\n",
       "      <td>0.0</td>\n",
       "      <td>0.0</td>\n",
       "      <td>...</td>\n",
       "      <td>0.0</td>\n",
       "      <td>5.0</td>\n",
       "      <td>0.0</td>\n",
       "      <td>0.0</td>\n",
       "      <td>0.0</td>\n",
       "      <td>0.0</td>\n",
       "      <td>5.0</td>\n",
       "      <td>0.0</td>\n",
       "      <td>0.0</td>\n",
       "      <td>0.0</td>\n",
       "    </tr>\n",
       "    <tr>\n",
       "      <th>266788</th>\n",
       "      <td>0.0</td>\n",
       "      <td>0.0</td>\n",
       "      <td>0.0</td>\n",
       "      <td>1.0</td>\n",
       "      <td>0.0</td>\n",
       "      <td>4.0</td>\n",
       "      <td>0.0</td>\n",
       "      <td>0.0</td>\n",
       "      <td>0.0</td>\n",
       "      <td>0.0</td>\n",
       "      <td>...</td>\n",
       "      <td>0.0</td>\n",
       "      <td>0.0</td>\n",
       "      <td>0.0</td>\n",
       "      <td>0.0</td>\n",
       "      <td>0.0</td>\n",
       "      <td>1.0</td>\n",
       "      <td>0.0</td>\n",
       "      <td>0.0</td>\n",
       "      <td>0.0</td>\n",
       "      <td>0.0</td>\n",
       "    </tr>\n",
       "    <tr>\n",
       "      <th>266794</th>\n",
       "      <td>0.0</td>\n",
       "      <td>3.5</td>\n",
       "      <td>0.0</td>\n",
       "      <td>0.0</td>\n",
       "      <td>2.5</td>\n",
       "      <td>0.0</td>\n",
       "      <td>1.5</td>\n",
       "      <td>0.0</td>\n",
       "      <td>0.0</td>\n",
       "      <td>4.0</td>\n",
       "      <td>...</td>\n",
       "      <td>0.0</td>\n",
       "      <td>3.0</td>\n",
       "      <td>4.0</td>\n",
       "      <td>0.0</td>\n",
       "      <td>0.0</td>\n",
       "      <td>0.0</td>\n",
       "      <td>0.0</td>\n",
       "      <td>0.0</td>\n",
       "      <td>0.0</td>\n",
       "      <td>0.0</td>\n",
       "    </tr>\n",
       "  </tbody>\n",
       "</table>\n",
       "<p>5 rows × 23 columns</p>\n",
       "</div>"
      ],
      "text/plain": [
       "object_id  1_1  1_3  1_4  2_1  2_3  2_4  3_10  3_4  3_5  3_8  ...  5_10  5_11  \\\n",
       "cust_id                                                       ...               \n",
       "266783     0.0  0.0  2.0  4.0  0.0  0.0   0.0  0.0  0.0  0.0  ...   2.0   0.0   \n",
       "266784     0.0  0.0  0.0  0.0  0.0  0.0   0.0  2.0  0.0  0.0  ...   3.0   0.0   \n",
       "266785     0.0  0.0  0.0  4.0  0.0  3.5   0.0  0.0  0.0  0.0  ...   0.0   5.0   \n",
       "266788     0.0  0.0  0.0  1.0  0.0  4.0   0.0  0.0  0.0  0.0  ...   0.0   0.0   \n",
       "266794     0.0  3.5  0.0  0.0  2.5  0.0   1.5  0.0  0.0  4.0  ...   0.0   3.0   \n",
       "\n",
       "object_id  5_12  5_3  5_6  5_7  6_10  6_11  6_12  6_2  \n",
       "cust_id                                                \n",
       "266783      0.0  0.0  0.0  0.0   0.0   0.0   0.0  0.0  \n",
       "266784      0.0  0.0  0.0  5.0   0.0   0.0   0.0  0.0  \n",
       "266785      0.0  0.0  0.0  0.0   5.0   0.0   0.0  0.0  \n",
       "266788      0.0  0.0  0.0  1.0   0.0   0.0   0.0  0.0  \n",
       "266794      4.0  0.0  0.0  0.0   0.0   0.0   0.0  0.0  \n",
       "\n",
       "[5 rows x 23 columns]"
      ]
     },
     "execution_count": 2,
     "metadata": {},
     "output_type": "execute_result"
    }
   ],
   "source": [
    "user_item_matrix = pd.read_hdf(\"user_item_matrix.hdf\",\"user_item_matrix\")\n",
    "user_item_matrix.head()"
   ]
  },
  {
   "cell_type": "markdown",
   "metadata": {},
   "source": [
    "## B. Product_info_mapped"
   ]
  },
  {
   "cell_type": "code",
   "execution_count": 3,
   "metadata": {},
   "outputs": [],
   "source": [
    "Product_map = pd.read_csv(\"product_info_mapped.csv\")"
   ]
  },
  {
   "cell_type": "markdown",
   "metadata": {},
   "source": [
    "# III. Selecting similar users"
   ]
  },
  {
   "cell_type": "markdown",
   "metadata": {},
   "source": [
    "We select a specific user_id in order to do some prediction"
   ]
  },
  {
   "cell_type": "code",
   "execution_count": 4,
   "metadata": {},
   "outputs": [
    {
     "data": {
      "text/plain": [
       "[268232, 270423, 273627, 273025, 269368, 274452]"
      ]
     },
     "execution_count": 4,
     "metadata": {},
     "output_type": "execute_result"
    }
   ],
   "source": [
    "current_user = 266784\n",
    "similar_user_indices = f4.similar_users(current_user, user_item_matrix, k=6)\n",
    "similar_user_indices"
   ]
  },
  {
   "cell_type": "markdown",
   "metadata": {},
   "source": [
    "# IV. Recommandation for this specific user "
   ]
  },
  {
   "cell_type": "markdown",
   "metadata": {},
   "source": [
    "Like in a previous notebook, we can use the recommend_item_for_all function.  \n",
    "We need to set a max_value corresponding to the number of max similar user we take to estimate the rating.  "
   ]
  },
  {
   "cell_type": "code",
   "execution_count": 5,
   "metadata": {},
   "outputs": [],
   "source": [
    "#we set here the max value at 5\n",
    "max_value = 5"
   ]
  },
  {
   "cell_type": "markdown",
   "metadata": {},
   "source": [
    "## A. Unknown rating"
   ]
  },
  {
   "cell_type": "markdown",
   "metadata": {},
   "source": [
    "First, let's see prediction for unknown rate"
   ]
  },
  {
   "cell_type": "code",
   "execution_count": 6,
   "metadata": {},
   "outputs": [
    {
     "data": {
      "text/html": [
       "<div>\n",
       "<style scoped>\n",
       "    .dataframe tbody tr th:only-of-type {\n",
       "        vertical-align: middle;\n",
       "    }\n",
       "\n",
       "    .dataframe tbody tr th {\n",
       "        vertical-align: top;\n",
       "    }\n",
       "\n",
       "    .dataframe thead th {\n",
       "        text-align: right;\n",
       "    }\n",
       "</style>\n",
       "<table border=\"1\" class=\"dataframe\">\n",
       "  <thead>\n",
       "    <tr style=\"text-align: right;\">\n",
       "      <th></th>\n",
       "      <th>object_name</th>\n",
       "      <th>object_id</th>\n",
       "      <th>mean_from_similar_user</th>\n",
       "    </tr>\n",
       "  </thead>\n",
       "  <tbody>\n",
       "    <tr>\n",
       "      <th>22</th>\n",
       "      <td>Home and kitchen_Tools</td>\n",
       "      <td>6_12</td>\n",
       "      <td>3.0</td>\n",
       "    </tr>\n",
       "    <tr>\n",
       "      <th>17</th>\n",
       "      <td>Books_Comics</td>\n",
       "      <td>5_3</td>\n",
       "      <td>3.0</td>\n",
       "    </tr>\n",
       "    <tr>\n",
       "      <th>14</th>\n",
       "      <td>Books_Academic</td>\n",
       "      <td>5_12</td>\n",
       "      <td>1.0</td>\n",
       "    </tr>\n",
       "    <tr>\n",
       "      <th>1</th>\n",
       "      <td>Clothing_Women</td>\n",
       "      <td>1_1</td>\n",
       "      <td>0.0</td>\n",
       "    </tr>\n",
       "    <tr>\n",
       "      <th>21</th>\n",
       "      <td>Home and kitchen_Bath</td>\n",
       "      <td>6_11</td>\n",
       "      <td>0.0</td>\n",
       "    </tr>\n",
       "    <tr>\n",
       "      <th>20</th>\n",
       "      <td>Home and kitchen_Kitchen</td>\n",
       "      <td>6_10</td>\n",
       "      <td>0.0</td>\n",
       "    </tr>\n",
       "    <tr>\n",
       "      <th>19</th>\n",
       "      <td>Home and kitchen_Furnishing</td>\n",
       "      <td>6_2</td>\n",
       "      <td>0.0</td>\n",
       "    </tr>\n",
       "    <tr>\n",
       "      <th>18</th>\n",
       "      <td>Books_DIY</td>\n",
       "      <td>5_6</td>\n",
       "      <td>0.0</td>\n",
       "    </tr>\n",
       "    <tr>\n",
       "      <th>16</th>\n",
       "      <td>Books_Children</td>\n",
       "      <td>5_11</td>\n",
       "      <td>0.0</td>\n",
       "    </tr>\n",
       "    <tr>\n",
       "      <th>12</th>\n",
       "      <td>Bags_Women</td>\n",
       "      <td>4_4</td>\n",
       "      <td>0.0</td>\n",
       "    </tr>\n",
       "    <tr>\n",
       "      <th>0</th>\n",
       "      <td>Clothing_Mens</td>\n",
       "      <td>1_4</td>\n",
       "      <td>0.0</td>\n",
       "    </tr>\n",
       "    <tr>\n",
       "      <th>10</th>\n",
       "      <td>Electronics_Audio and video</td>\n",
       "      <td>3_10</td>\n",
       "      <td>0.0</td>\n",
       "    </tr>\n",
       "    <tr>\n",
       "      <th>9</th>\n",
       "      <td>Electronics_Cameras</td>\n",
       "      <td>3_9</td>\n",
       "      <td>0.0</td>\n",
       "    </tr>\n",
       "    <tr>\n",
       "      <th>8</th>\n",
       "      <td>Electronics_Personal Appliances</td>\n",
       "      <td>3_8</td>\n",
       "      <td>0.0</td>\n",
       "    </tr>\n",
       "    <tr>\n",
       "      <th>7</th>\n",
       "      <td>Electronics_Computers</td>\n",
       "      <td>3_5</td>\n",
       "      <td>0.0</td>\n",
       "    </tr>\n",
       "    <tr>\n",
       "      <th>5</th>\n",
       "      <td>Footwear_Kids</td>\n",
       "      <td>2_4</td>\n",
       "      <td>0.0</td>\n",
       "    </tr>\n",
       "    <tr>\n",
       "      <th>4</th>\n",
       "      <td>Footwear_Women</td>\n",
       "      <td>2_3</td>\n",
       "      <td>0.0</td>\n",
       "    </tr>\n",
       "    <tr>\n",
       "      <th>3</th>\n",
       "      <td>Footwear_Mens</td>\n",
       "      <td>2_1</td>\n",
       "      <td>0.0</td>\n",
       "    </tr>\n",
       "    <tr>\n",
       "      <th>2</th>\n",
       "      <td>Clothing_Kids</td>\n",
       "      <td>1_3</td>\n",
       "      <td>0.0</td>\n",
       "    </tr>\n",
       "    <tr>\n",
       "      <th>11</th>\n",
       "      <td>Bags_Mens</td>\n",
       "      <td>4_1</td>\n",
       "      <td>0.0</td>\n",
       "    </tr>\n",
       "  </tbody>\n",
       "</table>\n",
       "</div>"
      ],
      "text/plain": [
       "                        object_name object_id  mean_from_similar_user\n",
       "22           Home and kitchen_Tools      6_12                     3.0\n",
       "17                     Books_Comics       5_3                     3.0\n",
       "14                   Books_Academic      5_12                     1.0\n",
       "1                    Clothing_Women       1_1                     0.0\n",
       "21            Home and kitchen_Bath      6_11                     0.0\n",
       "20         Home and kitchen_Kitchen      6_10                     0.0\n",
       "19      Home and kitchen_Furnishing       6_2                     0.0\n",
       "18                        Books_DIY       5_6                     0.0\n",
       "16                   Books_Children      5_11                     0.0\n",
       "12                       Bags_Women       4_4                     0.0\n",
       "0                     Clothing_Mens       1_4                     0.0\n",
       "10      Electronics_Audio and video      3_10                     0.0\n",
       "9               Electronics_Cameras       3_9                     0.0\n",
       "8   Electronics_Personal Appliances       3_8                     0.0\n",
       "7             Electronics_Computers       3_5                     0.0\n",
       "5                     Footwear_Kids       2_4                     0.0\n",
       "4                    Footwear_Women       2_3                     0.0\n",
       "3                     Footwear_Mens       2_1                     0.0\n",
       "2                     Clothing_Kids       1_3                     0.0\n",
       "11                        Bags_Mens       4_1                     0.0"
      ]
     },
     "execution_count": 6,
     "metadata": {},
     "output_type": "execute_result"
    }
   ],
   "source": [
    "unknown = f4.recommend_item_for_all(current_user, similar_user_indices, max_value, user_item_matrix,Product_map, False)\n",
    "unknown.head(23)"
   ]
  },
  {
   "cell_type": "markdown",
   "metadata": {},
   "source": [
    "## B. Known rating"
   ]
  },
  {
   "cell_type": "markdown",
   "metadata": {},
   "source": [
    "We can check here is info are similar or at least close to the real value"
   ]
  },
  {
   "cell_type": "code",
   "execution_count": 7,
   "metadata": {},
   "outputs": [
    {
     "data": {
      "text/html": [
       "<div>\n",
       "<style scoped>\n",
       "    .dataframe tbody tr th:only-of-type {\n",
       "        vertical-align: middle;\n",
       "    }\n",
       "\n",
       "    .dataframe tbody tr th {\n",
       "        vertical-align: top;\n",
       "    }\n",
       "\n",
       "    .dataframe thead th {\n",
       "        text-align: right;\n",
       "    }\n",
       "</style>\n",
       "<table border=\"1\" class=\"dataframe\">\n",
       "  <thead>\n",
       "    <tr style=\"text-align: right;\">\n",
       "      <th></th>\n",
       "      <th>object_name</th>\n",
       "      <th>mean_from_similar_user</th>\n",
       "      <th>real_rank_from_266784</th>\n",
       "    </tr>\n",
       "  </thead>\n",
       "  <tbody>\n",
       "    <tr>\n",
       "      <th>0</th>\n",
       "      <td>Books_Fiction</td>\n",
       "      <td>4.2</td>\n",
       "      <td>5.0</td>\n",
       "    </tr>\n",
       "    <tr>\n",
       "      <th>1</th>\n",
       "      <td>Electronics_Mobiles</td>\n",
       "      <td>4.0</td>\n",
       "      <td>2.0</td>\n",
       "    </tr>\n",
       "    <tr>\n",
       "      <th>2</th>\n",
       "      <td>Books_Non-Fiction</td>\n",
       "      <td>2.8</td>\n",
       "      <td>3.0</td>\n",
       "    </tr>\n",
       "  </tbody>\n",
       "</table>\n",
       "</div>"
      ],
      "text/plain": [
       "           object_name  mean_from_similar_user  real_rank_from_266784\n",
       "0        Books_Fiction                     4.2                    5.0\n",
       "1  Electronics_Mobiles                     4.0                    2.0\n",
       "2    Books_Non-Fiction                     2.8                    3.0"
      ]
     },
     "execution_count": 7,
     "metadata": {},
     "output_type": "execute_result"
    }
   ],
   "source": [
    "known = f4.recommend_item_for_all(current_user, similar_user_indices, max_value, user_item_matrix,Product_map, True)\n",
    "known"
   ]
  },
  {
   "cell_type": "markdown",
   "metadata": {},
   "source": [
    "## C. Metric RMSE for one user"
   ]
  },
  {
   "cell_type": "markdown",
   "metadata": {},
   "source": [
    "We will mesure RMSE metric for only one user.  \n",
    "This is not representative but it shows how metric will be mesure."
   ]
  },
  {
   "cell_type": "code",
   "execution_count": 8,
   "metadata": {},
   "outputs": [
    {
     "name": "stdout",
     "output_type": "stream",
     "text": [
      "The MSE for this user is : 1.5599999999999998\n",
      "The RMSE for this user is : 1.2489995996796797\n"
     ]
    }
   ],
   "source": [
    "#Real values are in the column number 2 : 'real_rank_from_......'\n",
    "realVals = known[known.columns[2]]\n",
    "\n",
    "#Predicted values are in the column number 1 : 'mean_from_similar_user'\n",
    "predictedVals = known[known.columns[1]]\n",
    "\n",
    "#calucul of mean squared error\n",
    "mse = mean_squared_error(realVals, predictedVals)\n",
    "\n",
    "#calucul of root mean squared error\n",
    "rmse = mean_squared_error(realVals, predictedVals, squared = False)\n",
    "\n",
    "\n",
    "print('The MSE for this user is :', mse)\n",
    "print('The RMSE for this user is :', rmse)"
   ]
  },
  {
   "cell_type": "markdown",
   "metadata": {},
   "source": [
    "# V. Metrics"
   ]
  },
  {
   "cell_type": "markdown",
   "metadata": {},
   "source": [
    "If we repeat the previous process multiple time, we can obtain a mean MSE and RMSE and estimate a metric value"
   ]
  },
  {
   "cell_type": "code",
   "execution_count": 9,
   "metadata": {},
   "outputs": [
    {
     "name": "stdout",
     "output_type": "stream",
     "text": [
      "We have 4031 different customers\n"
     ]
    }
   ],
   "source": [
    "list_cust = user_item_matrix.index.tolist()\n",
    "print(f'We have {len(list_cust)} different customers')"
   ]
  },
  {
   "cell_type": "code",
   "execution_count": 10,
   "metadata": {},
   "outputs": [],
   "source": [
    "max_value = 10\n",
    "nb_values_to_mesure = 1000\n",
    "RMSE = []\n",
    "MSE = []\n",
    "\n",
    "def find_metrics(current_user):\n",
    "    similar_user_indices = f4.similar_users(current_user, user_item_matrix, k=6)\n",
    "    known = f4.recommend_item_for_all(current_user, similar_user_indices, max_value, user_item_matrix,Product_map, True)\n",
    "    mse, rmse = f4.meatrics_mse_rmse(known)\n",
    "    MSE.append(mse)\n",
    "    RMSE.append(rmse)\n",
    "    \n",
    "for i,user in enumerate(list_cust): \n",
    "    find_metrics(user)\n",
    "    if i == nb_values_to_mesure - 1: #if we only want nb_values_to_mesure, we need to set it to nb_values_to_mesure - 1\n",
    "        break\n",
    "        "
   ]
  },
  {
   "cell_type": "code",
   "execution_count": 11,
   "metadata": {},
   "outputs": [
    {
     "name": "stdout",
     "output_type": "stream",
     "text": [
      "mean mse: 1.3612454408803645\n",
      "mean rmse: 1.0765877477675778\n"
     ]
    }
   ],
   "source": [
    "print('mean mse:', statistics.mean(MSE))\n",
    "print('mean rmse:', statistics.mean(RMSE))"
   ]
  },
  {
   "cell_type": "markdown",
   "metadata": {},
   "source": [
    "The RMSE score tends to 1.07, meaning that the estimated ratings on average are about 1.07 higher or lower than the actual ratings.\n",
    "Here, our scale is from 0 to 5, so it's is not a bit better than previous notebooks."
   ]
  },
  {
   "cell_type": "code",
   "execution_count": null,
   "metadata": {},
   "outputs": [],
   "source": []
  }
 ],
 "metadata": {
  "kernelspec": {
   "display_name": "Python 3",
   "language": "python",
   "name": "python3"
  },
  "language_info": {
   "codemirror_mode": {
    "name": "ipython",
    "version": 3
   },
   "file_extension": ".py",
   "mimetype": "text/x-python",
   "name": "python",
   "nbconvert_exporter": "python",
   "pygments_lexer": "ipython3",
   "version": "3.8.3"
  }
 },
 "nbformat": 4,
 "nbformat_minor": 4
}
